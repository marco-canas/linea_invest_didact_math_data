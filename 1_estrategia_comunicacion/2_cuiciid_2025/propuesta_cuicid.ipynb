{
 "cells": [
  {
   "cell_type": "markdown",
   "id": "b202f2b1",
   "metadata": {},
   "source": [
    "# Docencia investigativa en matemáticas: Integración de IAE, Aula Invertida, ABPP, STEAMS y TRRS de Duval mediante cuadernos Jupyter con lenguaje Python en el Bajo Cauca"
   ]
  },
  {
   "cell_type": "markdown",
   "id": "9a60749b",
   "metadata": {},
   "source": [
    "# Prompt para el resumen \n",
    "\n",
    "Dame, por favor, un diseño de resumen de mi trabajo de docencia investigativa en la universidad de Antioquia para el congreso Congreso Internacional CUICIID 2025, que se describe su intención en: https://www.campaign-index.com/view.php?J=H2AaNz3PSmvkLSnNtHiJOw&C=BtO7gC4X8ZzPG3gvhGg3VQ . En este congreso yo quiero mostrar que implemento la docencia de la matemática universitaria como un espacio reflexivo e investigativo bajo la metodología de Investigación Acción Educativa (IAE). La razón de que mi docencia sea configurada bajo esta metodología de investigación es porque trabajo en ver si los enfoques de Aula Invertida (AI), Aprendizaje Basado en Problemas y Proyectos (ABPP), STEAMS, y de Teoría de Registros de Representación Semiótica (TRRS) de Duval. He elegido estos enfoques pedagógicos pues enseño desde cuadernos Jupyter con lenguaje Python y orientando mi docencia al desarrollo de habilidades digitales y de ciencia de datos. El enfoque de Aula Invertida (AI) lo implemento a través del canas @dimathdata: https://www.youtube.com/@DiMathData y de acceso a los contenidos interactivos a enseñar a través de https://github.com/. El enfoque de ABPP me permite acercar el currículo a los problemas reales cercanos a la realidad del Bajo Cauca donde enseño. El enfoque STEAMS me permite brindar una enseñanza holística que me lleva a integrarme con diferentes disciplinas para brindar una mejor enseñanza en Licenciatura en Matemáticas, Licenciatura en Educación Infantil, Administración de Empresas, y Ingeniería Agropecuaria. El enfoque TRRS lo implemento al diseñar con Python e inteligencia artificial (ChatGPT, DeepSeek) un abanico de 5 o mas representaciones para cada concepto que enseño. El resumen debe cumplir las siguientes condiciones Máximo 1 página (mínimo 400 palabras incluyendo las 5 palabras clave), A-4 21 cm. x 29,7 cm. (NO ES TAMAÑO CARTA), Márgenes:\n",
    "2cm x 2cm x 2cm x 2cm, Deben establecerse objetivos, metodología y conclusiones.\n",
    "SIN referencias ni notas a pie de página, Times New Roman, cuerpo 12.\n",
    "Título en MAYÚSCULAS, negrita cuerpo 14 y centrado, interlineado sencillo y justificado, Palabras clave: Obligatoriamente 5 conceptos con alineación justificada, título en negrita y texto en letra tipo normal, En los resúmenes NO debe haber citas parentéticas ni a pie de página..\n",
    " "
   ]
  },
  {
   "cell_type": "markdown",
   "id": "92f4a1af",
   "metadata": {},
   "source": [
    "**DOCENCIA INVESTIGATIVA EN MATEMÁTICAS UNIVERSITARIAS: UNA APROXIMACIÓN REFLEXIVA MEDIANTE INVESTIGACIÓN ACCIÓN EDUCATIVA (IAE)**  \n",
    "\n",
    "**Objetivos:** Este trabajo presenta la implementación de la docencia universitaria en matemáticas como un espacio reflexivo e investigativo bajo la metodología de Investigación Acción Educativa (IAE), con el propósito de transformar las prácticas pedagógicas mediante ciclos sistemáticos de planificación, acción, observación y reflexión. Se busca evaluar la eficacia de enfoques innovadores como Aula Invertida (AI), Aprendizaje Basado en Problemas y Proyectos (ABPP), STEAMS (integración de Ciencias, Tecnología, Ingeniería, Artes, Matemáticas y Sociedad) y la Teoría de Registros de Representación Semiótica (TRRS) de Duval. Estos enfoques se integran mediante el uso de cuadernos Jupyter con Python y herramientas de inteligencia artificial, con el objetivo central de fomentar habilidades digitales, pensamiento crítico y competencias en ciencia de datos en estudiantes de diversas disciplinas, particularmente en el contexto socioeducativo del Bajo Cauca antioqueño, una región con desafíos específicos en educación superior.  \n",
    "\n",
    "**Metodología:** La Investigación Acción Educativa (IAE) se implementa a través de sus cuatro fases cíclicas: 1) **Diagnóstico y planificación**, donde se identifican problemáticas específicas del aprendizaje matemático mediante análisis de necesidades y diseño de estrategias; 2) **Acción**, con la implementación de los enfoques pedagógicos mencionados, utilizando recursos tecnológicos como el canal @DiMathData (con más de 50 videos tutoriales) y repositorios GitHub con contenidos interactivos; 3) **Observación sistemática**, mediante registros audiovisuales, diarios de campo y rúbricas de evaluación; y 4) **Reflexión crítica**, con análisis cualitativo de resultados y ajustes iterativos. El ABPP se articula con problemas reales del territorio (ej. análisis de datos agropecuarios, modelos predictivos para pequeñas empresas), mientras que STEAMS facilita proyectos interdisciplinares entre las licenciaturas e ingenierías. La TRRS se opera con la creación de al menos cinco representaciones por concepto matemático (algebraicas, gráficas, tabulares, verbales y computacionales), generadas con Python y herramientas de IA. La recolección de datos combina métodos mixtos: encuestas validadas, grupos focales y análisis cuantitativo del rendimiento académico comparativo.  \n",
    "\n",
    "**Conclusiones:** La implementación cíclica de la IAE ha demostrado que la integración de estos enfoques permite una docencia más dinámica, contextualizada y con mayor impacto en el desarrollo de competencias. Los resultados evidencian: 1) Incremento en el engagement estudiantil medido mediante consultas de los repositorios GitHub y visualizaciones de contenidos; 2) Mejora significativa en la resolución de problemas que requieren conversión entre representaciones semióticas; 3) Fortalecimiento de la transferencia interdisciplinar, con 1 proyecto STEAMS implementados en colaboración con la facultad de Ciencias Agrarias; y 4) Desarrollo de habilidades digitales en machine learning en algunos estudiantes de Administración de Empresas, quienes pueden automatizar análisis de datos con Python. La reflexión sistemática en las fases de la IAE permitió ajustar estrategias como la integración de datasets locales en ABPP. Se concluye que esta articulación metodológica potencia no solo el aprendizaje matemático, sino también la formación investigativa de los estudiantes y la innovación docente basada en evidencia.  \n",
    "\n",
    "**Palabras clave:** Investigación Acción Educativa, Aula Invertida, Aprendizaje Basado en Problemas, STEAMS, Representación Semiótica.  \n",
    "\n"
   ]
  },
  {
   "cell_type": "code",
   "execution_count": 3,
   "id": "5ab97033",
   "metadata": {},
   "outputs": [
    {
     "name": "stdout",
     "output_type": "stream",
     "text": [
      "Documento generado exitosamente: RESUMEN_CAÑAS_CAMPILLO.docx\n"
     ]
    }
   ],
   "source": [
    "from docx import Document\n",
    "from docx.shared import Pt, Inches\n",
    "from docx.enum.text import WD_ALIGN_PARAGRAPH\n",
    "\n",
    "# Crear un nuevo documento\n",
    "doc = Document()\n",
    "\n",
    "# Configurar márgenes (solo funciona en versiones recientes de python-docx)\n",
    "for section in doc.sections:\n",
    "    section.top_margin = Inches(0.79)  # 2 cm\n",
    "    section.bottom_margin = Inches(0.79)\n",
    "    section.left_margin = Inches(0.79)\n",
    "    section.right_margin = Inches(0.79)\n",
    "\n",
    "# Añadir título\n",
    "title = doc.add_paragraph()\n",
    "title_run = title.add_run(\"DOCENCIA INVESTIGATIVA EN MATEMÁTICAS UNIVERSITARIAS: UNA APROXIMACIÓN REFLEXIVA MEDIANTE INVESTIGACIÓN ACCIÓN EDUCATIVA (IAE)\")\n",
    "title_run.bold = True\n",
    "title_run.font.size = Pt(14)\n",
    "title.alignment = WD_ALIGN_PARAGRAPH.CENTER\n",
    "\n",
    "# Añadir espacio después del título\n",
    "doc.add_paragraph()\n",
    "\n",
    "# Texto del resumen\n",
    "resumen_texto = \"\"\"\n",
    "**Objetivos:** Este trabajo presenta la implementación de la docencia universitaria en matemáticas como un espacio reflexivo e investigativo bajo la metodología de Investigación Acción Educativa (IAE), con el propósito de transformar las prácticas pedagógicas mediante ciclos sistemáticos de planificación, acción, observación y reflexión. Se busca evaluar la eficacia de enfoques innovadores como Aula Invertida (AI), Aprendizaje Basado en Problemas y Proyectos (ABPP), STEAMS (integración de Ciencias, Tecnología, Ingeniería, Artes, Matemáticas y Sociedad) y la Teoría de Registros de Representación Semiótica (TRRS) de Duval. Estos enfoques se integran mediante el uso de cuadernos Jupyter con Python y herramientas de inteligencia artificial, con el objetivo central de fomentar habilidades digitales, pensamiento crítico y competencias en ciencia de datos en estudiantes de diversas disciplinas, particularmente en el contexto socioeducativo del Bajo Cauca antioqueño, una región con desafíos específicos en educación superior.  \n",
    "\n",
    "**Metodología:** La Investigación Acción Educativa (IAE) se implementa a través de sus cuatro fases cíclicas: 1) **Diagnóstico y planificación**, donde se identifican problemáticas específicas del aprendizaje matemático mediante análisis de necesidades y diseño de estrategias; 2) **Acción**, con la implementación de los enfoques pedagógicos mencionados, utilizando recursos tecnológicos como el canal @DiMathData (con más de 50 videos tutoriales) y repositorios GitHub con contenidos interactivos; 3) **Observación sistemática**, mediante registros audiovisuales, diarios de campo y rúbricas de evaluación; y 4) **Reflexión crítica**, con análisis cualitativo de resultados y ajustes iterativos. El ABPP se articula con problemas reales del territorio (ej. análisis de datos agropecuarios, modelos predictivos para pequeñas empresas), mientras que STEAMS facilita proyectos interdisciplinares entre las licenciaturas e ingenierías. La TRRS se opera con la creación de al menos cinco representaciones por concepto matemático (algebraicas, gráficas, tabulares, verbales y computacionales), generadas con Python y herramientas de IA. La recolección de datos combina métodos mixtos: encuestas validadas, grupos focales y análisis cuantitativo del rendimiento académico comparativo.  \n",
    "\n",
    "**Conclusiones:** La implementación cíclica de la IAE ha demostrado que la integración de estos enfoques permite una docencia más dinámica, contextualizada y con mayor impacto en el desarrollo de competencias. Los resultados evidencian: 1) Incremento en el engagement estudiantil medido mediante consultas de los repositorios GitHub y visualizaciones de contenidos; 2) Mejora significativa en la resolución de problemas que requieren conversión entre representaciones semióticas; 3) Fortalecimiento de la transferencia interdisciplinar, con 1 proyecto STEAMS implementados en colaboración con la facultad de Ciencias Agrarias; y 4) Desarrollo de habilidades digitales en machine learning en algunos estudiantes de Administración de Empresas, quienes pueden automatizar análisis de datos con Python. La reflexión sistemática en las fases de la IAE permitió ajustar estrategias como la integración de datasets locales en ABPP. Se concluye que esta articulación metodológica potencia no solo el aprendizaje matemático, sino también la formación investigativa de los estudiantes y la innovación docente basada en evidencia.  \n",
    "\n",
    "**Palabras clave:** Investigación Acción Educativa, Aula Invertida, Aprendizaje Basado en Problemas, STEAMS, Representación Semiótica.  \n",
    "\"\"\"\n",
    "\n",
    "# Añadir el texto con formato\n",
    "for paragraph in resumen_texto.split('\\n'):\n",
    "    if paragraph.strip() == \"\":\n",
    "        doc.add_paragraph()  # Párrafo vacío\n",
    "    else:\n",
    "        p = doc.add_paragraph(paragraph)\n",
    "        p.alignment = WD_ALIGN_PARAGRAPH.JUSTIFY\n",
    "        p.paragraph_format.space_after = Pt(0)  # Interlineado sencillo\n",
    "        for run in p.runs:\n",
    "            run.font.name = 'Times New Roman'\n",
    "            run.font.size = Pt(12)\n",
    "\n",
    "# Formato especial para \"Palabras clave\"\n",
    "last_paragraph = doc.paragraphs[-1]\n",
    "for run in last_paragraph.runs:\n",
    "    if run.text.startswith(\"Palabras clave:\"):\n",
    "        run.bold = True\n",
    "    else:\n",
    "        run.bold = False\n",
    "\n",
    "# Guardar el documento\n",
    "doc.save(\"RESUMEN_CAÑAS_CAMPILLO.docx\")\n",
    "\n",
    "print(\"Documento generado exitosamente: RESUMEN_CAÑAS_CAMPILLO.docx\")"
   ]
  }
 ],
 "metadata": {
  "kernelspec": {
   "display_name": ".venv",
   "language": "python",
   "name": "python3"
  },
  "language_info": {
   "codemirror_mode": {
    "name": "ipython",
    "version": 3
   },
   "file_extension": ".py",
   "mimetype": "text/x-python",
   "name": "python",
   "nbconvert_exporter": "python",
   "pygments_lexer": "ipython3",
   "version": "3.13.3"
  }
 },
 "nbformat": 4,
 "nbformat_minor": 5
}
