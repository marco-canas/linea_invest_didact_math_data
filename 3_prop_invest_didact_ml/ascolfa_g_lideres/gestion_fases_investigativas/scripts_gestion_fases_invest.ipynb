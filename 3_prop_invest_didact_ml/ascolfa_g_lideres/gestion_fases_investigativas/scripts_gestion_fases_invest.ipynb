{
 "cells": [
  {
   "cell_type": "markdown",
   "metadata": {},
   "source": [
    "# Scripts de Python que nos permitan gestionar las fases de esta investigación. "
   ]
  },
  {
   "cell_type": "markdown",
   "metadata": {},
   "source": [
    "Dame un script de Python que cree una secuencia de carpetas para las fases y de archivos .md para los diseños metodológicos para cada fase de esta investigación. Siendo que esta investigación te la describo en el archivo .ipynb que te acabo de adjuntar. Esta estructura de carpetas y archivos deben estar dentro de la carpeta \"C:\\Users\\marco\\Documentos\\investigacion\\linea_invest_pedag_didact_math_data_science\\prop_invest_didact_ml\\ascolfa_g_lideres\\gestion_fases_investigativas\""
   ]
  },
  {
   "cell_type": "markdown",
   "metadata": {},
   "source": [
    "He creado un script de Python que genera la estructura de carpetas y archivos .md según las fases descritas en la investigación. Los archivos incluyen templates con secciones relevantes basadas en la propuesta metodológica.\n"
   ]
  },
  {
   "cell_type": "code",
   "execution_count": 1,
   "metadata": {},
   "outputs": [
    {
     "name": "stdout",
     "output_type": "stream",
     "text": [
      "Estructura creada exitosamente!\n"
     ]
    }
   ],
   "source": [
    "import os\n",
    "\n",
    "# Ruta base donde se creará la estructura\n",
    "base_path = r\"C:\\Users\\marco\\Documentos\\investigacion\\linea_invest_pedag_didact_math_data_science\\prop_invest_didact_ml\\ascolfa_g_lideres\\gestion_fases_investigativas\"\n",
    "\n",
    "# Estructura de carpetas y archivos\n",
    "estructura = {\n",
    "    \"1_Diagnostico\": [\n",
    "        \"diseno_metodologico.md\",\n",
    "        \"encuestas_pruebas.md\",\n",
    "        \"recursos_diagnostico.md\"\n",
    "    ],\n",
    "    \"2_Intervencion\": [\n",
    "        \"diseno_talleres.md\",\n",
    "        \"power_bi.md\",\n",
    "        \"machine_learning.md\",\n",
    "        \"deep_learning.md\"\n",
    "    ],\n",
    "    \"3_Evaluacion\": [\n",
    "        \"pruebas_post.md\",\n",
    "        \"encuestas_satisfaccion.md\",\n",
    "        \"focus_groups.md\"\n",
    "    ],\n",
    "    \"4_Analisis\": [\n",
    "        \"estadistica_descriptiva.md\",\n",
    "        \"pruebas_estadisticas.md\",\n",
    "        \"analisis_cualitativo.md\"\n",
    "    ],\n",
    "    \"5_Avances_Preliminares\": [\n",
    "        \"taller_python.md\",\n",
    "        \"modelo_prediccion_viviendas.md\",\n",
    "        \"modelo_desercion_clientes.md\"\n",
    "    ],\n",
    "    \"6_Reportes\": [\n",
    "        \"seguimiento_proyectos.md\",\n",
    "        \"articulacion_empresas.md\"\n",
    "    ]\n",
    "}\n",
    "\n",
    "# Template base para los archivos .md\n",
    "template = \"\"\"# {titulo}\n",
    "\n",
    "## Objetivos\n",
    "<!-- Describir objetivos específicos de esta fase -->\n",
    "\n",
    "## Metodología\n",
    "<!-- Detallar enfoque metodológico -->\n",
    "\n",
    "## Herramientas/Recursos\n",
    "- Lista de herramientas digitales\n",
    "- Recursos necesarios\n",
    "\n",
    "## Cronograma\n",
    "<!-- Planificación temporal -->\n",
    "\n",
    "## Resultados Esperados\n",
    "<!-- Resultados concretos a obtener -->\n",
    "\"\"\"\n",
    "\n",
    "# Crear estructura de carpetas y archivos\n",
    "for carpeta, archivos in estructura.items():\n",
    "    # Crear ruta completa de la carpeta\n",
    "    carpeta_path = os.path.join(base_path, carpeta)\n",
    "    \n",
    "    # Crear carpeta si no existe\n",
    "    os.makedirs(carpeta_path, exist_ok=True)\n",
    "    \n",
    "    # Crear archivos .md con template\n",
    "    for archivo in archivos:\n",
    "        file_path = os.path.join(carpeta_path, archivo)\n",
    "        titulo = archivo.replace(\".md\", \"\").replace(\"_\", \" \").title()\n",
    "        \n",
    "        with open(file_path, \"w\", encoding=\"utf-8\") as f:\n",
    "            f.write(template.format(titulo=titulo))\n",
    "\n",
    "print(\"Estructura creada exitosamente!\")\n",
    "\n"
   ]
  },
  {
   "cell_type": "markdown",
   "metadata": {},
   "source": [
    "\n",
    "Este script generará:\n",
    "1. Carpetas numeradas para cada fase principal\n",
    "2. Archivos .md temáticos en cada carpeta con:\n",
    "   - Encabezado con título formateado\n",
    "   - Secciones predefinidas (Objetivos, Metodología, etc.)\n",
    "   - Placeholders para contenido específico\n",
    "3. Organización coherente con la propuesta metodológica del notebook\n",
    "\n",
    "Los archivos incluyen:\n",
    "- Diseños específicos para talleres de Power BI y ML\n",
    "- Plantillas para análisis cuantitativos y cualitativos\n",
    "- Secciones para seguimiento de proyectos y articulación empresarial\n",
    "- Documentación para avances y desafíos técnicos\n",
    "\n",
    "Ejecuta el script y encontrarás la estructura lista para documentar cada fase de tu investigación."
   ]
  }
 ],
 "metadata": {
  "kernelspec": {
   "display_name": ".venv",
   "language": "python",
   "name": "python3"
  },
  "language_info": {
   "codemirror_mode": {
    "name": "ipython",
    "version": 3
   },
   "file_extension": ".py",
   "mimetype": "text/x-python",
   "name": "python",
   "nbconvert_exporter": "python",
   "pygments_lexer": "ipython3",
   "version": "3.13.2"
  }
 },
 "nbformat": 4,
 "nbformat_minor": 2
}
