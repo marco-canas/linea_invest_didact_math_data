{
 "cells": [
  {
   "cell_type": "markdown",
   "metadata": {},
   "source": [
    "# Introducción a NLTK de Python para el análisis de texto  \n",
    "\n"
   ]
  },
  {
   "cell_type": "markdown",
   "metadata": {},
   "source": [
    "Este es un **diseño detallado para un Taller de Introducción a NLTK**, contextualizado a tu investigación y enfocado en aplicaciones prácticas para el análisis de datos textuales en administración de empresas:\n",
    "\n",
    "---\n"
   ]
  },
  {
   "cell_type": "markdown",
   "metadata": {},
   "source": [
    "\n",
    "# **Taller: Introducción a NLTK para Análisis de Texto en Investigación Empresarial**  \n",
    "**Duración**: 1h 40min (6:00 PM - 7:40 PM)  \n",
    "**Herramientas**: Python 3.10+, Jupyter Notebook, Google Colab  \n",
    "\n",
    "---\n"
   ]
  },
  {
   "cell_type": "markdown",
   "metadata": {},
   "source": [
    "\n",
    "## **Objetivos del Taller**  \n",
    "1. Introducir conceptos básicos de Procesamiento de Lenguaje Natural (NLP) con NLTK.  \n",
    "2. Aplicar técnicas de análisis textual a datos empresariales (ej. reseñas de clientes, informes).  \n",
    "3. Vincular NLP con el desarrollo de habilidades digitales para la toma de decisiones.  \n",
    "\n",
    "---\n"
   ]
  },
  {
   "cell_type": "markdown",
   "metadata": {},
   "source": [
    "\n",
    "## **Estructura del Taller**  \n",
    "### **1. Introducción (15 min)**  \n",
    "**Contenido**:  \n",
    "- Importancia del NLP en la administración empresarial:  \n",
    "  - Análisis de sentimientos en redes sociales.  \n",
    "  - Clasificación automática de documentos (ej. contratos).  \n",
    "  - Extracción de insights de encuestas cualitativas.  \n"
   ]
  },
  {
   "cell_type": "markdown",
   "metadata": {},
   "source": [
    "**1. Introducción (15 min)**  \n",
    "\n",
    "**Contenido**:  \n"
   ]
  },
  {
   "cell_type": "markdown",
   "metadata": {},
   "source": [
    "\n",
    "**1.1. ¿Qué es el NLP y por qué es relevante para la administración empresarial?**  \n"
   ]
  },
  {
   "cell_type": "markdown",
   "metadata": {},
   "source": [
    "- *Definición breve*: El Procesamiento del Lenguaje Natural (NLP) es una rama de la inteligencia artificial que permite a las máquinas comprender, interpretar y generar lenguaje humano.  \n",
    "- *Contexto empresarial*: En un mundo donde el 80% de los datos empresariales son texto no estructurado (redes sociales, contratos, encuestas), el NLP se convierte en una herramienta crítica para transformar información en acciones estratégicas.  \n",
    "\n",
    "---\n"
   ]
  },
  {
   "cell_type": "markdown",
   "metadata": {},
   "source": [
    "\n",
    "**1.2. Importancia del NLP en la administración empresarial**  \n"
   ]
  },
  {
   "cell_type": "markdown",
   "metadata": {},
   "source": [
    "\n",
    "**a) Análisis de sentimientos en redes sociales**  \n",
    "- *Aplicación*: Monitoreo en tiempo real de la percepción de marca.  \n",
    "  - Ejemplo: Una empresa de retail analiza tweets durante el lanzamiento de un producto para detectar opiniones negativas y ajustar su estrategia de comunicación.  \n",
    "- *Beneficios*:  \n",
    "  - Identificación rápida de crisis de reputación (ej.: quejas masivas por fallos en un producto).  \n",
    "  - Segmentación de clientes por emociones (ej.: felicidad vs. frustración en comentarios).  \n",
    "- *Herramientas asociadas*: NLTK ofrece librerías para tokenización, detección de palabras clave y modelos de clasificación de sentimientos (ej.: `VADER`).  \n"
   ]
  },
  {
   "cell_type": "markdown",
   "metadata": {},
   "source": [
    "\n",
    "**b) Clasificación automática de documentos (ej. contratos)**  \n",
    "- *Problema empresarial*: Gestión manual de miles de documentos, lo que consume horas y genera errores.  \n",
    "- *Solución con NLP*:  \n",
    "  - Ejemplo: Un bufete jurídico usa algoritmos de clasificación para organizar contratos por tipo (laboral, confidencialidad, compraventa) usando palabras clave o aprendizaje supervisado.  \n",
    "- *Beneficios*:  \n",
    "  - Reducción del 70% en tiempo de búsqueda de documentos.  \n",
    "  - Cumplimiento normativo automatizado (ej.: detección de cláusulas riesgosas).  \n",
    "- *Recursos de NLTK*: Uso de corpus etiquetados y algoritmos como Naive Bayes para entrenar clasificadores.  \n"
   ]
  },
  {
   "cell_type": "markdown",
   "metadata": {},
   "source": [
    "\n",
    "**c) Extracción de insights de encuestas cualitativas**  \n",
    "- *Desafío*: Analizar respuestas abiertas de miles de encuestas manualmente es inviable.  \n",
    "- *NLP en acción*:  \n",
    "  - Ejemplo: Una cadena hotelera utiliza técnicas de *topic modeling* (ej.: LDA) para identificar temas recurrentes en feedback de clientes: \"limpieza\", \"tiempos de espera\", \"amabilidad del personal\".  \n",
    "- *Beneficios*:  \n",
    "  - Detección de patrones ocultos (ej.: 40% de quejas relacionadas con lentitud en el check-in).  \n",
    "  - Creación de informes automatizados con tendencias clave.  \n",
    "- *Funcionalidades de NLTK*: Extracción de n-gramas, frecuencia léxica y herramientas para visualización de datos textuales.  \n",
    "\n",
    "---\n"
   ]
  },
  {
   "cell_type": "markdown",
   "metadata": {},
   "source": [
    "\n",
    "**1.3. Conexión con NLTK**  \n",
    "- *NLTK como facilitador*:  \n",
    "  - Librería de código abierto con recursos preentrenados (ej.: stopwords en 20 idiomas).  \n",
    "  - Permite prototipar soluciones de NLP sin inversión inicial en software costoso.  \n",
    "- *Mensaje clave*: \"El NLP no es solo para tecnólogos; con herramientas como NLTK, los administradores pueden tomar decisiones basadas en datos que antes eran inaccesibles\".  \n",
    "\n",
    "---\n"
   ]
  },
  {
   "cell_type": "markdown",
   "metadata": {},
   "source": [
    "\n",
    "**Transición al siguiente ítem**:  \n",
    "\"Ahora que entendemos el *por qué* del NLP en la empresa, pasaremos al *cómo*: en la siguiente sección instalaremos NLTK y exploraremos sus funciones básicas con ejemplos prácticos.\"  \n"
   ]
  },
  {
   "cell_type": "markdown",
   "metadata": {},
   "source": [
    "\n",
    "**Notas para el facilitador**:  \n",
    "- Usar ejemplos locales o de industrias conocidas (ej.: Bancos usando NLP para filtrar reclamos en redes).  \n",
    "- Invitar a la reflexión: \"¿En qué área de su organización el NLP podría tener mayor impacto?\".  \n",
    "- Mantener un tono dinámico; evitar tecnicismos profundos."
   ]
  },
  {
   "cell_type": "markdown",
   "metadata": {},
   "source": [
    "\n",
    "**Actividad**:  \n",
    "- Discusión grupal: *¿Cómo podrían usar el análisis de texto en sus proyectos de Machine Learning?*  \n",
    "\n",
    "---\n"
   ]
  },
  {
   "cell_type": "markdown",
   "metadata": {},
   "source": [
    "\n",
    "### **2. Configuración y Primeros Pasos (20 min)**  \n"
   ]
  },
  {
   "cell_type": "markdown",
   "metadata": {},
   "source": [
    "**Código**:  \n"
   ]
  },
  {
   "cell_type": "code",
   "execution_count": null,
   "metadata": {},
   "outputs": [
    {
     "name": "stdout",
     "output_type": "stream",
     "text": [
      "Collecting nltk\n",
      "  Using cached nltk-3.9.1-py3-none-any.whl.metadata (2.9 kB)\n",
      "Collecting click (from nltk)\n",
      "  Using cached click-8.1.8-py3-none-any.whl.metadata (2.3 kB)\n",
      "Requirement already satisfied: joblib in c:\\users\\marco\\documentos\\investigacion\\linea_invest_pedag_didact_math_data_science\\.venv\\lib\\site-packages (from nltk) (1.4.2)\n",
      "Collecting regex>=2021.8.3 (from nltk)\n",
      "  Downloading regex-2024.11.6-cp313-cp313-win_amd64.whl.metadata (41 kB)\n",
      "Collecting tqdm (from nltk)\n",
      "  Using cached tqdm-4.67.1-py3-none-any.whl.metadata (57 kB)\n",
      "Requirement already satisfied: colorama in c:\\users\\marco\\documentos\\investigacion\\linea_invest_pedag_didact_math_data_science\\.venv\\lib\\site-packages (from click->nltk) (0.4.6)\n",
      "Using cached nltk-3.9.1-py3-none-any.whl (1.5 MB)\n",
      "Downloading regex-2024.11.6-cp313-cp313-win_amd64.whl (273 kB)\n",
      "Using cached click-8.1.8-py3-none-any.whl (98 kB)\n",
      "Using cached tqdm-4.67.1-py3-none-any.whl (78 kB)\n",
      "Installing collected packages: tqdm, regex, click, nltk\n",
      "Successfully installed click-8.1.8 nltk-3.9.1 regex-2024.11.6 tqdm-4.67.1\n"
     ]
    },
    {
     "name": "stderr",
     "output_type": "stream",
     "text": [
      "WARNING: Retrying (Retry(total=4, connect=None, read=None, redirect=None, status=None)) after connection broken by 'NewConnectionError('<pip._vendor.urllib3.connection.HTTPSConnection object at 0x00000255D19F1010>: Failed to establish a new connection: [Errno 11001] getaddrinfo failed')': /simple/nltk/\n"
     ]
    }
   ],
   "source": [
    "\n",
    "# Instalación de NLTK y descarga de recursos\n",
    "# pip install nltk\n"
   ]
  },
  {
   "cell_type": "code",
   "execution_count": null,
   "metadata": {},
   "outputs": [
    {
     "name": "stderr",
     "output_type": "stream",
     "text": [
      "[nltk_data] Downloading package punkt to\n",
      "[nltk_data]     C:\\Users\\marco\\AppData\\Roaming\\nltk_data...\n",
      "[nltk_data]   Unzipping tokenizers\\punkt.zip.\n",
      "[nltk_data] Downloading package stopwords to\n",
      "[nltk_data]     C:\\Users\\marco\\AppData\\Roaming\\nltk_data...\n",
      "[nltk_data]   Unzipping corpora\\stopwords.zip.\n",
      "[nltk_data] Downloading package averaged_perceptron_tagger to\n",
      "[nltk_data]     C:\\Users\\marco\\AppData\\Roaming\\nltk_data...\n",
      "[nltk_data]   Unzipping taggers\\averaged_perceptron_tagger.zip.\n"
     ]
    }
   ],
   "source": [
    "import nltk\n",
    "nltk.download('punkt')\n",
    "nltk.download('stopwords')\n",
    "nltk.download('averaged_perceptron_tagger')\n"
   ]
  },
  {
   "cell_type": "markdown",
   "metadata": {},
   "source": [
    "¡Claro! Aquí tienes una descripción detallada de cada recurso de NLTK que mencionas y su utilidad en investigaciones relacionadas con el **desarrollo de habilidades digitales**, especialmente en proyectos de NLP:\n",
    "\n",
    "---\n",
    "\n",
    "### **1. `nltk.download('punkt')**  \n",
    "**¿Qué es?**  \n",
    "- **Tokenizer \"Punkt\"**: Un modelo preentrenado para dividir texto en unidades lingüísticas (tokenización).  \n",
    "  - **Tokenización de palabras**: Separa un texto en palabras individuales (ej.: \"¡Hola, mundo!\" → [\"¡Hola\", \",\", \"mundo\", \"!\"]).  \n",
    "  - **Tokenización de oraciones**: Divide un párrafo en oraciones (ej.: \"Hoy es lunes. Mañana es martes.\" → [\"Hoy es lunes.\", \"Mañana es martes.\"]).  \n",
    "\n",
    "**Utilidad en habilidades digitales**:  \n",
    "- **Procesamiento básico de texto**: Es el primer paso en cualquier proyecto de NLP (ej.: limpieza de datos, análisis de frecuencia de palabras).  \n",
    "- **Aplicaciones prácticas**:  \n",
    "  - Preparar datos para análisis de sentimientos en redes sociales.  \n",
    "  - Segmentar encuestas cualitativas para identificar temas clave.  \n",
    "  - Entrenar modelos de machine learning que requieren texto tokenizado (ej.: clasificación de documentos).  \n",
    "\n",
    "**Ejemplo de código**:  \n",
    "```python\n",
    "from nltk.tokenize import word_tokenize, sent_tokenize\n",
    "\n",
    "texto = \"El desarrollo de habilidades digitales es esencial. ¡Aprender NLP con NLTK es un gran primer paso!\"\n",
    "palabras = word_tokenize(texto, language='spanish')  # Tokeniza palabras\n",
    "oraciones = sent_tokenize(texto, language='spanish')  # Tokeniza oraciones\n",
    "```\n",
    "\n",
    "---\n",
    "\n",
    "### **2. `nltk.download('stopwords')**  \n",
    "**¿Qué es?**  \n",
    "- **Lista de \"stopwords\"**: Palabras frecuentes pero poco informativas (ej.: artículos, preposiciones: \"el\", \"de\", \"y\").  \n",
    "  - Disponible para múltiples idiomas, incluyendo español.  \n",
    "\n",
    "**Utilidad en habilidades digitales**:  \n",
    "- **Limpieza de datos**: Mejora la calidad del análisis al eliminar \"ruido\" textual.  \n",
    "- **Optimización de modelos**: Reduce la dimensionalidad en algoritmos de machine learning (menos palabras = menos features).  \n",
    "- **Aplicaciones prácticas**:  \n",
    "  - Extraer palabras clave de documentos legales o técnicos.  \n",
    "  - Mejorar la precisión en topic modeling (ej.: identificar \"habilidades digitales\" vs. \"cloud computing\" en un corpus).  \n",
    "  - Preparar texto para visualizaciones (nubes de palabras).  \n",
    "\n",
    "**Ejemplo de código**:  \n",
    "```python\n",
    "from nltk.corpus import stopwords\n",
    "\n",
    "stopwords_es = set(stopwords.words('spanish'))\n",
    "texto_limpio = [palabra for palabra in palabras if palabra.lower() not in stopwords_es]\n",
    "```\n",
    "\n",
    "---\n",
    "\n",
    "### **3. `nltk.download('averaged_perceptron_tagger')**  \n",
    "**¿Qué es?**  \n",
    "- **Etiquetador gramatical (POS Tagger)**: Asigna categorías gramaticales a cada palabra (ej.: sustantivo, verbo, adjetivo).  \n",
    "  - Usa el algoritmo \"Averaged Perceptron\", eficiente y preciso para textos en inglés y adaptable a otros idiomas.  \n",
    "\n",
    "**Utilidad en habilidades digitales**:  \n",
    "- **Análisis sintáctico**: Entender la estructura de frases para tareas avanzadas (ej.: extracción de entidades, relaciones semánticas).  \n",
    "- **Aplicaciones prácticas**:  \n",
    "  - Identificar verbos de acción en descripciones de habilidades (ej.: \"programar\", \"analizar\", \"diseñar\").  \n",
    "  - Filtrar sustantivos técnicos en documentos de formación (ej.: \"Python\", \"big data\", \"API\").  \n",
    "  - Mejorar chatbots para reconocer intenciones del usuario (ej.: diferenciar preguntas [\"¿Cómo...?\"] de órdenes [\"Descarga...\"]).  \n",
    "\n",
    "**Ejemplo de código**:  \n",
    "```python\n",
    "from nltk import pos_tag\n",
    "\n",
    "texto = \"Desarrollar habilidades en Python es fundamental para el análisis de datos.\"\n",
    "palabras = word_tokenize(texto, language='spanish')\n",
    "etiquetas = pos_tag(palabras)  # Ejemplo de salida: [('Desarrollar', 'VB'), ('habilidades', 'NNS'), ...]\n",
    "```\n",
    "\n",
    "---\n",
    "\n",
    "### **Conexión con el Desarrollo de Habilidades Digitales**  \n",
    "Estos recursos son esenciales para:  \n",
    "1. **Automatizar tareas repetitivas**: Procesar grandes volúmenes de texto sin intervención manual.  \n",
    "2. **Fomentar la alfabetización de datos**: Enseñar a identificar patrones en información no estructurada (ej.: encuestas, redes sociales).  \n",
    "3. **Crear prototipos rápidos**: Permitir a los estudiantes experimentar con NLP sin infraestructura costosa.  \n",
    "\n",
    "**Ejemplo integrado**:  \n",
    "Imagina un proyecto donde estudiantes analizan comentarios de cursos online para identificar las habilidades más demandadas:  \n",
    "- Usan `punkt` para dividir respuestas en oraciones.  \n",
    "- Aplican `stopwords` para filtrar palabras irrelevantes.  \n",
    "- Utilizan `POS Tagger` para extraer sustantivos técnicos (ej.: \"programación\", \"datos\") y verbos asociados (\"aprender\", \"mejorar\").  \n",
    "\n",
    "---\n",
    "\n",
    "**Consejo pedagógico**:  \n",
    "Inicia con ejercicios guiados (ej.: limpiar tweets, etiquetar partes del discurso en descripciones de empleo) para que los estudiantes vean resultados tangibles y entiendan el flujo de trabajo en NLP.  \n"
   ]
  },
  {
   "cell_type": "markdown",
   "metadata": {},
   "source": [
    "\n",
    "Si necesitas ejemplos más específicos o ayuda para diseñar actividades, ¡avísame! "
   ]
  },
  {
   "cell_type": "code",
   "execution_count": null,
   "metadata": {},
   "outputs": [],
   "source": [
    "\n",
    "# Cargar dataset de ejemplo (reseñas de clientes)\n",
    "texto_ejemplo = \"\"\"\n",
    "El servicio fue excelente y rápido, pero el producto llegó dañado. \n",
    "La atención al cliente resolvió el problema de inmediato. ¡Muy recomendados!\n",
    "\"\"\"\n",
    "\n"
   ]
  },
  {
   "cell_type": "markdown",
   "metadata": {},
   "source": [
    "\n",
    "**Actividad Guiada**:  \n",
    "- Ejecutar en Google Colab y verificar instalación.  \n",
    "\n",
    "---\n"
   ]
  },
  {
   "cell_type": "markdown",
   "metadata": {},
   "source": [
    "\n",
    "### **3. Procesamiento Básico de Texto (30 min)**  \n",
    "**Técnicas**:  \n"
   ]
  },
  {
   "cell_type": "code",
   "execution_count": 3,
   "metadata": {},
   "outputs": [
    {
     "ename": "LookupError",
     "evalue": "\n**********************************************************************\n  Resource \u001b[93mpunkt_tab\u001b[0m not found.\n  Please use the NLTK Downloader to obtain the resource:\n\n  \u001b[31m>>> import nltk\n  >>> nltk.download('punkt_tab')\n  \u001b[0m\n  For more information see: https://www.nltk.org/data.html\n\n  Attempted to load \u001b[93mtokenizers/punkt_tab/spanish/\u001b[0m\n\n  Searched in:\n    - 'C:\\\\Users\\\\marco/nltk_data'\n    - 'c:\\\\Users\\\\marco\\\\Documentos\\\\investigacion\\\\linea_invest_pedag_didact_math_data_science\\\\.venv\\\\nltk_data'\n    - 'c:\\\\Users\\\\marco\\\\Documentos\\\\investigacion\\\\linea_invest_pedag_didact_math_data_science\\\\.venv\\\\share\\\\nltk_data'\n    - 'c:\\\\Users\\\\marco\\\\Documentos\\\\investigacion\\\\linea_invest_pedag_didact_math_data_science\\\\.venv\\\\lib\\\\nltk_data'\n    - 'C:\\\\Users\\\\marco\\\\AppData\\\\Roaming\\\\nltk_data'\n    - 'C:\\\\nltk_data'\n    - 'D:\\\\nltk_data'\n    - 'E:\\\\nltk_data'\n**********************************************************************\n",
     "output_type": "error",
     "traceback": [
      "\u001b[1;31m---------------------------------------------------------------------------\u001b[0m",
      "\u001b[1;31mLookupError\u001b[0m                               Traceback (most recent call last)",
      "Cell \u001b[1;32mIn[3], line 5\u001b[0m\n\u001b[0;32m      2\u001b[0m \u001b[38;5;28;01mfrom\u001b[39;00m\u001b[38;5;250m \u001b[39m\u001b[38;5;21;01mnltk\u001b[39;00m\u001b[38;5;21;01m.\u001b[39;00m\u001b[38;5;21;01mcorpus\u001b[39;00m\u001b[38;5;250m \u001b[39m\u001b[38;5;28;01mimport\u001b[39;00m stopwords\n\u001b[0;32m      4\u001b[0m \u001b[38;5;66;03m# Tokenización\u001b[39;00m\n\u001b[1;32m----> 5\u001b[0m oraciones \u001b[38;5;241m=\u001b[39m \u001b[43msent_tokenize\u001b[49m\u001b[43m(\u001b[49m\u001b[43mtexto_ejemplo\u001b[49m\u001b[43m,\u001b[49m\u001b[43m \u001b[49m\u001b[43mlanguage\u001b[49m\u001b[38;5;241;43m=\u001b[39;49m\u001b[38;5;124;43m'\u001b[39;49m\u001b[38;5;124;43mspanish\u001b[39;49m\u001b[38;5;124;43m'\u001b[39;49m\u001b[43m)\u001b[49m\n\u001b[0;32m      6\u001b[0m palabras \u001b[38;5;241m=\u001b[39m word_tokenize(texto_ejemplo\u001b[38;5;241m.\u001b[39mlower(), language\u001b[38;5;241m=\u001b[39m\u001b[38;5;124m'\u001b[39m\u001b[38;5;124mspanish\u001b[39m\u001b[38;5;124m'\u001b[39m)\n\u001b[0;32m      8\u001b[0m \u001b[38;5;66;03m# Eliminar stopwords\u001b[39;00m\n",
      "File \u001b[1;32mc:\\Users\\marco\\Documentos\\investigacion\\linea_invest_pedag_didact_math_data_science\\.venv\\Lib\\site-packages\\nltk\\tokenize\\__init__.py:119\u001b[0m, in \u001b[0;36msent_tokenize\u001b[1;34m(text, language)\u001b[0m\n\u001b[0;32m    109\u001b[0m \u001b[38;5;28;01mdef\u001b[39;00m\u001b[38;5;250m \u001b[39m\u001b[38;5;21msent_tokenize\u001b[39m(text, language\u001b[38;5;241m=\u001b[39m\u001b[38;5;124m\"\u001b[39m\u001b[38;5;124menglish\u001b[39m\u001b[38;5;124m\"\u001b[39m):\n\u001b[0;32m    110\u001b[0m \u001b[38;5;250m    \u001b[39m\u001b[38;5;124;03m\"\"\"\u001b[39;00m\n\u001b[0;32m    111\u001b[0m \u001b[38;5;124;03m    Return a sentence-tokenized copy of *text*,\u001b[39;00m\n\u001b[0;32m    112\u001b[0m \u001b[38;5;124;03m    using NLTK's recommended sentence tokenizer\u001b[39;00m\n\u001b[1;32m   (...)\u001b[0m\n\u001b[0;32m    117\u001b[0m \u001b[38;5;124;03m    :param language: the model name in the Punkt corpus\u001b[39;00m\n\u001b[0;32m    118\u001b[0m \u001b[38;5;124;03m    \"\"\"\u001b[39;00m\n\u001b[1;32m--> 119\u001b[0m     tokenizer \u001b[38;5;241m=\u001b[39m \u001b[43m_get_punkt_tokenizer\u001b[49m\u001b[43m(\u001b[49m\u001b[43mlanguage\u001b[49m\u001b[43m)\u001b[49m\n\u001b[0;32m    120\u001b[0m     \u001b[38;5;28;01mreturn\u001b[39;00m tokenizer\u001b[38;5;241m.\u001b[39mtokenize(text)\n",
      "File \u001b[1;32mc:\\Users\\marco\\Documentos\\investigacion\\linea_invest_pedag_didact_math_data_science\\.venv\\Lib\\site-packages\\nltk\\tokenize\\__init__.py:105\u001b[0m, in \u001b[0;36m_get_punkt_tokenizer\u001b[1;34m(language)\u001b[0m\n\u001b[0;32m     96\u001b[0m \u001b[38;5;129m@functools\u001b[39m\u001b[38;5;241m.\u001b[39mlru_cache\n\u001b[0;32m     97\u001b[0m \u001b[38;5;28;01mdef\u001b[39;00m\u001b[38;5;250m \u001b[39m\u001b[38;5;21m_get_punkt_tokenizer\u001b[39m(language\u001b[38;5;241m=\u001b[39m\u001b[38;5;124m\"\u001b[39m\u001b[38;5;124menglish\u001b[39m\u001b[38;5;124m\"\u001b[39m):\n\u001b[0;32m     98\u001b[0m \u001b[38;5;250m    \u001b[39m\u001b[38;5;124;03m\"\"\"\u001b[39;00m\n\u001b[0;32m     99\u001b[0m \u001b[38;5;124;03m    A constructor for the PunktTokenizer that utilizes\u001b[39;00m\n\u001b[0;32m    100\u001b[0m \u001b[38;5;124;03m    a lru cache for performance.\u001b[39;00m\n\u001b[1;32m   (...)\u001b[0m\n\u001b[0;32m    103\u001b[0m \u001b[38;5;124;03m    :type language: str\u001b[39;00m\n\u001b[0;32m    104\u001b[0m \u001b[38;5;124;03m    \"\"\"\u001b[39;00m\n\u001b[1;32m--> 105\u001b[0m     \u001b[38;5;28;01mreturn\u001b[39;00m \u001b[43mPunktTokenizer\u001b[49m\u001b[43m(\u001b[49m\u001b[43mlanguage\u001b[49m\u001b[43m)\u001b[49m\n",
      "File \u001b[1;32mc:\\Users\\marco\\Documentos\\investigacion\\linea_invest_pedag_didact_math_data_science\\.venv\\Lib\\site-packages\\nltk\\tokenize\\punkt.py:1744\u001b[0m, in \u001b[0;36mPunktTokenizer.__init__\u001b[1;34m(self, lang)\u001b[0m\n\u001b[0;32m   1742\u001b[0m \u001b[38;5;28;01mdef\u001b[39;00m\u001b[38;5;250m \u001b[39m\u001b[38;5;21m__init__\u001b[39m(\u001b[38;5;28mself\u001b[39m, lang\u001b[38;5;241m=\u001b[39m\u001b[38;5;124m\"\u001b[39m\u001b[38;5;124menglish\u001b[39m\u001b[38;5;124m\"\u001b[39m):\n\u001b[0;32m   1743\u001b[0m     PunktSentenceTokenizer\u001b[38;5;241m.\u001b[39m\u001b[38;5;21m__init__\u001b[39m(\u001b[38;5;28mself\u001b[39m)\n\u001b[1;32m-> 1744\u001b[0m     \u001b[38;5;28;43mself\u001b[39;49m\u001b[38;5;241;43m.\u001b[39;49m\u001b[43mload_lang\u001b[49m\u001b[43m(\u001b[49m\u001b[43mlang\u001b[49m\u001b[43m)\u001b[49m\n",
      "File \u001b[1;32mc:\\Users\\marco\\Documentos\\investigacion\\linea_invest_pedag_didact_math_data_science\\.venv\\Lib\\site-packages\\nltk\\tokenize\\punkt.py:1749\u001b[0m, in \u001b[0;36mPunktTokenizer.load_lang\u001b[1;34m(self, lang)\u001b[0m\n\u001b[0;32m   1746\u001b[0m \u001b[38;5;28;01mdef\u001b[39;00m\u001b[38;5;250m \u001b[39m\u001b[38;5;21mload_lang\u001b[39m(\u001b[38;5;28mself\u001b[39m, lang\u001b[38;5;241m=\u001b[39m\u001b[38;5;124m\"\u001b[39m\u001b[38;5;124menglish\u001b[39m\u001b[38;5;124m\"\u001b[39m):\n\u001b[0;32m   1747\u001b[0m     \u001b[38;5;28;01mfrom\u001b[39;00m\u001b[38;5;250m \u001b[39m\u001b[38;5;21;01mnltk\u001b[39;00m\u001b[38;5;21;01m.\u001b[39;00m\u001b[38;5;21;01mdata\u001b[39;00m\u001b[38;5;250m \u001b[39m\u001b[38;5;28;01mimport\u001b[39;00m find\n\u001b[1;32m-> 1749\u001b[0m     lang_dir \u001b[38;5;241m=\u001b[39m \u001b[43mfind\u001b[49m\u001b[43m(\u001b[49m\u001b[38;5;124;43mf\u001b[39;49m\u001b[38;5;124;43m\"\u001b[39;49m\u001b[38;5;124;43mtokenizers/punkt_tab/\u001b[39;49m\u001b[38;5;132;43;01m{\u001b[39;49;00m\u001b[43mlang\u001b[49m\u001b[38;5;132;43;01m}\u001b[39;49;00m\u001b[38;5;124;43m/\u001b[39;49m\u001b[38;5;124;43m\"\u001b[39;49m\u001b[43m)\u001b[49m\n\u001b[0;32m   1750\u001b[0m     \u001b[38;5;28mself\u001b[39m\u001b[38;5;241m.\u001b[39m_params \u001b[38;5;241m=\u001b[39m load_punkt_params(lang_dir)\n\u001b[0;32m   1751\u001b[0m     \u001b[38;5;28mself\u001b[39m\u001b[38;5;241m.\u001b[39m_lang \u001b[38;5;241m=\u001b[39m lang\n",
      "File \u001b[1;32mc:\\Users\\marco\\Documentos\\investigacion\\linea_invest_pedag_didact_math_data_science\\.venv\\Lib\\site-packages\\nltk\\data.py:579\u001b[0m, in \u001b[0;36mfind\u001b[1;34m(resource_name, paths)\u001b[0m\n\u001b[0;32m    577\u001b[0m sep \u001b[38;5;241m=\u001b[39m \u001b[38;5;124m\"\u001b[39m\u001b[38;5;124m*\u001b[39m\u001b[38;5;124m\"\u001b[39m \u001b[38;5;241m*\u001b[39m \u001b[38;5;241m70\u001b[39m\n\u001b[0;32m    578\u001b[0m resource_not_found \u001b[38;5;241m=\u001b[39m \u001b[38;5;124mf\u001b[39m\u001b[38;5;124m\"\u001b[39m\u001b[38;5;130;01m\\n\u001b[39;00m\u001b[38;5;132;01m{\u001b[39;00msep\u001b[38;5;132;01m}\u001b[39;00m\u001b[38;5;130;01m\\n\u001b[39;00m\u001b[38;5;132;01m{\u001b[39;00mmsg\u001b[38;5;132;01m}\u001b[39;00m\u001b[38;5;130;01m\\n\u001b[39;00m\u001b[38;5;132;01m{\u001b[39;00msep\u001b[38;5;132;01m}\u001b[39;00m\u001b[38;5;130;01m\\n\u001b[39;00m\u001b[38;5;124m\"\u001b[39m\n\u001b[1;32m--> 579\u001b[0m \u001b[38;5;28;01mraise\u001b[39;00m \u001b[38;5;167;01mLookupError\u001b[39;00m(resource_not_found)\n",
      "\u001b[1;31mLookupError\u001b[0m: \n**********************************************************************\n  Resource \u001b[93mpunkt_tab\u001b[0m not found.\n  Please use the NLTK Downloader to obtain the resource:\n\n  \u001b[31m>>> import nltk\n  >>> nltk.download('punkt_tab')\n  \u001b[0m\n  For more information see: https://www.nltk.org/data.html\n\n  Attempted to load \u001b[93mtokenizers/punkt_tab/spanish/\u001b[0m\n\n  Searched in:\n    - 'C:\\\\Users\\\\marco/nltk_data'\n    - 'c:\\\\Users\\\\marco\\\\Documentos\\\\investigacion\\\\linea_invest_pedag_didact_math_data_science\\\\.venv\\\\nltk_data'\n    - 'c:\\\\Users\\\\marco\\\\Documentos\\\\investigacion\\\\linea_invest_pedag_didact_math_data_science\\\\.venv\\\\share\\\\nltk_data'\n    - 'c:\\\\Users\\\\marco\\\\Documentos\\\\investigacion\\\\linea_invest_pedag_didact_math_data_science\\\\.venv\\\\lib\\\\nltk_data'\n    - 'C:\\\\Users\\\\marco\\\\AppData\\\\Roaming\\\\nltk_data'\n    - 'C:\\\\nltk_data'\n    - 'D:\\\\nltk_data'\n    - 'E:\\\\nltk_data'\n**********************************************************************\n"
     ]
    }
   ],
   "source": [
    "\n",
    "from nltk.tokenize import word_tokenize, sent_tokenize\n",
    "from nltk.corpus import stopwords\n",
    "\n",
    "# Tokenización\n",
    "oraciones = sent_tokenize(texto_ejemplo, language='spanish')\n",
    "palabras = word_tokenize(texto_ejemplo.lower(), language='spanish')\n",
    "\n",
    "# Eliminar stopwords\n",
    "stopwords_es = set(stopwords.words('spanish'))\n",
    "palabras_limpias = [p for p in palabras if p.isalnum() and p not in stopwords_es]\n",
    "\n",
    "print(\"Palabras clave:\", palabras_limpias)\n",
    "\n"
   ]
  },
  {
   "cell_type": "markdown",
   "metadata": {},
   "source": [
    "\n",
    "**Aplicación a Caso G-Líderes**:  \n",
    "- *Ejercicio práctico*: Analizar respuestas abiertas de una encuesta sobre satisfacción estudiantil.  \n",
    "\n",
    "---\n"
   ]
  },
  {
   "cell_type": "markdown",
   "metadata": {},
   "source": [
    "\n",
    "### **4. Análisis de Sentimientos (25 min)**  \n",
    "**Código**:  \n"
   ]
  },
  {
   "cell_type": "code",
   "execution_count": 5,
   "metadata": {},
   "outputs": [
    {
     "name": "stderr",
     "output_type": "stream",
     "text": [
      "[nltk_data] Downloading package vader_lexicon to\n",
      "[nltk_data]     C:\\Users\\marco\\AppData\\Roaming\\nltk_data...\n"
     ]
    },
    {
     "data": {
      "image/png": "[encoded data removed]",
      "text/plain": [
       "<Figure size 640x480 with 1 Axes>"
      ]
     },
     "metadata": {},
     "output_type": "display_data"
    }
   ],
   "source": [
    "\n",
    "from nltk.sentiment import SentimentIntensityAnalyzer\n",
    "nltk.download('vader_lexicon')\n",
    "\n",
    "analizador = SentimentIntensityAnalyzer()\n",
    "resultado = analizador.polarity_scores(texto_ejemplo)\n",
    "\n",
    "# Visualización\n",
    "import matplotlib.pyplot as plt\n",
    "etiquetas = ['Negativo', 'Neutral', 'Positivo', 'Compuesto']\n",
    "valores = list(resultado.values())\n",
    "plt.bar(etiquetas, valores)\n",
    "plt.title(\"Análisis de Sentimiento\")\n",
    "plt.show()\n",
    "\n"
   ]
  },
  {
   "cell_type": "markdown",
   "metadata": {},
   "source": [
    "\n",
    "**Caso de Uso**:  \n",
    "- *Actividad*: Clasificar tweets sobre una marca para estrategias de CRM.  \n",
    "\n",
    "---\n",
    "\n",
    "### **5. Integración con Machine Learning (20 min)**  \n",
    "**Flujo de Trabajo**:  \n"
   ]
  },
  {
   "cell_type": "code",
   "execution_count": 4,
   "metadata": {},
   "outputs": [
    {
     "name": "stdout",
     "output_type": "stream",
     "text": [
      "Predicción: [0]\n"
     ]
    }
   ],
   "source": [
    "\n",
    "from sklearn.feature_extraction.text import TfidfVectorizer\n",
    "from sklearn.model_selection import train_test_split\n",
    "\n",
    "# Dataset simulado (0=negativo, 1=positivo)\n",
    "textos = [\"mala calidad\", \"excelente servicio\", \"no recomiendo\", \"rápida entrega\"]\n",
    "etiquetas = [0, 1, 0, 1]\n",
    "\n",
    "# Vectorización\n",
    "vectorizador = TfidfVectorizer()\n",
    "X = vectorizador.fit_transform(textos)\n",
    "\n",
    "# Entrenar modelo (ej. Regresión Logística)\n",
    "from sklearn.linear_model import LogisticRegression\n",
    "modelo = LogisticRegression()\n",
    "modelo.fit(X, etiquetas)\n",
    "\n",
    "# Predicción\n",
    "nuevo_texto = vectorizador.transform([\"buena experiencia\"])\n",
    "print(\"Predicción:\", modelo.predict(nuevo_texto))\n",
    "\n"
   ]
  },
  {
   "cell_type": "markdown",
   "metadata": {},
   "source": [
    "\n",
    "**Vinculación con Proyectos**:  \n",
    "- *Discusión*: Cómo usar NLP para enriquecer modelos de predicción de deserción de clientes.  \n",
    "\n",
    "---\n"
   ]
  },
  {
   "cell_type": "markdown",
   "metadata": {},
   "source": [
    "\n",
    "### **6. Reto Final y Recursos (10 min)**  \n",
    "**Reto Práctico**:  \n",
    "- Analizar un dataset real de reseñas de Yelp (pre-procesado) para identificar temas recurrentes usando `nltk.FreqDist()`.  \n",
    "\n",
    "**Recursos Adicionales**:  \n",
    "1. [Libro NLTK en Español](https://www.nltk.org/book_spanish/)  \n",
    "2. [Dataset de Reseñas en Español](https://www.kaggle.com/datasets/juliomartinez/customer-reviews-in-spanish)  \n",
    "\n",
    "---\n",
    "\n",
    "## **Evaluación**  \n",
    "- **Cuestionario rápido**: 3 preguntas sobre tokenización, stopwords y análisis de sentimientos.  \n",
    "- **Entrega de código**: Archivo .ipynb con el análisis del reto final.  \n",
    "\n",
    "---\n",
    "\n",
    "## **Materiales de Apoyo**  \n",
    "- Plantilla de Jupyter Notebook pre-configurada.  \n",
    "- Video-tutorial de 10 min sobre instalación.  \n",
    "- Dataset de ejemplo (encuestas de satisfacción empresarial).  \n",
    "\n",
    "---\n",
    "\n",
    "## **Vinculación con la Investigación**  \n",
    "Este taller desarrolla la **competencia digital de análisis de datos textuales**, clave para:  \n",
    "1. Procesar encuestas cualitativas en los focus groups del proyecto.  \n",
    "2. Enriquecer modelos de Machine Learning con variables de texto.  \n",
    "3. Generar informes ejecutivos automatizados (ej. detección de temas críticos).  \n"
   ]
  },
  {
   "cell_type": "markdown",
   "metadata": {},
   "source": [
    "\n",
    "¿Necesitas ajustar algún componente para alinearlo mejor con tus talleres de Power BI y Deep Learning? "
   ]
  }
 ],
 "metadata": {
  "kernelspec": {
   "display_name": ".venv",
   "language": "python",
   "name": "python3"
  },
  "language_info": {
   "codemirror_mode": {
    "name": "ipython",
    "version": 3
   },
   "file_extension": ".py",
   "mimetype": "text/x-python",
   "name": "python",
   "nbconvert_exporter": "python",
   "pygments_lexer": "ipython3",
   "version": "3.13.2"
  }
 },
 "nbformat": 4,
 "nbformat_minor": 2
}
