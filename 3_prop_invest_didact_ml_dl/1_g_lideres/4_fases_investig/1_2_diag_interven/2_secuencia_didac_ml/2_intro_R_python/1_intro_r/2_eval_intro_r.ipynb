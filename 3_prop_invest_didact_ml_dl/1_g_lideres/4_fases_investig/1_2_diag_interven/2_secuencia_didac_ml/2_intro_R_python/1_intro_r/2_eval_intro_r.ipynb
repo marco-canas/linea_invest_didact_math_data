{
 "cells": [
  {
   "cell_type": "markdown",
   "id": "dc06dec7",
   "metadata": {
    "slideshow": {
     "slide_type": "slide"
    }
   },
   "source": [
    "<table align=\"left\">\n",
    "  <td>\n",
    "    <a href=\"https://colab.research.google.com/github/marco-canas/didactica_ciencia_datos/blob/main/1_curso_machine_learning/1_evaluacion_oral_tarea_quiz_parcial.ipynb\" target=\"_parent\"><img src=\"https://colab.research.google.com/assets/colab-badge.svg\" alt=\"Open In Colab\"/></a>\n",
    "  </td>\n",
    "  <td>\n",
    "    <a target=\"_blank\" href=\"https://kaggle.com/kernels/welcome?src=https://github.com/marco-canas/didactica_ciencia_datos/blob/main/1_curso_machine_learning/1_evaluacion_oral_tarea_quiz_parcial.ipynb\"><img src=\"https://kaggle.com/static/images/open-in-kaggle.svg\" /></a>\n",
    "  </td>\n",
    "</table>"
   ]
  },
  {
   "cell_type": "markdown",
   "id": "e0c5b198",
   "metadata": {
    "slideshow": {
     "slide_type": "slide"
    }
   },
   "source": [
    "### [Video de apoyo a la lectura interactiva y experimental de este cuaderno]()"
   ]
  },
  {
   "cell_type": "markdown",
   "id": "41e82203",
   "metadata": {
    "slideshow": {
     "slide_type": "slide"
    }
   },
   "source": [
    "## [Vínculo al programa del curso:  ]()"
   ]
  },
  {
   "cell_type": "markdown",
   "id": "ca46c23b",
   "metadata": {
    "slideshow": {
     "slide_type": "slide"
    }
   },
   "source": [
    "# Modelo general de clase: [aula invertida](https://www3.gobiernodecanarias.org/medusa/ecoescuela/pedagotic/aprendizaje-invertido-flipped-classroom/)\n"
   ]
  },
  {
   "cell_type": "markdown",
   "id": "7f9be90f",
   "metadata": {
    "slideshow": {
     "slide_type": "slide"
    }
   },
   "source": [
    "# Fomento de la lectura literaria asociada a Ingeniería agropecuaria y licenciatura en Matemáticas y administración de empresas\n",
    "\n",
    "[Hábitos atómicos](https://github.com/marco-canas/habitos_atomicos/blob/main/13_como_dejar_de_postergar_usando_la_regla_de_los_dos_minutos/1_13_como_dejar_de_postergar_usando_la_regla_de_los_dos_minutos.ipynb)"
   ]
  },
  {
   "cell_type": "markdown",
   "id": "cf101603",
   "metadata": {},
   "source": [
    "# Prompt para pedir el diseño de evaluación de acuerdo a la metodología de \"Enseñanza basada en proyectos\"  \n"
   ]
  },
  {
   "cell_type": "markdown",
   "id": "2a292518",
   "metadata": {},
   "source": [
    "Dame, por favor, un diseño de clase, con el enfoque: \"Aula Invertida, STEAMS y de Aprendizaje Basado en Problemas y Proyectos(ABPP)\" sobre: \"Introducción al lenguaje de programación R para desarrollo de habilidades digitales en los profesionales de Administración de Empresas: CASO G-LÍDERES UDEA CAUCASIA\", siguiendo la estructura:  \n",
    "\n",
    "1. Título de la clase \n",
    "2. Objetivos de aprendizaje que incluyan los indicadores del logro de estos objetivos.  \n",
    "   \n",
    "3. Un mapa conceptual que resuma la clase elaborado en una librería apropiada de R  con nodos y edges de diferentes formas, colores y rellenos y renderizado en la siguiente ubicación:  \n",
    "    `\"C:/Users/marco/Downloads\"`. \n",
    "   \n",
    "4. Dame elementos históricos y epistemológicos asociados a esta clase, pero contados como un cuento al estilo de un cuentero antioqueño en Colombia. Incluye imágenes de los protagonistas históricos de esta clase. \n",
    "5. Contenido de la clase. Que el contenido parta de una situación real para llegar a una constitución del modelo matemático que represente tal situación real. \n",
    "6. Actividades de aprendizaje\n",
    "7. Incluye una canción o un poema que ayude a interiorizar y fijar los conceptos asociados a esta clase. \n",
    "8. Tarea o actividades de ejercitación y fijación\n",
    "9.  Evaluación incluyendo diez proyectos, un ejemplo de quiz (de tres preguntas) y un ejemplo de parcial (de cinco puntos)\n",
    "10. Diseño de actividad de retroalimentación. \n",
    "11. Dame un vocabulario y frases del idioma inglés asociadas a esta clase.  \n",
    "    \n",
    "12. Incluye apéndice para la clase sobre desarrollo de habilidades para trabajar en equipo y de asertividad y empatía para relacionarnos. También elementos de la inteligencia emocional para presentar pruebas sin temor y sin realizar fraude en ellas.   \n",
    "       \n",
    "13. Incluye 10 referentes en didáctica de la matemática que estén de acuerdo a la propuesta didáctica de esta clase. Adiciona a estos referentes a Raymond Duval (Representaciones y cambios de representación para la adquisición de conceptos matemáticos) y a Jeannette Wing (Desarrollo del pensamiento computacional). Déjame todos estos referentes ordenados de acuerdo a las normas APA. Incluye un referente en didáctica de la matemática que fundamente el uso del Enfoque de Aula Invertida, uno que fundamente el enfoque STEAMS y finalmente otro que fundamente el enfoque de Aprendizaje Basado en Problemas y Proyectos (ABPP)\n",
    "\n",
    "Pero  que este diseño sea para que el estudiante pueda aprender experimentando en cuadernos Jupyter cuyo kernel sea configurado en lenguaje R con funciones de usuario y animaciones y visualizaciones en R.   \n",
    "No olvides darme los diseños de clase con las ecuaciones matemáticas delimitadas con signo de dólar $ para que VS Code si me renderice estas expresiones del lenguaje latex.   \n",
    "\n"
   ]
  },
  {
   "cell_type": "markdown",
   "id": "230ab29f",
   "metadata": {},
   "source": [
    "Aquí tienes un diseño de clase completo bajo los enfoques solicitados, integrando R, Jupyter Notebooks y elementos pedagógicos innovadores:\n",
    "\n",
    "---\n",
    "\n",
    "### **1. Título de la clase**  \n",
    "**\"G-Líderes UdeA Caucasia: Programando soluciones empresariales con R (Aula Invertida + STEAMS + ABPP)\"**  \n",
    "\n",
    "---\n",
    "\n",
    "### **2. Objetivos de aprendizaje**  \n",
    "| **Objetivo** | **Indicadores de logro** |  \n",
    "|--------------|--------------------------|  \n",
    "| Aplicar conceptos básicos de R para análisis de datos empresariales. | El estudiante crea un script en R que importa y visualiza datos de un archivo Excel. |  \n",
    "| Diseñar modelos matemáticos sencillos para problemas administrativos. | Propone una ecuación lineal que represente costos vs. producción usando `lm()` en R. |  \n",
    "| Trabajar colaborativamente en proyectos STEAMS. | Entrega un Jupyter Notebook con animaciones interactivas hechas en R. |  \n",
    "\n",
    "---\n",
    "\n",
    "### **3. Mapa conceptual (generado en R)**  \n",
    "```r\n",
    "# Instalar librerías si no existen\n",
    "if (!require(\"DiagrammeR\")) install.packages(\"DiagrammeR\")\n",
    "if (!require(\"rsvg\")) install.packages(\"rsvg\")\n",
    "\n",
    "library(DiagrammeR)\n",
    "\n",
    "mapa <- grViz(\"\n",
    "digraph {\n",
    "  graph [layout = dot, rankdir = LR]\n",
    "  node [shape = rectangle, style = filled, fillcolor = '#F4D03F']\n",
    "    A [label = 'Lenguaje R']\n",
    "    B [label = 'Habilidades Digitales', fillcolor = '#AED6F1']\n",
    "    C [label = 'ABPP', fillcolor = '#A569BD']\n",
    "  node [shape = ellipse, fillcolor = '#ABEBC6']\n",
    "    D [label = 'G-Líderes']\n",
    "    E [label = 'STEAMS']\n",
    "  edge [color = 'gray50', arrowhead = normal]\n",
    "    A -> B -> D\n",
    "    C -> E -> A\n",
    "}\n",
    "\")\n",
    "\n",
    "# Exportar a PDF/PNG\n",
    "mapa %>% export_svg() %>% charToRaw() %>% rsvg::rsvg_png(\"C:/Users/marco/Downloads/mapa_conceptual.png\")\n",
    "```\n",
    "\n",
    "---\n",
    "\n",
    "### **4. Historia epistemológica (cuento antioqueño)**  \n",
    "**\"El tío John y los números que hablan\"**  \n",
    "*\"¡Ave María pués!* Les cuento que en los años 70, un tal *John Tukey* (imagen: [Tukey](https://upload.wikimedia.org/wikipedia/commons/2/2f/John_Tukey.jpg)) se puso a jugar con números como quien juega a las tablas... ¡Y de ahí salió eso del *'Exploratory Data Analysis'*! Pero no solo él, no. *Ross Ihaka* y *Robert Gentleman* (imagen: [R-Creators](https://www.r-project.org/logo/Rlogo.png)) le metieron amores al asunto y crearon R, más bonito que un cafecito recién colado...\"  \n",
    "\n",
    "---\n",
    "\n",
    "### **5. Contenido de la clase**  \n",
    "**Situación real**: *\"Los G-Líderes necesitan analizar ventas mensuales en Caucasia.\"*  \n",
    "\n",
    "**Modelo matemático**:  \n",
    "1. Datos: `ventas <- c(150, 200, 175, 300)`  \n",
    "2. Ecuación de proyección:  \n",
    "   $$ \\hat{y} = \\beta_0 + \\beta_1 x $$  \n",
    "3. En R:  \n",
    "```r\n",
    "modelo <- lm(ventas ~ meses)\n",
    "summary(modelo)  # ¡Aquí ven los $\\beta$'s!\n",
    "```\n",
    "\n",
    "---\n",
    "\n",
    "### **6. Actividades de aprendizaje**  \n",
    "- **Aula invertida**: Ver video *\"¿Por qué R en administración?\"* (enviado previo a la clase).  \n",
    "- **STEAMS**: Crear un gráfico animado con `gganimate` que muestre el crecimiento de ventas.  \n",
    "- **ABPP**: En equipos, resolver: *\"¿Cómo optimizar rutas de reparto usando R?\"*  \n",
    "\n",
    "---\n",
    "\n",
    "### **7. Canción/Poema**  \n",
    "**\"R es pa’l que lo trabaja\"** (Adaptación de folclor colombiano):  \n",
    "*\"Con ggplot2 y dplyr,  \n",
    "los datos vas a explorar,  \n",
    "¡y con pipe %>%  \n",
    "el código vas a optimizar!\"*  \n",
    "\n",
    "---\n",
    "\n",
    "### **8. Tareas**  \n",
    "- Ejercicio en Jupyter Notebook: Programar una función `calcular_iva()` en R.  \n",
    "- Desafío: Animación con `plotly` para mostrar correlación entre variables.  \n",
    "\n",
    "---\n",
    "\n",
    "### **9. Evaluación**  \n",
    "**Proyectos**:  \n",
    "1. Dashboard de ventas con `shiny`.  \n",
    "2. Modelo predictivo de rotación de inventario.  \n",
    "\n",
    "**Quiz ejemplo**:  \n",
    "1. ¿Qué función de R se usa para modelos lineales? (`lm()`).  \n",
    "2. Verdadero/Falso: `%>%` es operador de *pipe*.  \n",
    "\n",
    "**Parcial**:  \n",
    "- Pregunta abierta: *\"Explique cómo aplicar ABPP en análisis financiero con R\"*.  \n",
    "\n",
    "---\n",
    "\n",
    "### **10. Retroalimentación**  \n",
    "- **Rubrica**: Autoevaluación con `rubric()` (paquete `gradethis` en R).  \n",
    "- **Feedback 360°**: Compartir notebooks entre equipos usando `RPubs`.  \n",
    "\n",
    "---\n",
    "\n",
    "### **11. Vocabulario inglés**  \n",
    "- **Data wrangling**: Manipulación de datos.  \n",
    "- **Pipe operator**: `%>%`.  \n",
    "- **Hypothesis testing**: Prueba de hipótesis.  \n",
    "\n",
    "---\n",
    "\n",
    "### **12. Apéndice: Habilidades blandas**  \n",
    "- **Inteligencia emocional**: Script en R para medir estrés con escala Likert antes de pruebas.  \n",
    "- **Trabajo en equipo**: Uso de `git` y GitHub para colaborar en notebooks.  \n",
    "\n",
    "---\n",
    "\n",
    "### **13. Referentes APA**  \n",
    "1. Duval, R. (2006). *Un tema crucial en educación matemática: La conversión de representaciones*.  \n",
    "2. Wing, J. (2006). *Computational Thinking*. Communications of the ACM.  \n",
    "3. Bergmann, J. (2012). *Flip Your Classroom* (Aula invertida).  \n",
    "4. Sanders, M. (2009). *STEM, STEM Education, STEMmania* (STEAMS).  \n",
    "\n",
    "---\n",
    "\n",
    "### **Diseño técnico para Jupyter Notebooks**  \n",
    "```r\n",
    "# Configuración inicial\n",
    "library(IRkernel)\n",
    "IRkernel::installspec()  # Para kernel de R en Jupyter\n",
    "\n",
    "# Función de usuario ejemplo\n",
    "animar_grafico <- function(datos) {\n",
    "  ggplot(datos, aes(x, y)) + \n",
    "    gganimate::transition_states(frames)\n",
    "}\n",
    "```\n",
    "\n",
    "**Ecuaciones en VS Code**:  \n",
    "```latex\n",
    "La pendiente $\\beta_1$ se calcula con:\n",
    "$$\n",
    "\\beta_1 = \\frac{\\sum (x_i - \\bar{x})(y_i - \\bar{y})}{\\sum (x_i - \\bar{x})^2}\n",
    "$$\n",
    "```\n",
    "\n",
    "--- \n",
    "\n",
    "Este diseño integra lo lúdico, lo técnico y lo pedagógico, centrado en **aprender haciendo** con R. ¡Que disfruten la clase! 🌟"
   ]
  },
  {
   "cell_type": "markdown",
   "id": "fb9402bb",
   "metadata": {
    "slideshow": {
     "slide_type": "slide"
    }
   },
   "source": [
    "## Estrategias propuestas para la solución de las dificultades de aprendizaje detectadas"
   ]
  },
  {
   "cell_type": "markdown",
   "id": "2dd3bd5c",
   "metadata": {
    "slideshow": {
     "slide_type": "slide"
    }
   },
   "source": []
  },
  {
   "cell_type": "markdown",
   "id": "c6236d5d",
   "metadata": {},
   "source": [
    "# FODA del grupo y del profesor  \n",
    "\n",
    "* F: Fortalezas\n",
    "* O: Oportunidades\n",
    "* D: Dificultades\n",
    "* A: Amenazas."
   ]
  },
  {
   "cell_type": "markdown",
   "id": "b48f9542",
   "metadata": {},
   "source": [
    "## ¿Cómo se sintió en este espacio de enseñanza y aprendizaje?\n",
    "\n",
    "!Dios te bendiga¡"
   ]
  },
  {
   "cell_type": "markdown",
   "id": "10bce0d0",
   "metadata": {
    "slideshow": {
     "slide_type": "slide"
    }
   },
   "source": [
    "## Referentes "
   ]
  },
  {
   "cell_type": "markdown",
   "id": "d204c917",
   "metadata": {},
   "source": [
    "* [Grajales Vanegas, L. M., Restrepo Estrada, C. E., Restrepo Ochoa, S. I., & Ruíz De Villalba, F. (2015). Matemáticas I para las ciencias económicas.](https://github.com/marco-canas/fundamentos_de_la_aritmetica/blob/main/referentes/2_grajales_logica/grajales_lina_matemticas.pdf)\n",
    "  \n",
    "* Duval, R. (2004). Semiosis y pensamiento humano: registros semióticos y aprendizajes intelectuales. Universidad del Valle.\n",
    "\n",
    "* [Aylwin, C. U. (2011). Lógica, conjuntos y números. Universidad de los Andes, Consejo de Publicaciones, Colección: Ciencias Básicas, Serie: Matemáticas.](https://github.com/marco-canas/fundamentos_logica/blob/main/referentes/2_uzcategui/uscategui.pdf)\n",
    "  \n",
    "* [Chollet, F. (2021). Deep learning with Python. Simon and Schuster.](https://github.com/marco-canas/didactica_ciencia_datos/blob/main/2_referentes/chollet/Fran%C3%A7ois%20Chollet%20-%20Deep%20Learning%20with%20Python-Manning%20(2018).pdf)  \n",
    "  \n",
    "* [Watson, S., Stewart, J., & Redlin, L. (2009). Precálculo. Matemáticas para el cálculo.](https://github.com/marco-canas/calculo/blob/main/referents/1_precalculo_stewart/stewart_precalculo.pdf)  \n",
    "\n",
    "* [Purcell, E. J., Varberg, D., & Rigdon, S. E. (2007). Cálculo diferencial e integral. Pearson Educación.](https://github.com/marco-canas/calculo/blob/main/referents/purcell/purcell_calculo.pdf)\n",
    "\n",
    "  \n",
    "\n",
    "* [stewart cálculo](https://udeaeduco-my.sharepoint.com/:b:/g/personal/marco_canas_udea_edu_co/EZgXZjAp8QxPqOAim2hs6LcBNPLGjSHf-xwYnUVYkwa04w?e=RZdTCy)  \n",
    "\n",
    "* [larson](https://udeaeduco-my.sharepoint.com/:b:/g/personal/marco_canas_udea_edu_co/ES71ChFeO9ZDhW3TwC5Ijk8BjxUK3Pdqz_fjHxTTFAfIAg?e=VDEjfu)\n",
    "\n",
    "\n",
    "\n",
    "* [Recomendación de la UNESCO sobre ciencia abierta](https://unesdoc.unesco.org/ark:/48223/pf0000379949_spa)\n",
    "\n",
    "* [chatGPT](https://openai.com/blog/chatgpt)  \n",
    "\n",
    "* [Géron, A. (2017). Hands-on machine learning with scikit-learn and tensorflow: Concepts. Tools, and Techniques to build intelligent systems.](chrome-extension://efaidnbmnnnibpcajpcglclefindmkaj/http://14.139.161.31/OddSem-0822-1122/Hands-On_Machine_Learning_with_Scikit-Learn-Keras-and-TensorFlow-2nd-Edition-Aurelien-Geron.pdf)   \n"
   ]
  },
  {
   "cell_type": "markdown",
   "id": "6b9e56a8",
   "metadata": {
    "slideshow": {
     "slide_type": "slide"
    }
   },
   "source": [
    "### [Evaluamos al profesor Marco Cañas Aquí](https://forms.office.com/Pages/ResponsePage.aspx?id=IefhmYRxjkmK_7KtTlPBwkanXIs1i1FEujpsZgO6dXpUREJPV1kxUk1JV1ozTFJIQVNIQjY5WEY3US4u)"
   ]
  },
  {
   "cell_type": "markdown",
   "id": "071afa04",
   "metadata": {
    "slideshow": {
     "slide_type": "slide"
    }
   },
   "source": [
    "## [Evaluación luego de alcanzar estos objetivos de aprendizaje]()"
   ]
  },
  {
   "cell_type": "markdown",
   "id": "10f43536",
   "metadata": {
    "slideshow": {
     "slide_type": "slide"
    }
   },
   "source": [
    "### Continue su aprendizaje en la siguiente clase a través del siguiente [vínculo]()"
   ]
  },
  {
   "cell_type": "markdown",
   "id": "af751e30",
   "metadata": {
    "slideshow": {
     "slide_type": "slide"
    }
   },
   "source": [
    "# Conjeturas pedagógicas fruto de la aplicación del modelo de aprendizaje invertido y del enfoque hacia la ciencia de datos con python\n",
    "\n",
    "1. Todo cálculo o resultado debe ser interpretado en una línea markdown del cuaderno Jupyter, inmediatamente después de la enunciación del resultado y después de la presentación de una tabla o gráfico bidimensional, de tal menera que el estudiante explicite la comprensión verbal del resultado y las inferencias o estrategias que este resultado le sugieren.   "
   ]
  }
 ],
 "metadata": {
  "celltoolbar": "Slideshow",
  "kernelspec": {
   "display_name": "Python 3",
   "language": "python",
   "name": "python3"
  },
  "language_info": {
   "codemirror_mode": {
    "name": "ipython",
    "version": 3
   },
   "file_extension": ".py",
   "mimetype": "text/x-python",
   "name": "python",
   "nbconvert_exporter": "python",
   "pygments_lexer": "ipython3",
   "version": "3.13.2"
  },
  "rise": {
   "enable_chalkboard": true,
   "theme": "sky",
   "transition": "zoom"
  }
 },
 "nbformat": 4,
 "nbformat_minor": 5
}
