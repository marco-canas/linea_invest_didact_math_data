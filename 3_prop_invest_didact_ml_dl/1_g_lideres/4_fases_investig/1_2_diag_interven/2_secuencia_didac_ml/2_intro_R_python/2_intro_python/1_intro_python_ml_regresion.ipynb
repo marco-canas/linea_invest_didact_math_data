{
 "cells": [
  {
   "cell_type": "markdown",
   "id": "dc06dec7",
   "metadata": {
    "slideshow": {
     "slide_type": "slide"
    }
   },
   "source": [
    "<table align=\"left\">\n",
    "  <td>\n",
    "    <a href=\"https://colab.research.google.com/github/marco-canas/linea_invest_pedag_didact_math_data_science/blob/main/3_prop_invest_didact_ml_dl/1_g_lideres/4_fases_investig/1_2_diag_interven/1_secuencia_didac_ml/2_intro_R_python/2_intro_python/1_intro_python_ml_regresion.ipynb\" target=\"_parent\"><img src=\"https://colab.research.google.com/assets/colab-badge.svg\" alt=\"Open In Colab\"/></a>\n",
    "  </td>\n",
    "  <td>\n",
    "    <a target=\"_blank\" href=\"https://kaggle.com/kernels/welcome?src=https://github.com/marco-canas/linea_invest_pedag_didact_math_data_science/blob/main/3_prop_invest_didact_ml_dl/1_g_lideres/4_fases_investig/1_2_diag_interven/1_secuencia_didac_ml/2_intro_R_python/2_intro_python/1_intro_python_ml_regresion.ipynb\"><img src=\"https://kaggle.com/static/images/open-in-kaggle.svg\" /></a>\n",
    "  </td>\n",
    "</table>"
   ]
  },
  {
   "cell_type": "markdown",
   "id": "41e82203",
   "metadata": {
    "slideshow": {
     "slide_type": "slide"
    }
   },
   "source": [
    "### [Vínculo al programa del curso:  ]()\n",
    "\n"
   ]
  },
  {
   "cell_type": "markdown",
   "id": "d11ab06d",
   "metadata": {
    "slideshow": {
     "slide_type": "slide"
    }
   },
   "source": [
    "Un reconocimiento a mis estudiantes que han construido conmigo este saber pedagógico:\n",
    "\n",
    "<img src = ''> \n",
    "\n"
   ]
  },
  {
   "cell_type": "markdown",
   "id": "8a74a56c-0ce6-4ad6-b985-553fd7fb68bb",
   "metadata": {},
   "source": [
    "Reconocimiento a las profesoras destacadas en enseñanza de la matemática en Colombia\n"
   ]
  },
  {
   "cell_type": "code",
   "execution_count": 1,
   "id": "6cb89c0b",
   "metadata": {},
   "outputs": [
    {
     "data": {
      "application/vnd.microsoft.datawrangler.viewer.v0+json": {
       "columns": [
        {
         "name": "index",
         "rawType": "int64",
         "type": "integer"
        },
        {
         "name": "Cedula",
         "rawType": "int64",
         "type": "integer"
        },
        {
         "name": "Nombre",
         "rawType": "object",
         "type": "string"
        },
        {
         "name": "Email",
         "rawType": "object",
         "type": "string"
        },
        {
         "name": "Parcial",
         "rawType": "float64",
         "type": "float"
        },
        {
         "name": "Asistencia",
         "rawType": "float64",
         "type": "float"
        }
       ],
       "conversionMethod": "pd.DataFrame",
       "ref": "6b84fd7a-7d91-41e7-acd8-76d316e02aff",
       "rows": [
        [
         "1",
         "1007528664",
         "AYALA MENDOZA MARISOL YACIRA",
         "marisol.ayala@udea.edu.co",
         "0.0",
         null
        ],
        [
         "2",
         "1064188463",
         "MASS MIRANDA RIVALDO JOSE",
         "rivaldo.mass@udea.edu.co",
         "0.0",
         null
        ],
        [
         "3",
         "1066570075",
         "MONTERROSA SOTO ABRIL",
         "a.monterrosa@udea.edu.co",
         "0.0",
         null
        ],
        [
         "4",
         "1193404816",
         "AMARIS FERNANDEZ SEBASTIAN CAMILO",
         "sebastian.amaris@udea.edu.co",
         null,
         null
        ]
       ],
       "shape": {
        "columns": 5,
        "rows": 4
       }
      },
      "text/html": [
       "<div>\n",
       "<style scoped>\n",
       "    .dataframe tbody tr th:only-of-type {\n",
       "        vertical-align: middle;\n",
       "    }\n",
       "\n",
       "    .dataframe tbody tr th {\n",
       "        vertical-align: top;\n",
       "    }\n",
       "\n",
       "    .dataframe thead th {\n",
       "        text-align: right;\n",
       "    }\n",
       "</style>\n",
       "<table border=\"1\" class=\"dataframe\">\n",
       "  <thead>\n",
       "    <tr style=\"text-align: right;\">\n",
       "      <th></th>\n",
       "      <th>Cedula</th>\n",
       "      <th>Nombre</th>\n",
       "      <th>Email</th>\n",
       "      <th>Parcial</th>\n",
       "      <th>Asistencia</th>\n",
       "    </tr>\n",
       "  </thead>\n",
       "  <tbody>\n",
       "    <tr>\n",
       "      <th>1</th>\n",
       "      <td>1007528664</td>\n",
       "      <td>AYALA MENDOZA MARISOL YACIRA</td>\n",
       "      <td>marisol.ayala@udea.edu.co</td>\n",
       "      <td>0.0</td>\n",
       "      <td>NaN</td>\n",
       "    </tr>\n",
       "    <tr>\n",
       "      <th>2</th>\n",
       "      <td>1064188463</td>\n",
       "      <td>MASS MIRANDA RIVALDO JOSE</td>\n",
       "      <td>rivaldo.mass@udea.edu.co</td>\n",
       "      <td>0.0</td>\n",
       "      <td>NaN</td>\n",
       "    </tr>\n",
       "    <tr>\n",
       "      <th>3</th>\n",
       "      <td>1066570075</td>\n",
       "      <td>MONTERROSA SOTO ABRIL</td>\n",
       "      <td>a.monterrosa@udea.edu.co</td>\n",
       "      <td>0.0</td>\n",
       "      <td>NaN</td>\n",
       "    </tr>\n",
       "    <tr>\n",
       "      <th>4</th>\n",
       "      <td>1193404816</td>\n",
       "      <td>AMARIS FERNANDEZ SEBASTIAN CAMILO</td>\n",
       "      <td>sebastian.amaris@udea.edu.co</td>\n",
       "      <td>NaN</td>\n",
       "      <td>NaN</td>\n",
       "    </tr>\n",
       "  </tbody>\n",
       "</table>\n",
       "</div>"
      ],
      "text/plain": [
       "       Cedula                             Nombre  \\\n",
       "1  1007528664       AYALA MENDOZA MARISOL YACIRA   \n",
       "2  1064188463          MASS MIRANDA RIVALDO JOSE   \n",
       "3  1066570075              MONTERROSA SOTO ABRIL   \n",
       "4  1193404816  AMARIS FERNANDEZ SEBASTIAN CAMILO   \n",
       "\n",
       "                          Email  Parcial  Asistencia  \n",
       "1     marisol.ayala@udea.edu.co      0.0         NaN  \n",
       "2      rivaldo.mass@udea.edu.co      0.0         NaN  \n",
       "3      a.monterrosa@udea.edu.co      0.0         NaN  \n",
       "4  sebastian.amaris@udea.edu.co      NaN         NaN  "
      ]
     },
     "execution_count": 1,
     "metadata": {},
     "output_type": "execute_result"
    }
   ],
   "source": [
    "import pandas as pd\n",
    "import numpy as np\n",
    "\n",
    "# Cargar la lista de estudiantes desde el archivo CSV\n",
    "path = 'C:/Users/marco/Documentos/docencia/groups_list/vectorial.xlsx'\n",
    "estudiantes = pd.read_excel(path)\n",
    "estudiantes.index = range(1, len(estudiantes) + 1)\n",
    "estudiantes.head(17) "
   ]
  },
  {
   "cell_type": "code",
   "execution_count": 2,
   "id": "7604880f",
   "metadata": {
    "slideshow": {
     "slide_type": "slide"
    }
   },
   "outputs": [
    {
     "name": "stdout",
     "output_type": "stream",
     "text": [
      "Llamando a AYALA MENDOZA MARISOL YACIRA...\n",
      "Llamando a MASS MIRANDA RIVALDO JOSE...\n",
      "Llamando a MONTERROSA SOTO ABRIL...\n",
      "Llamando a AMARIS FERNANDEZ SEBASTIAN CAMILO...\n",
      "Cambios guardados en el archivo CSV.\n"
     ]
    }
   ],
   "source": [
    "# Convertir la columna 'Nombre' a una lista de Python\n",
    "lista_estudiantes = estudiantes['Nombre'].tolist()\n",
    "\n",
    "# Función para llamar a un estudiante aleatoriamente y registrar su nota de seguimiento\n",
    "def asistencia():\n",
    "    global lista_estudiantes\n",
    "    if lista_estudiantes:\n",
    "        estudiante_aleatorio = np.random.choice(lista_estudiantes)\n",
    "        print(f\"Llamando a {estudiante_aleatorio}...\")\n",
    "        asistencia = input(f\"¿Asistió {estudiante_aleatorio}? (s/n): \").strip().lower()\n",
    "        \n",
    "        # Validación de entrada\n",
    "        if asistencia == 'n':\n",
    "            # Obtener el índice del estudiante en el DataFrame\n",
    "            indice = estudiantes[estudiantes['Nombre'] == estudiante_aleatorio].index[0]\n",
    "            # Incrementar su valor en la columna 'Parcial'\n",
    "            estudiantes.at[indice, 'Asistencia'] += 4\n",
    "            print(f\"Actualizado: {estudiante_aleatorio} ahora tiene {estudiantes.at[indice,\\\n",
    "                'Asistencia']} en la columna 'Asistencia'.\")\n",
    "        \n",
    "        elif asistencia != 's':\n",
    "            print(\"Entrada inválida. Por favor, introduce 's' para sí o 'n' para no.\")\n",
    "            return  # Volver a preguntar para el mismo estudiante si la entrada es inválida\n",
    "        \n",
    "        # Remover al estudiante de la lista para no llamarlo de nuevo\n",
    "        lista_estudiantes.remove(estudiante_aleatorio)\n",
    "    else:\n",
    "        print(\"Se han llamado a todos los estudiantes del grupo completo.\")\n",
    "\n",
    "# Función para guardar cambios al final de la sesión\n",
    "def guardar_cambios():\n",
    "    estudiantes.to_csv(path, index=False)\n",
    "    print(\"Cambios guardados en el archivo CSV.\")\n",
    "\n",
    "# Ejemplo de uso\n",
    "while lista_estudiantes:\n",
    "    asistencia()\n",
    "\n",
    "# Guardar los cambios una vez que todos los estudiantes hayan sido llamados\n",
    "guardar_cambios()\n",
    "\n"
   ]
  },
  {
   "cell_type": "markdown",
   "id": "d7598d0a-d9b7-4ae0-b029-a0ed6ed1130b",
   "metadata": {},
   "source": [
    "\n",
    "# Principios de mi labor docente"
   ]
  },
  {
   "cell_type": "markdown",
   "id": "4f9d8cf9",
   "metadata": {
    "slideshow": {
     "slide_type": "slide"
    }
   },
   "source": [
    "## Modelo general de clase: [aula invertida](https://www3.gobiernodecanarias.org/medusa/ecoescuela/pedagotic/aprendizaje-invertido-flipped-classroom/)"
   ]
  },
  {
   "cell_type": "markdown",
   "id": "eb6ed03a",
   "metadata": {},
   "source": [
    "<img src = 'https://resources.maneuveringthemiddle.com/wp-content/uploads/2020/07/04212706/1-5.png' width = 200>  \n",
    "\n"
   ]
  },
  {
   "cell_type": "markdown",
   "id": "34319cce-a71b-4f64-aab8-b53e521efa40",
   "metadata": {},
   "source": [
    "# Metodología de Aprendizaje Basado en Problemas y Proyectos (ABPP)\n"
   ]
  },
  {
   "cell_type": "markdown",
   "id": "c4f73d81",
   "metadata": {},
   "source": [
    "\n",
    "<img src = 'https://www.unir.net/wp-content/uploads/2020/07/aprendizaje-problemas2-1-1-1-1.jpeg' width = 200>"
   ]
  },
  {
   "cell_type": "markdown",
   "id": "841a985c-bd9b-4dd3-8e4c-893983980af2",
   "metadata": {},
   "source": [
    "# Desarrollo del pensamiento computacional con Lenguajes Python, R, y con archivos Markdown orientado a la formación en ciencia de datos \n",
    "\n"
   ]
  },
  {
   "cell_type": "markdown",
   "id": "3d0eba94",
   "metadata": {},
   "source": [
    "\n",
    "<img src = 'https://i.ytimg.com/vi/mcG_wcR4e6M/maxresdefault.jpg' width = 200>"
   ]
  },
  {
   "cell_type": "markdown",
   "id": "65aa0404-f7ae-495e-864c-1aec01b4255e",
   "metadata": {},
   "source": [
    "# Principio de fomento a la ciencia abierta, enseñar en el acceso a los datos públicos y el uso de software de código abierto  \n"
   ]
  },
  {
   "cell_type": "markdown",
   "id": "18ae9b87",
   "metadata": {},
   "source": [
    "\n",
    "<img src = 'https://unesdoc.unesco.org/in/rest/Thumb/image?id=p%3A%3Ausmarcdef_0000379949_spa&author=UNESCO&title=Recomendaci%C3%B3n+de+la+UNESCO+sobre+la+Ciencia+Abierta&year=2021&publisher=UNESCO&TypeOfDocument=UnescoPhysicalDocument&mat=PGD&ct=true&size=512&isPhysical=1' width = 200>"
   ]
  },
  {
   "cell_type": "markdown",
   "id": "d9559f85",
   "metadata": {},
   "source": [
    "El enfoque STEAMS en educación preescolar, primaria y secundaria es una extensión del enfoque STEM (Ciencia, Tecnología, Ingeniería y Matemáticas) y su variante STEAM, que incorpora el Arte. "
   ]
  },
  {
   "cell_type": "markdown",
   "id": "72e1cfd2",
   "metadata": {},
   "source": [
    "El acrónimo STEAMS incluye:\n"
   ]
  },
  {
   "cell_type": "markdown",
   "id": "03182fd1",
   "metadata": {},
   "source": [
    "\n",
    "1. **Science (Ciencia):** Fomenta la curiosidad por el mundo natural y el desarrollo de habilidades científicas, como la observación, experimentación y análisis.\n"
   ]
  },
  {
   "cell_type": "markdown",
   "id": "1306d0fa",
   "metadata": {},
   "source": [
    "\n",
    "2. **Technology (Tecnología):** Integra herramientas tecnológicas para potenciar el aprendizaje y la resolución de problemas, promoviendo la alfabetización digital desde edades tempranas.\n"
   ]
  },
  {
   "cell_type": "markdown",
   "id": "3b1a53e8",
   "metadata": {},
   "source": [
    "\n",
    "3. **Engineering (Ingeniería):** Introduce el pensamiento lógico y la resolución de problemas estructurados, fomentando habilidades como el diseño y la construcción de soluciones.\n"
   ]
  },
  {
   "cell_type": "markdown",
   "id": "0196de87",
   "metadata": {},
   "source": [
    "\n",
    "4. **Arts (Arte):** Añade creatividad y pensamiento crítico, permitiendo a los estudiantes expresarse y explorar el aprendizaje a través de formas artísticas (plásticas, música, teatro).\n"
   ]
  },
  {
   "cell_type": "markdown",
   "id": "8bcc485a",
   "metadata": {},
   "source": [
    "\n",
    "5. **Mathematics (Matemáticas):** Refuerza las habilidades numéricas y el razonamiento lógico, fundamentales en la resolución de problemas y comprensión de conceptos abstractos.\n"
   ]
  },
  {
   "cell_type": "markdown",
   "id": "907935f4",
   "metadata": {},
   "source": [
    "\n",
    "6. **Social Sciences (Ciencias Sociales):** Incorpora la comprensión del entorno social, político, cultural y económico, promoviendo el desarrollo de la conciencia crítica sobre el mundo y su historia, además de habilidades de empatía y ciudadanía.\n"
   ]
  },
  {
   "cell_type": "markdown",
   "id": "39967d63",
   "metadata": {},
   "source": [
    "\n",
    "El enfoque STEAMS pretende desarrollar un aprendizaje **interdisciplinario** que integre estas áreas para fomentar un pensamiento más holístico y práctico. "
   ]
  },
  {
   "cell_type": "markdown",
   "id": "5145f077",
   "metadata": {},
   "source": [
    "Se busca que los estudiantes no solo aprendan conocimientos técnicos, sino también cómo aplicarlos creativa y críticamente en situaciones reales, promoviendo habilidades como el trabajo en equipo, la comunicación y la innovación. "
   ]
  },
  {
   "cell_type": "markdown",
   "id": "9d556584",
   "metadata": {},
   "source": [
    "En educación preescolar, primaria, secundaria y superior, se adapta a las diferentes etapas de desarrollo cognitivo y emocional de los estudiantes, promoviendo el aprendizaje activo y contextualizado.  \n"
   ]
  },
  {
   "cell_type": "markdown",
   "id": "0130ec1b",
   "metadata": {},
   "source": [
    "\n",
    "<img src = 'https://www.campuseducacion.com/blog/wp-content/uploads/2023/03/foto01-1.jpg' width = 200>"
   ]
  },
  {
   "cell_type": "markdown",
   "id": "9d15c10d-2c02-4158-9419-b1ed79b4c1ee",
   "metadata": {},
   "source": [
    "# Qué estamos haciendo por la internalización en esta clase y este curso  \n"
   ]
  },
  {
   "cell_type": "markdown",
   "id": "6e4feef2",
   "metadata": {},
   "source": [
    "Estas son mis acciones como docente de matemáticas en la Universidad de Antioquia con miras a la **internacionalización** de mi práctica docente y el desarrollo de competencias internacionales para mis estudiantes, ls cuales he estructurado con el siguiente enfoque:\n"
   ]
  },
  {
   "cell_type": "markdown",
   "id": "964d9de7-53ee-4255-9bcd-d8e6454f2993",
   "metadata": {},
   "source": [
    "### 1. **Visión Global en la Formación Académica**\n"
   ]
  },
  {
   "cell_type": "markdown",
   "id": "d9bdd3e2",
   "metadata": {},
   "source": [
    "   - **Competencias Internacionales**: Asegúrate de que el contenido de tus cursos fomente habilidades que sean reconocidas globalmente. "
   ]
  },
  {
   "cell_type": "markdown",
   "id": "843e9311",
   "metadata": {},
   "source": [
    "Al educar a los estudiantes en **Python, LaTeX, Markdown y Jupyter Notebooks** y en la **introducción a la ciencia de datos y técnicas de Machine Learning**, estás proporcionando competencias altamente demandadas en los sectores tecnológicos y académicos a nivel internacional.\n"
   ]
  },
  {
   "cell_type": "markdown",
   "id": "39b55206",
   "metadata": {},
   "source": [
    "   - **Relevancia de los Contenidos**: Destaca cómo los temas que enseñas, como el **desarrollo del pensamiento computacional** y la **ciencia de datos**, están alineados con las necesidades globales actuales en diversas industrias, desde la tecnología hasta las ciencias naturales y sociales.\n"
   ]
  },
  {
   "cell_type": "markdown",
   "id": "a054599e",
   "metadata": {},
   "source": [
    "   - **Referencias a Estándares Internacionales**: Puedes vincular tu enseñanza a estándares internacionales de competencias en programación y ciencia de datos (por ejemplo, frameworks del **IEEE, ACM**, y estándares de la **data science** o la **computación en la nube**)."
   ]
  },
  {
   "cell_type": "markdown",
   "id": "0f1d110c-3142-48fe-9e7d-5fbd9e8bb931",
   "metadata": {},
   "source": [
    "### 2. **Innovación Pedagógica con Enfoque Internacional**\n"
   ]
  },
  {
   "cell_type": "markdown",
   "id": "fae6ae34",
   "metadata": {},
   "source": [
    "   - **Aula Invertida y ABP**: Presenta cómo tu enfoque de **aula invertida** y **aprendizaje basado en problemas (ABP)** permite a los estudiantes trabajar de manera autónoma y colaborativa, lo que los prepara para escenarios laborales internacionales que requieren autoaprendizaje y habilidades de resolución de problemas en equipo.\n"
   ]
  },
  {
   "cell_type": "markdown",
   "id": "c83062d9",
   "metadata": {},
   "source": [
    "   - **Uso de Jupyter Notebooks**: El uso de **Jupyter Notebooks** en tus clases no solo facilita la **integración de código, matemáticas y texto**, sino que también es una plataforma utilizada globalmente en ambientes académicos y profesionales, lo que hace a tus estudiantes más competitivos internacionalmente."
   ]
  },
  {
   "cell_type": "markdown",
   "id": "960d52b7-03cd-4eb3-965e-5cdfeb7d9f8e",
   "metadata": {},
   "source": [
    "### 3. **Tecnología y Herramientas de Uso Global**\n"
   ]
  },
  {
   "cell_type": "markdown",
   "id": "4be7269f",
   "metadata": {},
   "source": [
    "   - **Lenguaje Python**: Python es uno de los lenguajes de programación más usados a nivel mundial, tanto en la academia como en la industria. "
   ]
  },
  {
   "cell_type": "markdown",
   "id": "5abb1c38",
   "metadata": {},
   "source": [
    "Al formar a tus estudiantes en Python para ciencia de datos y machine learning, los preparas para operar en entornos tecnológicos globales.\n"
   ]
  },
  {
   "cell_type": "markdown",
   "id": "102655af",
   "metadata": {},
   "source": [
    "   - **Herramientas de Ciencia Abierta**: Resalta cómo herramientas como **GitHub**, **Google Colab** y otras plataformas de código abierto están alineadas con el movimiento de **ciencia abierta**, el cual es internacionalmente reconocido y permite que los estudiantes colaboren y compartan proyectos a nivel global."
   ]
  },
  {
   "cell_type": "markdown",
   "id": "3b2ffa32-7a6f-4545-ba7b-c6a69f51109f",
   "metadata": {},
   "source": [
    "### 4. **Investigación y Publicaciones Internacionales**\n"
   ]
  },
  {
   "cell_type": "markdown",
   "id": "bdbf52a5",
   "metadata": {},
   "source": [
    "   - **Promoción de la Investigación**: Detalla cómo promueves que tus estudiantes participen en proyectos de **investigación aplicada**, con posibilidad de publicación en revistas internacionales. "
   ]
  },
  {
   "cell_type": "markdown",
   "id": "1bb10e37",
   "metadata": {},
   "source": [
    "Esto contribuye a la reputación internacional de la Universidad de Antioquia.\n"
   ]
  },
  {
   "cell_type": "markdown",
   "id": "ea01fcbc",
   "metadata": {},
   "source": [
    "   - **Colaboraciones Internacionales**: Si has colaborado con investigadores de otras instituciones o universidades en el extranjero, menciona estos proyectos y cómo han enriquecido tu enseñanza y proporcionado a los estudiantes una visión más globalizada."
   ]
  },
  {
   "cell_type": "markdown",
   "id": "5d1e396e-aece-4bf7-9421-32fa7809eaf4",
   "metadata": {},
   "source": [
    "## 5. **Uso del Inglés para la Internacionalización**\n"
   ]
  },
  {
   "cell_type": "markdown",
   "id": "29cabf26",
   "metadata": {},
   "source": [
    "   - **Comunicación Científica en Inglés**: "
   ]
  },
  {
   "cell_type": "markdown",
   "id": "8ec53ff3",
   "metadata": {},
   "source": [
    "Fomentar el aprendizaje del inglés como lengua científica es clave para que tus estudiantes puedan acceder a publicaciones internacionales, conferencias, y material académico que no está disponible en español. "
   ]
  },
  {
   "cell_type": "markdown",
   "id": "3319ddb0",
   "metadata": {},
   "source": [
    "Esto es esencial para que adquieran competencias que les permitan desempeñarse en cualquier contexto internacional.\n"
   ]
  },
  {
   "cell_type": "markdown",
   "id": "b831224f",
   "metadata": {},
   "source": [
    "   - **Material Bilingüe**: Al generar material educativo en Python, LaTeX y Markdown, considera ofrecer algunos de estos recursos en inglés, para que los estudiantes se familiaricen con el vocabulario técnico y científico internacional."
   ]
  },
  {
   "cell_type": "markdown",
   "id": "c6a8c3b0-426a-4692-a384-3065aea81c9a",
   "metadata": {},
   "source": [
    "### 6. **Certificaciones y Estándares Internacionales**\n"
   ]
  },
  {
   "cell_type": "markdown",
   "id": "b1f41da5",
   "metadata": {},
   "source": [
    "   - **Participación en Certificaciones Internacionales**: Impulsa que los estudiantes busquen certificaciones internacionales en Python o ciencia de datos (como las ofrecidas por **Coursera, edX,** o **Google**). "
   ]
  },
  {
   "cell_type": "markdown",
   "id": "3c935f24",
   "metadata": {},
   "source": [
    "Estas certificaciones no solo validan sus competencias, sino que también incrementan el reconocimiento de la Universidad de Antioquia en el contexto internacional.\n"
   ]
  },
  {
   "cell_type": "markdown",
   "id": "7cc66317",
   "metadata": {},
   "source": [
    "   - **Alineación con Acreditaciones Internacionales**: Vincula tu trabajo docente con los estándares de acreditación y certificación que garantizan que la universidad siga siendo reconocida internacionalmente. "
   ]
  },
  {
   "cell_type": "markdown",
   "id": "0f330d59",
   "metadata": {},
   "source": [
    "Puedes vincularte con organizaciones internacionales que promuevan la excelencia en la educación y tecnología, como **ABET** para la acreditación en ingeniería y ciencias computacionales."
   ]
  },
  {
   "cell_type": "markdown",
   "id": "65d3d9e1-ea84-43e0-8197-a2a9c9e21594",
   "metadata": {},
   "source": [
    "### 7. **Proyectos Abiertos y Ciencia Reproducible**\n"
   ]
  },
  {
   "cell_type": "markdown",
   "id": "f03f7b20",
   "metadata": {},
   "source": [
    "   - **GitHub y Open Science**: La utilización de **GitHub** para almacenar los proyectos y materiales de enseñanza en repositorios públicos permite que otros investigadores y educadores internacionales puedan revisar y replicar tu trabajo. "
   ]
  },
  {
   "cell_type": "markdown",
   "id": "b15e6443",
   "metadata": {},
   "source": [
    "Esto contribuye a la creación de una red de colaboración científica abierta.\n"
   ]
  },
  {
   "cell_type": "markdown",
   "id": "9fb139ef",
   "metadata": {},
   "source": [
    "   - **Transparencia y Reproducibilidad**: La ciencia de datos y machine learning están profundamente ligados a la reproducibilidad. "
   ]
  },
  {
   "cell_type": "markdown",
   "id": "6dcc0d62",
   "metadata": {},
   "source": [
    "Asegura que tus estudiantes desarrollen prácticas de transparencia y documentación en la investigación, que son pilares en la comunidad científica global.\n"
   ]
  },
  {
   "cell_type": "markdown",
   "id": "215cb551",
   "metadata": {},
   "source": [
    "\n",
    "### 8. **Participación en Redes y Conferencias Internacionales**\n"
   ]
  },
  {
   "cell_type": "markdown",
   "id": "489c0b8c",
   "metadata": {},
   "source": [
    "   - **Presentación en Conferencias Internacionales**: Destaca cómo tu participación en conferencias internacionales (como la **ASCOLFA** o eventos sobre educación en matemáticas) contribuye al prestigio de la universidad y permite que tus prácticas sean evaluadas y reconocidas a nivel global.\n"
   ]
  },
  {
   "cell_type": "markdown",
   "id": "cdf46e29",
   "metadata": {},
   "source": [
    "   - **Promoción de Estudiantes en Eventos Internacionales**: Impulsa la participación de tus estudiantes en competiciones internacionales de programación o hackathons, como los organizados por **Google**, **ACM** o **Kaggle**. "
   ]
  },
  {
   "cell_type": "markdown",
   "id": "2b0eb8a9",
   "metadata": {},
   "source": [
    "Esto no solo desarrolla sus habilidades, sino que también visibiliza el talento de la Universidad de Antioquia a nivel global.\n",
    "\n",
    "---"
   ]
  },
  {
   "cell_type": "markdown",
   "id": "233294a4-1983-4641-a7ad-866825e02315",
   "metadata": {},
   "source": [
    "Con esta estrategia, presento mis acciones docentes en términos de:  \n",
    "\n",
    "* competencias internacionales, \n",
    "* innovación pedagógica, \n",
    "* tecnología, \n",
    "* investigación y \n",
    "* participación en redes globales, \n",
    "  \n",
    "asegurando que mi práctica esté alineada con los estándares internacionales y que mis estudiantes estén preparados para competir en contextos internacionales."
   ]
  },
  {
   "cell_type": "markdown",
   "id": "77da458b",
   "metadata": {},
   "source": [
    "### **Metodología de Enseñanza: Aprendizaje Basado en Problemas y Proyectos (ABPP)**\n"
   ]
  },
  {
   "cell_type": "markdown",
   "id": "c943d273",
   "metadata": {},
   "source": [
    "\n",
    "El **Aprendizaje Basado en Problemas y Proyectos (ABPP)** es una metodología educativa que integra los enfoques del **Aprendizaje Basado en Problemas (ABP)** y el **Aprendizaje Basado en Proyectos (PBL, por sus siglas en inglés)**. "
   ]
  },
  {
   "cell_type": "markdown",
   "id": "ad0e0bf3",
   "metadata": {},
   "source": [
    "Es especialmente útil para la formación de futuros docentes, ingenieros y administradores, ya que combina el desarrollo de habilidades prácticas con el pensamiento crítico y reflexivo. "
   ]
  },
  {
   "cell_type": "markdown",
   "id": "137b18e2",
   "metadata": {},
   "source": [
    "A continuación, se presenta una descripción adaptada a la enseñanza de las matemáticas en educación infantil, Licenciatura en Matemáticas, Ingeniería Agropecuaria y Administración de Empresas:\n",
    "\n",
    "---\n"
   ]
  },
  {
   "cell_type": "markdown",
   "id": "0eeba3f5",
   "metadata": {},
   "source": [
    "\n",
    "### **1. Fundamentos del ABPP**\n"
   ]
  },
  {
   "cell_type": "markdown",
   "id": "fb051f2b",
   "metadata": {},
   "source": [
    "El ABPP se basa en:\n",
    "- **Resolución de Problemas Reales:** Los estudiantes analizan y resuelven problemas auténticos relacionados con su área de formación, fomentando la aplicación práctica del conocimiento.\n"
   ]
  },
  {
   "cell_type": "markdown",
   "id": "47bb5fcc",
   "metadata": {},
   "source": [
    "- **Proyectos como Herramientas Integradoras:** Los proyectos permiten desarrollar habilidades interdisciplinarias y ofrecer soluciones concretas a los problemas planteados.\n"
   ]
  },
  {
   "cell_type": "markdown",
   "id": "9f77ec82",
   "metadata": {},
   "source": [
    "- **Aprendizaje Activo:** Los estudiantes son responsables de su aprendizaje y participan activamente en el proceso de investigación, diseño y solución.\n",
    "\n",
    "---\n"
   ]
  },
  {
   "cell_type": "markdown",
   "id": "3728d010",
   "metadata": {},
   "source": [
    "\n",
    "### **2. Aplicación del ABPP en Áreas Específicas**\n"
   ]
  },
  {
   "cell_type": "markdown",
   "id": "695a22f2",
   "metadata": {},
   "source": [
    "\n",
    "#### **Educación Infantil (Licenciatura en Educación Infantil)**\n"
   ]
  },
  {
   "cell_type": "markdown",
   "id": "d8eeda88",
   "metadata": {},
   "source": [
    "- **Enfoque:** Desarrollo del pensamiento matemático en la infancia desde contextos lúdicos, familiares y culturales.\n"
   ]
  },
  {
   "cell_type": "markdown",
   "id": "06b737e1",
   "metadata": {},
   "source": [
    "- **Problemas típicos:** \n",
    "  - ¿Cómo enseñar los números naturales mediante actividades prácticas y juegos?\n",
    "  - ¿Qué estrategias pueden emplearse para abordar el concepto de cantidad en edades tempranas?\n"
   ]
  },
  {
   "cell_type": "markdown",
   "id": "e92ccc6d",
   "metadata": {},
   "source": [
    "- **Proyectos:** Diseño de secuencias didácticas que usen Python, Jupyter Notebooks y materiales manipulativos para enseñar matemáticas de forma interactiva.\n"
   ]
  },
  {
   "cell_type": "markdown",
   "id": "9c58539c",
   "metadata": {},
   "source": [
    "- **Competencias desarrolladas:** \n",
    "  - Uso de herramientas tecnológicas para diseñar actividades educativas.\n",
    "  - Comprensión del desarrollo cognitivo infantil y su relación con las matemáticas.\n"
   ]
  },
  {
   "cell_type": "markdown",
   "id": "481f614a",
   "metadata": {},
   "source": [
    "\n",
    "#### **Licenciatura en Matemáticas**\n"
   ]
  },
  {
   "cell_type": "markdown",
   "id": "ef50ed64",
   "metadata": {},
   "source": [
    "- **Enfoque:** Resolución de problemas matemáticos aplicados y profundización teórica en áreas como análisis matemático y modelado.\n"
   ]
  },
  {
   "cell_type": "markdown",
   "id": "69305cb7",
   "metadata": {},
   "source": [
    "- **Problemas típicos:**\n",
    "  - ¿Cómo se pueden resolver ecuaciones diferenciales aplicadas a modelos físicos o económicos?\n",
    "  - ¿Cómo modelar fenómenos naturales mediante funciones matemáticas?\n"
   ]
  },
  {
   "cell_type": "markdown",
   "id": "1e4ab50a",
   "metadata": {},
   "source": [
    "- **Proyectos:** \n",
    "  - Desarrollo de software educativo para explorar conceptos matemáticos.\n",
    "  - Aplicación de modelado matemático para resolver problemas reales en otras disciplinas.\n"
   ]
  },
  {
   "cell_type": "markdown",
   "id": "d7fa6846",
   "metadata": {},
   "source": [
    "- **Competencias desarrolladas:**\n",
    "  - Dominio de la matemática teórica y aplicada.\n",
    "  - Uso de tecnología para la enseñanza y la investigación.\n"
   ]
  },
  {
   "cell_type": "markdown",
   "id": "83ab236f",
   "metadata": {},
   "source": [
    "\n",
    "#### **Ingeniería Agropecuaria**\n",
    "- **Enfoque:** Modelado matemático y análisis de datos para mejorar la producción agrícola y la gestión de recursos.\n"
   ]
  },
  {
   "cell_type": "markdown",
   "id": "bd9a5958",
   "metadata": {},
   "source": [
    "- **Problemas típicos:**\n",
    "  - ¿Cómo modelar el crecimiento de cultivos considerando variables climáticas?\n",
    "  - ¿Cómo optimizar el uso del agua en sistemas de riego mediante análisis matemático?\n"
   ]
  },
  {
   "cell_type": "markdown",
   "id": "658211a3",
   "metadata": {},
   "source": [
    "- **Proyectos:** \n",
    "  - Desarrollo de modelos predictivos con Python y bibliotecas de aprendizaje automático.\n",
    "  - Implementación de proyectos que combinen matemáticas y ciencias de datos para resolver problemas agrícolas.\n"
   ]
  },
  {
   "cell_type": "markdown",
   "id": "f2c01339",
   "metadata": {},
   "source": [
    "- **Competencias desarrolladas:**\n",
    "  - Integración de matemáticas con tecnologías avanzadas.\n",
    "  - Resolución de problemas agropecuarios mediante análisis y modelado.\n"
   ]
  },
  {
   "cell_type": "markdown",
   "id": "c4519bb3",
   "metadata": {},
   "source": [
    "\n",
    "#### **Administración de Empresas**\n"
   ]
  },
  {
   "cell_type": "markdown",
   "id": "cab1407c",
   "metadata": {},
   "source": [
    "- **Enfoque:** Uso de las matemáticas y la ciencia de datos para la toma de decisiones estratégicas.\n"
   ]
  },
  {
   "cell_type": "markdown",
   "id": "84f3c053",
   "metadata": {},
   "source": [
    "- **Problemas típicos:**\n",
    "  - ¿Cómo identificar patrones de comportamiento del consumidor usando series de tiempo?\n",
    "  - ¿Qué estrategias matemáticas pueden optimizar la asignación de recursos en una empresa?\n"
   ]
  },
  {
   "cell_type": "markdown",
   "id": "4de70bc1",
   "metadata": {},
   "source": [
    "- **Proyectos:** \n",
    "  - Implementación de modelos de análisis financiero y simulaciones.\n",
    "  - Desarrollo de dashboards interactivos para la gestión de datos empresariales.\n"
   ]
  },
  {
   "cell_type": "markdown",
   "id": "5bcb6e9e",
   "metadata": {},
   "source": [
    "- **Competencias desarrolladas:**\n",
    "  - Habilidad para interpretar datos matemáticos en contextos de negocio.\n",
    "  - Capacidad para diseñar soluciones basadas en datos.\n",
    "\n",
    "---\n"
   ]
  },
  {
   "cell_type": "markdown",
   "id": "19be58d4",
   "metadata": {},
   "source": [
    "\n",
    "### **3. Beneficios del ABPP**\n"
   ]
  },
  {
   "cell_type": "markdown",
   "id": "4880978f",
   "metadata": {},
   "source": [
    "- **Desarrollo de competencias clave:**\n",
    "  - Pensamiento crítico y creativo.\n",
    "  - Trabajo colaborativo.\n",
    "  - Comunicación efectiva.\n",
    "  - Uso de herramientas tecnológicas avanzadas.\n"
   ]
  },
  {
   "cell_type": "markdown",
   "id": "1d341c96",
   "metadata": {},
   "source": [
    "- **Adaptación al contexto laboral:** Los estudiantes aprenden a enfrentar desafíos del mundo real y a diseñar soluciones prácticas y aplicables.\n"
   ]
  },
  {
   "cell_type": "markdown",
   "id": "da40f888",
   "metadata": {},
   "source": [
    "- **Flexibilidad e interdisciplinariedad:** La metodología se adapta a diversas áreas, fomentando el aprendizaje integrado.\n",
    "\n",
    "---\n"
   ]
  },
  {
   "cell_type": "markdown",
   "id": "e36034c3",
   "metadata": {},
   "source": [
    "\n",
    "### **4. Ejemplo General de Implementación**\n"
   ]
  },
  {
   "cell_type": "markdown",
   "id": "76763c0f",
   "metadata": {},
   "source": [
    "1. **Identificación del problema:** Se plantea un desafío concreto, como modelar el crecimiento poblacional de una comunidad rural (Ingeniería Agropecuaria) o diseñar una estrategia para enseñar fracciones a niños de 8 años (Educación Infantil).\n"
   ]
  },
  {
   "cell_type": "markdown",
   "id": "efe1e5dd",
   "metadata": {},
   "source": [
    "2. **Formación de equipos:** Los estudiantes trabajan en grupos, distribuyendo roles y tareas.\n"
   ]
  },
  {
   "cell_type": "markdown",
   "id": "9004e59b",
   "metadata": {},
   "source": [
    "3. **Investigación y diseño:** Los estudiantes investigan el problema, proponen soluciones y diseñan un proyecto.\n"
   ]
  },
  {
   "cell_type": "markdown",
   "id": "b3e682e4",
   "metadata": {},
   "source": [
    "4. **Implementación:** Se desarrolla el proyecto, como una herramienta tecnológica o una propuesta pedagógica.\n"
   ]
  },
  {
   "cell_type": "markdown",
   "id": "2e627c98",
   "metadata": {},
   "source": [
    "5. **Evaluación:** Los estudiantes presentan sus resultados en un informe o una exposición, recibiendo retroalimentación de sus compañeros y docentes.\n",
    "\n",
    "---\n"
   ]
  },
  {
   "cell_type": "markdown",
   "id": "5a8bc842",
   "metadata": {},
   "source": [
    "\n",
    "El ABPP es una metodología versátil que conecta el conocimiento teórico con la práctica, preparando a los estudiantes para los retos de sus profesiones en la enseñanza de la matemática, la ingeniería y la administración."
   ]
  },
  {
   "cell_type": "markdown",
   "id": "8d97dc80",
   "metadata": {
    "slideshow": {
     "slide_type": "slide"
    }
   },
   "source": [
    "## Fomento de la lectura literaria asociada a Ingeniería agropecuaria y licenciatura en Matemáticas\n",
    "\n",
    "[Aprender a obtener el sí sin ceder]()"
   ]
  },
  {
   "cell_type": "markdown",
   "id": "10e55ccf",
   "metadata": {},
   "source": [
    "# Estructura general para todas las clases\n",
    "\n",
    "Dame, por favor, un diseño de clase, con el enfoque: \"Aula Invertida, STEAMS y de Aprendizaje Basado en Problemas y Proyectos(ABPP)\" sobre: \" Adquisición de elementos del lenguaje Python para modelos de regresión para predicción de precios de vivienda en Machine Learning\", siguiendo la estructura:  \n",
    "\n",
    "1. Título de la clase \n",
    "2. Objetivos de aprendizaje que incluyan los indicadores del logro de estos objetivos.\n",
    "3. Un mapa conceptual que resuma la clase elaborado en Graphviz de Python con nodos y edges de diferentes formas, colores y rellenos y renderizado en la siguiente ubicación: `\"C:/Users/marco/Downloads\"`. No olvides el parámetro `view = True` para el método `render()` de Graphviz. \n",
    "4. Dame elementos históricos y epistemológicos asociados a esta clase, pero contados como un cuento al estilo de un cuentero antioqueño en Colombia. Incluye imágenes de los protagonistas históricos de esta clase.   \n",
    "   \n",
    "5. Contenido de la clase. Que el contenido parta de una situación real para llegar a una constitución del modelo matemático que represente tal situación real. \n",
    "6. Actividades de aprendizaje\n",
    "7. Incluye una canción o un poema que ayude a interiorizar y fijar los conceptos asociados a esta clase. \n",
    "8. Tarea o actividades de ejercitación y fijación\n",
    "9.  Evaluación incluyendo diez proyectos, un ejemplo de quiz (de tres preguntas) y un ejemplo de parcial (de cinco puntos)\n",
    "10. Diseño de actividad de retroalimentación. \n",
    "11. Dame un vocabulario y frases del idioma inglés asociadas a esta clase.   \n",
    "\n",
    "Pero  que este diseño sea para que el estudiante pueda aprender experimentando en cuadernos Jupyter con funciones de usuario y animaciones y visualizaciones en Python.   \n",
    "\n",
    "En particular utiliza para el diseño de clase a Numpy, Pandas, SymPy, Matplotlib.pyplot, Seaborn, Plotly, ipywidgets, matplotlib.animation y Jupyter Notebook.  \n",
    "\n",
    "Cada vez que utilices `matplotlib.animacion` no olvides incluir el uso de `IPython. display` para la renderización de estas animaciones a través de Jupyter Notebook. No olvides darme los diseños de clase con las ecuaciones matemáticas delimitadas con signo de dólar $ para que VS Code si me renderice estas expresiones del lenguaje Latex. Cuando vallas a utilizar ipywidgets ten en cuenta la siguiente importación inicial para garantizar que la visualización interactiva si se renderice en VS Code:   \n",
    "\n",
    "import numpy as np\n",
    "import matplotlib.pyplot as plt\n",
    "import ipywidgets as widgets\n",
    "from IPython.display import display, clear_output\n",
    "from matplotlib.patches import Rectangle\n",
    "\n",
    "# Configuración inicial para visualización estática\n",
    "%matplotlib inline\" "
   ]
  },
  {
   "cell_type": "code",
   "execution_count": 1,
   "id": "81235e9f",
   "metadata": {},
   "outputs": [],
   "source": [
    "path_image = r'C:/Users/marco/Downloads'\n",
    "def save_fig(nombre_archivo_imagen):\n",
    "    import os \n",
    "    import matplotlib.pyplot as plt \n",
    "    imagen_path = os.path.join(path_image, nombre_archivo_imagen)\n",
    "    plt.savefig(imagen_path, bbox_inches='tight')"
   ]
  },
  {
   "cell_type": "markdown",
   "id": "7c163d17",
   "metadata": {},
   "source": [
    "# Presentación de la estructura de esta clase  \n"
   ]
  },
  {
   "cell_type": "markdown",
   "id": "1f2815b0",
   "metadata": {},
   "source": [
    "\n",
    "# Diseño de Clase: \"Adquisición de elementos del lenguaje Python para modelos de regresión para predicción de precios de vivienda en Machine Learning\"\n"
   ]
  },
  {
   "cell_type": "markdown",
   "id": "8242e2a9",
   "metadata": {},
   "source": [
    "\n",
    "## 1. Título de la Clase\n",
    "**\"Python para el Mercado Inmobiliario: Modelando el Futuro con Regresión Lineal\"**\n"
   ]
  },
  {
   "cell_type": "markdown",
   "id": "95b78109",
   "metadata": {},
   "source": [
    "\n",
    "## 2. Objetivos de Aprendizaje\n"
   ]
  },
  {
   "cell_type": "markdown",
   "id": "7c78b6e2",
   "metadata": {},
   "source": [
    "\n",
    "| Objetivo | Indicadores de Logro |\n",
    "|----------|----------------------|\n",
    "| Comprender los fundamentos de Python para ciencia de datos | El estudiante crea DataFrames y realiza operaciones básicas con Pandas |\n",
    "| Aplicar técnicas de visualización para exploración de datos | Genera histogramas, gráficos de dispersión y mapas de calor con Matplotlib/Seaborn |\n",
    "| Implementar modelos de regresión lineal | Construye un modelo predictivo con scikit-learn y evalúa su rendimiento |\n",
    "| Analizar datos inmobiliarios reales | Preprocesa datos de viviendas y extrae características relevantes |\n",
    "| Desarrollar pensamiento computacional | Crea funciones personalizadas para automatizar el flujo de trabajo |\n"
   ]
  },
  {
   "cell_type": "markdown",
   "id": "f585cf3d",
   "metadata": {},
   "source": [
    "\n",
    "## 3. Mapa Conceptual\n"
   ]
  },
  {
   "cell_type": "code",
   "execution_count": 2,
   "id": "aa7c6f61",
   "metadata": {},
   "outputs": [
    {
     "data": {
      "text/plain": [
       "'C:\\\\Users\\\\marco\\\\Downloads\\\\Python_Regresion.png'"
      ]
     },
     "execution_count": 2,
     "metadata": {},
     "output_type": "execute_result"
    }
   ],
   "source": [
    "from graphviz import Digraph\n",
    "\n",
    "dot = Digraph(\"Python_Regresion\", format=\"png\")\n",
    "dot.attr(bgcolor=\"#f7f7f7\", rankdir=\"LR\")\n",
    "\n",
    "# Nodos principales\n",
    "dot.node(\"Python\", \"Python para DS\", shape=\"ellipse\", style=\"filled\", fillcolor=\"#FFD700\", color=\"#FF8C00\")\n",
    "dot.node(\"Pandas\", \"Pandas\", shape=\"box\", style=\"filled\", fillcolor=\"#87CEFA\", color=\"#1E90FF\")\n",
    "dot.node(\"Visualizacion\", \"Visualización\", shape=\"box\", style=\"filled\", fillcolor=\"#98FB98\", color=\"#2E8B57\")\n",
    "dot.node(\"Regresion\", \"Regresión Lineal\", shape=\"ellipse\", style=\"filled\", fillcolor=\"#FFA07A\", color=\"#FF4500\")\n",
    "dot.node(\"Proyecto\", \"Proyecto Inmobiliario\", shape=\"house\", style=\"filled\", fillcolor=\"#9370DB\", color=\"#4B0082\")\n",
    "\n",
    "# Subnodos\n",
    "dot.node(\"DataFrames\", \"DataFrames\", shape=\"note\")\n",
    "dot.node(\"Filtros\", \"Filtros\", shape=\"note\")\n",
    "dot.node(\"Matplotlib\", \"Matplotlib\", shape=\"note\")\n",
    "dot.node(\"Seaborn\", \"Seaborn\", shape=\"note\")\n",
    "dot.node(\"SKLearn\", \"scikit-learn\", shape=\"note\")\n",
    "dot.node(\"Metricas\", \"Métricas\", shape=\"note\")\n",
    "\n",
    "# Conexiones\n",
    "dot.edge(\"Python\", \"Pandas\")\n",
    "dot.edge(\"Python\", \"Visualizacion\")\n",
    "dot.edge(\"Python\", \"Regresion\")\n",
    "dot.edge(\"Pandas\", \"DataFrames\")\n",
    "dot.edge(\"Pandas\", \"Filtros\")\n",
    "dot.edge(\"Visualizacion\", \"Matplotlib\")\n",
    "dot.edge(\"Visualizacion\", \"Seaborn\")\n",
    "dot.edge(\"Regresion\", \"SKLearn\")\n",
    "dot.edge(\"Regresion\", \"Metricas\")\n",
    "dot.edge(\"Regresion\", \"Proyecto\")\n",
    "dot.edge(\"Pandas\", \"Proyecto\")\n",
    "dot.edge(\"Visualizacion\", \"Proyecto\")\n",
    "\n",
    "dot.render(\"C:/Users/marco/Downloads/Python_Regresion\", view=True)\n",
    "\n"
   ]
  },
  {
   "cell_type": "markdown",
   "id": "dd65c470",
   "metadata": {},
   "source": [
    "\n",
    "## 4. Historia y Epistemología (Estilo Cuentero Antioqueño)\n",
    "\n",
    "*\"¡Ay hombe!* Les voy a contar una historia que comienza en los años 70, cuando un holandés llamado Guido van Rossum, como buen europeo aburrido en Navidad, decidió crear un lenguaje de programación que fuera más fácil de leer que un periódico. Así nació Python, nombrado no por la serpiente sino por los Monty Python, ¡qué vaina tan loca!\"\n",
    "\n",
    "*\"Pero esto se pone bueno...\"* En los 90, un tal Travis Oliphant, junto con otros científicos, vieron que Python necesitaba mejores herramientas para números. Así nacieron NumPy y SciPy, como quien hace un sancocho pa'l almuerzo.\n",
    "\n",
    "*\"Y entonces llegó Wes McKinney en 2008...\"* Trabajando en un fondo de inversión, se cansó de sufrir con Excel y creó Pandas, que no es el animal sino la biblioteca que hoy usamos para jugar con datos como quien juega una partida de tejo.\n",
    "\n",
    "*\"Y aquí estamos nosotros...\"* Usando estas herramientas para predecir precios de casas, como si fuéramos adivinos pero con matemáticas. ¡Eso es progreso, mijito!\n"
   ]
  },
  {
   "cell_type": "markdown",
   "id": "30790d4e",
   "metadata": {},
   "source": [
    "\n",
    "## 5. Contenido de la Clase (Enfoque ABPP)\n",
    "\n",
    "**Situación Real:** Un corredor inmobiliario necesita predecir precios de viviendas en Medellín para ofrecer mejores asesorías.\n"
   ]
  },
  {
   "cell_type": "markdown",
   "id": "81311806",
   "metadata": {},
   "source": [
    "\n",
    "### 5.1 Exploración de Datos\n"
   ]
  },
  {
   "cell_type": "code",
   "execution_count": null,
   "id": "3b50cd83",
   "metadata": {},
   "outputs": [],
   "source": [
    "\n",
    "import pandas as pd\n",
    "import seaborn as sns\n",
    "import matplotlib.pyplot as plt\n",
    "\n",
    "# Cargar datos (similares al cuaderno original)\n",
    "url = \"https://raw.githubusercontent.com/ageron/handson-ml2/master/datasets/housing/housing.csv\"\n",
    "viviendas = pd.read_csv(url)\n",
    "\n",
    "# Visualización interactiva\n",
    "from ipywidgets import interact\n",
    "\n",
    "@interact\n",
    "def explorar(columna=viviendas.columns):\n",
    "    plt.figure(figsize=(10,5))\n",
    "    if viviendas[columna].dtype in ['int64','float64']:\n",
    "        sns.histplot(viviendas[columna], kde=True)\n",
    "    else:\n",
    "        sns.countplot(data=viviendas, x=columna)\n",
    "    plt.title(f\"Distribución de {columna}\")\n",
    "    plt.xticks(rotation=45)\n",
    "    plt.show()\n",
    "\n"
   ]
  },
  {
   "cell_type": "markdown",
   "id": "49a4a4d0",
   "metadata": {},
   "source": [
    "\n",
    "### 5.2 Modelo Matemático\n",
    "La regresión lineal simple se representa como:\n",
    "\n",
    "$$ y = \\beta_0 + \\beta_1x_1 + \\epsilon $$\n",
    "\n",
    "Donde:\n",
    "- $y$ = Precio de la vivienda (variable objetivo)\n",
    "- $\\beta_0$ = Intercepto\n",
    "- $\\beta_1$ = Coeficiente para la característica $x_1$ (ej. número de habitaciones)\n",
    "- $\\epsilon$ = Error\n"
   ]
  },
  {
   "cell_type": "markdown",
   "id": "288fb258",
   "metadata": {},
   "source": [
    "\n",
    "### 5.3 Implementación del Modelo\n"
   ]
  },
  {
   "cell_type": "code",
   "execution_count": null,
   "id": "3c6934a6",
   "metadata": {},
   "outputs": [
    {
     "ename": "NameError",
     "evalue": "name 'viviendas' is not defined",
     "output_type": "error",
     "traceback": [
      "\u001b[1;31m---------------------------------------------------------------------------\u001b[0m",
      "\u001b[1;31mNameError\u001b[0m                                 Traceback (most recent call last)",
      "Cell \u001b[1;32mIn[4], line 5\u001b[0m\n\u001b[0;32m      2\u001b[0m \u001b[38;5;28;01mfrom\u001b[39;00m\u001b[38;5;250m \u001b[39m\u001b[38;5;21;01msklearn\u001b[39;00m\u001b[38;5;21;01m.\u001b[39;00m\u001b[38;5;21;01mmodel_selection\u001b[39;00m\u001b[38;5;250m \u001b[39m\u001b[38;5;28;01mimport\u001b[39;00m train_test_split\n\u001b[0;32m      4\u001b[0m \u001b[38;5;66;03m# Preparar datos\u001b[39;00m\n\u001b[1;32m----> 5\u001b[0m X \u001b[38;5;241m=\u001b[39m \u001b[43mviviendas\u001b[49m[[\u001b[38;5;124m'\u001b[39m\u001b[38;5;124mmedian_income\u001b[39m\u001b[38;5;124m'\u001b[39m]]\n\u001b[0;32m      6\u001b[0m y \u001b[38;5;241m=\u001b[39m viviendas[\u001b[38;5;124m'\u001b[39m\u001b[38;5;124mmedian_house_value\u001b[39m\u001b[38;5;124m'\u001b[39m]\n\u001b[0;32m      8\u001b[0m \u001b[38;5;66;03m# Dividir datos\u001b[39;00m\n",
      "\u001b[1;31mNameError\u001b[0m: name 'viviendas' is not defined"
     ]
    }
   ],
   "source": [
    "import pandas as pd \n",
    "from sklearn.linear_model import LinearRegression\n",
    "from sklearn.model_selection import train_test_split\n",
    "viviendas = pd.read_csv('housing.csv')\n",
    "# Preparar datos\n",
    "X = viviendas[['median_income']]\n",
    "y = viviendas['median_house_value']\n",
    "\n",
    "# Dividir datos\n",
    "X_train, X_test, y_train, y_test = train_test_split(X, y, test_size=0.2, random_state=42)\n",
    "\n",
    "# Crear y entrenar modelo\n",
    "modelo = LinearRegression()\n",
    "modelo.fit(X_train, y_train)\n",
    "\n",
    "# Visualización animada\n",
    "from matplotlib.animation import FuncAnimation\n",
    "from IPython.display import HTML\n",
    "\n",
    "fig, ax = plt.subplots(figsize=(10,6))\n",
    "ax.scatter(X_train, y_train, color='blue', alpha=0.5, label='Datos entrenamiento')\n",
    "line, = ax.plot([], [], color='red', linewidth=2, label='Regresión')\n",
    "\n",
    "def init():\n",
    "    ax.set_xlim(X.min(), X.max())\n",
    "    ax.set_ylim(y.min(), y.max())\n",
    "    return line,\n",
    "\n",
    "def update(frame):\n",
    "    partial_X = X_train[:frame]\n",
    "    partial_y = y_train[:frame]\n",
    "    if len(partial_X) > 1:\n",
    "        partial_model = LinearRegression().fit(partial_X, partial_y)\n",
    "        x_vals = np.array([X.min(), X.max()])\n",
    "        y_vals = partial_model.predict(x_vals.reshape(-1,1))\n",
    "        line.set_data(x_vals, y_vals)\n",
    "    return line,\n",
    "\n",
    "ani = FuncAnimation(fig, update, frames=range(1, len(X_train), init_func=init, blit=True, interval=100))\n",
    "HTML(ani.to_jshtml())\n",
    "\n"
   ]
  },
  {
   "cell_type": "markdown",
   "id": "def6b8fc",
   "metadata": {},
   "source": [
    "\n",
    "## 6. Actividades de Aprendizaje (STEAMS)\n",
    "\n",
    "**Ciencia:** Analizar cómo las características físicas afectan el precio  \n",
    "**Tecnología:** Implementar el modelo en Python  \n",
    "**Ingeniería:** Diseñar un pipeline de preprocesamiento  \n",
    "**Artes:** Crear visualizaciones atractivas para presentar resultados  \n",
    "**Matemáticas:** Interpretar los coeficientes del modelo  \n",
    "**Sociedad:** Discutir implicaciones éticas de los modelos predictivos\n"
   ]
  },
  {
   "cell_type": "markdown",
   "id": "37fc7fd0",
   "metadata": {},
   "source": [
    "\n",
    "## 7. Poema de Aprendizaje\n",
    "\n",
    "```\n",
    "Los datos son como el barro,\n",
    "con Python los moldeamos,\n",
    "Pandas nos ayuda a ver\n",
    "lo que antes no notamos.\n",
    "\n",
    "Matplotlib grafica,\n",
    "Seaborn embellece,\n",
    "la regresión lineal\n",
    "nuestro modelo enriquece.\n",
    "\n",
    "Con scikit-learn avanzamos,\n",
    "el futuro predecimos,\n",
    "y aunque el modelo no es perfecto,\n",
    "¡cada día mejor lo hacemos!\n",
    "```\n"
   ]
  },
  {
   "cell_type": "markdown",
   "id": "17589b8c",
   "metadata": {},
   "source": [
    "\n",
    "## 8. Tareas de Ejercitación\n",
    "\n",
    "1. **Exploración de Datos**:  \n",
    "   - Calcular estadísticas descriptivas para todas las columnas numéricas  \n",
    "   - Identificar y manejar valores faltantes  \n",
    "   - Crear 3 visualizaciones que muestren relaciones interesantes\n",
    "\n",
    "2. **Preprocesamiento**:  \n",
    "   - Estandarizar características numéricas  \n",
    "   - Codificar variables categóricas  \n",
    "   - Crear nuevas características (feature engineering)\n",
    "\n",
    "3. **Modelado**:  \n",
    "   - Implementar regresión lineal múltiple  \n",
    "   - Evaluar el modelo usando RMSE y R²  \n",
    "   - Interpretar los coeficientes del modelo\n"
   ]
  },
  {
   "cell_type": "markdown",
   "id": "6cd5dfa9",
   "metadata": {},
   "source": [
    "\n",
    "## 9. Evaluación\n",
    "\n",
    "**10 Proyectos:**  \n",
    "1. Análisis exploratorio de un nuevo conjunto de datos inmobiliarios  \n",
    "2. Sistema de recomendación de precios para una inmobiliaria  \n",
    "3. Dashboard interactivo con visualizaciones  \n",
    "4. Modelo de regresión con regularización (Ridge/Lasso)  \n",
    "5. Comparación de múltiples algoritmos de regresión  \n",
    "6. Análisis de residuos y diagnóstico del modelo  \n",
    "7. Sistema de predicción con entrada interactiva  \n",
    "8. Despliegue del modelo con Streamlit  \n",
    "9. Análisis de importancia de características  \n",
    "10. Documentación técnica del proyecto\n"
   ]
  },
  {
   "cell_type": "markdown",
   "id": "7ed87008",
   "metadata": {},
   "source": [
    "\n",
    "**Quiz Ejemplo (3 preguntas):**  \n",
    "1. ¿Qué función de Pandas usarías para obtener las estadísticas descriptivas básicas?  \n",
    "2. Explica qué representa el coeficiente R² en un modelo de regresión  \n",
    "3. ¿Cómo manejarías valores faltantes en una columna numérica?\n"
   ]
  },
  {
   "cell_type": "markdown",
   "id": "22ca03c2",
   "metadata": {},
   "source": [
    "\n",
    "**Parcial Ejemplo (5 puntos):**  \n",
    "1. Cargar y explorar un dataset proporcionado (1 punto)  \n",
    "2. Preprocesar los datos adecuadamente (1 punto)  \n",
    "3. Entrenar un modelo de regresión lineal (1 punto)  \n",
    "4. Evaluar el modelo con métricas apropiadas (1 punto)  \n",
    "5. Interpretar los resultados y hacer recomendaciones (1 punto)\n"
   ]
  },
  {
   "cell_type": "markdown",
   "id": "30a9fe98",
   "metadata": {},
   "source": [
    "\n",
    "## 10. Retroalimentación\n",
    "\n",
    "**Técnica \"3-2-1\":**  \n",
    "- 3 conceptos que aprendieron  \n",
    "- 2 dudas que aún tienen  \n",
    "- 1 aplicación que imaginan para estos conocimientos\n",
    "\n",
    "**Rúbrica de Evaluación:**  \n",
    "| Criterio | Excelente (5) | Satisfactorio (3) | Necesita Mejora (1) |\n",
    "|----------|--------------|-------------------|---------------------|\n",
    "| Manejo de datos | Transforma datos creativamente | Realiza operaciones básicas | Dificultad con operaciones simples |\n",
    "| Visualización | Gráficos claros y enriquecidos | Gráficos funcionales | Gráficos incompletos o confusos |\n",
    "| Modelado | Implementa técnicas avanzadas | Modelo básico funcional | Modelo no funciona correctamente |\n",
    "| Interpretación | Extrae insights valiosos | Explica resultados básicos | No puede interpretar resultados |\n"
   ]
  },
  {
   "cell_type": "markdown",
   "id": "881e3d02",
   "metadata": {},
   "source": [
    "\n",
    "## 11. Vocabulario en Inglés\n",
    "\n",
    "**Términos Clave:**  \n",
    "- DataFrame: Estructura de datos tabular  \n",
    "- Feature: Característica o variable predictora  \n",
    "- Target: Variable objetivo a predecir  \n",
    "- Overfitting: Sobreajuste del modelo a datos de entrenamiento  \n",
    "- Pipeline: Flujo de procesamiento de datos automatizado  \n"
   ]
  },
  {
   "cell_type": "markdown",
   "id": "d5daaa56",
   "metadata": {},
   "source": [
    "\n",
    "**Frases Útiles:**  \n",
    "- \"Let's load the dataset using pandas\"  \n",
    "- \"The scatter plot shows a linear relationship\"  \n",
    "- \"We need to split the data into training and test sets\"  \n",
    "- \"The model's R-squared score indicates...\"  \n",
    "- \"Feature engineering can improve the predictions by...\"\n"
   ]
  },
  {
   "cell_type": "markdown",
   "id": "ff4600fa",
   "metadata": {},
   "source": [
    "\n",
    "## Material Adicional Interactivo\n"
   ]
  },
  {
   "cell_type": "code",
   "execution_count": 5,
   "id": "4eaa69b1",
   "metadata": {},
   "outputs": [
    {
     "data": {
      "application/vnd.jupyter.widget-view+json": {
       "model_id": "b6df34c4e39f4a9a8fb7614625bcc612",
       "version_major": 2,
       "version_minor": 0
      },
      "text/plain": [
       "interactive(children=(IntSlider(value=3, description='habitaciones', max=5, min=1), FloatSlider(value=3.0, des…"
      ]
     },
     "metadata": {},
     "output_type": "display_data"
    }
   ],
   "source": [
    "# Widget interactivo para explorar el modelo\n",
    "from ipywidgets import interactive\n",
    "\n",
    "def plot_regression(habitaciones=3, ingresos=3.0):\n",
    "    x_new = [[habitaciones, ingresos]]\n",
    "    pred = modelo.predict(x_new)[0]\n",
    "    \n",
    "    fig, ax = plt.subplots(figsize=(10,6))\n",
    "    ax.scatter(X_train['median_income'], y_train, alpha=0.3)\n",
    "    ax.scatter(ingresos, pred, color='red', s=100)\n",
    "    ax.set_xlabel('Ingreso Medio')\n",
    "    ax.set_ylabel('Precio Medio de Vivienda')\n",
    "    ax.set_title(f'Predicción: ${pred:,.2f}')\n",
    "    plt.show()\n",
    "\n",
    "interactive_plot = interactive(plot_regression, \n",
    "                              habitaciones=(1, 5, 1),\n",
    "                              ingresos=(1.0, 10.0, 0.5))\n",
    "display(interactive_plot)\n",
    "\n"
   ]
  },
  {
   "cell_type": "markdown",
   "id": "89582f7f",
   "metadata": {},
   "source": [
    "\n",
    "Este diseño integra todos los elementos solicitados, proporcionando una experiencia de aprendizaje completa que va desde los fundamentos de Python hasta la implementación práctica de modelos de regresión para predicción de precios de vivienda, todo ello en un contexto de aprendizaje activo y basado en proyectos."
   ]
  },
  {
   "cell_type": "markdown",
   "id": "858c856a",
   "metadata": {},
   "source": [
    "[Video de apoyo a la presentación de la estructura de esta clase]()"
   ]
  },
  {
   "cell_type": "markdown",
   "id": "df8fc7d5",
   "metadata": {},
   "source": [
    "# Implementación de esta clase    \n"
   ]
  },
  {
   "cell_type": "markdown",
   "id": "20bf69a4",
   "metadata": {},
   "source": [
    "\n",
    "# Diseño de Clase: \"Adquisición de elementos del lenguaje Python para modelos de regresión para predicción de precios de vivienda en Machine Learning\"\n",
    "\n",
    "## 1. Título de la Clase\n",
    "**\"Python para el Mercado Inmobiliario: Modelando el Futuro con Regresión Lineal\"**\n",
    "\n",
    "## 2. Objetivos de Aprendizaje\n",
    "\n",
    "| Objetivo | Indicadores de Logro |\n",
    "|----------|----------------------|\n",
    "| Comprender los fundamentos de Python para ciencia de datos | El estudiante crea DataFrames y realiza operaciones básicas con Pandas |\n",
    "| Aplicar técnicas de visualización para exploración de datos | Genera histogramas, gráficos de dispersión y mapas de calor con Matplotlib/Seaborn |\n",
    "| Implementar modelos de regresión lineal | Construye un modelo predictivo con scikit-learn y evalúa su rendimiento |\n",
    "| Analizar datos inmobiliarios reales | Preprocesa datos de viviendas y extrae características relevantes |\n",
    "| Desarrollar pensamiento computacional | Crea funciones personalizadas para automatizar el flujo de trabajo |\n",
    "\n",
    "## 3. Mapa Conceptual\n",
    "\n",
    "```python\n",
    "from graphviz import Digraph\n",
    "\n",
    "dot = Digraph(\"Python_Regresion\", format=\"png\")\n",
    "dot.attr(bgcolor=\"#f7f7f7\", rankdir=\"LR\")\n",
    "\n",
    "# Nodos principales\n",
    "dot.node(\"Python\", \"Python para DS\", shape=\"ellipse\", style=\"filled\", fillcolor=\"#FFD700\", color=\"#FF8C00\")\n",
    "dot.node(\"Pandas\", \"Pandas\", shape=\"box\", style=\"filled\", fillcolor=\"#87CEFA\", color=\"#1E90FF\")\n",
    "dot.node(\"Visualizacion\", \"Visualización\", shape=\"box\", style=\"filled\", fillcolor=\"#98FB98\", color=\"#2E8B57\")\n",
    "dot.node(\"Regresion\", \"Regresión Lineal\", shape=\"ellipse\", style=\"filled\", fillcolor=\"#FFA07A\", color=\"#FF4500\")\n",
    "dot.node(\"Proyecto\", \"Proyecto Inmobiliario\", shape=\"house\", style=\"filled\", fillcolor=\"#9370DB\", color=\"#4B0082\")\n",
    "\n",
    "# Subnodos\n",
    "dot.node(\"DataFrames\", \"DataFrames\", shape=\"note\")\n",
    "dot.node(\"Filtros\", \"Filtros\", shape=\"note\")\n",
    "dot.node(\"Matplotlib\", \"Matplotlib\", shape=\"note\")\n",
    "dot.node(\"Seaborn\", \"Seaborn\", shape=\"note\")\n",
    "dot.node(\"SKLearn\", \"scikit-learn\", shape=\"note\")\n",
    "dot.node(\"Metricas\", \"Métricas\", shape=\"note\")\n",
    "\n",
    "# Conexiones\n",
    "dot.edge(\"Python\", \"Pandas\")\n",
    "dot.edge(\"Python\", \"Visualizacion\")\n",
    "dot.edge(\"Python\", \"Regresion\")\n",
    "dot.edge(\"Pandas\", \"DataFrames\")\n",
    "dot.edge(\"Pandas\", \"Filtros\")\n",
    "dot.edge(\"Visualizacion\", \"Matplotlib\")\n",
    "dot.edge(\"Visualizacion\", \"Seaborn\")\n",
    "dot.edge(\"Regresion\", \"SKLearn\")\n",
    "dot.edge(\"Regresion\", \"Metricas\")\n",
    "dot.edge(\"Regresion\", \"Proyecto\")\n",
    "dot.edge(\"Pandas\", \"Proyecto\")\n",
    "dot.edge(\"Visualizacion\", \"Proyecto\")\n",
    "\n",
    "dot.render(\"C:/Users/marco/Downloads/Python_Regresion\", view=True)\n",
    "```\n",
    "\n",
    "## 4. Historia y Epistemología (Estilo Cuentero Antioqueño)\n",
    "\n",
    "*\"¡Ay hombe!* Les voy a contar una historia que comienza en los años 70, cuando un holandés llamado Guido van Rossum, como buen europeo aburrido en Navidad, decidió crear un lenguaje de programación que fuera más fácil de leer que un periódico. Así nació Python, nombrado no por la serpiente sino por los Monty Python, ¡qué vaina tan loca!\"\n",
    "\n",
    "*\"Pero esto se pone bueno...\"* En los 90, un tal Travis Oliphant, junto con otros científicos, vieron que Python necesitaba mejores herramientas para números. Así nacieron NumPy y SciPy, como quien hace un sancocho pa'l almuerzo.\n",
    "\n",
    "*\"Y entonces llegó Wes McKinney en 2008...\"* Trabajando en un fondo de inversión, se cansó de sufrir con Excel y creó Pandas, que no es el animal sino la biblioteca que hoy usamos para jugar con datos como quien juega una partida de tejo.\n",
    "\n",
    "*\"Y aquí estamos nosotros...\"* Usando estas herramientas para predecir precios de casas, como si fuéramos adivinos pero con matemáticas. ¡Eso es progreso, mijito!\n",
    "\n",
    "## 5. Contenido de la Clase (Enfoque ABPP)\n",
    "\n",
    "**Situación Real:** Un corredor inmobiliario necesita predecir precios de viviendas en Medellín para ofrecer mejores asesorías.\n",
    "\n",
    "### 5.1 Exploración de Datos\n",
    "```python\n",
    "import pandas as pd\n",
    "import seaborn as sns\n",
    "import matplotlib.pyplot as plt\n",
    "\n",
    "# Cargar datos (similares al cuaderno original)\n",
    "url = \"https://raw.githubusercontent.com/ageron/handson-ml2/master/datasets/housing/housing.csv\"\n",
    "viviendas = pd.read_csv(url)\n",
    "\n",
    "# Visualización interactiva\n",
    "from ipywidgets import interact\n",
    "\n",
    "@interact\n",
    "def explorar(columna=viviendas.columns):\n",
    "    plt.figure(figsize=(10,5))\n",
    "    if viviendas[columna].dtype in ['int64','float64']:\n",
    "        sns.histplot(viviendas[columna], kde=True)\n",
    "    else:\n",
    "        sns.countplot(data=viviendas, x=columna)\n",
    "    plt.title(f\"Distribución de {columna}\")\n",
    "    plt.xticks(rotation=45)\n",
    "    plt.show()\n",
    "```\n",
    "\n",
    "### 5.2 Modelo Matemático\n",
    "La regresión lineal simple se representa como:\n",
    "\n",
    "$$ y = \\beta_0 + \\beta_1x_1 + \\epsilon $$\n",
    "\n",
    "Donde:\n",
    "- $y$ = Precio de la vivienda (variable objetivo)\n",
    "- $\\beta_0$ = Intercepto\n",
    "- $\\beta_1$ = Coeficiente para la característica $x_1$ (ej. número de habitaciones)\n",
    "- $\\epsilon$ = Error\n",
    "\n",
    "### 5.3 Implementación del Modelo\n",
    "```python\n",
    "from sklearn.linear_model import LinearRegression\n",
    "from sklearn.model_selection import train_test_split\n",
    "\n",
    "# Preparar datos\n",
    "X = viviendas[['median_income']]\n",
    "y = viviendas['median_house_value']\n",
    "\n",
    "# Dividir datos\n",
    "X_train, X_test, y_train, y_test = train_test_split(X, y, test_size=0.2, random_state=42)\n",
    "\n",
    "# Crear y entrenar modelo\n",
    "modelo = LinearRegression()\n",
    "modelo.fit(X_train, y_train)\n",
    "\n",
    "# Visualización animada\n",
    "from matplotlib.animation import FuncAnimation\n",
    "from IPython.display import HTML\n",
    "\n",
    "fig, ax = plt.subplots(figsize=(10,6))\n",
    "ax.scatter(X_train, y_train, color='blue', alpha=0.5, label='Datos entrenamiento')\n",
    "line, = ax.plot([], [], color='red', linewidth=2, label='Regresión')\n",
    "\n",
    "def init():\n",
    "    ax.set_xlim(X.min(), X.max())\n",
    "    ax.set_ylim(y.min(), y.max())\n",
    "    return line,\n",
    "\n",
    "def update(frame):\n",
    "    partial_X = X_train[:frame]\n",
    "    partial_y = y_train[:frame]\n",
    "    if len(partial_X) > 1:\n",
    "        partial_model = LinearRegression().fit(partial_X, partial_y)\n",
    "        x_vals = np.array([X.min(), X.max()])\n",
    "        y_vals = partial_model.predict(x_vals.reshape(-1,1))\n",
    "        line.set_data(x_vals, y_vals)\n",
    "    return line,\n",
    "\n",
    "ani = FuncAnimation(fig, update, frames=range(1, len(X_train), init_func=init, blit=True, interval=100)\n",
    "HTML(ani.to_jshtml())\n",
    "```\n",
    "\n",
    "## 6. Actividades de Aprendizaje (STEAMS)\n",
    "\n",
    "**Ciencia:** Analizar cómo las características físicas afectan el precio  \n",
    "**Tecnología:** Implementar el modelo en Python  \n",
    "**Ingeniería:** Diseñar un pipeline de preprocesamiento  \n",
    "**Artes:** Crear visualizaciones atractivas para presentar resultados  \n",
    "**Matemáticas:** Interpretar los coeficientes del modelo  \n",
    "**Sociedad:** Discutir implicaciones éticas de los modelos predictivos\n",
    "\n",
    "## 7. Poema de Aprendizaje\n",
    "\n",
    "```\n",
    "Los datos son como el barro,\n",
    "con Python los moldeamos,\n",
    "Pandas nos ayuda a ver\n",
    "lo que antes no notamos.\n",
    "\n",
    "Matplotlib grafica,\n",
    "Seaborn embellece,\n",
    "la regresión lineal\n",
    "nuestro modelo enriquece.\n",
    "\n",
    "Con scikit-learn avanzamos,\n",
    "el futuro predecimos,\n",
    "y aunque el modelo no es perfecto,\n",
    "¡cada día mejor lo hacemos!\n",
    "```\n",
    "\n",
    "## 8. Tareas de Ejercitación\n",
    "\n",
    "1. **Exploración de Datos**:  \n",
    "   - Calcular estadísticas descriptivas para todas las columnas numéricas  \n",
    "   - Identificar y manejar valores faltantes  \n",
    "   - Crear 3 visualizaciones que muestren relaciones interesantes\n",
    "\n",
    "2. **Preprocesamiento**:  \n",
    "   - Estandarizar características numéricas  \n",
    "   - Codificar variables categóricas  \n",
    "   - Crear nuevas características (feature engineering)\n",
    "\n",
    "3. **Modelado**:  \n",
    "   - Implementar regresión lineal múltiple  \n",
    "   - Evaluar el modelo usando RMSE y R²  \n",
    "   - Interpretar los coeficientes del modelo\n",
    "\n",
    "## 9. Evaluación\n",
    "\n",
    "**10 Proyectos:**  \n",
    "1. Análisis exploratorio de un nuevo conjunto de datos inmobiliarios  \n",
    "2. Sistema de recomendación de precios para una inmobiliaria  \n",
    "3. Dashboard interactivo con visualizaciones  \n",
    "4. Modelo de regresión con regularización (Ridge/Lasso)  \n",
    "5. Comparación de múltiples algoritmos de regresión  \n",
    "6. Análisis de residuos y diagnóstico del modelo  \n",
    "7. Sistema de predicción con entrada interactiva  \n",
    "8. Despliegue del modelo con Streamlit  \n",
    "9. Análisis de importancia de características  \n",
    "10. Documentación técnica del proyecto\n",
    "\n",
    "**Quiz Ejemplo (3 preguntas):**  \n",
    "1. ¿Qué función de Pandas usarías para obtener las estadísticas descriptivas básicas?  \n",
    "2. Explica qué representa el coeficiente R² en un modelo de regresión  \n",
    "3. ¿Cómo manejarías valores faltantes en una columna numérica?\n",
    "\n",
    "**Parcial Ejemplo (5 puntos):**  \n",
    "1. Cargar y explorar un dataset proporcionado (1 punto)  \n",
    "2. Preprocesar los datos adecuadamente (1 punto)  \n",
    "3. Entrenar un modelo de regresión lineal (1 punto)  \n",
    "4. Evaluar el modelo con métricas apropiadas (1 punto)  \n",
    "5. Interpretar los resultados y hacer recomendaciones (1 punto)\n",
    "\n",
    "## 10. Retroalimentación\n",
    "\n",
    "**Técnica \"3-2-1\":**  \n",
    "- 3 conceptos que aprendieron  \n",
    "- 2 dudas que aún tienen  \n",
    "- 1 aplicación que imaginan para estos conocimientos\n",
    "\n",
    "**Rúbrica de Evaluación:**  \n",
    "| Criterio | Excelente (5) | Satisfactorio (3) | Necesita Mejora (1) |\n",
    "|----------|--------------|-------------------|---------------------|\n",
    "| Manejo de datos | Transforma datos creativamente | Realiza operaciones básicas | Dificultad con operaciones simples |\n",
    "| Visualización | Gráficos claros y enriquecidos | Gráficos funcionales | Gráficos incompletos o confusos |\n",
    "| Modelado | Implementa técnicas avanzadas | Modelo básico funcional | Modelo no funciona correctamente |\n",
    "| Interpretación | Extrae insights valiosos | Explica resultados básicos | No puede interpretar resultados |\n",
    "\n",
    "## 11. Vocabulario en Inglés\n",
    "\n",
    "**Términos Clave:**  \n",
    "- DataFrame: Estructura de datos tabular  \n",
    "- Feature: Característica o variable predictora  \n",
    "- Target: Variable objetivo a predecir  \n",
    "- Overfitting: Sobreajuste del modelo a datos de entrenamiento  \n",
    "- Pipeline: Flujo de procesamiento de datos automatizado  \n",
    "\n",
    "**Frases Útiles:**  \n",
    "- \"Let's load the dataset using pandas\"  \n",
    "- \"The scatter plot shows a linear relationship\"  \n",
    "- \"We need to split the data into training and test sets\"  \n",
    "- \"The model's R-squared score indicates...\"  \n",
    "- \"Feature engineering can improve the predictions by...\"\n",
    "\n",
    "## Material Adicional Interactivo\n",
    "\n",
    "```python\n",
    "# Widget interactivo para explorar el modelo\n",
    "from ipywidgets import interactive\n",
    "\n",
    "def plot_regression(habitaciones=3, ingresos=3.0):\n",
    "    x_new = [[habitaciones, ingresos]]\n",
    "    pred = modelo.predict(x_new)[0]\n",
    "    \n",
    "    fig, ax = plt.subplots(figsize=(10,6))\n",
    "    ax.scatter(X_train['median_income'], y_train, alpha=0.3)\n",
    "    ax.scatter(ingresos, pred, color='red', s=100)\n",
    "    ax.set_xlabel('Ingreso Medio')\n",
    "    ax.set_ylabel('Precio Medio de Vivienda')\n",
    "    ax.set_title(f'Predicción: ${pred:,.2f}')\n",
    "    plt.show()\n",
    "\n",
    "interactive_plot = interactive(plot_regression, \n",
    "                              habitaciones=(1, 5, 1),\n",
    "                              ingresos=(1.0, 10.0, 0.5))\n",
    "display(interactive_plot)\n",
    "```\n",
    "\n",
    "Este diseño integra todos los elementos solicitados, proporcionando una experiencia de aprendizaje completa que va desde los fundamentos de Python hasta la implementación práctica de modelos de regresión para predicción de precios de vivienda, todo ello en un contexto de aprendizaje activo y basado en proyectos."
   ]
  },
  {
   "cell_type": "markdown",
   "id": "923b2e2b",
   "metadata": {},
   "source": [
    "# Una actividad de aprendizaje más para python para regresión  \n"
   ]
  },
  {
   "cell_type": "markdown",
   "id": "12781dd1",
   "metadata": {},
   "source": [
    "\n",
    "## Taller Introductorio a Python para Modelación\n"
   ]
  },
  {
   "cell_type": "markdown",
   "id": "804e3a8a",
   "metadata": {},
   "source": [
    "\n",
    "## Objetivo\n",
    "Este taller proporcionará los fundamentos esenciales del lenguaje Python necesarios para comprender y trabajar con el cuaderno de modelación de precios de vivienda.\n"
   ]
  },
  {
   "cell_type": "markdown",
   "id": "c205d431",
   "metadata": {},
   "source": [
    "\n",
    "## Contenido\n",
    "\n",
    "### 1. Variables y Tipos de Datos\n"
   ]
  },
  {
   "cell_type": "code",
   "execution_count": null,
   "id": "a8eb2d3a",
   "metadata": {},
   "outputs": [],
   "source": [
    "# Enteros y flotantes\n",
    "edad = 30\n",
    "precio = 450000.50\n"
   ]
  },
  {
   "cell_type": "code",
   "execution_count": null,
   "id": "0c480e65",
   "metadata": {},
   "outputs": [],
   "source": [
    "\n",
    "# Cadenas de texto\n",
    "direccion = \"Calle Principal 123\"\n"
   ]
  },
  {
   "cell_type": "code",
   "execution_count": null,
   "id": "0d10f3df",
   "metadata": {},
   "outputs": [],
   "source": [
    "\n",
    "# Booleanos\n",
    "es_valido = True\n"
   ]
  },
  {
   "cell_type": "code",
   "execution_count": null,
   "id": "5cafbc77",
   "metadata": {},
   "outputs": [],
   "source": [
    "\n",
    "# Listas (mutables)\n",
    "caracteristicas = [\"habitaciones\", \"baños\", \"metros_cuadrados\"]\n"
   ]
  },
  {
   "cell_type": "code",
   "execution_count": null,
   "id": "9e9cc310",
   "metadata": {},
   "outputs": [],
   "source": [
    "\n",
    "# Tuplas (inmutables)\n",
    "coordenadas = (40.7128, -74.0060)\n"
   ]
  },
  {
   "cell_type": "code",
   "execution_count": null,
   "id": "3df2c9dc",
   "metadata": {},
   "outputs": [],
   "source": [
    "\n",
    "# Diccionarios (clave-valor)\n",
    "casa = {\n",
    "    \"habitaciones\": 3,\n",
    "    \"baños\": 2,\n",
    "    \"precio\": 450000\n",
    "}\n",
    "\n"
   ]
  },
  {
   "cell_type": "markdown",
   "id": "9a9f2999",
   "metadata": {},
   "source": [
    "\n",
    "### 2. Estructuras de Control\n"
   ]
  },
  {
   "cell_type": "code",
   "execution_count": 6,
   "id": "b829b658",
   "metadata": {},
   "outputs": [],
   "source": [
    "precio = 250_000"
   ]
  },
  {
   "cell_type": "code",
   "execution_count": 7,
   "id": "48ffb663",
   "metadata": {},
   "outputs": [
    {
     "name": "stdout",
     "output_type": "stream",
     "text": [
      "Casa económica\n"
     ]
    }
   ],
   "source": [
    "# Condicionales\n",
    "if precio > 500000:\n",
    "    print(\"Casa de lujo\")\n",
    "elif 300_000 < precio < 500_000:\n",
    "    print(\"Casa estándar\")\n",
    "else:\n",
    "    print(\"Casa económica\")\n"
   ]
  },
  {
   "cell_type": "code",
   "execution_count": 9,
   "id": "219ac695",
   "metadata": {},
   "outputs": [],
   "source": [
    "caracteristicas = ['antiguaedad', 'numero de habitaciones']"
   ]
  },
  {
   "cell_type": "code",
   "execution_count": 10,
   "id": "a60f1f61",
   "metadata": {},
   "outputs": [
    {
     "name": "stdout",
     "output_type": "stream",
     "text": [
      "antiguaedad\n",
      "numero de habitaciones\n"
     ]
    }
   ],
   "source": [
    "\n",
    "# Bucles\n",
    "for caracteristica in caracteristicas:\n",
    "    print(caracteristica)\n"
   ]
  },
  {
   "cell_type": "code",
   "execution_count": 11,
   "id": "bd242e0a",
   "metadata": {},
   "outputs": [
    {
     "name": "stdout",
     "output_type": "stream",
     "text": [
      "0\n",
      "1\n",
      "2\n",
      "3\n",
      "4\n"
     ]
    }
   ],
   "source": [
    "\n",
    "# Bucle while\n",
    "contador = 0\n",
    "while contador < 5:\n",
    "    print(contador)\n",
    "    contador += 1\n",
    "\n"
   ]
  },
  {
   "cell_type": "markdown",
   "id": "31ba7e40",
   "metadata": {},
   "source": [
    "\n",
    "### 3. Funciones\n"
   ]
  },
  {
   "cell_type": "code",
   "execution_count": 12,
   "id": "85040149",
   "metadata": {},
   "outputs": [],
   "source": [
    "def calcular_precio_por_m2(precio, metros):\n",
    "    \"\"\"Calcula el precio por metro cuadrado\"\"\"\n",
    "    return precio / metros\n"
   ]
  },
  {
   "cell_type": "code",
   "execution_count": 13,
   "id": "0afd5f85",
   "metadata": {},
   "outputs": [
    {
     "name": "stdout",
     "output_type": "stream",
     "text": [
      "Precio por m2: 3750.00\n"
     ]
    }
   ],
   "source": [
    "\n",
    "# Llamada a la función\n",
    "precio_m2 = calcular_precio_por_m2(450000, 120)\n",
    "print(f\"Precio por m2: {precio_m2:.2f}\")\n",
    "\n"
   ]
  },
  {
   "cell_type": "markdown",
   "id": "a331634d",
   "metadata": {},
   "source": [
    "\n",
    "### 4. Manejo de Archivos y Librerías\n"
   ]
  },
  {
   "cell_type": "code",
   "execution_count": 6,
   "id": "815c423f",
   "metadata": {},
   "outputs": [
    {
     "data": {
      "image/png": "[encoded data removed]",
      "text/plain": [
       "<Figure size 640x480 with 1 Axes>"
      ]
     },
     "metadata": {},
     "output_type": "display_data"
    }
   ],
   "source": [
    "# Importación de bibliotecas (como en el cuaderno)\n",
    "import pandas as pd\n",
    "import numpy as np\n",
    "import matplotlib.pyplot as plt\n",
    "\n",
    "# Lectura de datos (similar al cuaderno)\n",
    "data = pd.read_excel(r\"C:\\Users\\marco\\OneDrive - Universidad de Antioquia\\Documentos\\2_recursos_ensenanza\\3_dataset_glideres\\vivienda.xlsx\")\n",
    "\n",
    "# Visualización básica\n",
    "plt.hist(data[\"precio\"], bins=20)\n",
    "plt.title(\"Distribución de precios\")\n",
    "plt.xlabel(\"Precio\")\n",
    "plt.ylabel(\"Frecuencia\")\n",
    "plt.grid(alpha = 0.3)\n",
    "save_fig('Distribución_de_precios')\n",
    "plt.show()\n",
    "\n"
   ]
  },
  {
   "cell_type": "markdown",
   "id": "025fd4a0",
   "metadata": {},
   "source": [
    "\n",
    "### 5. Pandas para Análisis de Datos\n"
   ]
  },
  {
   "cell_type": "code",
   "execution_count": 2,
   "id": "daabf445",
   "metadata": {},
   "outputs": [],
   "source": [
    "\n",
    "# Creación de DataFrame\n",
    "df = pd.DataFrame({\n",
    "    \"zona\": [\"Norte\", \"Sur\", \"Este\", \"Oeste\"],\n",
    "    \"precio_medio\": [350000, 280000, 320000, 400000],\n",
    "    \"habitaciones\": [3, 2, 3, 4]\n",
    "})\n"
   ]
  },
  {
   "cell_type": "code",
   "execution_count": 3,
   "id": "586af071",
   "metadata": {},
   "outputs": [
    {
     "data": {
      "application/vnd.microsoft.datawrangler.viewer.v0+json": {
       "columns": [
        {
         "name": "index",
         "rawType": "int64",
         "type": "integer"
        },
        {
         "name": "zona",
         "rawType": "object",
         "type": "string"
        },
        {
         "name": "precio_medio",
         "rawType": "int64",
         "type": "integer"
        },
        {
         "name": "habitaciones",
         "rawType": "int64",
         "type": "integer"
        }
       ],
       "conversionMethod": "pd.DataFrame",
       "ref": "4c1429a5-8e07-41a3-b1fe-c18f7ec5da61",
       "rows": [
        [
         "0",
         "Norte",
         "350000",
         "3"
        ],
        [
         "1",
         "Sur",
         "280000",
         "2"
        ],
        [
         "2",
         "Este",
         "320000",
         "3"
        ],
        [
         "3",
         "Oeste",
         "400000",
         "4"
        ]
       ],
       "shape": {
        "columns": 3,
        "rows": 4
       }
      },
      "text/html": [
       "<div>\n",
       "<style scoped>\n",
       "    .dataframe tbody tr th:only-of-type {\n",
       "        vertical-align: middle;\n",
       "    }\n",
       "\n",
       "    .dataframe tbody tr th {\n",
       "        vertical-align: top;\n",
       "    }\n",
       "\n",
       "    .dataframe thead th {\n",
       "        text-align: right;\n",
       "    }\n",
       "</style>\n",
       "<table border=\"1\" class=\"dataframe\">\n",
       "  <thead>\n",
       "    <tr style=\"text-align: right;\">\n",
       "      <th></th>\n",
       "      <th>zona</th>\n",
       "      <th>precio_medio</th>\n",
       "      <th>habitaciones</th>\n",
       "    </tr>\n",
       "  </thead>\n",
       "  <tbody>\n",
       "    <tr>\n",
       "      <th>0</th>\n",
       "      <td>Norte</td>\n",
       "      <td>350000</td>\n",
       "      <td>3</td>\n",
       "    </tr>\n",
       "    <tr>\n",
       "      <th>1</th>\n",
       "      <td>Sur</td>\n",
       "      <td>280000</td>\n",
       "      <td>2</td>\n",
       "    </tr>\n",
       "    <tr>\n",
       "      <th>2</th>\n",
       "      <td>Este</td>\n",
       "      <td>320000</td>\n",
       "      <td>3</td>\n",
       "    </tr>\n",
       "    <tr>\n",
       "      <th>3</th>\n",
       "      <td>Oeste</td>\n",
       "      <td>400000</td>\n",
       "      <td>4</td>\n",
       "    </tr>\n",
       "  </tbody>\n",
       "</table>\n",
       "</div>"
      ],
      "text/plain": [
       "    zona  precio_medio  habitaciones\n",
       "0  Norte        350000             3\n",
       "1    Sur        280000             2\n",
       "2   Este        320000             3\n",
       "3  Oeste        400000             4"
      ]
     },
     "execution_count": 3,
     "metadata": {},
     "output_type": "execute_result"
    }
   ],
   "source": [
    "df"
   ]
  },
  {
   "cell_type": "code",
   "execution_count": 23,
   "id": "20309b89",
   "metadata": {},
   "outputs": [
    {
     "data": {
      "application/vnd.microsoft.datawrangler.viewer.v0+json": {
       "columns": [
        {
         "name": "index",
         "rawType": "int64",
         "type": "integer"
        },
        {
         "name": "zona",
         "rawType": "object",
         "type": "string"
        },
        {
         "name": "precio_medio",
         "rawType": "int64",
         "type": "integer"
        },
        {
         "name": "habitaciones",
         "rawType": "int64",
         "type": "integer"
        }
       ],
       "conversionMethod": "pd.DataFrame",
       "ref": "e6c8e63d-735f-49cb-97de-a4b2ed6b09bf",
       "rows": [
        [
         "0",
         "Norte",
         "350000",
         "3"
        ],
        [
         "1",
         "Sur",
         "280000",
         "2"
        ],
        [
         "2",
         "Este",
         "320000",
         "3"
        ],
        [
         "3",
         "Oeste",
         "400000",
         "4"
        ]
       ],
       "shape": {
        "columns": 3,
        "rows": 4
       }
      },
      "text/html": [
       "<div>\n",
       "<style scoped>\n",
       "    .dataframe tbody tr th:only-of-type {\n",
       "        vertical-align: middle;\n",
       "    }\n",
       "\n",
       "    .dataframe tbody tr th {\n",
       "        vertical-align: top;\n",
       "    }\n",
       "\n",
       "    .dataframe thead th {\n",
       "        text-align: right;\n",
       "    }\n",
       "</style>\n",
       "<table border=\"1\" class=\"dataframe\">\n",
       "  <thead>\n",
       "    <tr style=\"text-align: right;\">\n",
       "      <th></th>\n",
       "      <th>zona</th>\n",
       "      <th>precio_medio</th>\n",
       "      <th>habitaciones</th>\n",
       "    </tr>\n",
       "  </thead>\n",
       "  <tbody>\n",
       "    <tr>\n",
       "      <th>0</th>\n",
       "      <td>Norte</td>\n",
       "      <td>350000</td>\n",
       "      <td>3</td>\n",
       "    </tr>\n",
       "    <tr>\n",
       "      <th>1</th>\n",
       "      <td>Sur</td>\n",
       "      <td>280000</td>\n",
       "      <td>2</td>\n",
       "    </tr>\n",
       "    <tr>\n",
       "      <th>2</th>\n",
       "      <td>Este</td>\n",
       "      <td>320000</td>\n",
       "      <td>3</td>\n",
       "    </tr>\n",
       "    <tr>\n",
       "      <th>3</th>\n",
       "      <td>Oeste</td>\n",
       "      <td>400000</td>\n",
       "      <td>4</td>\n",
       "    </tr>\n",
       "  </tbody>\n",
       "</table>\n",
       "</div>"
      ],
      "text/plain": [
       "    zona  precio_medio  habitaciones\n",
       "0  Norte        350000             3\n",
       "1    Sur        280000             2\n",
       "2   Este        320000             3\n",
       "3  Oeste        400000             4"
      ]
     },
     "execution_count": 23,
     "metadata": {},
     "output_type": "execute_result"
    }
   ],
   "source": [
    "\n",
    "# Operaciones básicas\n",
    "df.head()  # Primeras filas\n"
   ]
  },
  {
   "cell_type": "code",
   "execution_count": 24,
   "id": "c40f35a6",
   "metadata": {},
   "outputs": [
    {
     "data": {
      "application/vnd.microsoft.datawrangler.viewer.v0+json": {
       "columns": [
        {
         "name": "index",
         "rawType": "object",
         "type": "string"
        },
        {
         "name": "precio_medio",
         "rawType": "float64",
         "type": "float"
        },
        {
         "name": "habitaciones",
         "rawType": "float64",
         "type": "float"
        }
       ],
       "conversionMethod": "pd.DataFrame",
       "ref": "305e60d2-db98-4f7c-802c-2c36e4f58e85",
       "rows": [
        [
         "count",
         "4.0",
         "4.0"
        ],
        [
         "mean",
         "337500.0",
         "3.0"
        ],
        [
         "std",
         "50579.969684978394",
         "0.816496580927726"
        ],
        [
         "min",
         "280000.0",
         "2.0"
        ],
        [
         "25%",
         "310000.0",
         "2.75"
        ],
        [
         "50%",
         "335000.0",
         "3.0"
        ],
        [
         "75%",
         "362500.0",
         "3.25"
        ],
        [
         "max",
         "400000.0",
         "4.0"
        ]
       ],
       "shape": {
        "columns": 2,
        "rows": 8
       }
      },
      "text/html": [
       "<div>\n",
       "<style scoped>\n",
       "    .dataframe tbody tr th:only-of-type {\n",
       "        vertical-align: middle;\n",
       "    }\n",
       "\n",
       "    .dataframe tbody tr th {\n",
       "        vertical-align: top;\n",
       "    }\n",
       "\n",
       "    .dataframe thead th {\n",
       "        text-align: right;\n",
       "    }\n",
       "</style>\n",
       "<table border=\"1\" class=\"dataframe\">\n",
       "  <thead>\n",
       "    <tr style=\"text-align: right;\">\n",
       "      <th></th>\n",
       "      <th>precio_medio</th>\n",
       "      <th>habitaciones</th>\n",
       "    </tr>\n",
       "  </thead>\n",
       "  <tbody>\n",
       "    <tr>\n",
       "      <th>count</th>\n",
       "      <td>4.000000</td>\n",
       "      <td>4.000000</td>\n",
       "    </tr>\n",
       "    <tr>\n",
       "      <th>mean</th>\n",
       "      <td>337500.000000</td>\n",
       "      <td>3.000000</td>\n",
       "    </tr>\n",
       "    <tr>\n",
       "      <th>std</th>\n",
       "      <td>50579.969685</td>\n",
       "      <td>0.816497</td>\n",
       "    </tr>\n",
       "    <tr>\n",
       "      <th>min</th>\n",
       "      <td>280000.000000</td>\n",
       "      <td>2.000000</td>\n",
       "    </tr>\n",
       "    <tr>\n",
       "      <th>25%</th>\n",
       "      <td>310000.000000</td>\n",
       "      <td>2.750000</td>\n",
       "    </tr>\n",
       "    <tr>\n",
       "      <th>50%</th>\n",
       "      <td>335000.000000</td>\n",
       "      <td>3.000000</td>\n",
       "    </tr>\n",
       "    <tr>\n",
       "      <th>75%</th>\n",
       "      <td>362500.000000</td>\n",
       "      <td>3.250000</td>\n",
       "    </tr>\n",
       "    <tr>\n",
       "      <th>max</th>\n",
       "      <td>400000.000000</td>\n",
       "      <td>4.000000</td>\n",
       "    </tr>\n",
       "  </tbody>\n",
       "</table>\n",
       "</div>"
      ],
      "text/plain": [
       "        precio_medio  habitaciones\n",
       "count       4.000000      4.000000\n",
       "mean   337500.000000      3.000000\n",
       "std     50579.969685      0.816497\n",
       "min    280000.000000      2.000000\n",
       "25%    310000.000000      2.750000\n",
       "50%    335000.000000      3.000000\n",
       "75%    362500.000000      3.250000\n",
       "max    400000.000000      4.000000"
      ]
     },
     "execution_count": 24,
     "metadata": {},
     "output_type": "execute_result"
    }
   ],
   "source": [
    "df.describe()  # Estadísticas descriptivas\n"
   ]
  },
  {
   "cell_type": "code",
   "execution_count": 26,
   "id": "9db0522a",
   "metadata": {},
   "outputs": [
    {
     "data": {
      "application/vnd.microsoft.datawrangler.viewer.v0+json": {
       "columns": [
        {
         "name": "index",
         "rawType": "int64",
         "type": "integer"
        },
        {
         "name": "zona",
         "rawType": "object",
         "type": "string"
        },
        {
         "name": "precio_medio",
         "rawType": "int64",
         "type": "integer"
        },
        {
         "name": "habitaciones",
         "rawType": "int64",
         "type": "integer"
        }
       ],
       "conversionMethod": "pd.DataFrame",
       "ref": "310b6b69-e6f2-4894-a7da-927a1bf1a6e6",
       "rows": [
        [
         "0",
         "Norte",
         "350000",
         "3"
        ],
        [
         "2",
         "Este",
         "320000",
         "3"
        ],
        [
         "3",
         "Oeste",
         "400000",
         "4"
        ]
       ],
       "shape": {
        "columns": 3,
        "rows": 3
       }
      },
      "text/html": [
       "<div>\n",
       "<style scoped>\n",
       "    .dataframe tbody tr th:only-of-type {\n",
       "        vertical-align: middle;\n",
       "    }\n",
       "\n",
       "    .dataframe tbody tr th {\n",
       "        vertical-align: top;\n",
       "    }\n",
       "\n",
       "    .dataframe thead th {\n",
       "        text-align: right;\n",
       "    }\n",
       "</style>\n",
       "<table border=\"1\" class=\"dataframe\">\n",
       "  <thead>\n",
       "    <tr style=\"text-align: right;\">\n",
       "      <th></th>\n",
       "      <th>zona</th>\n",
       "      <th>precio_medio</th>\n",
       "      <th>habitaciones</th>\n",
       "    </tr>\n",
       "  </thead>\n",
       "  <tbody>\n",
       "    <tr>\n",
       "      <th>0</th>\n",
       "      <td>Norte</td>\n",
       "      <td>350000</td>\n",
       "      <td>3</td>\n",
       "    </tr>\n",
       "    <tr>\n",
       "      <th>2</th>\n",
       "      <td>Este</td>\n",
       "      <td>320000</td>\n",
       "      <td>3</td>\n",
       "    </tr>\n",
       "    <tr>\n",
       "      <th>3</th>\n",
       "      <td>Oeste</td>\n",
       "      <td>400000</td>\n",
       "      <td>4</td>\n",
       "    </tr>\n",
       "  </tbody>\n",
       "</table>\n",
       "</div>"
      ],
      "text/plain": [
       "    zona  precio_medio  habitaciones\n",
       "0  Norte        350000             3\n",
       "2   Este        320000             3\n",
       "3  Oeste        400000             4"
      ]
     },
     "execution_count": 26,
     "metadata": {},
     "output_type": "execute_result"
    }
   ],
   "source": [
    "\n",
    "# Filtrado\n",
    "casas_caras = df[df[\"precio_medio\"] > 300000]\n",
    "\n",
    "casas_caras"
   ]
  },
  {
   "cell_type": "markdown",
   "id": "d2c5d33e",
   "metadata": {},
   "source": [
    "\n",
    "### 6. Visualización con Matplotlib y Seaborn\n"
   ]
  },
  {
   "cell_type": "code",
   "execution_count": 35,
   "id": "4c02dd8f",
   "metadata": {},
   "outputs": [
    {
     "data": {
      "image/png": "[encoded data removed]",
      "text/plain": [
       "<Figure size 640x480 with 1 Axes>"
      ]
     },
     "metadata": {},
     "output_type": "display_data"
    }
   ],
   "source": [
    "\n",
    "\n",
    "import seaborn as sns\n",
    "\n",
    "# Gráfico de barras\n",
    "plt.bar(df[\"zona\"], df[\"precio_medio\"])\n",
    "plt.title(\"Precio medio por zona\")\n",
    "plt.grid(alpha = 0.3)\n",
    "plt.show()\n"
   ]
  },
  {
   "cell_type": "code",
   "execution_count": 31,
   "id": "b0b5949c",
   "metadata": {},
   "outputs": [
    {
     "data": {
      "image/png": "[encoded data removed]",
      "text/plain": [
       "<Figure size 640x480 with 1 Axes>"
      ]
     },
     "metadata": {},
     "output_type": "display_data"
    }
   ],
   "source": [
    "\n",
    "# Diagrama de dispersión\n",
    "sns.scatterplot(x=\"habitaciones\", y=\"precio_medio\", data=df, color = 'red')\n",
    "plt.title(\"Relación habitaciones-precio\")\n",
    "plt.grid(alpha = 0.4)\n",
    "plt.show()\n",
    "\n"
   ]
  },
  {
   "cell_type": "markdown",
   "id": "8a48d3fc",
   "metadata": {},
   "source": [
    "\n",
    "### 7. Scikit-learn para Modelación\n"
   ]
  },
  {
   "cell_type": "markdown",
   "id": "0f6deb33",
   "metadata": {},
   "source": [
    "<img src = 'train_test.png'>"
   ]
  },
  {
   "cell_type": "code",
   "execution_count": 32,
   "id": "805b9e2e",
   "metadata": {},
   "outputs": [],
   "source": [
    "\n",
    "from sklearn.model_selection import train_test_split\n",
    "from sklearn.linear_model import LinearRegression\n",
    "\n",
    "\n",
    "# Preparación de datos\n",
    "X = df[[\"habitaciones\"]]\n",
    "y = df[\"precio_medio\"]\n",
    "\n",
    "# División en train/test\n",
    "X_train, X_test, y_train, y_test = train_test_split(X, y, test_size=0.2)\n",
    "\n",
    "# Creación y entrenamiento del modelo\n",
    "modelo = LinearRegression()\n",
    "modelo.fit(X_train, y_train)\n",
    "\n",
    "# Predicción\n",
    "y_pred = modelo.predict(X_test)\n",
    "\n"
   ]
  },
  {
   "cell_type": "code",
   "execution_count": 34,
   "id": "2c434952",
   "metadata": {},
   "outputs": [
    {
     "data": {
      "text/plain": [
       "(array([270000.]),\n",
       " 1    280000\n",
       " Name: precio_medio, dtype: int64)"
      ]
     },
     "execution_count": 34,
     "metadata": {},
     "output_type": "execute_result"
    }
   ],
   "source": [
    "y_pred, y_test "
   ]
  },
  {
   "cell_type": "markdown",
   "id": "17cff9a8",
   "metadata": {},
   "source": [
    "\n",
    "## Ejercicios Prácticos\n"
   ]
  },
  {
   "cell_type": "markdown",
   "id": "b65866d3",
   "metadata": {},
   "source": [
    "\n",
    "1. **Manipulación de Datos**:\n",
    "   - Crea un DataFrame con características de viviendas (habitaciones, baños, zona, precio)\n",
    "   - Filtra las viviendas con más de 2 habitaciones\n",
    "   - Calcula el precio promedio por zona\n"
   ]
  },
  {
   "cell_type": "markdown",
   "id": "aa101ff9",
   "metadata": {},
   "source": [
    "\n",
    "2. **Visualización**:\n",
    "   - Genera un histograma de los precios\n",
    "   - Crea un gráfico de dispersión entre habitaciones y precio\n",
    "   - Visualiza el precio medio por zona en un gráfico de barras\n"
   ]
  },
  {
   "cell_type": "markdown",
   "id": "3e6c9080",
   "metadata": {},
   "source": [
    "\n",
    "3. **Modelación Simple**:\n",
    "   - Implementa una regresión lineal para predecir el precio en función del número de habitaciones\n",
    "   - Evalúa el modelo usando los datos de prueba\n"
   ]
  },
  {
   "cell_type": "markdown",
   "id": "90ba83c4",
   "metadata": {},
   "source": [
    "\n",
    "## Consejos para Trabajar con el Cuaderno de Modelación\n"
   ]
  },
  {
   "cell_type": "markdown",
   "id": "cce05abb",
   "metadata": {},
   "source": [
    "\n",
    "1. **Exploración Inicial**:\n",
    "   - Usa `df.head()` y `df.info()` para entender la estructura de los datos\n",
    "   - Examina las estadísticas descriptivas con `df.describe()`\n"
   ]
  },
  {
   "cell_type": "markdown",
   "id": "9aa11bfc",
   "metadata": {},
   "source": [
    "\n",
    "2. **Preprocesamiento**:\n",
    "   - Maneja valores faltantes con `df.isnull().sum()`\n",
    "   - Codifica variables categóricas como se muestra en el cuaderno\n"
   ]
  },
  {
   "cell_type": "markdown",
   "id": "6761aefc",
   "metadata": {},
   "source": [
    "\n",
    "3. **Visualización**:\n",
    "   - Analiza correlaciones con `sns.heatmap(df.corr())`\n",
    "   - Identifica outliers con diagramas de caja\n"
   ]
  },
  {
   "cell_type": "markdown",
   "id": "dcaf5982",
   "metadata": {},
   "source": [
    "\n",
    "4. **Modelación**:\n",
    "   - Divide siempre tus datos en conjuntos de entrenamiento y prueba\n",
    "   - Evalúa diferentes modelos y compara sus métricas\n"
   ]
  },
  {
   "cell_type": "markdown",
   "id": "ec83b873",
   "metadata": {},
   "source": [
    "\n",
    "Este taller cubre los conceptos esenciales que necesitas para comprender y trabajar con el cuaderno de modelación de precios de vivienda. A medida que avances, podrás profundizar en cada una de estas áreas según sea necesario."
   ]
  },
  {
   "cell_type": "markdown",
   "id": "239427f7",
   "metadata": {},
   "source": [
    "# ARTÍCULO 1. Definir el calendario académico para los diferentes programas de pregrado de los campus\n",
    "regionalizados, correspondiente al primer periodo académico del año 2025, así:  \n",
    "\n",
    "\n",
    "* Límite evaluación del 40% 06 de abril de 2025\n",
    "* Terminación de clases 08 de junio de 2025\n",
    "* Exámenes finales 09 al 15 de junio de 2025\n",
    "* Habilitación y validación 16 al 22 de junio de 2025\n",
    "* Terminación oficial 23 de junio de 2025"
   ]
  },
  {
   "cell_type": "markdown",
   "id": "10bce0d0",
   "metadata": {
    "slideshow": {
     "slide_type": "slide"
    }
   },
   "source": [
    "## Referentes "
   ]
  },
  {
   "cell_type": "markdown",
   "id": "1db3c468",
   "metadata": {
    "slideshow": {
     "slide_type": "slide"
    }
   },
   "source": [
    "[Mesa Antioquia digital y sostenible.](https://www.instagram.com/claudiaramirezeche/p/C9naMDWx9Ra/)\n",
    "\n",
    "* [Cámara de Comercio de Medellín. Mesa Antioquia Digital Sostenible](https://www.camaramedellin.com.co/noticias/la-camara-lidera-la-mesa-antioquia-digital-y-sostenible)\n",
    "\n",
    "* R. Duval y Semiosis y pensamiento humano, 2.ª ed. Cali, Colombia: Programa Editorial Universidad del Valle, 2017. [En línea]. Disponible en: https://programaeditorial.univalle.edu.co/gpd-semiosis-y-pensamiento-humano-9789587655278-63324cdb0f6b3.html\n",
    "\n",
    "  \n",
    "* [Chollet, F. (2021). Deep learning with Python. Simon and Schuster.](chrome-extension://efaidnbmnnnibpcajpcglclefindmkaj/https://tanthiamhuat.wordpress.com/wp-content/uploads/2018/03/deeplearningwithpython.pdf)  \n",
    "  \n",
    "* [Recomendación de la UNESCO sobre ciencia abierta](https://unesdoc.unesco.org/ark:/48223/pf0000379949_spa)\n",
    "\n",
    "* [chatGPT](https://openai.com/blog/chatgpt)  \n"
   ]
  },
  {
   "cell_type": "markdown",
   "id": "af5fff0b",
   "metadata": {},
   "source": [
    "\n",
    "* [Géron, A. (2017). Hands-on machine learning with scikit-learn and tensorflow: Concepts. Tools, and Techniques to build intelligent systems.](chrome-extension://efaidnbmnnnibpcajpcglclefindmkaj/http://14.139.161.31/OddSem-0822-1122/Hands-On_Machine_Learning_with_Scikit-Learn-Keras-and-TensorFlow-2nd-Edition-Aurelien-Geron.pdf)   \n"
   ]
  },
  {
   "cell_type": "markdown",
   "id": "df925560",
   "metadata": {},
   "source": [
    "\n",
    "* [McKinney, W. (2012). Python for data analysis: Data wrangling with Pandas, NumPy, and IPython. \" O'Reilly Media, Inc.\".](https://wesmckinney.com/book/) "
   ]
  },
  {
   "cell_type": "markdown",
   "id": "8e65d6f9",
   "metadata": {},
   "source": [
    "# Como estudiante, encuentro que...   \n",
    "\n",
    "F: Mis Fortalezas son:     \n",
    "O: Mis Oportunidades son:    \n",
    "D: Mis Debilidades son:    \n",
    "A: Lo que Amenazas mi aprendizaje es:  "
   ]
  },
  {
   "cell_type": "markdown",
   "id": "6b9e56a8",
   "metadata": {
    "slideshow": {
     "slide_type": "slide"
    }
   },
   "source": [
    "### [Evaluamos al profesor Marco Cañas Aquí](https://forms.office.com/Pages/ResponsePage.aspx?id=IefhmYRxjkmK_7KtTlPBwkanXIs1i1FEujpsZgO6dXpUREJPV1kxUk1JV1ozTFJIQVNIQjY5WEY3US4u)"
   ]
  },
  {
   "cell_type": "markdown",
   "id": "10f43536",
   "metadata": {
    "slideshow": {
     "slide_type": "slide"
    }
   },
   "source": [
    "### Continue su aprendizaje en la siguiente clase a través del siguiente [vínculo]()"
   ]
  },
  {
   "cell_type": "markdown",
   "id": "53cc9115",
   "metadata": {
    "slideshow": {
     "slide_type": "slide"
    }
   },
   "source": [
    "## Agradecimientos  \n",
    "\n",
    "Doy gracias a Dios por la vida de mi Hijo Joseph Cañas Osorio y la madurez que ha alcanzado. Este hijo me enorgullece y me hace falta abrazarlo cada día. \n",
    "\n",
    "Y a mi esposa Yasmira Emperatriz Barboza Mogollón por su apoyo, orientación y acompañamiento. "
   ]
  },
  {
   "cell_type": "markdown",
   "id": "b6ba1c23",
   "metadata": {},
   "source": [
    "# Apéndice sobre calendarios y coordinaciones \n",
    "\n",
    "A continuación le envío el horario de la asignatura Cálculo Vectorial  \n",
    "\n",
    "Días:  \n",
    "Lunes - Hora: 7:00 a 12:00M  \n",
    "Fechas:  \n",
    "Febrero: 10-17-24                                          \n",
    " Marzo: 3-10-17-31                                                  \n",
    "Abril:7-21-28                                                   \n",
    "Mayo:5-12-19  \n",
    "\n",
    "Agradezco su apoyo, y si presenta alguna dificultad puede contactarme.  \n",
    "\n",
    "Cordialmente,  \n",
    "Juan Felipe Rivera Hernández  \n",
    "Contacto: 3106314300  "
   ]
  }
 ],
 "metadata": {
  "celltoolbar": "Slideshow",
  "kernelspec": {
   "display_name": ".venv",
   "language": "python",
   "name": "python3"
  },
  "language_info": {
   "codemirror_mode": {
    "name": "ipython",
    "version": 3
   },
   "file_extension": ".py",
   "mimetype": "text/x-python",
   "name": "python",
   "nbconvert_exporter": "python",
   "pygments_lexer": "ipython3",
   "version": "3.13.2"
  },
  "rise": {
   "enable_chalkboard": true,
   "theme": "sky",
   "transition": "zoom"
  }
 },
 "nbformat": 4,
 "nbformat_minor": 5
}
