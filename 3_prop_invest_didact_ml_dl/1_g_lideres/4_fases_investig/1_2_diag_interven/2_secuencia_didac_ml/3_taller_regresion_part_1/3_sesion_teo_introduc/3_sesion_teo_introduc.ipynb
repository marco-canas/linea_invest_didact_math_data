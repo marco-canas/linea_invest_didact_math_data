{
 "cells": [
  {
   "cell_type": "markdown",
   "metadata": {},
   "source": [
    "# **Diseño de la Sesión Teórica Introductoria**\n"
   ]
  },
  {
   "cell_type": "markdown",
   "metadata": {},
   "source": [
    "\n",
    "#### **Título de la Sesión**:  \n",
    "**\"Introducción al Machine Learning: Conceptos Básicos y Aplicaciones en el Ámbito Empresarial\"**\n",
    "\n",
    "---\n"
   ]
  },
  {
   "cell_type": "markdown",
   "metadata": {},
   "source": [
    "\n",
    "#### **Objetivo de la Sesión**:  \n",
    "Proporcionar a los estudiantes una comprensión clara de los conceptos básicos de Machine Learning (ML), sus aplicaciones en el ámbito empresarial y su relevancia en la transformación digital.\n",
    "\n",
    "---\n"
   ]
  },
  {
   "cell_type": "markdown",
   "metadata": {},
   "source": [
    "\n",
    "#### **Duración**:  \n",
    "1 hora y 30 minutos (90 minutos).\n",
    "\n",
    "---\n"
   ]
  },
  {
   "cell_type": "markdown",
   "metadata": {},
   "source": [
    "\n",
    "#### **Materiales Necesarios**:  \n",
    "- Presentación en PowerPoint o Google Slides.\n",
    "- Proyector y computador.\n",
    "- Acceso a internet para mostrar ejemplos en tiempo real.\n",
    "- Cuestionario inicial (encuesta) para evaluar conocimientos previos.\n",
    "\n",
    "---\n"
   ]
  },
  {
   "cell_type": "markdown",
   "metadata": {},
   "source": [
    "\n",
    "#### **Estructura de la Sesión**:\n",
    "\n",
    "---\n",
    "\n",
    "### **1. Bienvenida y Presentación (5 minutos)**  \n",
    "- **Objetivo**: Dar la bienvenida a los estudiantes y presentar el tema de la sesión.\n",
    "- **Actividades**:\n",
    "  - Saludo inicial y presentación del facilitador.\n",
    "  - Breve explicación de los objetivos de la sesión.\n",
    "  - Presentación de la agenda de la sesión.\n",
    "\n",
    "---\n"
   ]
  },
  {
   "cell_type": "markdown",
   "metadata": {},
   "source": [
    "\n",
    "### **2. Encuesta Inicial (10 minutos)**  \n",
    "- **Objetivo**: Evaluar el conocimiento previo de los estudiantes sobre ML, Python y análisis de datos.\n",
    "- **Actividades**:\n",
    "  - Distribución de un cuestionario breve (5-10 preguntas) para evaluar el nivel de conocimiento de los estudiantes.\n",
    "  - Ejemplos de preguntas:\n",
    "    1. ¿Has trabajado anteriormente con Python? (Sí/No)\n",
    "    2. ¿Sabes qué es Machine Learning? (Sí/No)\n",
    "    3. ¿Conoces alguna aplicación de ML en el ámbito empresarial? (Sí/No)\n",
    "  - Breve discusión de los resultados para ajustar el nivel de la sesión.\n",
    "\n",
    "---\n"
   ]
  },
  {
   "cell_type": "markdown",
   "metadata": {},
   "source": [
    "\n",
    "### **3. Introducción a Machine Learning (20 minutos)**  \n",
    "- **Objetivo**: Explicar los conceptos básicos de ML y su relevancia en el mundo actual.\n",
    "- **Actividades**:\n",
    "  - **Definición de Machine Learning**:  \n",
    "    - Explicación de qué es ML: \"El Machine Learning es una rama de la inteligencia artificial que permite a los sistemas aprender de los datos y mejorar su rendimiento en tareas específicas sin ser programados explícitamente.\"\n",
    "  - **Tipos de ML**:  \n",
    "    - Aprendizaje supervisado (ejemplo: predicción de ventas).\n",
    "    - Aprendizaje no supervisado (ejemplo: segmentación de clientes).\n",
    "    - Aprendizaje por refuerzo (ejemplo: sistemas de recomendación).\n",
    "  - **Importancia de ML en la transformación digital**:  \n",
    "    - Cómo ML está revolucionando industrias como finanzas, retail, salud, etc.\n",
    "    - Ejemplos de empresas que usan ML (Amazon, Netflix, Google).\n",
    "\n",
    "---\n"
   ]
  },
  {
   "cell_type": "markdown",
   "metadata": {},
   "source": [
    "\n",
    "### **4. Aplicaciones de ML en los Negocios (20 minutos)**  \n",
    "- **Objetivo**: Mostrar aplicaciones prácticas de ML en el ámbito empresarial.\n",
    "- **Actividades**:\n",
    "  - **Predicción de ventas**:  \n",
    "    - Cómo ML puede predecir tendencias de ventas basadas en datos históricos.\n",
    "  - **Segmentación de clientes**:  \n",
    "    - Uso de ML para agrupar clientes según su comportamiento de compra.\n",
    "  - **Detección de fraudes**:  \n",
    "    - Cómo ML identifica transacciones fraudulentas en tiempo real.\n",
    "  - **Chatbots y atención al cliente**:  \n",
    "    - Uso de ML para automatizar respuestas y mejorar la experiencia del cliente.\n",
    "  - **Optimización de inventarios**:  \n",
    "    - Cómo ML ayuda a predecir la demanda y optimizar los niveles de stock.\n",
    "\n",
    "---\n"
   ]
  },
  {
   "cell_type": "markdown",
   "metadata": {},
   "source": [
    "\n",
    "### **5. Caso de Estudio: Predicción de Deserción de Clientes (20 minutos)**  \n",
    "- **Objetivo**: Presentar un caso real donde se haya aplicado ML para resolver un problema empresarial.\n",
    "- **Actividades**:\n",
    "  - **Descripción del caso**:  \n",
    "    - Contexto: Una empresa de telecomunicaciones quiere reducir la tasa de deserción de clientes.\n",
    "    - Problema: Identificar qué clientes tienen mayor probabilidad de cancelar su servicio.\n",
    "    - Solución: Uso de ML para predecir la deserción basándose en datos históricos de clientes.\n",
    "  - **Resultados**:  \n",
    "    - Mejora en la retención de clientes y aumento de ingresos.\n",
    "  - **Discusión**:  \n",
    "    - ¿Cómo se podrían aplicar estos conceptos en otras industrias?\n",
    "\n",
    "---\n",
    "\n",
    "### **6. Preguntas y Respuestas (10 minutos)**  \n",
    "- **Objetivo**: Resolver dudas y fomentar la participación activa de los estudiantes.\n",
    "- **Actividades**:\n",
    "  - Espacio abierto para preguntas sobre los temas tratados.\n",
    "  - Discusión sobre cómo los estudiantes ven la aplicación de ML en sus futuros roles profesionales.\n",
    "\n",
    "---\n",
    "\n",
    "### **7. Cierre y Próximos Pasos (5 minutos)**  \n",
    "- **Objetivo**: Resumir la sesión y presentar las actividades siguientes.\n",
    "- **Actividades**:\n",
    "  - Resumen de los puntos clave de la sesión.\n",
    "  - Presentación de la próxima actividad: Taller práctico de Python y preprocesamiento de datos.\n",
    "  - Agradecimiento y despedida.\n",
    "\n",
    "---\n"
   ]
  },
  {
   "cell_type": "markdown",
   "metadata": {},
   "source": [
    "\n",
    "#### **Evaluación de la Sesión**:  \n",
    "- **Encuesta de satisfacción**: Al final de la sesión, se distribuirá una encuesta breve para evaluar la claridad de la explicación, la utilidad de los ejemplos y la relevancia del contenido.\n",
    "- **Feedback verbal**: Durante la sesión, se fomentará la participación activa para recoger impresiones en tiempo real.\n",
    "\n",
    "---\n",
    "\n",
    "#### **Notas Adicionales**:  \n",
    "- La sesión debe ser interactiva, con ejemplos visuales y preguntas que fomenten la participación.\n",
    "- Se recomienda usar herramientas como Google Colab para mostrar ejemplos en vivo, si el tiempo lo permite.\n",
    "- Adaptar el lenguaje y los ejemplos al nivel de conocimiento de los estudiantes, basándose en los resultados de la encuesta inicial.\n",
    "\n",
    "---\n"
   ]
  },
  {
   "cell_type": "markdown",
   "metadata": {},
   "source": [
    "\n",
    "Este diseño de sesión teórica introductoria está pensado para ser claro, interactivo y enfocado en la aplicabilidad de ML en el ámbito empresarial, alineándose con los objetivos de la propuesta de investigación."
   ]
  },
  {
   "cell_type": "markdown",
   "metadata": {},
   "source": [
    "# Implementación de esta sesión introductoria "
   ]
  },
  {
   "cell_type": "markdown",
   "metadata": {},
   "source": [
    "# **Diseño de la Sesión Teórica Introductoria**\n"
   ]
  },
  {
   "cell_type": "markdown",
   "metadata": {},
   "source": [
    "\n",
    "#### **Título de la Sesión**:  \n",
    "**\"Introducción al Machine Learning: Conceptos Básicos y Aplicaciones en el Ámbito Empresarial\"**\n",
    "\n",
    "---\n"
   ]
  },
  {
   "cell_type": "markdown",
   "metadata": {},
   "source": [
    "\n",
    "#### **Objetivo de la Sesión**:  \n",
    "Proporcionar a los estudiantes una comprensión clara de los conceptos básicos de Machine Learning (ML), sus aplicaciones en el ámbito empresarial y su relevancia en la transformación digital.\n",
    "\n",
    "---\n"
   ]
  },
  {
   "cell_type": "markdown",
   "metadata": {},
   "source": [
    "\n",
    "### **2. Encuesta Inicial (10 minutos)**  \n",
    "- **Objetivo**: Evaluar el conocimiento previo de los estudiantes sobre ML, Python y análisis de datos.\n",
    "- **Actividades**:\n",
    "  - Distribución de un cuestionario breve (5-10 preguntas) para evaluar el nivel de conocimiento de los estudiantes.\n",
    "  - Ejemplos de preguntas:\n",
    "    1. ¿Has trabajado anteriormente con Python? (Sí/No)\n",
    "    2. ¿Sabes qué es Machine Learning? (Sí/No)\n",
    "    3. ¿Conoces alguna aplicación de ML en el ámbito empresarial? (Sí/No)\n",
    "  - Breve discusión de los resultados para ajustar el nivel de la sesión.\n",
    "\n",
    "---\n"
   ]
  },
  {
   "cell_type": "markdown",
   "metadata": {},
   "source": []
  },
  {
   "cell_type": "markdown",
   "metadata": {},
   "source": [
    "\n",
    "### **3. Introducción a Machine Learning (20 minutos)**  \n",
    "- **Objetivo**: Explicar los conceptos básicos de ML y su relevancia en el mundo actual.\n",
    "- **Actividades**:\n",
    "  - **Definición de Machine Learning**:  \n",
    "    - Explicación de qué es ML: \"El Machine Learning es una rama de la inteligencia artificial que permite a los sistemas aprender de los datos y mejorar su rendimiento en tareas específicas sin ser programados explícitamente.\"\n",
    "  - **Tipos de ML**:  \n",
    "    - Aprendizaje supervisado (ejemplo: predicción de ventas).\n",
    "    - Aprendizaje no supervisado (ejemplo: segmentación de clientes).\n",
    "    - Aprendizaje por refuerzo (ejemplo: sistemas de recomendación).\n",
    "  - **Importancia de ML en la transformación digital**:  \n",
    "    - Cómo ML está revolucionando industrias como finanzas, retail, salud, etc.\n",
    "    - Ejemplos de empresas que usan ML (Amazon, Netflix, Google).\n",
    "\n",
    "---\n"
   ]
  },
  {
   "cell_type": "markdown",
   "metadata": {},
   "source": []
  },
  {
   "cell_type": "markdown",
   "metadata": {},
   "source": [
    "\n",
    "### **4. Aplicaciones de ML en los Negocios (20 minutos)**  \n",
    "- **Objetivo**: Mostrar aplicaciones prácticas de ML en el ámbito empresarial.\n",
    "- **Actividades**:\n",
    "  - **Predicción de ventas**:  \n",
    "    - Cómo ML puede predecir tendencias de ventas basadas en datos históricos.\n",
    "  - **Segmentación de clientes**:  \n",
    "    - Uso de ML para agrupar clientes según su comportamiento de compra.\n",
    "  - **Detección de fraudes**:  \n",
    "    - Cómo ML identifica transacciones fraudulentas en tiempo real.\n",
    "  - **Chatbots y atención al cliente**:  \n",
    "    - Uso de ML para automatizar respuestas y mejorar la experiencia del cliente.\n",
    "  - **Optimización de inventarios**:  \n",
    "    - Cómo ML ayuda a predecir la demanda y optimizar los niveles de stock.\n",
    "\n",
    "---\n"
   ]
  },
  {
   "cell_type": "markdown",
   "metadata": {},
   "source": []
  },
  {
   "cell_type": "markdown",
   "metadata": {},
   "source": [
    "\n",
    "### **5. Caso de Estudio: Predicción de Deserción de Clientes (20 minutos)**  \n",
    "- **Objetivo**: Presentar un caso real donde se haya aplicado ML para resolver un problema empresarial.\n",
    "- **Actividades**:\n",
    "  - **Descripción del caso**:  \n",
    "    - Contexto: Una empresa de telecomunicaciones quiere reducir la tasa de deserción de clientes.\n",
    "    - Problema: Identificar qué clientes tienen mayor probabilidad de cancelar su servicio.\n",
    "    - Solución: Uso de ML para predecir la deserción basándose en datos históricos de clientes.\n",
    "  - **Resultados**:  \n",
    "    - Mejora en la retención de clientes y aumento de ingresos.\n",
    "  - **Discusión**:  \n",
    "    - ¿Cómo se podrían aplicar estos conceptos en otras industrias?\n",
    "\n",
    "---\n"
   ]
  },
  {
   "cell_type": "markdown",
   "metadata": {},
   "source": [
    "\n",
    "### **6. Preguntas y Respuestas (10 minutos)**  \n",
    "- **Objetivo**: Resolver dudas y fomentar la participación activa de los estudiantes.\n",
    "- **Actividades**:\n",
    "  - Espacio abierto para preguntas sobre los temas tratados.\n",
    "  - Discusión sobre cómo los estudiantes ven la aplicación de ML en sus futuros roles profesionales.\n",
    "\n",
    "---\n"
   ]
  },
  {
   "cell_type": "markdown",
   "metadata": {},
   "source": [
    "\n",
    "### **7. Cierre y Próximos Pasos (5 minutos)**  \n",
    "- **Objetivo**: Resumir la sesión y presentar las actividades siguientes.\n",
    "- **Actividades**:\n",
    "  - Resumen de los puntos clave de la sesión.\n",
    "  - Presentación de la próxima actividad: Taller práctico de Python y preprocesamiento de datos.\n",
    "  - Agradecimiento y despedida.\n",
    "\n",
    "---\n"
   ]
  },
  {
   "cell_type": "markdown",
   "metadata": {
    "vscode": {
     "languageId": "plaintext"
    }
   },
   "source": [
    "# Aprendizaje no supervisado en administración de empresas "
   ]
  },
  {
   "cell_type": "markdown",
   "metadata": {},
   "source": [
    "Aquí tienes la traducción al español del texto:\n",
    "\n",
    "---\n",
    "\n",
    "*Aunque la mayoría de las aplicaciones del Aprendizaje Automático (Machine Learning) actualmente se basan en aprendizaje supervisado (y como resultado, es donde se destina la mayor inversión), la gran mayoría de los datos disponibles en realidad no están etiquetados: tenemos las características de entrada X, pero no tenemos las etiquetas y. Yann LeCun dijo famosamente: \"Si la inteligencia fuera un pastel, el aprendizaje no supervisado sería el pastel, el aprendizaje supervisado sería el glaseado y el aprendizaje por refuerzo sería la cereza del pastel\". En otras palabras, existe un enorme potencial en el aprendizaje no supervisado que apenas hemos comenzado a explorar.*\n",
    "\n",
    "*Por ejemplo, supongamos que quieres crear un sistema que tome algunas fotos de cada artículo en una línea de producción manufacturera y detecte cuáles están defectuosos. Puedes crear fácilmente un sistema que capture las fotos automáticamente, lo que podría generarte miles de imágenes al día. Así, en pocas semanas podrías construir un conjunto de datos considerable. Pero ¡espera! No hay etiquetas. Si deseas entrenar un clasificador binario estándar que prediga si un artículo está defectuoso o no, necesitarás etiquetar cada imagen como \"defectuoso\" o \"normal\". Esto generalmente requerirá que expertos humanos revisen manualmente todas las fotos. Esta tarea es larga, costosa y tediosa, por lo que normalmente solo se realiza con un pequeño subconjunto de las imágenes disponibles. Como resultado, el conjunto de datos etiquetados será bastante pequeño, y el rendimiento del clasificador será decepcionante. Además, cada vez que la empresa haga algún cambio en sus productos, todo el proceso tendrá que reiniciarse desde cero. *¿No sería genial si el algoritmo pudiera simplemente aprovechar los datos no etiquetados sin necesidad de que los humanos etiqueten cada imagen? Aquí entra en juego el aprendizaje no supervisado.*\n",
    "\n",
    "*En el Capítulo 8, analizamos la tarea más común del aprendizaje no supervisado: la reducción de dimensionalidad. En este capítulo, exploraremos algunas tareas y algoritmos adicionales de aprendizaje no supervisado:*\n",
    "\n",
    "- **Clustering (agrupamiento):** *El objetivo es agrupar instancias similares en clusters. Esta es una herramienta poderosa para análisis de datos, segmentación de clientes, sistemas de recomendación, motores de búsqueda, segmentación de imágenes, aprendizaje semi-supervisado, reducción de dimensionalidad y más.*  \n",
    "\n",
    "- **Detección de anomalías:** *La meta es aprender cómo son los datos \"normales\" y usarlos para detectar instancias anómalas, como artículos defectuosos en una línea de producción o nuevas tendencias en series temporales.*  \n",
    "\n",
    "- **Estimación de densidad:** *Esta tarea consiste en estimar la función de densidad de probabilidad (PDF, por sus siglas en inglés) del proceso aleatorio que generó el conjunto de datos. Se usa comúnmente para detección de anomalías (instancias en regiones de muy baja densidad probablemente sean anomalías) y también para análisis y visualización de datos.*  \n",
    "\n",
    "*¿Listo para un poco de pastel? Comenzaremos con clustering, usando K-Means y DBSCAN, luego discutiremos los modelos de mezcla gaussianos (Gaussian Mixture Models) y veremos cómo pueden aplicarse para estimación de densidad, clustering y detección de anomalías.*\n",
    "\n"
   ]
  },
  {
   "cell_type": "markdown",
   "metadata": {},
   "source": [
    "### **Clustering**  \n",
    "\n",
    "Mientras disfrutas de una caminata por las montañas, te encuentras con una planta que nunca antes habías visto. Al mirar a tu alrededor, notas varias más. No son idénticas, pero son lo suficientemente similares como para saber que probablemente pertenecen a la misma especie (o al menos al mismo género). Puede que necesites un botánico para identificar la especie exacta, pero ciertamente no requieres un experto para reconocer grupos de objetos con características parecidas. A esto se le llama **clustering**: la tarea de identificar instancias similares y asignarlas a *clusters* o grupos de elementos afines.  \n",
    "\n",
    "Al igual que en la clasificación, cada instancia se asigna a un grupo. Sin embargo, el clustering es una tarea **no supervisada**. Observa la *Figura 9-1*:  \n",
    "- A la izquierda está el conjunto de datos *iris* (presentado en el Capítulo 4), donde la especie de cada instancia (su clase) se representa con un marcador distinto. Es un conjunto etiquetado, adecuado para algoritmos de clasificación como *Regresión Logística*, *SVMs* o *Random Forest*.  \n",
    "- A la derecha está el mismo dataset, pero **sin etiquetas**, por lo que no puedes usar algoritmos de clasificación. Aquí es donde entran los algoritmos de clustering: muchos de ellos detectan fácilmente el grupo superior izquierdo. A simple vista también es evidente, pero no es tan obvio que el grupo inferior derecho en realidad esté compuesto por dos subgrupos distintos.  \n",
    "\n",
    "Cabe mencionar que el dataset original incluye dos características adicionales (*longitud y ancho del sépalo*), no representadas en esta figura. Los algoritmos de clustering pueden aprovechar **todas las características disponibles**, por lo que identifican los tres grupos con bastante precisión (por ejemplo, usando un *modelo de mezcla gaussiana*, solo 5 de 150 instancias se asignan al cluster equivocado).  \n",
    "\n"
   ]
  },
  {
   "cell_type": "code",
   "execution_count": 1,
   "metadata": {},
   "outputs": [
    {
     "ename": "NameError",
     "evalue": "name 'save_fig' is not defined",
     "output_type": "error",
     "traceback": [
      "\u001b[1;31m---------------------------------------------------------------------------\u001b[0m",
      "\u001b[1;31mNameError\u001b[0m                                 Traceback (most recent call last)",
      "Cell \u001b[1;32mIn[1], line 29\u001b[0m\n\u001b[0;32m     26\u001b[0m plt\u001b[38;5;241m.\u001b[39mgca()\u001b[38;5;241m.\u001b[39mset_axisbelow(\u001b[38;5;28;01mTrue\u001b[39;00m)\n\u001b[0;32m     27\u001b[0m plt\u001b[38;5;241m.\u001b[39mgrid()\n\u001b[1;32m---> 29\u001b[0m \u001b[43msave_fig\u001b[49m(\u001b[38;5;124m\"\u001b[39m\u001b[38;5;124mclassification_vs_clustering_plot\u001b[39m\u001b[38;5;124m\"\u001b[39m)\n\u001b[0;32m     30\u001b[0m plt\u001b[38;5;241m.\u001b[39mshow()\n",
      "\u001b[1;31mNameError\u001b[0m: name 'save_fig' is not defined"
     ]
    },
    {
     "data": {
      "image/png": "[encoded data removed]",
      "text/plain": [
       "<Figure size 900x350 with 2 Axes>"
      ]
     },
     "metadata": {},
     "output_type": "display_data"
    }
   ],
   "source": [
    "# extra code – this cell generates and saves Figure 9–1\n",
    "\n",
    "import matplotlib.pyplot as plt\n",
    "from sklearn.datasets import load_iris\n",
    "\n",
    "data = load_iris()\n",
    "X = data.data\n",
    "y = data.target\n",
    "data.target_names\n",
    "\n",
    "plt.figure(figsize=(9, 3.5))\n",
    "\n",
    "plt.subplot(121)\n",
    "plt.plot(X[y==0, 2], X[y==0, 3], \"yo\", label=\"Iris setosa\")\n",
    "plt.plot(X[y==1, 2], X[y==1, 3], \"bs\", label=\"Iris versicolor\")\n",
    "plt.plot(X[y==2, 2], X[y==2, 3], \"g^\", label=\"Iris virginica\")\n",
    "plt.xlabel(\"Petal length\")\n",
    "plt.ylabel(\"Petal width\")\n",
    "plt.grid()\n",
    "plt.legend()\n",
    "\n",
    "plt.subplot(122)\n",
    "plt.scatter(X[:, 2], X[:, 3], c=\"k\", marker=\".\")\n",
    "plt.xlabel(\"Petal length\")\n",
    "plt.tick_params(labelleft=False)\n",
    "plt.gca().set_axisbelow(True)\n",
    "plt.grid()\n",
    "\n",
    "save_fig(\"classification_vs_clustering_plot\")\n",
    "plt.show()"
   ]
  }
 ],
 "metadata": {
  "kernelspec": {
   "display_name": ".venv",
   "language": "python",
   "name": "python3"
  },
  "language_info": {
   "codemirror_mode": {
    "name": "ipython",
    "version": 3
   },
   "file_extension": ".py",
   "mimetype": "text/x-python",
   "name": "python",
   "nbconvert_exporter": "python",
   "pygments_lexer": "ipython3",
   "version": "3.13.3"
  }
 },
 "nbformat": 4,
 "nbformat_minor": 2
}
