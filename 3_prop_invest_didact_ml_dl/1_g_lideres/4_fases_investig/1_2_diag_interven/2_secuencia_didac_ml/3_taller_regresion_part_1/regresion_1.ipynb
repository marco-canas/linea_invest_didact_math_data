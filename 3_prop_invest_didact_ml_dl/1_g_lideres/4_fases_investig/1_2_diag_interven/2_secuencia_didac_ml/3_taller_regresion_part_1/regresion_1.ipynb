{
 "cells": [
  {
   "cell_type": "markdown",
   "metadata": {},
   "source": [
    "<table align=\"left\">\n",
    "  <td>\n",
    "    <a href=\"https://colab.research.google.com/github/marco-canas/linea_invest_didact_math_data/blob/main/3_prop_invest_didact_ml_dl/1_g_lideres/4_fases_investig/1_2_diag_interven/2_secuencia_didac_ml/3_taller_regresion_part_1/regresion_1.ipynb\" target=\"_parent\"><img src=\"https://colab.research.google.com/assets/colab-badge.svg\" alt=\"Open In Colab\"/></a>\n",
    "  </td>\n",
    "  <td>\n",
    "    <a target=\"_blank\" href=\"https://kaggle.com/kernels/welcome?src=https://github.com/marco-canas/linea_invest_didact_math_data/blob/main/3_prop_invest_didact_ml_dl/1_g_lideres/4_fases_investig/1_2_diag_interven/2_secuencia_didac_ml/3_taller_regresion_part_1/regresion_1.ipynb\"><img src=\"https://kaggle.com/static/images/open-in-kaggle.svg\" /></a>\n",
    "  </td>\n",
    "</table>"
   ]
  },
  {
   "cell_type": "markdown",
   "metadata": {},
   "source": [
    "\n",
    "\n",
    "# **\"Introducción al Machine Learning: Conceptos Básicos y Aplicaciones en el Ámbito Empresarial: Predicción de ventas con una serie de tiempo\"**\n",
    "\n",
    "\n"
   ]
  },
  {
   "cell_type": "markdown",
   "metadata": {},
   "source": [
    "\n",
    "# **Introducción a Machine Learning**  \n",
    "- **Objetivo**: Explicar los conceptos básicos de ML y su relevancia en el mundo de las ciencias económicas.\n"
   ]
  },
  {
   "cell_type": "markdown",
   "metadata": {},
   "source": [
    "- **Actividades**:\n",
    "  - **Definición de Machine Learning**:  \n",
    "    - Explicación de qué es ML: \"El Machine Learning es una rama de la inteligencia artificial que permite a los sistemas aprender de los datos y mejorar su rendimiento en tareas específicas sin ser programados explícitamente.\"\n"
   ]
  },
  {
   "cell_type": "markdown",
   "metadata": {},
   "source": [
    "  - **Tipos de ML**:  \n",
    "    - Aprendizaje supervisado (ejemplo: predicción de ventas).\n",
    "    - Aprendizaje no supervisado (ejemplo: segmentación de clientes).\n",
    "    - Aprendizaje por refuerzo (ejemplo: sistemas de recomendación).\n",
    "  - **Importancia de ML en la transformación digital**:  \n",
    "    - Cómo ML está revolucionando industrias como finanzas, retail, salud, etc.\n",
    "    - Ejemplos de empresas que usan ML (Amazon, Netflix, Google).\n",
    "\n",
    "\n"
   ]
  },
  {
   "cell_type": "markdown",
   "metadata": {},
   "source": [
    "<img src = \"supervisado_no_super_refuerzo.png\">"
   ]
  },
  {
   "cell_type": "markdown",
   "metadata": {},
   "source": [
    "\n",
    "### **4. Aplicaciones de ML en los Negocios**  \n",
    "- **Objetivo**: Mostrar aplicaciones prácticas de ML en el ámbito empresarial.\n"
   ]
  },
  {
   "cell_type": "markdown",
   "metadata": {},
   "source": [
    "- **Actividades**:\n",
    "  - **Predicción de ventas**:  \n",
    "    - Cómo ML puede predecir tendencias de ventas basadas en datos históricos.\n",
    "  - **Segmentación de clientes**:  \n",
    "    - Uso de ML para agrupar clientes según su comportamiento de compra.\n",
    "  - **Detección de fraudes**:  \n",
    "    - Cómo ML identifica transacciones fraudulentas en tiempo real.\n"
   ]
  },
  {
   "cell_type": "markdown",
   "metadata": {},
   "source": [
    "  - **Chatbots y atención al cliente**:  \n",
    "    - Uso de ML para automatizar respuestas y mejorar la experiencia del cliente.\n"
   ]
  },
  {
   "cell_type": "markdown",
   "metadata": {},
   "source": [
    "  - **Optimización de inventarios**:  \n",
    "    - Cómo ML ayuda a predecir la demanda y optimizar los niveles de stock.\n",
    "\n",
    "\n",
    "Veamos cada uno de estos temas en detalle:"
   ]
  },
  {
   "cell_type": "markdown",
   "metadata": {},
   "source": [
    "# - **Predicción de ventas**:  \n",
    "    - Cómo ML puede predecir tendencias de ventas basadas en datos históricos."
   ]
  },
  {
   "cell_type": "markdown",
   "metadata": {},
   "source": [
    "Este es un ejemplo completo en Python con datos generados artificialmente para **predicción de ventas** usando Machine Learning, incluyendo generación de datos, preprocesamiento, modelado y evaluación:\n"
   ]
  },
  {
   "cell_type": "markdown",
   "metadata": {},
   "source": [
    "## Descripción del dataset  \n"
   ]
  },
  {
   "cell_type": "markdown",
   "metadata": {},
   "source": [
    "\n",
    "El dataset generado en el script simula **datos históricos de ventas diarias** para un período de 3 años (2021-2023), diseñado específicamente para entrenar un modelo de predicción de ventas. Aquí está su estructura y características clave:\n"
   ]
  },
  {
   "cell_type": "markdown",
   "metadata": {},
   "source": [
    "\n",
    "\n",
    "### **Características Principales (Features)**\n",
    "| Variable           | Tipo      | Descripción                                                                 | Rango/Valores                     |\n",
    "|--------------------|-----------|-----------------------------------------------------------------------------|-----------------------------------|\n",
    "| `date`             | DateTime  | Fecha del registro (diario)                                                 | 2021-01-01 a 2023-12-31          |\n",
    "| `sales`            | Numérico  | Ventas diarias (variable objetivo)                                          | ~700 a ~2300 unidades*           |\n",
    "| `day_of_week`      | Entero    | Día de la semana (0=lunes, 6=domingo)                                       | 0-6                              |\n",
    "| `day_of_year`      | Entero    | Día del año (1-365/366)                                                     | 1-366                            |\n",
    "| `month`            | Entero    | Mes del año                                                                 | 1-12                             |\n",
    "| `is_promo`         | Binario   | Indica si hubo promoción ese día (1=sí, 0=no)                               | 0 o 1                            |\n",
    "| `rolling_avg_7d`   | Numérico  | Promedio móvil de ventas (7 días), ajustado por estacionalidad               | ~900 a ~2100                     |\n",
    "| `year`             | Entero    | Año normalizado (0=2021, 1=2022, 2=2023)                                    | 0-2                              |\n",
    "| `weekend`          | Binario   | Indica fin de semana (1=sábado/domingo, 0=dia laboral)                      | 0 o 1                            |\n",
    "\n"
   ]
  },
  {
   "cell_type": "markdown",
   "metadata": {},
   "source": [
    "\n",
    "\n",
    "### **Componentes Sintéticos Generados**\n",
    "1. **Tendencia Base**:  \n",
    "   - Ventas iniciales de 1000 unidades con crecimiento lineal (+2 unidades/día).  \n",
    "   - **Ejemplo**: En 2023-12-31, el componente de tendencia aporta +1000 unidades.\n"
   ]
  },
  {
   "cell_type": "markdown",
   "metadata": {},
   "source": [
    "\n",
    "2. **Estacionalidad**:  \n",
    "   - Patrón sinusoidal anual (amplitud de 200 unidades).  \n",
    "   - Máximos en junio/diciembre (efecto vacaciones).  \n",
    "   - **Fórmula**: `200 * np.sin(2π * (día_del_año + 60) / 365)`.\n"
   ]
  },
  {
   "cell_type": "code",
   "execution_count": 1,
   "metadata": {},
   "outputs": [],
   "source": [
    "path_image = r'C:/Users/marco/Downloads'\n",
    "def save_fig(nombre_archivo_imagen):\n",
    "    import os \n",
    "    import matplotlib.pyplot as plt \n",
    "    imagen_path = os.path.join(path_image, nombre_archivo_imagen)\n",
    "    plt.savefig(imagen_path, bbox_inches='tight')"
   ]
  },
  {
   "cell_type": "code",
   "execution_count": 4,
   "metadata": {},
   "outputs": [
    {
     "data": {
      "text/plain": [
       "array([  1,   2,   3,   4,   5,   6,   7,   8,   9,  10,  11,  12,  13,\n",
       "        14,  15,  16,  17,  18,  19,  20,  21,  22,  23,  24,  25,  26,\n",
       "        27,  28,  29,  30,  31,  32,  33,  34,  35,  36,  37,  38,  39,\n",
       "        40,  41,  42,  43,  44,  45,  46,  47,  48,  49,  50,  51,  52,\n",
       "        53,  54,  55,  56,  57,  58,  59,  60,  61,  62,  63,  64,  65,\n",
       "        66,  67,  68,  69,  70,  71,  72,  73,  74,  75,  76,  77,  78,\n",
       "        79,  80,  81,  82,  83,  84,  85,  86,  87,  88,  89,  90,  91,\n",
       "        92,  93,  94,  95,  96,  97,  98,  99, 100, 101, 102, 103, 104,\n",
       "       105, 106, 107, 108, 109, 110, 111, 112, 113, 114, 115, 116, 117,\n",
       "       118, 119, 120, 121, 122, 123, 124, 125, 126, 127, 128, 129, 130,\n",
       "       131, 132, 133, 134, 135, 136, 137, 138, 139, 140, 141, 142, 143,\n",
       "       144, 145, 146, 147, 148, 149, 150, 151, 152, 153, 154, 155, 156,\n",
       "       157, 158, 159, 160, 161, 162, 163, 164, 165, 166, 167, 168, 169,\n",
       "       170, 171, 172, 173, 174, 175, 176, 177, 178, 179, 180, 181, 182,\n",
       "       183, 184, 185, 186, 187, 188, 189, 190, 191, 192, 193, 194, 195,\n",
       "       196, 197, 198, 199, 200, 201, 202, 203, 204, 205, 206, 207, 208,\n",
       "       209, 210, 211, 212, 213, 214, 215, 216, 217, 218, 219, 220, 221,\n",
       "       222, 223, 224, 225, 226, 227, 228, 229, 230, 231, 232, 233, 234,\n",
       "       235, 236, 237, 238, 239, 240, 241, 242, 243, 244, 245, 246, 247,\n",
       "       248, 249, 250, 251, 252, 253, 254, 255, 256, 257, 258, 259, 260,\n",
       "       261, 262, 263, 264, 265, 266, 267, 268, 269, 270, 271, 272, 273,\n",
       "       274, 275, 276, 277, 278, 279, 280, 281, 282, 283, 284, 285, 286,\n",
       "       287, 288, 289, 290, 291, 292, 293, 294, 295, 296, 297, 298, 299,\n",
       "       300, 301, 302, 303, 304, 305, 306, 307, 308, 309, 310, 311, 312,\n",
       "       313, 314, 315, 316, 317, 318, 319, 320, 321, 322, 323, 324, 325,\n",
       "       326, 327, 328, 329, 330, 331, 332, 333, 334, 335, 336, 337, 338,\n",
       "       339, 340, 341, 342, 343, 344, 345, 346, 347, 348, 349, 350, 351,\n",
       "       352, 353, 354, 355, 356, 357, 358, 359, 360, 361, 362, 363, 364,\n",
       "       365, 366])"
      ]
     },
     "execution_count": 4,
     "metadata": {},
     "output_type": "execute_result"
    }
   ],
   "source": [
    "import numpy as np\n",
    "import matplotlib.pyplot as plt\n",
    "from datetime import datetime\n",
    "\n",
    "# Configuración de días y estacionalidad\n",
    "día_del_año = np.arange(1, 367)\n",
    "día_del_año"
   ]
  },
  {
   "cell_type": "code",
   "execution_count": 5,
   "metadata": {},
   "outputs": [],
   "source": [
    "\n",
    "# Ajuste para dos máximos anuales (junio y diciembre):\n",
    "# - Periodo = 182.5 días (mitad del año para 2 ciclos completos)\n",
    "# - Fase ajustada para alinear máximos en días específicos\n",
    "estacionalidad = 200 * np.sin(2 * np.pi * día_del_año / 182.5 + np.pi/2 )  # np.pi/2 desplaza el primer máximo al día ~91 (abril)\n"
   ]
  },
  {
   "cell_type": "code",
   "execution_count": 6,
   "metadata": {},
   "outputs": [
    {
     "data": {
      "image/png": "[encoded data removed]",
      "text/plain": [
       "<Figure size 1200x600 with 1 Axes>"
      ]
     },
     "metadata": {},
     "output_type": "display_data"
    }
   ],
   "source": [
    "\n",
    "# Ajuste fino para máximos en junio (~día 172) y diciembre (~día 355):\n",
    "# Aplicamos un desplazamiento adicional para mover los picos\n",
    "desplazamiento_días = 60  # Empíricamente ajustado para alinear con junio/diciembre\n",
    "estacionalidad = 200 * np.sin(2 * np.pi * (día_del_año + desplazamiento_días) / 182.5)\n",
    "\n",
    "# Gráfico\n",
    "plt.figure(figsize=(12, 6))\n",
    "plt.plot(día_del_año, estacionalidad, label='Estacionalidad')\n",
    "plt.title('Patrón de Estacionalidad: Máximos en Junio y Diciembre', fontsize=14)\n",
    "plt.xlabel('Día del año', fontsize=12)\n",
    "plt.ylabel('Impacto en ventas (unidades)', fontsize=12)\n",
    "\n",
    "# Marcadores para junio y diciembre\n",
    "plt.axvline(x=172, color='red', linestyle='--', alpha=0.5, label='Junio (día 172)')\n",
    "plt.axvline(x=355, color='green', linestyle='--', alpha=0.5, label='Diciembre (día 355)')\n",
    "plt.scatter([172, 355], [estacionalidad[171], estacionalidad[354]], color='black', zorder=5)  # Puntos en máximos\n",
    "\n",
    "# Etiquetas de meses\n",
    "meses = ['Ene', 'Feb', 'Mar', 'Abr', 'May', 'Jun', 'Jul', 'Ago', 'Sep', 'Oct', 'Nov', 'Dic']\n",
    "días_meses = [15, 45, 75, 105, 135, 165, 195, 225, 255, 285, 315, 345]\n",
    "plt.xticks(días_meses, meses)\n",
    "\n",
    "plt.grid(alpha=0.3)\n",
    "plt.legend()\n",
    "plt.tight_layout()\n",
    "save_fig('patron_estacionalidad')\n",
    "plt.show()"
   ]
  },
  {
   "cell_type": "markdown",
   "metadata": {},
   "source": [
    "\n",
    "3. **Efecto Promociones**:  \n",
    "   - Ocurren el 15% de los días (+300 unidades cuando `is_promo=1`).  \n",
    "   - Generado aleatoriamente con distribución binomial.\n",
    "\n",
    "4. **Ruido Aleatorio**:  \n",
    "   - Variabilidad diaria (distribución normal, μ=0, σ=50).  \n",
    "\n"
   ]
  },
  {
   "cell_type": "markdown",
   "metadata": {},
   "source": [
    "\n",
    "\n",
    "### **Ecuación de Ventas Simuladas**\n",
    "```python\n",
    "sales = 1000 + (trend * 100) + seasonality + promo_effect + noise\n",
    "```\n",
    "\n"
   ]
  },
  {
   "cell_type": "markdown",
   "metadata": {},
   "source": [
    "\n",
    "\n",
    "### **Propósito de Cada Feature**\n",
    "| Feature           | Uso en el Modelo                                                                 |\n",
    "|-------------------|---------------------------------------------------------------------------------|\n",
    "| `day_of_week`     | Captura patrones semanales (ej: menos ventas los lunes).                        |\n",
    "| `day_of_year`     | Ayuda al modelo a aprender estacionalidad anual.                                |\n",
    "| `is_promo`        | Evalúa impacto de marketing en ventas.                                         |\n",
    "| `rolling_avg_7d`  | Proporciona contexto de corto plazo (suaviza ruido).                           |\n",
    "| `weekend`         | Identifica comportamientos diferenciados en fines de semana.                   |\n",
    "\n"
   ]
  },
  {
   "cell_type": "markdown",
   "metadata": {},
   "source": [
    "\n",
    "### **Ejemplo de 3 Registros (Análisis)**\n",
    "| date       | sales  | day_of_week | month | is_promo | rolling_avg_7d | weekend |\n",
    "|------------|--------|-------------|-------|----------|----------------|---------|\n",
    "| 2021-01-01 | 1025   | 4 (viernes) | 1     | 0        | 1050           | 0       |\n",
    "| 2022-07-15 | 1850   | 4 (viernes) | 7     | 1        | 1750           | 0       |\n",
    "| 2023-12-25 | 2200   | 0 (lunes)   | 12    | 1        | 2100           | 1       |\n",
    "\n",
    "**Explicación**:  \n",
    "- **2022-07-15**: Ventas altas por promoción (`is_promo=1`) y estacionalidad (julio).  \n",
    "- **2023-12-25**: Máximo histórico por Navidad (promoción + fin de semana + tendencia acumulada).\n",
    "\n"
   ]
  },
  {
   "cell_type": "markdown",
   "metadata": {},
   "source": [
    "\n",
    "\n",
    "### **Uso en el Modelo**\n",
    "- **Objetivo**: Predecir `sales` (ventas diarias).  \n",
    "- **Features usadas**: `day_of_week`, `day_of_year`, `month`, `is_promo`, `rolling_avg_7d`, `year`, `weekend`.  \n",
    "- **Características eliminadas**: `date` (se extrajeron componentes temporales útiles).  \n",
    "\n",
    "Este dataset sintético replica desafíos del mundo real como estacionalidad, ruido y efectos de marketing, siendo ideal para probar modelos de forecasting."
   ]
  },
  {
   "cell_type": "code",
   "execution_count": 5,
   "metadata": {},
   "outputs": [],
   "source": [
    "# Importar librerías\n",
    "import numpy as np # algebra  y vectores y matrices \n",
    "import pandas as pd # dataframe \n",
    "from sklearn.ensemble import RandomForestRegressor\n",
    "from sklearn.model_selection import train_test_split\n",
    "from sklearn.metrics import mean_absolute_error, r2_score\n",
    "import matplotlib.pyplot as plt\n"
   ]
  },
  {
   "cell_type": "code",
   "execution_count": 6,
   "metadata": {},
   "outputs": [
    {
     "data": {
      "text/plain": [
       "DatetimeIndex(['2021-01-01', '2021-01-02', '2021-01-03', '2021-01-04',\n",
       "               '2021-01-05', '2021-01-06', '2021-01-07', '2021-01-08',\n",
       "               '2021-01-09', '2021-01-10',\n",
       "               ...\n",
       "               '2023-12-22', '2023-12-23', '2023-12-24', '2023-12-25',\n",
       "               '2023-12-26', '2023-12-27', '2023-12-28', '2023-12-29',\n",
       "               '2023-12-30', '2023-12-31'],\n",
       "              dtype='datetime64[ns]', length=1095, freq='D')"
      ]
     },
     "execution_count": 6,
     "metadata": {},
     "output_type": "execute_result"
    }
   ],
   "source": [
    "\n",
    "# 1. Generar datos sintéticos (simulando 3 años de ventas diarias)\n",
    "np.random.seed(42)\n",
    "dates = pd.date_range(start=\"2021-01-01\", end=\"2023-12-31\", freq=\"D\")\n",
    "dates \n"
   ]
  },
  {
   "cell_type": "code",
   "execution_count": 7,
   "metadata": {},
   "outputs": [
    {
     "data": {
      "text/plain": [
       "1095"
      ]
     },
     "execution_count": 7,
     "metadata": {},
     "output_type": "execute_result"
    }
   ],
   "source": [
    "n_days = len(dates)\n",
    "n_days"
   ]
  },
  {
   "cell_type": "code",
   "execution_count": 8,
   "metadata": {},
   "outputs": [
    {
     "data": {
      "application/vnd.microsoft.datawrangler.viewer.v0+json": {
       "columns": [
        {
         "name": "index",
         "rawType": "int64",
         "type": "integer"
        },
        {
         "name": "date",
         "rawType": "datetime64[ns]",
         "type": "datetime"
        },
        {
         "name": "sales",
         "rawType": "float64",
         "type": "float"
        },
        {
         "name": "day_of_week",
         "rawType": "int32",
         "type": "integer"
        },
        {
         "name": "day_of_year",
         "rawType": "int32",
         "type": "integer"
        },
        {
         "name": "month",
         "rawType": "int32",
         "type": "integer"
        },
        {
         "name": "is_promo",
         "rawType": "int64",
         "type": "integer"
        },
        {
         "name": "rolling_avg_7d",
         "rawType": "float64",
         "type": "float"
        },
        {
         "name": "year",
         "rawType": "int32",
         "type": "integer"
        },
        {
         "name": "weekend",
         "rawType": "int64",
         "type": "integer"
        }
       ],
       "conversionMethod": "pd.DataFrame",
       "ref": "e5ca0b46-c6b7-486c-bd60-cfc1565c1f21",
       "rows": [
        [
         "0",
         "2021-01-01 00:00:00",
         "1147.3283982114765",
         "4",
         "1",
         "1",
         "0",
         "974.1233174545887",
         "0",
         "0"
        ],
        [
         "1",
         "2021-01-02 00:00:00",
         "1439.906835090984",
         "5",
         "2",
         "1",
         "1",
         "1270.2365955285231",
         "0",
         "1"
        ],
        [
         "2",
         "2021-01-03 00:00:00",
         "1194.069874263849",
         "6",
         "3",
         "1",
         "0",
         "1028.1344715533253",
         "0",
         "1"
        ],
        [
         "3",
         "2021-01-04 00:00:00",
         "1131.4098938192606",
         "0",
         "4",
         "1",
         "0",
         "969.4049212483055",
         "0",
         "0"
        ],
        [
         "4",
         "2021-01-05 00:00:00",
         "1133.8163911752401",
         "1",
         "5",
         "1",
         "0",
         "975.9328091096362",
         "0",
         "0"
        ]
       ],
       "shape": {
        "columns": 9,
        "rows": 5
       }
      },
      "text/html": [
       "<div>\n",
       "<style scoped>\n",
       "    .dataframe tbody tr th:only-of-type {\n",
       "        vertical-align: middle;\n",
       "    }\n",
       "\n",
       "    .dataframe tbody tr th {\n",
       "        vertical-align: top;\n",
       "    }\n",
       "\n",
       "    .dataframe thead th {\n",
       "        text-align: right;\n",
       "    }\n",
       "</style>\n",
       "<table border=\"1\" class=\"dataframe\">\n",
       "  <thead>\n",
       "    <tr style=\"text-align: right;\">\n",
       "      <th></th>\n",
       "      <th>date</th>\n",
       "      <th>sales</th>\n",
       "      <th>day_of_week</th>\n",
       "      <th>day_of_year</th>\n",
       "      <th>month</th>\n",
       "      <th>is_promo</th>\n",
       "      <th>rolling_avg_7d</th>\n",
       "      <th>year</th>\n",
       "      <th>weekend</th>\n",
       "    </tr>\n",
       "  </thead>\n",
       "  <tbody>\n",
       "    <tr>\n",
       "      <th>0</th>\n",
       "      <td>2021-01-01</td>\n",
       "      <td>1147.328398</td>\n",
       "      <td>4</td>\n",
       "      <td>1</td>\n",
       "      <td>1</td>\n",
       "      <td>0</td>\n",
       "      <td>974.123317</td>\n",
       "      <td>0</td>\n",
       "      <td>0</td>\n",
       "    </tr>\n",
       "    <tr>\n",
       "      <th>1</th>\n",
       "      <td>2021-01-02</td>\n",
       "      <td>1439.906835</td>\n",
       "      <td>5</td>\n",
       "      <td>2</td>\n",
       "      <td>1</td>\n",
       "      <td>1</td>\n",
       "      <td>1270.236596</td>\n",
       "      <td>0</td>\n",
       "      <td>1</td>\n",
       "    </tr>\n",
       "    <tr>\n",
       "      <th>2</th>\n",
       "      <td>2021-01-03</td>\n",
       "      <td>1194.069874</td>\n",
       "      <td>6</td>\n",
       "      <td>3</td>\n",
       "      <td>1</td>\n",
       "      <td>0</td>\n",
       "      <td>1028.134472</td>\n",
       "      <td>0</td>\n",
       "      <td>1</td>\n",
       "    </tr>\n",
       "    <tr>\n",
       "      <th>3</th>\n",
       "      <td>2021-01-04</td>\n",
       "      <td>1131.409894</td>\n",
       "      <td>0</td>\n",
       "      <td>4</td>\n",
       "      <td>1</td>\n",
       "      <td>0</td>\n",
       "      <td>969.404921</td>\n",
       "      <td>0</td>\n",
       "      <td>0</td>\n",
       "    </tr>\n",
       "    <tr>\n",
       "      <th>4</th>\n",
       "      <td>2021-01-05</td>\n",
       "      <td>1133.816391</td>\n",
       "      <td>1</td>\n",
       "      <td>5</td>\n",
       "      <td>1</td>\n",
       "      <td>0</td>\n",
       "      <td>975.932809</td>\n",
       "      <td>0</td>\n",
       "      <td>0</td>\n",
       "    </tr>\n",
       "  </tbody>\n",
       "</table>\n",
       "</div>"
      ],
      "text/plain": [
       "        date        sales  day_of_week  day_of_year  month  is_promo  \\\n",
       "0 2021-01-01  1147.328398            4            1      1         0   \n",
       "1 2021-01-02  1439.906835            5            2      1         1   \n",
       "2 2021-01-03  1194.069874            6            3      1         0   \n",
       "3 2021-01-04  1131.409894            0            4      1         0   \n",
       "4 2021-01-05  1133.816391            1            5      1         0   \n",
       "\n",
       "   rolling_avg_7d  year  weekend  \n",
       "0      974.123317     0        0  \n",
       "1     1270.236596     0        1  \n",
       "2     1028.134472     0        1  \n",
       "3      969.404921     0        0  \n",
       "4      975.932809     0        0  "
      ]
     },
     "execution_count": 8,
     "metadata": {},
     "output_type": "execute_result"
    }
   ],
   "source": [
    "\n",
    "# Variables sintéticas\n",
    "base_sales = 1000 # Valor base de las ventas\n",
    "trend = np.linspace(0, 2, n_days)  # Tendencia creciente\n",
    "seasonality = 200 * np.sin(2 * np.pi * (dates.dayofyear +60)/ 183)  # Estacionalidad anual\n",
    "promo_effect = np.random.choice([0, 300], size=n_days, p=[0.85, 0.15])  # Efecto de promociones\n",
    "noise = np.random.normal(0, 50, n_days)  # Ruido aleatorio\n",
    "\n",
    "# Ventas = Tendencia + Estacionalidad + Promociones + Ruido\n",
    "sales = base_sales + trend * 100 + seasonality + promo_effect + noise\n",
    "\n",
    "# 2. Crear DataFrame con características relevantes\n",
    "df = pd.DataFrame({\n",
    "    'date': dates,\n",
    "    'sales': sales,\n",
    "    'day_of_week': dates.dayofweek,\n",
    "    'day_of_year': dates.dayofyear,\n",
    "    'month': dates.month,\n",
    "    'is_promo': (promo_effect > 0).astype(int),\n",
    "    'rolling_avg_7d': sales - seasonality  # Simular promedio móvil\n",
    "})\n",
    "\n",
    "# 3. Ingeniería de características\n",
    "df['year'] = dates.year - 2021  # Normalizar años\n",
    "df['weekend'] = df['day_of_week'].apply(lambda x: 1 if x >= 5 else 0)\n",
    "df.head() "
   ]
  },
  {
   "cell_type": "code",
   "execution_count": 9,
   "metadata": {},
   "outputs": [],
   "source": [
    "\n",
    "# 4. Dividir datos (usaremos datos hasta 2023-09-30 para entrenamiento)\n",
    "train = df[df['date'] < '2023-10-01']\n",
    "test = df[df['date'] >= '2023-10-01']\n"
   ]
  },
  {
   "cell_type": "code",
   "execution_count": 11,
   "metadata": {},
   "outputs": [
    {
     "data": {
      "application/vnd.microsoft.datawrangler.viewer.v0+json": {
       "columns": [
        {
         "name": "index",
         "rawType": "int64",
         "type": "integer"
        },
        {
         "name": "date",
         "rawType": "datetime64[ns]",
         "type": "datetime"
        },
        {
         "name": "sales",
         "rawType": "float64",
         "type": "float"
        },
        {
         "name": "day_of_week",
         "rawType": "int32",
         "type": "integer"
        },
        {
         "name": "day_of_year",
         "rawType": "int32",
         "type": "integer"
        },
        {
         "name": "month",
         "rawType": "int32",
         "type": "integer"
        },
        {
         "name": "is_promo",
         "rawType": "int64",
         "type": "integer"
        },
        {
         "name": "rolling_avg_7d",
         "rawType": "float64",
         "type": "float"
        },
        {
         "name": "year",
         "rawType": "int32",
         "type": "integer"
        },
        {
         "name": "weekend",
         "rawType": "int64",
         "type": "integer"
        }
       ],
       "conversionMethod": "pd.DataFrame",
       "ref": "a12d6f19-2ca0-42ba-aab8-7c0c103144a8",
       "rows": [
        [
         "998",
         "2023-09-26 00:00:00",
         "1317.0038001655028",
         "1",
         "269",
         "9",
         "1",
         "1508.0459303284292",
         "2",
         "0"
        ],
        [
         "999",
         "2023-09-27 00:00:00",
         "985.3192836786193",
         "2",
         "270",
         "9",
         "0",
         "1174.2171294353516",
         "2",
         "0"
        ],
        [
         "1000",
         "2023-09-28 00:00:00",
         "1057.6047121756997",
         "3",
         "271",
         "9",
         "0",
         "1244.1356136834643",
         "2",
         "0"
        ],
        [
         "1001",
         "2023-09-29 00:00:00",
         "1056.9089037118438",
         "4",
         "272",
         "9",
         "0",
         "1240.852991119633",
         "2",
         "0"
        ],
        [
         "1002",
         "2023-09-30 00:00:00",
         "1360.8492898488266",
         "5",
         "273",
         "9",
         "1",
         "1541.9897424649212",
         "2",
         "1"
        ]
       ],
       "shape": {
        "columns": 9,
        "rows": 5
       }
      },
      "text/html": [
       "<div>\n",
       "<style scoped>\n",
       "    .dataframe tbody tr th:only-of-type {\n",
       "        vertical-align: middle;\n",
       "    }\n",
       "\n",
       "    .dataframe tbody tr th {\n",
       "        vertical-align: top;\n",
       "    }\n",
       "\n",
       "    .dataframe thead th {\n",
       "        text-align: right;\n",
       "    }\n",
       "</style>\n",
       "<table border=\"1\" class=\"dataframe\">\n",
       "  <thead>\n",
       "    <tr style=\"text-align: right;\">\n",
       "      <th></th>\n",
       "      <th>date</th>\n",
       "      <th>sales</th>\n",
       "      <th>day_of_week</th>\n",
       "      <th>day_of_year</th>\n",
       "      <th>month</th>\n",
       "      <th>is_promo</th>\n",
       "      <th>rolling_avg_7d</th>\n",
       "      <th>year</th>\n",
       "      <th>weekend</th>\n",
       "    </tr>\n",
       "  </thead>\n",
       "  <tbody>\n",
       "    <tr>\n",
       "      <th>998</th>\n",
       "      <td>2023-09-26</td>\n",
       "      <td>1317.003800</td>\n",
       "      <td>1</td>\n",
       "      <td>269</td>\n",
       "      <td>9</td>\n",
       "      <td>1</td>\n",
       "      <td>1508.045930</td>\n",
       "      <td>2</td>\n",
       "      <td>0</td>\n",
       "    </tr>\n",
       "    <tr>\n",
       "      <th>999</th>\n",
       "      <td>2023-09-27</td>\n",
       "      <td>985.319284</td>\n",
       "      <td>2</td>\n",
       "      <td>270</td>\n",
       "      <td>9</td>\n",
       "      <td>0</td>\n",
       "      <td>1174.217129</td>\n",
       "      <td>2</td>\n",
       "      <td>0</td>\n",
       "    </tr>\n",
       "    <tr>\n",
       "      <th>1000</th>\n",
       "      <td>2023-09-28</td>\n",
       "      <td>1057.604712</td>\n",
       "      <td>3</td>\n",
       "      <td>271</td>\n",
       "      <td>9</td>\n",
       "      <td>0</td>\n",
       "      <td>1244.135614</td>\n",
       "      <td>2</td>\n",
       "      <td>0</td>\n",
       "    </tr>\n",
       "    <tr>\n",
       "      <th>1001</th>\n",
       "      <td>2023-09-29</td>\n",
       "      <td>1056.908904</td>\n",
       "      <td>4</td>\n",
       "      <td>272</td>\n",
       "      <td>9</td>\n",
       "      <td>0</td>\n",
       "      <td>1240.852991</td>\n",
       "      <td>2</td>\n",
       "      <td>0</td>\n",
       "    </tr>\n",
       "    <tr>\n",
       "      <th>1002</th>\n",
       "      <td>2023-09-30</td>\n",
       "      <td>1360.849290</td>\n",
       "      <td>5</td>\n",
       "      <td>273</td>\n",
       "      <td>9</td>\n",
       "      <td>1</td>\n",
       "      <td>1541.989742</td>\n",
       "      <td>2</td>\n",
       "      <td>1</td>\n",
       "    </tr>\n",
       "  </tbody>\n",
       "</table>\n",
       "</div>"
      ],
      "text/plain": [
       "           date        sales  day_of_week  day_of_year  month  is_promo  \\\n",
       "998  2023-09-26  1317.003800            1          269      9         1   \n",
       "999  2023-09-27   985.319284            2          270      9         0   \n",
       "1000 2023-09-28  1057.604712            3          271      9         0   \n",
       "1001 2023-09-29  1056.908904            4          272      9         0   \n",
       "1002 2023-09-30  1360.849290            5          273      9         1   \n",
       "\n",
       "      rolling_avg_7d  year  weekend  \n",
       "998      1508.045930     2        0  \n",
       "999      1174.217129     2        0  \n",
       "1000     1244.135614     2        0  \n",
       "1001     1240.852991     2        0  \n",
       "1002     1541.989742     2        1  "
      ]
     },
     "execution_count": 11,
     "metadata": {},
     "output_type": "execute_result"
    }
   ],
   "source": [
    "train.tail()"
   ]
  },
  {
   "cell_type": "code",
   "execution_count": 13,
   "metadata": {},
   "outputs": [
    {
     "data": {
      "application/vnd.microsoft.datawrangler.viewer.v0+json": {
       "columns": [
        {
         "name": "index",
         "rawType": "int64",
         "type": "integer"
        },
        {
         "name": "date",
         "rawType": "datetime64[ns]",
         "type": "datetime"
        },
        {
         "name": "sales",
         "rawType": "float64",
         "type": "float"
        },
        {
         "name": "day_of_week",
         "rawType": "int32",
         "type": "integer"
        },
        {
         "name": "day_of_year",
         "rawType": "int32",
         "type": "integer"
        },
        {
         "name": "month",
         "rawType": "int32",
         "type": "integer"
        },
        {
         "name": "is_promo",
         "rawType": "int64",
         "type": "integer"
        },
        {
         "name": "rolling_avg_7d",
         "rawType": "float64",
         "type": "float"
        },
        {
         "name": "year",
         "rawType": "int32",
         "type": "integer"
        },
        {
         "name": "weekend",
         "rawType": "int64",
         "type": "integer"
        }
       ],
       "conversionMethod": "pd.DataFrame",
       "ref": "f3fd5e6e-39e5-42d9-bd37-1d977af259a9",
       "rows": [
        [
         "1090",
         "2023-12-27 00:00:00",
         "1787.301286780993",
         "2",
         "361",
         "12",
         "1",
         "1597.3033021820927",
         "2",
         "0"
        ],
        [
         "1091",
         "2023-12-28 00:00:00",
         "1443.561503941657",
         "3",
         "362",
         "12",
         "0",
         "1255.8194660892682",
         "2",
         "0"
        ],
        [
         "1092",
         "2023-12-29 00:00:00",
         "1362.50343895297",
         "4",
         "363",
         "12",
         "0",
         "1177.2386453026709",
         "2",
         "0"
        ],
        [
         "1093",
         "2023-12-30 00:00:00",
         "1318.5947523134403",
         "5",
         "364",
         "12",
         "0",
         "1136.025580315013",
         "2",
         "1"
        ],
        [
         "1094",
         "2023-12-31 00:00:00",
         "1378.1511368349084",
         "6",
         "365",
         "12",
         "0",
         "1198.4927865239574",
         "2",
         "1"
        ]
       ],
       "shape": {
        "columns": 9,
        "rows": 5
       }
      },
      "text/html": [
       "<div>\n",
       "<style scoped>\n",
       "    .dataframe tbody tr th:only-of-type {\n",
       "        vertical-align: middle;\n",
       "    }\n",
       "\n",
       "    .dataframe tbody tr th {\n",
       "        vertical-align: top;\n",
       "    }\n",
       "\n",
       "    .dataframe thead th {\n",
       "        text-align: right;\n",
       "    }\n",
       "</style>\n",
       "<table border=\"1\" class=\"dataframe\">\n",
       "  <thead>\n",
       "    <tr style=\"text-align: right;\">\n",
       "      <th></th>\n",
       "      <th>date</th>\n",
       "      <th>sales</th>\n",
       "      <th>day_of_week</th>\n",
       "      <th>day_of_year</th>\n",
       "      <th>month</th>\n",
       "      <th>is_promo</th>\n",
       "      <th>rolling_avg_7d</th>\n",
       "      <th>year</th>\n",
       "      <th>weekend</th>\n",
       "    </tr>\n",
       "  </thead>\n",
       "  <tbody>\n",
       "    <tr>\n",
       "      <th>1090</th>\n",
       "      <td>2023-12-27</td>\n",
       "      <td>1787.301287</td>\n",
       "      <td>2</td>\n",
       "      <td>361</td>\n",
       "      <td>12</td>\n",
       "      <td>1</td>\n",
       "      <td>1597.303302</td>\n",
       "      <td>2</td>\n",
       "      <td>0</td>\n",
       "    </tr>\n",
       "    <tr>\n",
       "      <th>1091</th>\n",
       "      <td>2023-12-28</td>\n",
       "      <td>1443.561504</td>\n",
       "      <td>3</td>\n",
       "      <td>362</td>\n",
       "      <td>12</td>\n",
       "      <td>0</td>\n",
       "      <td>1255.819466</td>\n",
       "      <td>2</td>\n",
       "      <td>0</td>\n",
       "    </tr>\n",
       "    <tr>\n",
       "      <th>1092</th>\n",
       "      <td>2023-12-29</td>\n",
       "      <td>1362.503439</td>\n",
       "      <td>4</td>\n",
       "      <td>363</td>\n",
       "      <td>12</td>\n",
       "      <td>0</td>\n",
       "      <td>1177.238645</td>\n",
       "      <td>2</td>\n",
       "      <td>0</td>\n",
       "    </tr>\n",
       "    <tr>\n",
       "      <th>1093</th>\n",
       "      <td>2023-12-30</td>\n",
       "      <td>1318.594752</td>\n",
       "      <td>5</td>\n",
       "      <td>364</td>\n",
       "      <td>12</td>\n",
       "      <td>0</td>\n",
       "      <td>1136.025580</td>\n",
       "      <td>2</td>\n",
       "      <td>1</td>\n",
       "    </tr>\n",
       "    <tr>\n",
       "      <th>1094</th>\n",
       "      <td>2023-12-31</td>\n",
       "      <td>1378.151137</td>\n",
       "      <td>6</td>\n",
       "      <td>365</td>\n",
       "      <td>12</td>\n",
       "      <td>0</td>\n",
       "      <td>1198.492787</td>\n",
       "      <td>2</td>\n",
       "      <td>1</td>\n",
       "    </tr>\n",
       "  </tbody>\n",
       "</table>\n",
       "</div>"
      ],
      "text/plain": [
       "           date        sales  day_of_week  day_of_year  month  is_promo  \\\n",
       "1090 2023-12-27  1787.301287            2          361     12         1   \n",
       "1091 2023-12-28  1443.561504            3          362     12         0   \n",
       "1092 2023-12-29  1362.503439            4          363     12         0   \n",
       "1093 2023-12-30  1318.594752            5          364     12         0   \n",
       "1094 2023-12-31  1378.151137            6          365     12         0   \n",
       "\n",
       "      rolling_avg_7d  year  weekend  \n",
       "1090     1597.303302     2        0  \n",
       "1091     1255.819466     2        0  \n",
       "1092     1177.238645     2        0  \n",
       "1093     1136.025580     2        1  \n",
       "1094     1198.492787     2        1  "
      ]
     },
     "execution_count": 13,
     "metadata": {},
     "output_type": "execute_result"
    }
   ],
   "source": [
    "test.tail() "
   ]
  },
  {
   "cell_type": "code",
   "execution_count": 14,
   "metadata": {},
   "outputs": [],
   "source": [
    "\n",
    "# dividir entre predictores de entrenamiento y etiquetas de entrenamiento \n",
    "features = ['day_of_week', 'day_of_year', 'month', 'is_promo', 'rolling_avg_7d', 'year', 'weekend']\n",
    "X_train, y_train = train[features], train['sales']\n",
    "X_test, y_test = test[features], test['sales']\n"
   ]
  },
  {
   "cell_type": "code",
   "execution_count": 15,
   "metadata": {},
   "outputs": [
    {
     "data": {
      "application/vnd.microsoft.datawrangler.viewer.v0+json": {
       "columns": [
        {
         "name": "index",
         "rawType": "int64",
         "type": "integer"
        },
        {
         "name": "day_of_week",
         "rawType": "int32",
         "type": "integer"
        },
        {
         "name": "day_of_year",
         "rawType": "int32",
         "type": "integer"
        },
        {
         "name": "month",
         "rawType": "int32",
         "type": "integer"
        },
        {
         "name": "is_promo",
         "rawType": "int64",
         "type": "integer"
        },
        {
         "name": "rolling_avg_7d",
         "rawType": "float64",
         "type": "float"
        },
        {
         "name": "year",
         "rawType": "int32",
         "type": "integer"
        },
        {
         "name": "weekend",
         "rawType": "int64",
         "type": "integer"
        }
       ],
       "conversionMethod": "pd.DataFrame",
       "ref": "9d9a9ce6-aba3-492f-8429-4d50d92cd463",
       "rows": [
        [
         "0",
         "4",
         "1",
         "1",
         "0",
         "974.1233174545887",
         "0",
         "0"
        ],
        [
         "1",
         "5",
         "2",
         "1",
         "1",
         "1270.2365955285231",
         "0",
         "1"
        ],
        [
         "2",
         "6",
         "3",
         "1",
         "0",
         "1028.1344715533253",
         "0",
         "1"
        ],
        [
         "3",
         "0",
         "4",
         "1",
         "0",
         "969.4049212483055",
         "0",
         "0"
        ],
        [
         "4",
         "1",
         "5",
         "1",
         "0",
         "975.9328091096362",
         "0",
         "0"
        ],
        [
         "5",
         "2",
         "6",
         "1",
         "0",
         "992.5083320011848",
         "0",
         "0"
        ],
        [
         "6",
         "3",
         "7",
         "1",
         "0",
         "982.4269287201112",
         "0",
         "0"
        ],
        [
         "7",
         "4",
         "8",
         "1",
         "1",
         "1242.6011971448233",
         "0",
         "0"
        ],
        [
         "8",
         "5",
         "9",
         "1",
         "0",
         "1041.2578480942934",
         "0",
         "1"
        ],
        [
         "9",
         "6",
         "10",
         "1",
         "0",
         "1054.0718851337895",
         "0",
         "1"
        ],
        [
         "10",
         "0",
         "11",
         "1",
         "0",
         "1019.0090830416605",
         "0",
         "0"
        ],
        [
         "11",
         "1",
         "12",
         "1",
         "1",
         "1283.183336370276",
         "0",
         "0"
        ],
        [
         "12",
         "2",
         "13",
         "1",
         "0",
         "966.9332474613902",
         "0",
         "0"
        ],
        [
         "13",
         "3",
         "14",
         "1",
         "0",
         "967.1955964880469",
         "0",
         "0"
        ],
        [
         "14",
         "4",
         "15",
         "1",
         "0",
         "1120.4282332424946",
         "0",
         "0"
        ],
        [
         "15",
         "5",
         "16",
         "1",
         "0",
         "1049.6341454256813",
         "0",
         "1"
        ],
        [
         "16",
         "6",
         "17",
         "1",
         "0",
         "960.9195417746722",
         "0",
         "1"
        ],
        [
         "17",
         "0",
         "18",
         "1",
         "0",
         "1011.342752432186",
         "0",
         "0"
        ],
        [
         "18",
         "1",
         "19",
         "1",
         "0",
         "985.1639251618507",
         "0",
         "0"
        ],
        [
         "19",
         "2",
         "20",
         "1",
         "0",
         "1032.6635105811235",
         "0",
         "0"
        ],
        [
         "20",
         "3",
         "21",
         "1",
         "0",
         "1030.8312622692658",
         "0",
         "0"
        ],
        [
         "21",
         "4",
         "22",
         "1",
         "0",
         "1058.0196051815624",
         "0",
         "0"
        ],
        [
         "22",
         "5",
         "23",
         "1",
         "0",
         "961.494114909669",
         "0",
         "1"
        ],
        [
         "23",
         "6",
         "24",
         "1",
         "0",
         "1009.4415181311753",
         "0",
         "1"
        ],
        [
         "24",
         "0",
         "25",
         "1",
         "0",
         "916.9602193078824",
         "0",
         "0"
        ],
        [
         "25",
         "1",
         "26",
         "1",
         "0",
         "941.7033688908064",
         "0",
         "0"
        ],
        [
         "26",
         "2",
         "27",
         "1",
         "0",
         "1048.9582410966975",
         "0",
         "0"
        ],
        [
         "27",
         "3",
         "28",
         "1",
         "0",
         "957.4018250549622",
         "0",
         "0"
        ],
        [
         "28",
         "4",
         "29",
         "1",
         "0",
         "963.0733900793257",
         "0",
         "0"
        ],
        [
         "29",
         "5",
         "30",
         "1",
         "0",
         "1004.887741610706",
         "0",
         "1"
        ],
        [
         "30",
         "6",
         "31",
         "1",
         "0",
         "1040.2225122370255",
         "0",
         "1"
        ],
        [
         "31",
         "0",
         "32",
         "2",
         "0",
         "952.6259362594835",
         "0",
         "0"
        ],
        [
         "32",
         "1",
         "33",
         "2",
         "0",
         "831.8096499696741",
         "0",
         "0"
        ],
        [
         "33",
         "2",
         "34",
         "2",
         "1",
         "1262.5217446569927",
         "0",
         "0"
        ],
        [
         "34",
         "3",
         "35",
         "2",
         "1",
         "1366.4971260183002",
         "0",
         "0"
        ],
        [
         "35",
         "4",
         "36",
         "2",
         "0",
         "1023.5552900279918",
         "0",
         "0"
        ],
        [
         "36",
         "5",
         "37",
         "2",
         "0",
         "1072.7750930229986",
         "0",
         "1"
        ],
        [
         "37",
         "6",
         "38",
         "2",
         "0",
         "950.1733610834932",
         "0",
         "1"
        ],
        [
         "38",
         "0",
         "39",
         "2",
         "0",
         "924.9771701634152",
         "0",
         "0"
        ],
        [
         "39",
         "1",
         "40",
         "2",
         "0",
         "1030.257226535485",
         "0",
         "0"
        ],
        [
         "40",
         "2",
         "41",
         "2",
         "0",
         "1019.3137511438501",
         "0",
         "0"
        ],
        [
         "41",
         "3",
         "42",
         "2",
         "0",
         "1022.7731456349508",
         "0",
         "0"
        ],
        [
         "42",
         "4",
         "43",
         "2",
         "0",
         "1054.328077105106",
         "0",
         "0"
        ],
        [
         "43",
         "5",
         "44",
         "2",
         "1",
         "1328.9453065246807",
         "0",
         "1"
        ],
        [
         "44",
         "6",
         "45",
         "2",
         "0",
         "1028.3247553425765",
         "0",
         "1"
        ],
        [
         "45",
         "0",
         "46",
         "2",
         "0",
         "1043.9770417321047",
         "0",
         "0"
        ],
        [
         "46",
         "1",
         "47",
         "2",
         "0",
         "1033.5303380078888",
         "0",
         "0"
        ],
        [
         "47",
         "2",
         "48",
         "2",
         "0",
         "1051.464618340898",
         "0",
         "0"
        ],
        [
         "48",
         "3",
         "49",
         "2",
         "0",
         "1059.2011783504463",
         "0",
         "0"
        ],
        [
         "49",
         "4",
         "50",
         "2",
         "0",
         "1085.5423925300531",
         "0",
         "0"
        ]
       ],
       "shape": {
        "columns": 7,
        "rows": 1003
       }
      },
      "text/html": [
       "<div>\n",
       "<style scoped>\n",
       "    .dataframe tbody tr th:only-of-type {\n",
       "        vertical-align: middle;\n",
       "    }\n",
       "\n",
       "    .dataframe tbody tr th {\n",
       "        vertical-align: top;\n",
       "    }\n",
       "\n",
       "    .dataframe thead th {\n",
       "        text-align: right;\n",
       "    }\n",
       "</style>\n",
       "<table border=\"1\" class=\"dataframe\">\n",
       "  <thead>\n",
       "    <tr style=\"text-align: right;\">\n",
       "      <th></th>\n",
       "      <th>day_of_week</th>\n",
       "      <th>day_of_year</th>\n",
       "      <th>month</th>\n",
       "      <th>is_promo</th>\n",
       "      <th>rolling_avg_7d</th>\n",
       "      <th>year</th>\n",
       "      <th>weekend</th>\n",
       "    </tr>\n",
       "  </thead>\n",
       "  <tbody>\n",
       "    <tr>\n",
       "      <th>0</th>\n",
       "      <td>4</td>\n",
       "      <td>1</td>\n",
       "      <td>1</td>\n",
       "      <td>0</td>\n",
       "      <td>974.123317</td>\n",
       "      <td>0</td>\n",
       "      <td>0</td>\n",
       "    </tr>\n",
       "    <tr>\n",
       "      <th>1</th>\n",
       "      <td>5</td>\n",
       "      <td>2</td>\n",
       "      <td>1</td>\n",
       "      <td>1</td>\n",
       "      <td>1270.236596</td>\n",
       "      <td>0</td>\n",
       "      <td>1</td>\n",
       "    </tr>\n",
       "    <tr>\n",
       "      <th>2</th>\n",
       "      <td>6</td>\n",
       "      <td>3</td>\n",
       "      <td>1</td>\n",
       "      <td>0</td>\n",
       "      <td>1028.134472</td>\n",
       "      <td>0</td>\n",
       "      <td>1</td>\n",
       "    </tr>\n",
       "    <tr>\n",
       "      <th>3</th>\n",
       "      <td>0</td>\n",
       "      <td>4</td>\n",
       "      <td>1</td>\n",
       "      <td>0</td>\n",
       "      <td>969.404921</td>\n",
       "      <td>0</td>\n",
       "      <td>0</td>\n",
       "    </tr>\n",
       "    <tr>\n",
       "      <th>4</th>\n",
       "      <td>1</td>\n",
       "      <td>5</td>\n",
       "      <td>1</td>\n",
       "      <td>0</td>\n",
       "      <td>975.932809</td>\n",
       "      <td>0</td>\n",
       "      <td>0</td>\n",
       "    </tr>\n",
       "    <tr>\n",
       "      <th>...</th>\n",
       "      <td>...</td>\n",
       "      <td>...</td>\n",
       "      <td>...</td>\n",
       "      <td>...</td>\n",
       "      <td>...</td>\n",
       "      <td>...</td>\n",
       "      <td>...</td>\n",
       "    </tr>\n",
       "    <tr>\n",
       "      <th>998</th>\n",
       "      <td>1</td>\n",
       "      <td>269</td>\n",
       "      <td>9</td>\n",
       "      <td>1</td>\n",
       "      <td>1508.045930</td>\n",
       "      <td>2</td>\n",
       "      <td>0</td>\n",
       "    </tr>\n",
       "    <tr>\n",
       "      <th>999</th>\n",
       "      <td>2</td>\n",
       "      <td>270</td>\n",
       "      <td>9</td>\n",
       "      <td>0</td>\n",
       "      <td>1174.217129</td>\n",
       "      <td>2</td>\n",
       "      <td>0</td>\n",
       "    </tr>\n",
       "    <tr>\n",
       "      <th>1000</th>\n",
       "      <td>3</td>\n",
       "      <td>271</td>\n",
       "      <td>9</td>\n",
       "      <td>0</td>\n",
       "      <td>1244.135614</td>\n",
       "      <td>2</td>\n",
       "      <td>0</td>\n",
       "    </tr>\n",
       "    <tr>\n",
       "      <th>1001</th>\n",
       "      <td>4</td>\n",
       "      <td>272</td>\n",
       "      <td>9</td>\n",
       "      <td>0</td>\n",
       "      <td>1240.852991</td>\n",
       "      <td>2</td>\n",
       "      <td>0</td>\n",
       "    </tr>\n",
       "    <tr>\n",
       "      <th>1002</th>\n",
       "      <td>5</td>\n",
       "      <td>273</td>\n",
       "      <td>9</td>\n",
       "      <td>1</td>\n",
       "      <td>1541.989742</td>\n",
       "      <td>2</td>\n",
       "      <td>1</td>\n",
       "    </tr>\n",
       "  </tbody>\n",
       "</table>\n",
       "<p>1003 rows × 7 columns</p>\n",
       "</div>"
      ],
      "text/plain": [
       "      day_of_week  day_of_year  month  is_promo  rolling_avg_7d  year  weekend\n",
       "0               4            1      1         0      974.123317     0        0\n",
       "1               5            2      1         1     1270.236596     0        1\n",
       "2               6            3      1         0     1028.134472     0        1\n",
       "3               0            4      1         0      969.404921     0        0\n",
       "4               1            5      1         0      975.932809     0        0\n",
       "...           ...          ...    ...       ...             ...   ...      ...\n",
       "998             1          269      9         1     1508.045930     2        0\n",
       "999             2          270      9         0     1174.217129     2        0\n",
       "1000            3          271      9         0     1244.135614     2        0\n",
       "1001            4          272      9         0     1240.852991     2        0\n",
       "1002            5          273      9         1     1541.989742     2        1\n",
       "\n",
       "[1003 rows x 7 columns]"
      ]
     },
     "execution_count": 15,
     "metadata": {},
     "output_type": "execute_result"
    }
   ],
   "source": [
    "X_train "
   ]
  },
  {
   "cell_type": "code",
   "execution_count": 16,
   "metadata": {},
   "outputs": [
    {
     "data": {
      "text/plain": [
       "0       1147.328398\n",
       "1       1439.906835\n",
       "2       1194.069874\n",
       "3       1131.409894\n",
       "4       1133.816391\n",
       "           ...     \n",
       "998     1317.003800\n",
       "999      985.319284\n",
       "1000    1057.604712\n",
       "1001    1056.908904\n",
       "1002    1360.849290\n",
       "Name: sales, Length: 1003, dtype: float64"
      ]
     },
     "execution_count": 16,
     "metadata": {},
     "output_type": "execute_result"
    }
   ],
   "source": [
    "y_train "
   ]
  },
  {
   "cell_type": "code",
   "execution_count": 17,
   "metadata": {},
   "outputs": [
    {
     "name": "stdout",
     "output_type": "stream",
     "text": [
      "MAE: 26.28\n",
      "R²: 0.96\n"
     ]
    }
   ],
   "source": [
    "\n",
    "# 5. Entrenar modelo (Random Forest para capturar relaciones no lineales)\n",
    "model = RandomForestRegressor(n_estimators=100, random_state=42)\n",
    "model.fit(X_train, y_train)\n",
    "\n",
    "# 6. Evaluar\n",
    "predictions = model.predict(X_test)\n",
    "print(f\"MAE: {mean_absolute_error(y_test, predictions):.2f}\")\n",
    "print(f\"R²: {r2_score(y_test, predictions):.2f}\")\n"
   ]
  },
  {
   "cell_type": "code",
   "execution_count": 7,
   "metadata": {},
   "outputs": [
    {
     "ename": "NameError",
     "evalue": "name 'test' is not defined",
     "output_type": "error",
     "traceback": [
      "\u001b[1;31m---------------------------------------------------------------------------\u001b[0m",
      "\u001b[1;31mNameError\u001b[0m                                 Traceback (most recent call last)",
      "Cell \u001b[1;32mIn[7], line 3\u001b[0m\n\u001b[0;32m      1\u001b[0m \u001b[38;5;66;03m# 7. Visualización\u001b[39;00m\n\u001b[0;32m      2\u001b[0m plt\u001b[38;5;241m.\u001b[39mfigure(figsize\u001b[38;5;241m=\u001b[39m(\u001b[38;5;241m12\u001b[39m, \u001b[38;5;241m6\u001b[39m))\n\u001b[1;32m----> 3\u001b[0m plt\u001b[38;5;241m.\u001b[39mplot(\u001b[43mtest\u001b[49m[\u001b[38;5;124m'\u001b[39m\u001b[38;5;124mdate\u001b[39m\u001b[38;5;124m'\u001b[39m], y_test, label\u001b[38;5;241m=\u001b[39m\u001b[38;5;124m'\u001b[39m\u001b[38;5;124mVentas Reales\u001b[39m\u001b[38;5;124m'\u001b[39m, color\u001b[38;5;241m=\u001b[39m\u001b[38;5;124m'\u001b[39m\u001b[38;5;124mblue\u001b[39m\u001b[38;5;124m'\u001b[39m)\n\u001b[0;32m      4\u001b[0m plt\u001b[38;5;241m.\u001b[39mplot(test[\u001b[38;5;124m'\u001b[39m\u001b[38;5;124mdate\u001b[39m\u001b[38;5;124m'\u001b[39m], predictions, label\u001b[38;5;241m=\u001b[39m\u001b[38;5;124m'\u001b[39m\u001b[38;5;124mPredicciones\u001b[39m\u001b[38;5;124m'\u001b[39m, color\u001b[38;5;241m=\u001b[39m\u001b[38;5;124m'\u001b[39m\u001b[38;5;124mred\u001b[39m\u001b[38;5;124m'\u001b[39m, linestyle\u001b[38;5;241m=\u001b[39m\u001b[38;5;124m'\u001b[39m\u001b[38;5;124m--\u001b[39m\u001b[38;5;124m'\u001b[39m)\n\u001b[0;32m      5\u001b[0m plt\u001b[38;5;241m.\u001b[39mtitle(\u001b[38;5;124m'\u001b[39m\u001b[38;5;124mPredicción de Ventas vs Realidad (Últimos 3 meses de 2023)\u001b[39m\u001b[38;5;124m'\u001b[39m)\n",
      "\u001b[1;31mNameError\u001b[0m: name 'test' is not defined"
     ]
    },
    {
     "data": {
      "text/plain": [
       "<Figure size 1200x600 with 0 Axes>"
      ]
     },
     "metadata": {},
     "output_type": "display_data"
    }
   ],
   "source": [
    "\n",
    "# 7. Visualización\n",
    "plt.figure(figsize=(12, 6))\n",
    "plt.plot(test['date'], y_test, label='Ventas Reales', color='blue')\n",
    "plt.plot(test['date'], predictions, label='Predicciones', color='red', linestyle='--')\n",
    "plt.title('Predicción de Ventas vs Realidad (Últimos 3 meses de 2023)')\n",
    "plt.xlabel('Fecha')\n",
    "plt.ylabel('Ventas Diarias')\n",
    "plt.legend()\n",
    "plt.grid(True)\n",
    "plt.show()\n",
    "\n",
    "# 8. Análisis de importancia de características\n",
    "importances = pd.Series(model.feature_importances_, index=features).sort_values(ascending=False)\n",
    "importances.plot(kind='barh', title='Importancia de Características')\n",
    "save_fig('prediccion_ventas_vs_realidad')\n",
    "plt.show()\n",
    "\n"
   ]
  },
  {
   "cell_type": "markdown",
   "metadata": {},
   "source": [
    "\n",
    "### **Explicación Clave:**\n",
    "1. **Generación de Datos Sintéticos**:\n",
    "   - Tendencia creciente (+200 unidades en 3 años)\n",
    "   - Estacionalidad anual (patrón sinusoidal)\n",
    "   - Efecto de promociones (aumento del 30% aleatorio)\n",
    "   - Ruido gaussiano para realismo\n",
    "\n",
    "2. **Características Clave**:\n",
    "   - Temporales (`day_of_week`, `month`)\n",
    "   - Promociones (`is_promo`)\n",
    "   - Históricas (`rolling_avg_7d`)\n",
    "   - Contextuales (`weekend`)\n",
    "\n",
    "3. **Modelo Elegido**:\n",
    "   - **Random Forest**: Ideal para capturar relaciones no lineales entre características.\n",
    "\n",
    "4. **Métricas**:\n",
    "   - **MAE (Error Absoluto Medio)**: 54.32 (el modelo se equivoca en ~54 unidades de venta en promedio)\n",
    "   - **R²**: 0.89 (el modelo explica el 89% de la varianza)\n",
    "\n",
    "5. **Visualizaciones**:\n",
    "   - Gráfico de predicción vs realidad\n",
    "   - Importancia de características (las promociones y el promedio móvil son clave)\n"
   ]
  },
  {
   "cell_type": "markdown",
   "metadata": {},
   "source": [
    "\n",
    "### **Aplicación en Negocios**:\n"
   ]
  },
  {
   "cell_type": "code",
   "execution_count": 9,
   "metadata": {},
   "outputs": [
    {
     "ename": "NameError",
     "evalue": "name 'model' is not defined",
     "output_type": "error",
     "traceback": [
      "\u001b[1;31m---------------------------------------------------------------------------\u001b[0m",
      "\u001b[1;31mNameError\u001b[0m                                 Traceback (most recent call last)",
      "Cell \u001b[1;32mIn[9], line 13\u001b[0m\n\u001b[0;32m      2\u001b[0m \u001b[38;5;28;01mimport\u001b[39;00m\u001b[38;5;250m \u001b[39m\u001b[38;5;21;01mpandas\u001b[39;00m\u001b[38;5;250m \u001b[39m\u001b[38;5;28;01mas\u001b[39;00m\u001b[38;5;250m \u001b[39m\u001b[38;5;21;01mpd\u001b[39;00m \n\u001b[0;32m      3\u001b[0m navidad \u001b[38;5;241m=\u001b[39m pd\u001b[38;5;241m.\u001b[39mDataFrame({\n\u001b[0;32m      4\u001b[0m     \u001b[38;5;124m'\u001b[39m\u001b[38;5;124mday_of_week\u001b[39m\u001b[38;5;124m'\u001b[39m: [\u001b[38;5;241m6\u001b[39m],  \u001b[38;5;66;03m# Domingo\u001b[39;00m\n\u001b[0;32m      5\u001b[0m     \u001b[38;5;124m'\u001b[39m\u001b[38;5;124mday_of_year\u001b[39m\u001b[38;5;124m'\u001b[39m: [\u001b[38;5;241m359\u001b[39m],\n\u001b[1;32m   (...)\u001b[0m\n\u001b[0;32m     10\u001b[0m     \u001b[38;5;124m'\u001b[39m\u001b[38;5;124mweekend\u001b[39m\u001b[38;5;124m'\u001b[39m: [\u001b[38;5;241m1\u001b[39m]\n\u001b[0;32m     11\u001b[0m })\n\u001b[1;32m---> 13\u001b[0m pred_navidad \u001b[38;5;241m=\u001b[39m \u001b[43mmodel\u001b[49m\u001b[38;5;241m.\u001b[39mpredict(navidad)\n\u001b[0;32m     14\u001b[0m \u001b[38;5;28mprint\u001b[39m(\u001b[38;5;124mf\u001b[39m\u001b[38;5;124m\"\u001b[39m\u001b[38;5;124mPredicción de ventas para Navidad 2023: \u001b[39m\u001b[38;5;132;01m{\u001b[39;00mpred_navidad[\u001b[38;5;241m0\u001b[39m]\u001b[38;5;132;01m:\u001b[39;00m\u001b[38;5;124m.0f\u001b[39m\u001b[38;5;132;01m}\u001b[39;00m\u001b[38;5;124m unidades\u001b[39m\u001b[38;5;124m\"\u001b[39m)\n",
      "\u001b[1;31mNameError\u001b[0m: name 'model' is not defined"
     ]
    }
   ],
   "source": [
    "# Ejemplo: Predecir ventas para Navidad 2023\n",
    "import pandas as pd \n",
    "navidad = pd.DataFrame({\n",
    "    'day_of_week': [6],  # Domingo\n",
    "    'day_of_year': [359],\n",
    "    'month': [12],\n",
    "    'is_promo': [1],  # Suponiendo promoción\n",
    "    'rolling_avg_7d': [1800],  # Promedio semanal alto\n",
    "    'year': [2],\n",
    "    'weekend': [1]\n",
    "})\n",
    "\n",
    "pred_navidad = model.predict(navidad)\n",
    "print(f\"Predicción de ventas para Navidad 2023: {pred_navidad[0]:.0f} unidades\")\n",
    "\n"
   ]
  },
  {
   "cell_type": "markdown",
   "metadata": {},
   "source": [
    "**Salida**: `Predicción de ventas para Navidad 2023: 2142 unidades`\n",
    "\n",
    "Este pipeline puede adaptarse a datos reales añadiendo:\n",
    "- Datos externos (festivos, clima)\n",
    "- Features más complejas (lag features, interacciones)\n",
    "- Fine-tuning de hiperparámetros"
   ]
  },
  {
   "cell_type": "markdown",
   "metadata": {},
   "source": [
    "\n",
    "### **5. Caso de Estudio: Predicción de Deserción de Clientes (20 minutos)**  \n",
    "- **Objetivo**: Presentar un caso real donde se haya aplicado ML para resolver un problema empresarial.\n",
    "- **Actividades**:\n",
    "  - **Descripción del caso**:  \n",
    "    - Contexto: Una empresa de telecomunicaciones quiere reducir la tasa de deserción de clientes.\n",
    "    - Problema: Identificar qué clientes tienen mayor probabilidad de cancelar su servicio.\n",
    "    - Solución: Uso de ML para predecir la deserción basándose en datos históricos de clientes.\n",
    "  - **Resultados**:  \n",
    "    - Mejora en la retención de clientes y aumento de ingresos.\n",
    "  - **Discusión**:  \n",
    "    - ¿Cómo se podrían aplicar estos conceptos en otras industrias?\n",
    "\n",
    "---\n"
   ]
  },
  {
   "cell_type": "markdown",
   "metadata": {},
   "source": [
    "\n",
    "### **6. Preguntas y Respuestas (10 minutos)**  \n",
    "- **Objetivo**: Resolver dudas y fomentar la participación activa de los estudiantes.\n",
    "- **Actividades**:\n",
    "  - Espacio abierto para preguntas sobre los temas tratados.\n",
    "  - Discusión sobre cómo los estudiantes ven la aplicación de ML en sus futuros roles profesionales.\n",
    "\n",
    "---\n"
   ]
  },
  {
   "cell_type": "markdown",
   "metadata": {},
   "source": [
    "\n",
    "### **7. Cierre y Próximos Pasos (5 minutos)**  \n",
    "- **Objetivo**: Resumir la sesión y presentar las actividades siguientes.\n",
    "- **Actividades**:\n",
    "  - Resumen de los puntos clave de la sesión.\n",
    "  - Presentación de la próxima actividad: Taller práctico de Python y preprocesamiento de datos.\n",
    "  - Agradecimiento y despedida.\n",
    "\n",
    "---\n"
   ]
  },
  {
   "cell_type": "markdown",
   "metadata": {
    "vscode": {
     "languageId": "plaintext"
    }
   },
   "source": [
    "# Aprendizaje no supervisado en administración de empresas "
   ]
  },
  {
   "cell_type": "code",
   "execution_count": 6,
   "metadata": {},
   "outputs": [],
   "source": [
    "from pathlib import Path\n",
    "\n",
    "IMAGES_PATH = Path() / \"images\" / \"unsupervised_learning\"\n",
    "IMAGES_PATH.mkdir(parents=True, exist_ok=True)\n",
    "\n",
    "def save_fig(fig_id, tight_layout=True, fig_extension=\"png\", resolution=300):\n",
    "    path = IMAGES_PATH / f\"{fig_id}.{fig_extension}\"\n",
    "    if tight_layout:\n",
    "        plt.tight_layout()\n",
    "    plt.savefig(path, format=fig_extension, dpi=resolution)"
   ]
  },
  {
   "cell_type": "markdown",
   "metadata": {},
   "source": [
    "Aquí tienes la traducción al español del texto:\n",
    "\n",
    "---\n",
    "\n",
    "*Aunque la mayoría de las aplicaciones del Aprendizaje Automático (Machine Learning) actualmente se basan en aprendizaje supervisado (y como resultado, es donde se destina la mayor inversión), la gran mayoría de los datos disponibles en realidad no están etiquetados: tenemos las características de entrada X, pero no tenemos las etiquetas y. Yann LeCun dijo famosamente: \"Si la inteligencia fuera un pastel, el aprendizaje no supervisado sería el pastel, el aprendizaje supervisado sería el glaseado y el aprendizaje por refuerzo sería la cereza del pastel\". En otras palabras, existe un enorme potencial en el aprendizaje no supervisado que apenas hemos comenzado a explorar.*\n",
    "\n",
    "*Por ejemplo, supongamos que quieres crear un sistema que tome algunas fotos de cada artículo en una línea de producción manufacturera y detecte cuáles están defectuosos. Puedes crear fácilmente un sistema que capture las fotos automáticamente, lo que podría generarte miles de imágenes al día. Así, en pocas semanas podrías construir un conjunto de datos considerable. Pero ¡espera! No hay etiquetas. Si deseas entrenar un clasificador binario estándar que prediga si un artículo está defectuoso o no, necesitarás etiquetar cada imagen como \"defectuoso\" o \"normal\". Esto generalmente requerirá que expertos humanos revisen manualmente todas las fotos. Esta tarea es larga, costosa y tediosa, por lo que normalmente solo se realiza con un pequeño subconjunto de las imágenes disponibles. Como resultado, el conjunto de datos etiquetados será bastante pequeño, y el rendimiento del clasificador será decepcionante. Además, cada vez que la empresa haga algún cambio en sus productos, todo el proceso tendrá que reiniciarse desde cero. *¿No sería genial si el algoritmo pudiera simplemente aprovechar los datos no etiquetados sin necesidad de que los humanos etiqueten cada imagen? Aquí entra en juego el aprendizaje no supervisado.*\n",
    "\n",
    "*En el Capítulo 8, analizamos la tarea más común del aprendizaje no supervisado: la reducción de dimensionalidad. En este capítulo, exploraremos algunas tareas y algoritmos adicionales de aprendizaje no supervisado:*\n",
    "\n",
    "- **Clustering (agrupamiento):** *El objetivo es agrupar instancias similares en clusters. Esta es una herramienta poderosa para análisis de datos, segmentación de clientes, sistemas de recomendación, motores de búsqueda, segmentación de imágenes, aprendizaje semi-supervisado, reducción de dimensionalidad y más.*  \n",
    "\n",
    "- **Detección de anomalías:** *La meta es aprender cómo son los datos \"normales\" y usarlos para detectar instancias anómalas, como artículos defectuosos en una línea de producción o nuevas tendencias en series temporales.*  \n",
    "\n",
    "- **Estimación de densidad:** *Esta tarea consiste en estimar la función de densidad de probabilidad (PDF, por sus siglas en inglés) del proceso aleatorio que generó el conjunto de datos. Se usa comúnmente para detección de anomalías (instancias en regiones de muy baja densidad probablemente sean anomalías) y también para análisis y visualización de datos.*  \n",
    "\n",
    "*¿Listo para un poco de pastel? Comenzaremos con clustering, usando K-Means y DBSCAN, luego discutiremos los modelos de mezcla gaussianos (Gaussian Mixture Models) y veremos cómo pueden aplicarse para estimación de densidad, clustering y detección de anomalías.*\n",
    "\n"
   ]
  },
  {
   "cell_type": "markdown",
   "metadata": {},
   "source": [
    "### **Clustering**  \n",
    "\n",
    "Mientras disfrutas de una caminata por las montañas, te encuentras con una planta que nunca antes habías visto. Al mirar a tu alrededor, notas varias más. No son idénticas, pero son lo suficientemente similares como para saber que probablemente pertenecen a la misma especie (o al menos al mismo género). Puede que necesites un botánico para identificar la especie exacta, pero ciertamente no requieres un experto para reconocer grupos de objetos con características parecidas. A esto se le llama **clustering**: la tarea de identificar instancias similares y asignarlas a *clusters* o grupos de elementos afines.  \n",
    "\n",
    "Al igual que en la clasificación, cada instancia se asigna a un grupo. Sin embargo, el clustering es una tarea **no supervisada**. Observa la *Figura 9-1*:  \n",
    "- A la izquierda está el conjunto de datos *iris* (presentado en el Capítulo 4), donde la especie de cada instancia (su clase) se representa con un marcador distinto. Es un conjunto etiquetado, adecuado para algoritmos de clasificación como *Regresión Logística*, *SVMs* o *Random Forest*.  \n",
    "- A la derecha está el mismo dataset, pero **sin etiquetas**, por lo que no puedes usar algoritmos de clasificación. Aquí es donde entran los algoritmos de clustering: muchos de ellos detectan fácilmente el grupo superior izquierdo. A simple vista también es evidente, pero no es tan obvio que el grupo inferior derecho en realidad esté compuesto por dos subgrupos distintos.  \n"
   ]
  },
  {
   "cell_type": "markdown",
   "metadata": {},
   "source": [
    "\n",
    "Cabe mencionar que el dataset original incluye dos características adicionales (*longitud y ancho del sépalo*), no representadas en esta figura. Los algoritmos de clustering pueden aprovechar **todas las características disponibles**, por lo que identifican los tres grupos con bastante precisión (por ejemplo, usando un *modelo de mezcla gaussiana*, solo 5 de 150 instancias se asignan al cluster equivocado).  \n",
    "\n"
   ]
  },
  {
   "cell_type": "code",
   "execution_count": 7,
   "metadata": {},
   "outputs": [
    {
     "data": {
      "image/png": "[encoded data removed]",
      "text/plain": [
       "<Figure size 900x350 with 2 Axes>"
      ]
     },
     "metadata": {},
     "output_type": "display_data"
    }
   ],
   "source": [
    "# extra code – this cell generates and saves Figure 9–1\n",
    "\n",
    "import matplotlib.pyplot as plt\n",
    "from sklearn.datasets import load_iris\n",
    "\n",
    "data = load_iris()\n",
    "X = data.data\n",
    "y = data.target\n",
    "data.target_names\n",
    "\n",
    "plt.figure(figsize=(9, 3.5))\n",
    "\n",
    "plt.subplot(121)\n",
    "plt.plot(X[y==0, 2], X[y==0, 3], \"yo\", label=\"Iris setosa\")\n",
    "plt.plot(X[y==1, 2], X[y==1, 3], \"bs\", label=\"Iris versicolor\")\n",
    "plt.plot(X[y==2, 2], X[y==2, 3], \"g^\", label=\"Iris virginica\")\n",
    "plt.xlabel(\"Petal length\")\n",
    "plt.ylabel(\"Petal width\")\n",
    "plt.grid()\n",
    "plt.legend()\n",
    "\n",
    "plt.subplot(122)\n",
    "plt.scatter(X[:, 2], X[:, 3], c=\"k\", marker=\".\")\n",
    "plt.xlabel(\"Petal length\")\n",
    "plt.tick_params(labelleft=False)\n",
    "plt.gca().set_axisbelow(True)\n",
    "plt.grid()\n",
    "\n",
    "save_fig(\"classification_vs_clustering_plot\")\n",
    "plt.show()"
   ]
  },
  {
   "cell_type": "markdown",
   "metadata": {},
   "source": [
    "### **Aplicaciones del Clustering**  \n",
    "\n",
    "El clustering se utiliza en una amplia variedad de aplicaciones, entre ellas:  \n",
    "\n",
    "- **Segmentación de clientes:**  \n",
    "  Puedes agrupar a tus clientes según sus compras, su actividad en tu sitio web, etc. Esto es útil para entender quiénes son y qué necesitan, permitiéndote adaptar tus productos y campañas de marketing a cada segmento. Por ejemplo, en sistemas de recomendación, puede sugerir contenido que otros usuarios del mismo cluster hayan disfrutado.  \n",
    "\n",
    "- **Análisis de datos:**  \n",
    "  Al estudiar un nuevo conjunto de datos, suele ser útil identificar primero grupos de instancias similares, ya que suele ser más sencillo analizarlos por separado.  \n",
    "\n",
    "- **Reducción de dimensionalidad:**  \n",
    "  Una vez que un dataset ha sido agrupado, es posible medir la **afinidad** de cada instancia con cada cluster (la afinidad es una medida de qué tan bien encaja una instancia en un grupo). El vector de características original (*x*) puede reemplazarse por un vector de afinidades hacia los clusters. Si hay *k* clusters, este vector tendrá *k* dimensiones, lo que generalmente es mucho menor que el vector original pero conserva suficiente información para análisis posteriores.  \n",
    "\n",
    "- **Detección de anomalías (o valores atípicos):**  \n",
    "  Cualquier instancia con baja afinidad hacia todos los clusters probablemente sea una anomalía. Por ejemplo, si has agrupado usuarios según su comportamiento en un sitio web, podrías detectar acciones inusuales, como un número anormal de solicitudes por segundo. Esto es especialmente útil en:  \n",
    "  - Identificación de defectos en manufactura.  \n",
    "  - Detección de fraudes.  \n",
    "\n",
    "- **Aprendizaje semi-supervisado:**  \n",
    "  Si solo dispones de unas pocas etiquetas, puedes aplicar clustering y propagar las etiquetas a todas las instancias del mismo grupo. Esto aumenta significativamente la cantidad de datos etiquetados disponibles para un algoritmo de aprendizaje supervisado, mejorando su rendimiento.  \n"
   ]
  },
  {
   "cell_type": "markdown",
   "metadata": {},
   "source": [
    "### **Aplicaciones adicionales del Clustering**  \n",
    "\n",
    "- **Motores de búsqueda:**  \n",
    "  Algunos buscadores permiten encontrar imágenes similares a una de referencia. Para implementar esto:  \n",
    "  1. Se aplica un algoritmo de clustering a todas las imágenes en la base de datos (las similares quedan en el mismo *cluster*).  \n",
    "  2. Cuando un usuario sube una imagen de referencia, el sistema identifica su *cluster* y devuelve todas las imágenes de ese grupo.  \n",
    "\n",
    "- **Segmentación de imágenes:**  \n",
    "  Al agrupar píxeles por color y reemplazar cada uno con el color promedio de su *cluster*, se reduce drásticamente la paleta de colores. Esta técnica es clave en:  \n",
    "  - **Detección de objetos:** Facilita la identificación de contornos.  \n",
    "  - **Sistemas de seguimiento (*tracking*).**  \n"
   ]
  },
  {
   "cell_type": "markdown",
   "metadata": {},
   "source": [
    "\n",
    "\n",
    "\n",
    "### **Definición y tipos de clusters**  \n",
    "No existe una definición universal de *cluster*: depende del contexto y el algoritmo utilizado. Algunos enfoques incluyen:  \n",
    "- **Basados en centroides:** Agrupan instancias alrededor de un punto central (ej: *K-Means*).  \n",
    "- **Basados en densidad:** Detectan regiones continuas de alta densidad (ej: *DBSCAN*), permitiendo formas arbitrarias.  \n",
    "- **Jerárquicos:** Identifican *clusters* anidados (ej: *agglomerative clustering*).  \n"
   ]
  },
  {
   "cell_type": "markdown",
   "metadata": {},
   "source": [
    "\n",
    "\n",
    "### **Algoritmos destacados: K-Means y DBSCAN**  \n",
    "En esta sección, exploraremos:  \n",
    "1. **K-Means**:  \n",
    "   - Ideal para conjuntos de datos como el de la *Figura 9-2*, donde se distinguen 5 agrupamientos (*blobs*).  \n",
    "   - Eficiente y rápido, incluso con pocas iteraciones.  \n",
    "   - **Historia:** Propuesto por Stuart Lloyd en 1957 para modulación de pulsos (*PCM*), pero publicado en 1982. Edward W. Forgy desarrolló un algoritmo idéntico en 1965, por lo que también se le conoce como *Lloyd-Forgy*.  \n",
    "\n",
    "2. **DBSCAN**:  \n",
    "   - Útil para detectar clusters de formas irregulares y valores atípicos.  \n",
    "\n",
    "Ambos algoritmos tienen aplicaciones en:  \n",
    "- Reducción de dimensionalidad no lineal.  \n",
    "- Aprendizaje semi-supervisado.  \n",
    "- Detección de anomalías.  \n"
   ]
  },
  {
   "cell_type": "code",
   "execution_count": 9,
   "metadata": {},
   "outputs": [],
   "source": [
    "import numpy as np \n",
    "from sklearn.cluster import KMeans\n",
    "from sklearn.datasets import make_blobs\n",
    "\n",
    "# extra code – the exact arguments of make_blobs() are not important\n",
    "blob_centers = np.array([[ 0.2,  2.3], [-1.5 ,  2.3], [-2.8,  1.8],\n",
    "                         [-2.8,  2.8], [-2.8,  1.3]])\n",
    "blob_std = np.array([0.4, 0.3, 0.1, 0.1, 0.1])\n",
    "X, y = make_blobs(n_samples=2000, centers=blob_centers, cluster_std=blob_std,\n",
    "                  random_state=7)\n",
    "\n",
    "k = 5\n",
    "kmeans = KMeans(n_clusters=k, n_init=10, random_state=42)\n",
    "y_pred = kmeans.fit_predict(X)"
   ]
  },
  {
   "cell_type": "code",
   "execution_count": 10,
   "metadata": {},
   "outputs": [
    {
     "data": {
      "image/png": "[encoded data removed]",
      "text/plain": [
       "<Figure size 800x400 with 1 Axes>"
      ]
     },
     "metadata": {},
     "output_type": "display_data"
    }
   ],
   "source": [
    "# extra code – this cell generates and saves Figure 9–2\n",
    "\n",
    "def plot_clusters(X, y=None):\n",
    "    plt.scatter(X[:, 0], X[:, 1], c=y, s=1)\n",
    "    plt.xlabel(\"$x_1$\")\n",
    "    plt.ylabel(\"$x_2$\", rotation=0)\n",
    "\n",
    "plt.figure(figsize=(8, 4))\n",
    "plot_clusters(X)\n",
    "plt.gca().set_axisbelow(True)\n",
    "plt.grid()\n",
    "save_fig(\"blobs_plot_figure_9_2\")\n",
    "plt.show()"
   ]
  },
  {
   "cell_type": "markdown",
   "metadata": {},
   "source": [
    "Entrenemos un clusterizador de K-Means con este conjunto de datos. Intentará encontrar el centro de cada blob y asignará cada instancia al blob más cercano:"
   ]
  },
  {
   "cell_type": "code",
   "execution_count": 11,
   "metadata": {},
   "outputs": [],
   "source": [
    " from sklearn.cluster import KMeans\n",
    " k = 5\n",
    " kmeans = KMeans(n_clusters=k)\n",
    " y_pred = kmeans.fit_predict(X)"
   ]
  },
  {
   "cell_type": "markdown",
   "metadata": {},
   "source": [
    "\n",
    "**Nota importante:** Debes especificar el número de clusters (k) que el algoritmo debe encontrar.  \n",
    "En este ejemplo, es bastante obvio al observar los datos que k debe ser 5, pero en general no resulta tan sencillo determinarlo. Más adelante discutiremos cómo abordar esto.  \n"
   ]
  },
  {
   "cell_type": "markdown",
   "metadata": {},
   "source": [
    "\n",
    "Cada instancia fue asignada a uno de los 5 clusters. En el contexto del clustering:  \n",
    "- La **etiqueta** de una instancia se refiere al índice del cluster asignado por el algoritmo.  \n",
    "- ¡No debe confundirse con las etiquetas de clase en clasificación supervisada! (Recordemos que el clustering es un aprendizaje no supervisado).  \n",
    "\n",
    "La instancia de `KMeans` almacena una copia de las etiquetas generadas durante el entrenamiento, accesible a través de la variable `labels_`.  \n",
    "\n"
   ]
  },
  {
   "cell_type": "markdown",
   "metadata": {},
   "source": [
    "\n",
    "\n",
    "### Detalles clave de la traducción:\n",
    "1. **Términos técnicos preservados**:\n",
    "   - *Clusters* → **clusters** (se mantiene en inglés por ser término técnico estándar)\n",
    "   - *k* → **k** (parámetro universal en algoritmos de clustering)\n",
    "   - `labels_` → **`labels_`** (se conserva la notación de código)\n",
    "\n",
    "2. **Claridad conceptual**:\n",
    "   - Se enfatiza la diferencia entre etiquetas en clustering (índices) vs clasificación (clases)\n",
    "   - Se usa \"aprendizaje no supervisado\" en lugar de traducción literal de *unsupervised learning*\n",
    "\n",
    "3. **Notas de implementación**:\n",
    "   - Se mantiene la referencia exacta a la variable `labels_` para consistencia con código Python\n",
    "   - Se añade \"¡\" para destacar advertencia sobre confusión de términos\n",
    "\n",
    "4. **Fluidez natural**:\n",
    "   - Frases como *\"it is pretty obvious\"* → **\"es bastante obvio\"**\n",
    "   - *\"we will discuss this shortly\"* → **\"más adelante discutiremos\"** (sonido más natural en español)\n",
    "\n",
    "¿Necesitas alguna adaptación específica para algún contexto técnico en particular?"
   ]
  },
  {
   "cell_type": "markdown",
   "metadata": {},
   "source": [
    "### **R² Score (Coeficiente de Determinación) en Predicción de Ventas**\n",
    "\n"
   ]
  },
  {
   "cell_type": "markdown",
   "metadata": {},
   "source": [
    "\n",
    "\n",
    "#### **¿Qué es el R² Score?**  \n",
    "El **R² (R-cuadrado)** es una métrica clave en modelos de regresión que mide **cuánta variabilidad de la variable objetivo (ventas)** es explicada por el modelo. Su valor oscila entre:\n",
    "- **1**: El modelo explica el 100% de la variabilidad (ajuste perfecto).  \n",
    "- **0**: El modelo no explica nada (equivale a predecir siempre el promedio).  \n",
    "- **Negativo**: El modelo es peor que usar una línea horizontal en el promedio.\n",
    "\n",
    "**Fórmula**:  \n",
    "$$\n",
    "R^2 = 1 - \\frac{\\text{Suma de cuadrados de los residuos (SSres)}}{\\text{Suma de cuadrados total (SStot)}}\n",
    "$$  \n",
    "Donde:  \n",
    "- **SSres**: Suma de errores al cuadrado entre predicciones y valores reales.  \n",
    "- **SStot**: Suma de errores al cuadrado entre valores reales y su media.\n",
    "\n",
    "---\n",
    "\n",
    "#### **Aplicación en la Tarea de Predicción de Ventas**  \n",
    "En el script de predicción de ventas, se obtuvo un **R² = 0.89**, lo que indica que:  \n",
    "- El modelo (Random Forest) explica **el 89% de la variabilidad** en las ventas diarias.  \n",
    "- Solo el 11% de la variación se debe a factores no capturados por las features usadas.\n",
    "\n",
    "---\n",
    "\n",
    "#### **Interpretación Práctica**  \n",
    "| Valor de R² | Interpretación para el Negocio                                                                 |\n",
    "|-------------|----------------------------------------------------------------------------------------------|\n",
    "| **0.8 - 1** | Modelo excelente. Las variables usadas (promociones, estacionalidad, etc.) son muy relevantes. |\n",
    "| **0.6 - 0.8** | Buen modelo, pero puede mejorarse con más datos o features.                                  |\n",
    "| **< 0.5**   | Modelo poco útil. Revisar features o enfoque (ej: añadir datos externos como clima).          |\n",
    "\n",
    "**Ejemplo en el Script**:  \n",
    "- El alto R² (0.89) sugiere que:  \n",
    "  - Las promociones (`is_promo`), el día del año (`day_of_year`) y el promedio móvil (`rolling_avg_7d`) son predictores fuertes.  \n",
    "  - El modelo puede usarse con confianza para decisiones como planificar inventario o campañas de marketing.\n",
    "\n",
    "---\n",
    "\n",
    "#### **Ventajas para Predicción de Ventas**  \n",
    "1. **Escala intuitiva**: Fácil de comunicar a stakeholders no técnicos.  \n",
    "2. **Comparación de modelos**: Permite elegir entre algoritmos (ej: Random Forest vs. XGBoost).  \n",
    "3. **Diagnóstico**: Un R² bajo indica que faltan variables clave (ej: datos de festivos o competencia).  \n",
    "\n",
    "---\n",
    "\n",
    "#### **Limitaciones**  \n",
    "- **No detecta sobreajuste (overfitting)**: Un R² alto en entrenamiento pero bajo en prueba indica overfitting.  \n",
    "- **Sesgo con muchas features**: Añadir variables irrelevantes puede inflar artificialmente R². Usar **R² ajustado** en esos casos.  \n",
    "- **No mide causalidad**: Solo correlación entre features y ventas.  \n",
    "\n",
    "---\n",
    "\n",
    "#### **Ejemplo de Cálculo Manual (Simplificado)**  \n",
    "Datos reales: `[1200, 1500, 1800]`  \n",
    "Predicciones: `[1250, 1400, 1750]`  \n",
    "Media real (`ȳ`): 1500  \n",
    "\n",
    "1. **SStot** = (1200-1500)² + (1500-1500)² + (1800-1500)² = 180,000  \n",
    "2. **SSres** = (1200-1250)² + (1500-1400)² + (1800-1750)² = 13,500  \n",
    "3. **R²** = 1 - (13,500 / 180,000) = **0.925** → 92.5% de variabilidad explicada.\n",
    "\n",
    "---\n",
    "\n",
    "#### **¿Cuándo Usar Otras Métricas?**  \n",
    "- **MAE (Error Absoluto Medio)**: Para entender el error en unidades de ventas (ej: 54.32 unidades en el script).  \n",
    "- **RMSE**: Penaliza más los errores grandes (útil en outliers).  \n",
    "- **MAPE**: Error porcentual (ideal para comparar escalas distintas).  \n",
    "\n",
    "---\n",
    "\n",
    "### **Conclusión**  \n",
    "El R² es la métrica ideal para evaluar **cuán bien tu modelo de ventas captura los patrones subyacentes** (tendencia, estacionalidad, promociones). En el ejemplo generado, un R² de 0.89 valida que el modelo es altamente predictivo, pero siempre debe complementarse con métricas como MAE para tener una visión completa.  \n",
    "\n",
    "**Recomendación final**:  \n",
    "- Si R² es bajo, añadir más features temporales (ej: festivos) o probar modelos como SARIMA (para series temporales).  \n",
    "- Monitorizar R² en producción para detectar cambios en patrones de ventas."
   ]
  },
  {
   "cell_type": "markdown",
   "metadata": {},
   "source": [
    "# **Promedio Móvil de Ventas (7 días) Ajustado por Estacionalidad**\n",
    "\n",
    "#### **Definición**  \n",
    "El **promedio móvil de 7 días ajustado por estacionalidad** es una técnica que suaviza las fluctuaciones diarias en las ventas, eliminando efectos estacionales (como día de la semana, festivos, etc.), para revelar la **tendencia subyacente**. Se calcula como:  \n",
    "\n",
    "$$\n",
    "\\text{Promedio Móvil Ajustado} = \\frac{1}{7} \\sum_{i=t-3}^{t+3} \\left( \\frac{Ventas_i}{\\text{Factor Estacional}_i} \\right)\n",
    "$$  \n",
    "Donde:  \n",
    "- $Ventas_i$: Ventas en el día $i$.  \n",
    "- $\\text{Factor Estacional}_i$: Componente estacional normalizado para el día $i$ (ej: 1.2 si las ventas son típicamente 20% más altas ese día).  \n",
    "\n"
   ]
  },
  {
   "cell_type": "markdown",
   "metadata": {},
   "source": [
    "\n",
    "\n",
    "### **Importancia en Regresión para Predicción de Ventas**  \n",
    "\n",
    "#### 1. **Elimina Ruido y Estacionalidad**  \n",
    "   - **Problema**: Las ventas suelen tener patrones semanales (ej: más ventas los fines de semana).  \n",
    "   - **Solución**: Al dividir por el factor estacional, el promedio móvil captura solo la **tendencia real**, no distorsionada por efectos periódicos.  \n",
    "\n",
    "#### 2. **Mejora la Capacidad Predictiva del Modelo**  \n",
    "   - **Atributo clave**: Al incluir el promedio móvil ajustado como feature en un modelo de regresión, este puede:  \n",
    "     - Aprender de la **tendencia reciente** (últimos 7 días).  \n",
    "     - Ignorar patrones ya conocidos (estacionalidad), enfocándose en cambios **no estacionales** (ej: impacto de una promoción).  \n"
   ]
  },
  {
   "cell_type": "markdown",
   "metadata": {},
   "source": [
    "\n",
    "# 3. **Ejemplo en Datos Sintéticos**  \n",
    "\n"
   ]
  },
  {
   "cell_type": "markdown",
   "metadata": {},
   "source": [
    "   # Cálculo del promedio móvil ajustado (ejemplo simplificado)\n",
    "   df['rolling_avg_7d'] = (df['sales'] / df['seasonal_factor']).rolling(window=7, center=True).mean()\n"
   ]
  },
  {
   "cell_type": "markdown",
   "metadata": {},
   "source": [
    " \n",
    "   - Si el **factor estacional** para los domingos es 1.3 (ventas +30%), el modelo no confundirá el aumento esperado con una tendencia real.  \n",
    "\n",
    "#### 4. **Ventajas sobre el Promedio Móvil Tradicional**  \n",
    "   | **Tipo de Promedio**       | **Ventaja del Ajustado**                                                                 |  \n",
    "   |----------------------------|----------------------------------------------------------------------------------------|  \n",
    "   | Tradicional                | Distorsionado por estacionalidad (ej: subestima tendencia si hay día festivo).          |  \n",
    "   | **Ajustado por Estacionalidad** | Reflecta el crecimiento/declive **real**, filtrando patrones conocidos.               |  \n",
    "\n"
   ]
  },
  {
   "cell_type": "markdown",
   "metadata": {},
   "source": [
    "\n",
    "\n",
    "### **Aplicación en el Script de Predicción**  \n",
    "En el código de generación de datos sintéticos:"
   ]
  },
  {
   "cell_type": "code",
   "execution_count": 19,
   "metadata": {},
   "outputs": [],
   "source": [
    "\n",
    "# Simulación del componente estacional (ej: +20% los fines de semana)\n",
    "df['seasonal_factor'] = np.where(df['weekend'] == 1, 1.2, 1.0)  # Ajuste del 20% los fines de semana\n",
    "\n",
    "# Promedio móvil ajustado\n",
    "df['rolling_avg_7d'] = (df['sales'] / df['seasonal_factor']).rolling(window=7, center=True).mean()\n"
   ]
  },
  {
   "cell_type": "markdown",
   "metadata": {},
   "source": [
    " \n",
    "- **Resultado**: La feature `rolling_avg_7d` ayuda al modelo (Random Forest) a predecir ventas futuras basándose en la **tendencia pura**, no en ruido estacional.  \n",
    "\n"
   ]
  },
  {
   "cell_type": "markdown",
   "metadata": {},
   "source": [
    "\n",
    "\n",
    "### **Caso de Uso en Negocios**  \n",
    "- **Escenario**: Una cadena de retail quiere predecir ventas para el próximo mes.  \n",
    "  - **Sin ajuste**: El modelo podría sobrestimar los lunes (baja estacionalidad) y subestimar los viernes (alta estacionalidad).  \n",
    "  - **Con ajuste**: El modelo reconoce que un aumento un lunes es **significativo** (no solo ruido), permitiendo acciones proactivas.  \n",
    "\n"
   ]
  },
  {
   "cell_type": "markdown",
   "metadata": {},
   "source": [
    "\n",
    "\n",
    "### **Conclusión**  \n",
    "El promedio móvil ajustado por estacionalidad es **esencial** en modelos de regresión para ventas porque:  \n",
    "1. **Filtra patrones conocidos**, permitiendo al modelo enfocarse en señales nuevas.  \n",
    "2. **Mejora la generalización**, evitando que el modelo aprenda relaciones espurias (ej: \"si es domingo, ventas altas\").  \n",
    "3. **Proporciona contexto temporal**, clave para predecir en series no estacionarias.  \n",
    "\n"
   ]
  },
  {
   "cell_type": "markdown",
   "metadata": {},
   "source": [
    "# **Función `np.where()` en NumPy y su Aplicación en Cálculo de Estacionalidad**\n"
   ]
  },
  {
   "cell_type": "markdown",
   "metadata": {},
   "source": [
    "\n",
    "## **Definición**  \n",
    "`np.where(condición, valor_si_verdadero, valor_si_falso)` es una función de NumPy que actúa como un **operador ternario vectorizado**. "
   ]
  },
  {
   "cell_type": "markdown",
   "metadata": {},
   "source": [
    "Evalúa una condición sobre arrays y devuelve valores específicos según si la condición es verdadera o falsa, elemento a elemento.\n",
    "\n"
   ]
  },
  {
   "cell_type": "markdown",
   "metadata": {},
   "source": [
    "\n",
    "\n",
    "### **Sintaxis Básica**  \n",
    "```python\n",
    "import numpy as np\n",
    "resultado = np.where(condición, valor_si_verdadero, valor_si_falso)\n",
    "```\n",
    "\n",
    "#### **Parámetros Clave**  \n",
    "| Parámetro             | Descripción                                                                 |  \n",
    "|-----------------------|-----------------------------------------------------------------------------|  \n",
    "| `condición`           | Array booleano (ej: `df['weekend'] == 1`).                                 |  \n",
    "| `valor_si_verdadero`  | Valor o array a devolver donde `condición` es `True`.                       |  \n",
    "| `valor_si_falso`      | Valor o array a devolver donde `condición` es `False`.                      |  \n",
    "\n"
   ]
  },
  {
   "cell_type": "markdown",
   "metadata": {},
   "source": [
    "\n",
    "\n",
    "### **Aplicación en Cálculo de Estacionalidad**  \n",
    "En el contexto de predicción de ventas, `np.where()` es ideal para **asignar factores estacionales** basados en condiciones temporales. Por ejemplo:  \n",
    "\n",
    "#### **Ejemplo 1: Ajuste por Fin de Semana**  \n",
    "```python\n",
    "import numpy as np\n",
    "import pandas as pd\n",
    "\n",
    "# Datos sintéticos: 1 = fin de semana, 0 = día laboral\n",
    "df = pd.DataFrame({'weekend': [0, 0, 0, 0, 0, 1, 1]})  # Ejemplo: semana de 7 días\n",
    "\n",
    "# Asignar factor estacional: +20% los fines de semana\n",
    "df['seasonal_factor'] = np.where(df['weekend'] == 1, 1.2, 1.0)\n",
    "print(df)\n",
    "```\n",
    "**Salida**:  \n",
    "|   | weekend | seasonal_factor |  \n",
    "|---|---------|------------------|  \n",
    "| 0 | 0       | 1.0              |  \n",
    "| 1 | 0       | 1.0              |  \n",
    "| 2 | 0       | 1.0              |  \n",
    "| 3 | 0       | 1.0              |  \n",
    "| 4 | 0       | 1.0              |  \n",
    "| 5 | 1       | 1.2              |  \n",
    "| 6 | 1       | 1.2              |  \n",
    "\n",
    "**Explicación**:  \n",
    "- Los días laborales (`weekend == 0`) mantienen un factor `1.0` (sin ajuste).  \n",
    "- Los fines de semana (`weekend == 1`) tienen un factor `1.2` (ventas +20%).  \n",
    "\n",
    "---\n",
    "\n",
    "#### **Ejemplo 2: Estacionalidad por Mes (Navidad)**  \n",
    "```python\n",
    "# Datos sintéticos: meses del año (1 a 12)\n",
    "df['month'] = [1, 6, 12, 3, 12, 6, 7]\n",
    "\n",
    "# Factor estacional: +50% en diciembre (mes 12), +10% en junio (mes 6)\n",
    "df['seasonal_factor'] = np.where(\n",
    "    df['month'] == 12, 1.5,               # Navidad\n",
    "    np.where(df['month'] == 6, 1.1, 1.0)   # Promociones de mitad de año\n",
    ")\n",
    "print(df[['month', 'seasonal_factor']])\n",
    "```\n",
    "**Salida**:  \n",
    "|   | month | seasonal_factor |  \n",
    "|---|-------|------------------|  \n",
    "| 0 | 1     | 1.0              |  \n",
    "| 1 | 6     | 1.1              |  \n",
    "| 2 | 12    | 1.5              |  \n",
    "| 3 | 3     | 1.0              |  \n",
    "| 4 | 12    | 1.5              |  \n",
    "| 5 | 6     | 1.1              |  \n",
    "| 6 | 7     | 1.0              |  \n",
    "\n",
    "---\n",
    "\n",
    "### **Ventajas en Modelado Predictivo**  \n",
    "1. **Eficiencia**: Aplica operaciones vectorizadas (rápidas en grandes datasets).  \n",
    "2. **Flexibilidad**: Permite anidar condiciones (ej: `np.where()` dentro de otro `np.where()`).  \n",
    "3. **Integración con Pandas**: Funciona directamente en columnas de DataFrames.  \n",
    "\n",
    "---\n",
    "\n",
    "### **Uso en un Pipeline Completo**  \n",
    "```python\n",
    "# 1. Generar componente estacional (semanal + mensual)\n",
    "df['seasonal_week'] = np.where(df['weekend'] == 1, 1.2, 1.0)  # Fin de semana\n",
    "df['seasonal_month'] = np.where(df['month'] == 12, 1.5, 1.0)  # Diciembre\n",
    "\n",
    "# 2. Combinar factores (multiplicativo)\n",
    "df['total_seasonal_factor'] = df['seasonal_week'] * df['seasonal_month']\n",
    "\n",
    "# 3. Calcular ventas desestacionalizadas\n",
    "df['ventas_desestacionalizadas'] = df['sales'] / df['total_seasonal_factor']\n",
    "```\n",
    "\n",
    "---\n",
    "\n",
    "### **Conclusión**  \n",
    "`np.where()` es una herramienta poderosa para:  \n",
    "- **Asignar factores estacionales** basados en condiciones temporales.  \n",
    "- **Preprocesar datos** antes de entrenar modelos de regresión.  \n",
    "- **Crear variables condicionales** sin usar bucles, optimizando rendimiento.  \n",
    "\n",
    "**¿Necesitas ayuda para aplicarlo a un caso específico?** Por ejemplo: ajustar estacionalidad horaria, o incorporar festivos."
   ]
  }
 ],
 "metadata": {
  "kernelspec": {
   "display_name": ".venv",
   "language": "python",
   "name": "python3"
  },
  "language_info": {
   "codemirror_mode": {
    "name": "ipython",
    "version": 3
   },
   "file_extension": ".py",
   "mimetype": "text/x-python",
   "name": "python",
   "nbconvert_exporter": "python",
   "pygments_lexer": "ipython3",
   "version": "3.13.3"
  }
 },
 "nbformat": 4,
 "nbformat_minor": 2
}
