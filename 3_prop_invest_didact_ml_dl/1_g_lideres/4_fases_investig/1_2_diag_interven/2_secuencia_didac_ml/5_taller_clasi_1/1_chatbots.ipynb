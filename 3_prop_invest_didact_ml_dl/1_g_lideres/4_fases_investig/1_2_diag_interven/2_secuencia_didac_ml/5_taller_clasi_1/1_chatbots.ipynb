{
 "cells": [
  {
   "cell_type": "markdown",
   "id": "dc06dec7",
   "metadata": {
    "slideshow": {
     "slide_type": "slide"
    }
   },
   "source": [
    "<table align=\"left\">\n",
    "  <td>\n",
    "    <a href=\"https://colab.research.google.com/github/ageron/handson-ml3/blob/main/tools_numpy.ipynb\" target=\"_parent\"><img src=\"https://colab.research.google.com/assets/colab-badge.svg\" alt=\"Open In Colab\"/></a>\n",
    "  </td>\n",
    "  <td>\n",
    "    <a target=\"_blank\" href=\"https://kaggle.com/kernels/welcome?src=https://github.com/ageron/handson-ml3/blob/main/tools_numpy.ipynb\"><img src=\"https://kaggle.com/static/images/open-in-kaggle.svg\" /></a>\n",
    "  </td>\n",
    "</table>"
   ]
  },
  {
   "cell_type": "markdown",
   "id": "e0c5b198",
   "metadata": {
    "slideshow": {
     "slide_type": "slide"
    }
   },
   "source": [
    "### [Video de apoyo a la lectura interactiva y experimental de este cuaderno]()"
   ]
  },
  {
   "cell_type": "markdown",
   "id": "41e82203",
   "metadata": {
    "slideshow": {
     "slide_type": "slide"
    }
   },
   "source": [
    "### [Vínculo al programa del curso:  ]()\n",
    "\n"
   ]
  },
  {
   "cell_type": "markdown",
   "id": "d11ab06d",
   "metadata": {
    "slideshow": {
     "slide_type": "slide"
    }
   },
   "source": [
    "Un reconocimiento a mis estudiantes que han construido conmigo este saber pedagógico:\n",
    "\n",
    "<img src = ''> \n",
    "\n"
   ]
  },
  {
   "cell_type": "markdown",
   "id": "8a74a56c-0ce6-4ad6-b985-553fd7fb68bb",
   "metadata": {},
   "source": [
    "Reconocimiento a las profesoras destacadas en enseñanza de la matemática en Colombia\n"
   ]
  },
  {
   "cell_type": "code",
   "execution_count": 1,
   "id": "6cb89c0b",
   "metadata": {},
   "outputs": [
    {
     "data": {
      "application/vnd.microsoft.datawrangler.viewer.v0+json": {
       "columns": [
        {
         "name": "index",
         "rawType": "int64",
         "type": "integer"
        },
        {
         "name": "Nombre",
         "rawType": "object",
         "type": "string"
        }
       ],
       "conversionMethod": "pd.DataFrame",
       "ref": "de3e52c0-b881-4037-9985-4870e4058186",
       "rows": [],
       "shape": {
        "columns": 1,
        "rows": 0
       }
      },
      "text/html": [
       "<div>\n",
       "<style scoped>\n",
       "    .dataframe tbody tr th:only-of-type {\n",
       "        vertical-align: middle;\n",
       "    }\n",
       "\n",
       "    .dataframe tbody tr th {\n",
       "        vertical-align: top;\n",
       "    }\n",
       "\n",
       "    .dataframe thead th {\n",
       "        text-align: right;\n",
       "    }\n",
       "</style>\n",
       "<table border=\"1\" class=\"dataframe\">\n",
       "  <thead>\n",
       "    <tr style=\"text-align: right;\">\n",
       "      <th></th>\n",
       "      <th>Nombre</th>\n",
       "    </tr>\n",
       "  </thead>\n",
       "  <tbody>\n",
       "  </tbody>\n",
       "</table>\n",
       "</div>"
      ],
      "text/plain": [
       "Empty DataFrame\n",
       "Columns: [Nombre]\n",
       "Index: []"
      ]
     },
     "execution_count": 1,
     "metadata": {},
     "output_type": "execute_result"
    }
   ],
   "source": [
    "import pandas as pd\n",
    "import numpy as np\n",
    "\n",
    "# Cargar la lista de estudiantes desde el archivo CSV\n",
    "path = 'C:/Users/marco/Documentos/docencia/groups_list/g_lideres.xlsx'\n",
    "df = pd.read_excel(path)\n",
    "df.head() \n",
    "\n"
   ]
  },
  {
   "cell_type": "markdown",
   "id": "d7598d0a-d9b7-4ae0-b029-a0ed6ed1130b",
   "metadata": {},
   "source": [
    "\n",
    "# Principios de mi labor docente"
   ]
  },
  {
   "cell_type": "markdown",
   "id": "4f9d8cf9",
   "metadata": {
    "slideshow": {
     "slide_type": "slide"
    }
   },
   "source": [
    "## Modelo general de clase: [aula invertida](https://www3.gobiernodecanarias.org/medusa/ecoescuela/pedagotic/aprendizaje-invertido-flipped-classroom/)"
   ]
  },
  {
   "cell_type": "markdown",
   "id": "eb6ed03a",
   "metadata": {},
   "source": [
    "<img src = 'https://resources.maneuveringthemiddle.com/wp-content/uploads/2020/07/04212706/1-5.png' width = 200>  \n",
    "\n"
   ]
  },
  {
   "cell_type": "markdown",
   "id": "34319cce-a71b-4f64-aab8-b53e521efa40",
   "metadata": {},
   "source": [
    "# Metodología Aprendizaje Basado en Problemas y Proyectos (ABPP)\n"
   ]
  },
  {
   "cell_type": "markdown",
   "id": "c4f73d81",
   "metadata": {},
   "source": [
    "\n",
    "<img src = 'https://www.unir.net/wp-content/uploads/2020/07/aprendizaje-problemas2-1-1-1-1.jpeg' width = 200>"
   ]
  },
  {
   "cell_type": "markdown",
   "id": "841a985c-bd9b-4dd3-8e4c-893983980af2",
   "metadata": {},
   "source": [
    "# Desarrollo del pensamiento computacional con Lenguajes Python, R; y con archivos R Markdown orientado a la formación en ciencia de datos \n",
    "\n"
   ]
  },
  {
   "cell_type": "markdown",
   "id": "3d0eba94",
   "metadata": {},
   "source": [
    "\n",
    "<img src = 'https://i.ytimg.com/vi/mcG_wcR4e6M/maxresdefault.jpg' width = 200>"
   ]
  },
  {
   "cell_type": "markdown",
   "id": "65aa0404-f7ae-495e-864c-1aec01b4255e",
   "metadata": {},
   "source": [
    "# Principio de fomento a la ciencia abierta, enseñar en el acceso a los datos públicos y el uso de software de código abierto  \n"
   ]
  },
  {
   "cell_type": "markdown",
   "id": "18ae9b87",
   "metadata": {},
   "source": [
    "\n",
    "<img src = 'https://unesdoc.unesco.org/in/rest/Thumb/image?id=p%3A%3Ausmarcdef_0000379949_spa&author=UNESCO&title=Recomendaci%C3%B3n+de+la+UNESCO+sobre+la+Ciencia+Abierta&year=2021&publisher=UNESCO&TypeOfDocument=UnescoPhysicalDocument&mat=PGD&ct=true&size=512&isPhysical=1' width = 200>"
   ]
  },
  {
   "cell_type": "markdown",
   "id": "d9559f85",
   "metadata": {},
   "source": [
    "El enfoque STEAMS en educación preescolar, primaria y secundaria es una extensión del enfoque STEM (Ciencia, Tecnología, Ingeniería y Matemáticas) y su variante STEAM, que incorpora el Arte. "
   ]
  },
  {
   "cell_type": "markdown",
   "id": "72e1cfd2",
   "metadata": {},
   "source": [
    "El acrónimo STEAMS incluye:\n"
   ]
  },
  {
   "cell_type": "markdown",
   "id": "03182fd1",
   "metadata": {},
   "source": [
    "\n",
    "1. **Science (Ciencia):** Fomenta la curiosidad por el mundo natural y el desarrollo de habilidades científicas, como la observación, experimentación y análisis.\n"
   ]
  },
  {
   "cell_type": "markdown",
   "id": "1306d0fa",
   "metadata": {},
   "source": [
    "\n",
    "2. **Technology (Tecnología):** Integra herramientas tecnológicas para potenciar el aprendizaje y la resolución de problemas, promoviendo la alfabetización digital desde edades tempranas.\n"
   ]
  },
  {
   "cell_type": "markdown",
   "id": "3b1a53e8",
   "metadata": {},
   "source": [
    "\n",
    "3. **Engineering (Ingeniería):** Introduce el pensamiento lógico y la resolución de problemas estructurados, fomentando habilidades como el diseño y la construcción de soluciones.\n"
   ]
  },
  {
   "cell_type": "markdown",
   "id": "0196de87",
   "metadata": {},
   "source": [
    "\n",
    "4. **Arts (Arte):** Añade creatividad y pensamiento crítico, permitiendo a los estudiantes expresarse y explorar el aprendizaje a través de formas artísticas (plásticas, música, teatro).\n"
   ]
  },
  {
   "cell_type": "markdown",
   "id": "8bcc485a",
   "metadata": {},
   "source": [
    "\n",
    "5. **Mathematics (Matemáticas):** Refuerza las habilidades numéricas y el razonamiento lógico, fundamentales en la resolución de problemas y comprensión de conceptos abstractos.\n"
   ]
  },
  {
   "cell_type": "markdown",
   "id": "907935f4",
   "metadata": {},
   "source": [
    "\n",
    "6. **Social Sciences (Ciencias Sociales):** Incorpora la comprensión del entorno social, político, cultural y económico, promoviendo el desarrollo de la conciencia crítica sobre el mundo y su historia, además de habilidades de empatía y ciudadanía.\n"
   ]
  },
  {
   "cell_type": "markdown",
   "id": "39967d63",
   "metadata": {},
   "source": [
    "\n",
    "El enfoque STEAMS pretende desarrollar un aprendizaje **interdisciplinario** que integre estas áreas para fomentar un pensamiento más holístico y práctico. "
   ]
  },
  {
   "cell_type": "markdown",
   "id": "5145f077",
   "metadata": {},
   "source": [
    "Se busca que los estudiantes no solo aprendan conocimientos técnicos, sino también cómo aplicarlos creativa y críticamente en situaciones reales, promoviendo habilidades como el trabajo en equipo, la comunicación y la innovación. "
   ]
  },
  {
   "cell_type": "markdown",
   "id": "9d556584",
   "metadata": {},
   "source": [
    "En educación preescolar, primaria, secundaria y superior, se adapta a las diferentes etapas de desarrollo cognitivo y emocional de los estudiantes, promoviendo el aprendizaje activo y contextualizado.  \n"
   ]
  },
  {
   "cell_type": "markdown",
   "id": "0130ec1b",
   "metadata": {},
   "source": [
    "\n",
    "<img src = 'https://www.campuseducacion.com/blog/wp-content/uploads/2023/03/foto01-1.jpg' width = 200>"
   ]
  },
  {
   "cell_type": "markdown",
   "id": "df18cd31",
   "metadata": {},
   "source": [
    "# Y el enfoque TRRS de Duval"
   ]
  },
  {
   "cell_type": "markdown",
   "id": "96775931",
   "metadata": {
    "slideshow": {
     "slide_type": "slide"
    }
   },
   "source": [
    "## Título de la clase:   \n",
    "\n",
    "[]()"
   ]
  },
  {
   "cell_type": "markdown",
   "id": "10e55ccf",
   "metadata": {},
   "source": [
    "# Estructura general para todas las clases\n",
    "\n",
    "Dame, por favor, un diseño de clase, con el enfoque: \"Aula Invertida, STEAMS y de Aprendizaje Basado en Problemas y Proyectos(ABPP)\" sobre: \" \", siguiendo la estructura:  \n",
    "\n",
    "1. Título de la clase \n",
    "2. Objetivos de aprendizaje que incluyan los indicadores del logro de estos objetivos.\n",
    "3. Un mapa conceptual que resuma la clase elaborado en Graphviz de python con nodos y edges de diferentes formas, colores y rellenos y renderizado en la siguiente ubicación: `\"C:/Users/marco/Descargas\"`. No olvides el parámetro `view = True` para el método `render()` de graphviz. \n",
    "4. Dame elementos históricos y epistemológicos asociados a esta clase, pero contados como un cuento al estilo de un cuentero antioqueño en Colombia. Incluye imágenes de los protagonistas históricos de esta clase. \n",
    "5. Contenido de la clase. Que el contenido parta de una situación real para llegar a una constitución del modelo matemático que represente tal situación real. \n",
    "6. Actividades de aprendizaje\n",
    "7. Incluye una canción o un poema que ayude a interiorizar y fijar los conceptos asociados a esta clase. \n",
    "8. Tarea o actividades de ejercitación y fijación\n",
    "9. Evaluación incluyendo diez proyectos, un ejemplo de quiz (de tres preguntas) y un ejemplo de parcial (de cinco puntos)\n",
    "10. Diseño de actividad de retroalimentación. \n",
    "11. Dame un vocabulario y frases del idioma inglés asociadas a esta clase.   \n",
    "12. Incluye apéndice para la clase sobre desarrollo de habilidades para trabajar en equipo y de asertividad y empatía para relacionarnos. También elementos de la inteligencia emocional para presentar pruebas sin temor y sin realizar fraude en ellas. \n",
    "13. Incluye 10 referentes en didáctica de la matemática que estén de acuerdo a la propuesta didáctica de esta clase. Adiciona a estos referentes a Raymond Duval (Representaciones y cambios de representación para la adquisición de conceptos matemáticos) y a Jeannette Wing (Desarrollo del pensamiento computacional). Déjame todos estos referentes ordenados de acuerdo a las normas APA. Déjame todos estos referentes ordenados de acuerdo a las normas APA. Incluye las citaciones a estos referentes a medida que vallas diseñando la clase.   \n",
    "\n",
    "Pero  que este diseño sea para que el estudiante pueda aprender experimentando en cuadernos Jupyter con funciones de usuario y animaciones y visualizaciones en python. En particular utiliza para el diseño de clase a Numpy, Pandas, SymPy, Matplotlib.pyplot, Seaborn, Plotly, ipywidgets, matplotlib.animation y Jupyter Notebook.  Cada vez que utilices `matplotlib.animacion` no olvides incluir el uso de `IPython. display` para la rederización de estas animaciones a través de Jupyter Notebook. No olvides darme los diseños de clase con las ecuaciones matemáticas delimitadas con signo de dolar $ para que VS Code si me renderize estas expresiones del lenguaje latex. Cuando vallas a utilizar ipywidgets ten en cuenta la siguiente importación inicial para garantizar que la visualización interactiva si se renderize en VS Code: import numpy as np\n",
    "import matplotlib.pyplot as plt\n",
    "import ipywidgets as widgets\n",
    "from IPython.display import display, clear_output\n",
    "from matplotlib.patches import Rectangle\n",
    "\n",
    "# Configuración inicial para visualización estática\n",
    "%matplotlib inline "
   ]
  },
  {
   "cell_type": "code",
   "execution_count": 2,
   "id": "81235e9f",
   "metadata": {},
   "outputs": [],
   "source": [
    "path_image = r'C:/Users/marco/Downloads'\n",
    "def save_fig(nombre_archivo_imagen):\n",
    "    import os \n",
    "    import matplotlib.pyplot as plt \n",
    "    imagen_path = os.path.join(path_image, nombre_archivo_imagen)\n",
    "    plt.savefig(imagen_path, bbox_inches='tight')"
   ]
  },
  {
   "cell_type": "markdown",
   "id": "deeb1d73",
   "metadata": {},
   "source": [
    "# Ejemplo de Chatbot para Atención al Cliente con Machine Learning\n"
   ]
  },
  {
   "cell_type": "markdown",
   "id": "619acdb8",
   "metadata": {},
   "source": [
    "\n",
    "En este ejemplo, crearé un sistema de chatbot para atención al cliente utilizando procesamiento de lenguaje natural (NLP) y machine learning. "
   ]
  },
  {
   "cell_type": "markdown",
   "id": "7e2036e5",
   "metadata": {},
   "source": [
    "Usaremos datos sintéticos de un servicio técnico de productos electrónicos.\n"
   ]
  },
  {
   "cell_type": "markdown",
   "id": "7f68c1df",
   "metadata": {},
   "source": [
    "\n",
    "## Paso 1: Preparación de los datos sintéticos\n"
   ]
  },
  {
   "cell_type": "code",
   "execution_count": 11,
   "id": "ebd11aae",
   "metadata": {},
   "outputs": [
    {
     "data": {
      "application/vnd.microsoft.datawrangler.viewer.v0+json": {
       "columns": [
        {
         "name": "index",
         "rawType": "int64",
         "type": "integer"
        },
        {
         "name": "pregunta",
         "rawType": "object",
         "type": "string"
        },
        {
         "name": "respuesta",
         "rawType": "object",
         "type": "string"
        },
        {
         "name": "categoria",
         "rawType": "object",
         "type": "string"
        }
       ],
       "conversionMethod": "pd.DataFrame",
       "ref": "45942cbb-40db-4982-a429-6d425ab1db79",
       "rows": [
        [
         "0",
         "Cómo restablecer mi contraseña",
         "Puedes restablecer tu contraseña en la página de recuperación usando tu email.",
         "cuenta"
        ],
        [
         "1",
         "No puedo iniciar sesión en mi cuenta",
         "Verifica que estés usando las credenciales correctas. Si persiste, contacta soporte.",
         "cuenta"
        ],
        [
         "2",
         "Mi producto no enciende",
         "Prueba a cargar el dispositivo durante 30 minutos. Si no enciende, necesita reparación.",
         "hardware"
        ],
        [
         "3",
         "El dispositivo se sobrecalienta",
         "Apaga el dispositivo y déjalo enfriar. Evita usarlo en ambientes calurosos.",
         "hardware"
        ],
        [
         "4",
         "Cómo actualizar el software",
         "Ve a Configuración > Sistema > Actualizaciones para buscar nuevas versiones.",
         "software"
        ],
        [
         "5",
         "Dónde encontrar mi número de serie",
         "El número de serie está en la parte posterior del dispositivo o en la factura de compra.",
         "informacion"
        ],
        [
         "6",
         "La garantía cubre daños por agua",
         "La garantía no cubre daños por líquidos. Puedes solicitar reparación con costo.",
         "garantia"
        ],
        [
         "7",
         "Cómo contactar al servicio técnico",
         "Llama al 900 123 456 o escribe a soporte@empresa.com para asistencia técnica.",
         "contacto"
        ],
        [
         "8",
         "Mi pedido no ha llegado",
         "Verifica el estado de tu pedido en 'Mis compras'. Los envíos tardan 3-5 días laborales.",
         "pedidos"
        ],
        [
         "9",
         "Quiero devolver un producto",
         "Puedes iniciar una devolución en 'Mis pedidos'. Tienes 30 días desde la compra.",
         "devoluciones"
        ],
        [
         "10",
         "El dispositivo hace ruidos extraños",
         "Lleva el dispositivo a un centro autorizado para diagnóstico. Podría ser un fallo mecánico.",
         "hardware"
        ],
        [
         "11",
         "La batería no dura lo suficiente",
         "Optimiza el uso de apps en segundo plano. Si persiste, la batería podría necesitar reemplazo.",
         "hardware"
        ],
        [
         "12",
         "Cómo conectar a WiFi",
         "Ve a Configuración > Redes > WiFi y selecciona tu red. Introduce la contraseña si es necesaria.",
         "software"
        ],
        [
         "13",
         "La pantalla está rota",
         "La pantalla rota requiere reparación. Contacta con un centro de servicio autorizado.",
         "hardware"
        ],
        [
         "14",
         "No reconoce mi tarjeta SIM",
         "Asegúrate que la tarjeta SIM está bien insertada. Si el problema persiste, prueba otra SIM.",
         "hardware"
        ],
        [
         "15",
         "Cómo limpiar el dispositivo",
         "Usa un paño suave ligeramente humedecido. Nunca uses líquidos directamente sobre el dispositivo.",
         "mantenimiento"
        ],
        [
         "16",
         "Qué hacer si olvidé mi PIN",
         "Necesitarás restablecer el dispositivo a fábrica. Esto borrará todos tus datos.",
         "seguridad"
        ],
        [
         "17",
         "El cargador no funciona",
         "Prueba con otro cargador y cable. Si no carga, el puerto podría estar dañado.",
         "hardware"
        ],
        [
         "18",
         "Cómo sincronizar con mi teléfono",
         "Descarga nuestra app oficial y sigue las instrucciones de emparejamiento en el menú.",
         "software"
        ],
        [
         "19",
         "Dónde descargar los controladores",
         "Los controladores están disponibles en nuestra web oficial en la sección de soporte.",
         "software"
        ]
       ],
       "shape": {
        "columns": 3,
        "rows": 20
       }
      },
      "text/html": [
       "<div>\n",
       "<style scoped>\n",
       "    .dataframe tbody tr th:only-of-type {\n",
       "        vertical-align: middle;\n",
       "    }\n",
       "\n",
       "    .dataframe tbody tr th {\n",
       "        vertical-align: top;\n",
       "    }\n",
       "\n",
       "    .dataframe thead th {\n",
       "        text-align: right;\n",
       "    }\n",
       "</style>\n",
       "<table border=\"1\" class=\"dataframe\">\n",
       "  <thead>\n",
       "    <tr style=\"text-align: right;\">\n",
       "      <th></th>\n",
       "      <th>pregunta</th>\n",
       "      <th>respuesta</th>\n",
       "      <th>categoria</th>\n",
       "    </tr>\n",
       "  </thead>\n",
       "  <tbody>\n",
       "    <tr>\n",
       "      <th>0</th>\n",
       "      <td>Cómo restablecer mi contraseña</td>\n",
       "      <td>Puedes restablecer tu contraseña en la página ...</td>\n",
       "      <td>cuenta</td>\n",
       "    </tr>\n",
       "    <tr>\n",
       "      <th>1</th>\n",
       "      <td>No puedo iniciar sesión en mi cuenta</td>\n",
       "      <td>Verifica que estés usando las credenciales cor...</td>\n",
       "      <td>cuenta</td>\n",
       "    </tr>\n",
       "    <tr>\n",
       "      <th>2</th>\n",
       "      <td>Mi producto no enciende</td>\n",
       "      <td>Prueba a cargar el dispositivo durante 30 minu...</td>\n",
       "      <td>hardware</td>\n",
       "    </tr>\n",
       "    <tr>\n",
       "      <th>3</th>\n",
       "      <td>El dispositivo se sobrecalienta</td>\n",
       "      <td>Apaga el dispositivo y déjalo enfriar. Evita u...</td>\n",
       "      <td>hardware</td>\n",
       "    </tr>\n",
       "    <tr>\n",
       "      <th>4</th>\n",
       "      <td>Cómo actualizar el software</td>\n",
       "      <td>Ve a Configuración &gt; Sistema &gt; Actualizaciones...</td>\n",
       "      <td>software</td>\n",
       "    </tr>\n",
       "    <tr>\n",
       "      <th>5</th>\n",
       "      <td>Dónde encontrar mi número de serie</td>\n",
       "      <td>El número de serie está en la parte posterior ...</td>\n",
       "      <td>informacion</td>\n",
       "    </tr>\n",
       "    <tr>\n",
       "      <th>6</th>\n",
       "      <td>La garantía cubre daños por agua</td>\n",
       "      <td>La garantía no cubre daños por líquidos. Puede...</td>\n",
       "      <td>garantia</td>\n",
       "    </tr>\n",
       "    <tr>\n",
       "      <th>7</th>\n",
       "      <td>Cómo contactar al servicio técnico</td>\n",
       "      <td>Llama al 900 123 456 o escribe a soporte@empre...</td>\n",
       "      <td>contacto</td>\n",
       "    </tr>\n",
       "    <tr>\n",
       "      <th>8</th>\n",
       "      <td>Mi pedido no ha llegado</td>\n",
       "      <td>Verifica el estado de tu pedido en 'Mis compra...</td>\n",
       "      <td>pedidos</td>\n",
       "    </tr>\n",
       "    <tr>\n",
       "      <th>9</th>\n",
       "      <td>Quiero devolver un producto</td>\n",
       "      <td>Puedes iniciar una devolución en 'Mis pedidos'...</td>\n",
       "      <td>devoluciones</td>\n",
       "    </tr>\n",
       "    <tr>\n",
       "      <th>10</th>\n",
       "      <td>El dispositivo hace ruidos extraños</td>\n",
       "      <td>Lleva el dispositivo a un centro autorizado pa...</td>\n",
       "      <td>hardware</td>\n",
       "    </tr>\n",
       "    <tr>\n",
       "      <th>11</th>\n",
       "      <td>La batería no dura lo suficiente</td>\n",
       "      <td>Optimiza el uso de apps en segundo plano. Si p...</td>\n",
       "      <td>hardware</td>\n",
       "    </tr>\n",
       "    <tr>\n",
       "      <th>12</th>\n",
       "      <td>Cómo conectar a WiFi</td>\n",
       "      <td>Ve a Configuración &gt; Redes &gt; WiFi y selecciona...</td>\n",
       "      <td>software</td>\n",
       "    </tr>\n",
       "    <tr>\n",
       "      <th>13</th>\n",
       "      <td>La pantalla está rota</td>\n",
       "      <td>La pantalla rota requiere reparación. Contacta...</td>\n",
       "      <td>hardware</td>\n",
       "    </tr>\n",
       "    <tr>\n",
       "      <th>14</th>\n",
       "      <td>No reconoce mi tarjeta SIM</td>\n",
       "      <td>Asegúrate que la tarjeta SIM está bien inserta...</td>\n",
       "      <td>hardware</td>\n",
       "    </tr>\n",
       "    <tr>\n",
       "      <th>15</th>\n",
       "      <td>Cómo limpiar el dispositivo</td>\n",
       "      <td>Usa un paño suave ligeramente humedecido. Nunc...</td>\n",
       "      <td>mantenimiento</td>\n",
       "    </tr>\n",
       "    <tr>\n",
       "      <th>16</th>\n",
       "      <td>Qué hacer si olvidé mi PIN</td>\n",
       "      <td>Necesitarás restablecer el dispositivo a fábri...</td>\n",
       "      <td>seguridad</td>\n",
       "    </tr>\n",
       "    <tr>\n",
       "      <th>17</th>\n",
       "      <td>El cargador no funciona</td>\n",
       "      <td>Prueba con otro cargador y cable. Si no carga,...</td>\n",
       "      <td>hardware</td>\n",
       "    </tr>\n",
       "    <tr>\n",
       "      <th>18</th>\n",
       "      <td>Cómo sincronizar con mi teléfono</td>\n",
       "      <td>Descarga nuestra app oficial y sigue las instr...</td>\n",
       "      <td>software</td>\n",
       "    </tr>\n",
       "    <tr>\n",
       "      <th>19</th>\n",
       "      <td>Dónde descargar los controladores</td>\n",
       "      <td>Los controladores están disponibles en nuestra...</td>\n",
       "      <td>software</td>\n",
       "    </tr>\n",
       "  </tbody>\n",
       "</table>\n",
       "</div>"
      ],
      "text/plain": [
       "                                pregunta  \\\n",
       "0         Cómo restablecer mi contraseña   \n",
       "1   No puedo iniciar sesión en mi cuenta   \n",
       "2                Mi producto no enciende   \n",
       "3        El dispositivo se sobrecalienta   \n",
       "4            Cómo actualizar el software   \n",
       "5     Dónde encontrar mi número de serie   \n",
       "6       La garantía cubre daños por agua   \n",
       "7     Cómo contactar al servicio técnico   \n",
       "8                Mi pedido no ha llegado   \n",
       "9            Quiero devolver un producto   \n",
       "10   El dispositivo hace ruidos extraños   \n",
       "11      La batería no dura lo suficiente   \n",
       "12                  Cómo conectar a WiFi   \n",
       "13                 La pantalla está rota   \n",
       "14            No reconoce mi tarjeta SIM   \n",
       "15           Cómo limpiar el dispositivo   \n",
       "16            Qué hacer si olvidé mi PIN   \n",
       "17               El cargador no funciona   \n",
       "18      Cómo sincronizar con mi teléfono   \n",
       "19     Dónde descargar los controladores   \n",
       "\n",
       "                                            respuesta      categoria  \n",
       "0   Puedes restablecer tu contraseña en la página ...         cuenta  \n",
       "1   Verifica que estés usando las credenciales cor...         cuenta  \n",
       "2   Prueba a cargar el dispositivo durante 30 minu...       hardware  \n",
       "3   Apaga el dispositivo y déjalo enfriar. Evita u...       hardware  \n",
       "4   Ve a Configuración > Sistema > Actualizaciones...       software  \n",
       "5   El número de serie está en la parte posterior ...    informacion  \n",
       "6   La garantía no cubre daños por líquidos. Puede...       garantia  \n",
       "7   Llama al 900 123 456 o escribe a soporte@empre...       contacto  \n",
       "8   Verifica el estado de tu pedido en 'Mis compra...        pedidos  \n",
       "9   Puedes iniciar una devolución en 'Mis pedidos'...   devoluciones  \n",
       "10  Lleva el dispositivo a un centro autorizado pa...       hardware  \n",
       "11  Optimiza el uso de apps en segundo plano. Si p...       hardware  \n",
       "12  Ve a Configuración > Redes > WiFi y selecciona...       software  \n",
       "13  La pantalla rota requiere reparación. Contacta...       hardware  \n",
       "14  Asegúrate que la tarjeta SIM está bien inserta...       hardware  \n",
       "15  Usa un paño suave ligeramente humedecido. Nunc...  mantenimiento  \n",
       "16  Necesitarás restablecer el dispositivo a fábri...      seguridad  \n",
       "17  Prueba con otro cargador y cable. Si no carga,...       hardware  \n",
       "18  Descarga nuestra app oficial y sigue las instr...       software  \n",
       "19  Los controladores están disponibles en nuestra...       software  "
      ]
     },
     "execution_count": 11,
     "metadata": {},
     "output_type": "execute_result"
    }
   ],
   "source": [
    "import pandas as pd\n",
    "import numpy as np\n",
    "from sklearn.feature_extraction.text import TfidfVectorizer\n",
    "from sklearn.svm import SVC\n",
    "from sklearn.pipeline import Pipeline\n",
    "from sklearn.model_selection import train_test_split\n",
    "import random\n",
    "\n",
    "# Generamos datos sintéticos de preguntas y respuestas comunes en atención al cliente\n",
    "data = {\n",
    "    \"pregunta\": [\n",
    "        \"Cómo restablecer mi contraseña\",\n",
    "        \"No puedo iniciar sesión en mi cuenta\",\n",
    "        \"Mi producto no enciende\",\n",
    "        \"El dispositivo se sobrecalienta\",\n",
    "        \"Cómo actualizar el software\",\n",
    "        \"Dónde encontrar mi número de serie\",\n",
    "        \"La garantía cubre daños por agua\",\n",
    "        \"Cómo contactar al servicio técnico\",\n",
    "        \"Mi pedido no ha llegado\",\n",
    "        \"Quiero devolver un producto\",\n",
    "        \"El dispositivo hace ruidos extraños\",\n",
    "        \"La batería no dura lo suficiente\",\n",
    "        \"Cómo conectar a WiFi\",\n",
    "        \"La pantalla está rota\",\n",
    "        \"No reconoce mi tarjeta SIM\",\n",
    "        \"Cómo limpiar el dispositivo\",\n",
    "        \"Qué hacer si olvidé mi PIN\",\n",
    "        \"El cargador no funciona\",\n",
    "        \"Cómo sincronizar con mi teléfono\",\n",
    "        \"Dónde descargar los controladores\"\n",
    "    ],\n",
    "    \"respuesta\": [\n",
    "        \"Puedes restablecer tu contraseña en la página de recuperación usando tu email.\",\n",
    "        \"Verifica que estés usando las credenciales correctas. Si persiste, contacta soporte.\",\n",
    "        \"Prueba a cargar el dispositivo durante 30 minutos. Si no enciende, necesita reparación.\",\n",
    "        \"Apaga el dispositivo y déjalo enfriar. Evita usarlo en ambientes calurosos.\",\n",
    "        \"Ve a Configuración > Sistema > Actualizaciones para buscar nuevas versiones.\",\n",
    "        \"El número de serie está en la parte posterior del dispositivo o en la factura de compra.\",\n",
    "        \"La garantía no cubre daños por líquidos. Puedes solicitar reparación con costo.\",\n",
    "        \"Llama al 900 123 456 o escribe a soporte@empresa.com para asistencia técnica.\",\n",
    "        \"Verifica el estado de tu pedido en 'Mis compras'. Los envíos tardan 3-5 días laborales.\",\n",
    "        \"Puedes iniciar una devolución en 'Mis pedidos'. Tienes 30 días desde la compra.\",\n",
    "        \"Lleva el dispositivo a un centro autorizado para diagnóstico. Podría ser un fallo mecánico.\",\n",
    "        \"Optimiza el uso de apps en segundo plano. Si persiste, la batería podría necesitar reemplazo.\",\n",
    "        \"Ve a Configuración > Redes > WiFi y selecciona tu red. Introduce la contraseña si es necesaria.\",\n",
    "        \"La pantalla rota requiere reparación. Contacta con un centro de servicio autorizado.\",\n",
    "        \"Asegúrate que la tarjeta SIM está bien insertada. Si el problema persiste, prueba otra SIM.\",\n",
    "        \"Usa un paño suave ligeramente humedecido. Nunca uses líquidos directamente sobre el dispositivo.\",\n",
    "        \"Necesitarás restablecer el dispositivo a fábrica. Esto borrará todos tus datos.\",\n",
    "        \"Prueba con otro cargador y cable. Si no carga, el puerto podría estar dañado.\",\n",
    "        \"Descarga nuestra app oficial y sigue las instrucciones de emparejamiento en el menú.\",\n",
    "        \"Los controladores están disponibles en nuestra web oficial en la sección de soporte.\"\n",
    "    ],\n",
    "    \"categoria\": [\n",
    "        \"cuenta\", \"cuenta\", \"hardware\", \"hardware\", \"software\", \n",
    "        \"informacion\", \"garantia\", \"contacto\", \"pedidos\", \"devoluciones\",\n",
    "        \"hardware\", \"hardware\", \"software\", \"hardware\", \"hardware\",\n",
    "        \"mantenimiento\", \"seguridad\", \"hardware\", \"software\", \"software\"\n",
    "    ]\n",
    "}\n",
    "\n",
    "df = pd.DataFrame(data)\n",
    "df"
   ]
  },
  {
   "cell_type": "code",
   "execution_count": null,
   "id": "538ff4f2",
   "metadata": {},
   "outputs": [],
   "source": [
    "\n",
    "# Añadimos variaciones sintéticas a las preguntas\n",
    "variaciones = []\n",
    "for pregunta in df['pregunta']:\n",
    "    for _ in range(5):  # 5 variaciones por pregunta\n",
    "        palabras = pregunta.split()\n",
    "        # Alteramos ligeramente las preguntas\n",
    "        if random.random() > 0.5 and len(palabras) > 3:\n",
    "            palabras.remove(random.choice(palabras))\n",
    "        if random.random() > 0.7:\n",
    "            palabras.append(random.choice([\"urgente\", \"por favor\", \"ayuda\", \"gracias\"]))\n",
    "        variaciones.append(' '.join(palabras))\n",
    "\n",
    "df_variaciones = pd.DataFrame({\n",
    "    \"pregunta\": variaciones,\n",
    "    \"respuesta\": np.repeat(df['respuesta'].values, 5),\n",
    "    \"categoria\": np.repeat(df['categoria'].values, 5)\n",
    "})\n",
    "\n",
    "df_final = pd.concat([df, df_variaciones]).reset_index(drop=True)\n",
    "\n",
    "# Dividimos los datos en entrenamiento y prueba\n",
    "X_train, X_test, y_train, y_test = train_test_split(\n",
    "    df_final['pregunta'], df_final[['respuesta', 'categoria']], \n",
    "    test_size=0.2, random_state=42)\n",
    "\n"
   ]
  },
  {
   "cell_type": "markdown",
   "id": "f01b3eae",
   "metadata": {},
   "source": [
    "\n",
    "## Paso 2: Creación y entrenamiento del modelo\n"
   ]
  },
  {
   "cell_type": "code",
   "execution_count": 7,
   "id": "662360af",
   "metadata": {},
   "outputs": [
    {
     "name": "stderr",
     "output_type": "stream",
     "text": [
      "[nltk_data] Downloading package stopwords to\n",
      "[nltk_data]     C:\\Users\\marco\\AppData\\Roaming\\nltk_data...\n",
      "[nltk_data]   Package stopwords is already up-to-date!\n"
     ]
    }
   ],
   "source": [
    "\n",
    "from sklearn.feature_extraction.text import TfidfVectorizer\n",
    "from sklearn.svm import SVC\n",
    "from sklearn.pipeline import Pipeline\n",
    "from nltk.corpus import stopwords\n",
    "import nltk\n",
    "\n",
    "# Descargar stopwords en español si no las tenemos\n",
    "nltk.download('stopwords')\n",
    "\n",
    "# Obtenemos las stopwords en español\n",
    "spanish_stopwords = stopwords.words('spanish')\n",
    "\n",
    "# Creamos el pipeline corregido\n",
    "model = Pipeline([\n",
    "    ('tfidf', TfidfVectorizer(stop_words=spanish_stopwords, max_features=1000)),\n",
    "    ('clf', SVC(kernel='linear', probability=True))\n",
    "])\n",
    "\n",
    "# Entrenamos el modelo para predecir la categoría\n",
    "model.fit(X_train, y_train['categoria'])\n",
    "\n",
    "# Función para obtener la respuesta más probable\n",
    "def obtener_respuesta(pregunta):\n",
    "    # Predecimos la categoría\n",
    "    categoria_pred = model.predict([pregunta])[0]\n",
    "    \n",
    "    # Filtramos las respuestas posibles por esa categoría\n",
    "    respuestas_posibles = df_final[df_final['categoria'] == categoria_pred]\n",
    "    \n",
    "    # Calculamos las probabilidades para cada respuesta en esa categoría\n",
    "    probas = model.predict_proba([pregunta])[0]\n",
    "    clases = model.classes_\n",
    "    proba_categoria = probas[np.where(clases == categoria_pred)][0]\n",
    "    \n",
    "    # Seleccionamos una respuesta aleatoria de esa categoría (podríamos usar la más similar)\n",
    "    respuesta = respuestas_posibles.sample(1)['respuesta'].values[0]\n",
    "    \n",
    "    return respuesta, categoria_pred, proba_categoria"
   ]
  },
  {
   "cell_type": "markdown",
   "id": "4adbfe7b",
   "metadata": {},
   "source": [
    "\n",
    "## Paso 3: Implementación del Chatbot\n"
   ]
  },
  {
   "cell_type": "code",
   "execution_count": 8,
   "id": "2c107dd8",
   "metadata": {},
   "outputs": [],
   "source": [
    "class ChatbotAtencionCliente:\n",
    "    def __init__(self, model, df_respuestas):\n",
    "        self.model = model\n",
    "        self.df_respuestas = df_respuestas\n",
    "        self.saludos = [\"hola\", \"buenos días\", \"buenas tardes\", \"buenas noches\", \"saludos\"]\n",
    "        self.despedidas = [\"adiós\", \"chao\", \"hasta luego\", \"gracias\", \"nos vemos\"]\n",
    "        \n",
    "    def responder(self, mensaje_usuario):\n",
    "        mensaje = mensaje_usuario.lower()\n",
    "        \n",
    "        # Respuestas a saludos y despedidas\n",
    "        if any(saludo in mensaje for saludo in self.saludos):\n",
    "            return \"¡Hola! Soy el asistente virtual de atención al cliente. ¿En qué puedo ayudarte hoy?\"\n",
    "        \n",
    "        if any(despedida in mensaje for despedida in self.despedidas):\n",
    "            return \"¡Gracias por contactarnos! Si tienes más preguntas, no dudes en volver. ¡Que tengas un buen día!\"\n",
    "        \n",
    "        # Si no es saludo/despedida, usamos el modelo\n",
    "        try:\n",
    "            respuesta, categoria, confianza = obtener_respuesta(mensaje)\n",
    "            \n",
    "            if confianza < 0.5:  # Umbral de confianza bajo\n",
    "                return \"No estoy seguro de entender completamente tu pregunta. ¿Podrías reformularla? O si prefieres, puedo conectarte con un agente humano.\"\n",
    "            \n",
    "            # Añadimos información sobre la categoría detectada\n",
    "            return f\"{respuesta} [Asistente automático - Categoría: {categoria}]\"\n",
    "        \n",
    "        except Exception as e:\n",
    "            return \"Lo siento, ha ocurrido un error al procesar tu solicitud. Por favor, intenta nuevamente o contacta a un agente humano.\"\n",
    "\n",
    "# Creamos la instancia del chatbot\n",
    "chatbot = ChatbotAtencionCliente(model, df_final)\n",
    "\n"
   ]
  },
  {
   "cell_type": "markdown",
   "id": "9a20ec6a",
   "metadata": {},
   "source": [
    "\n",
    "## Paso 4: Interacción con el Chatbot\n"
   ]
  },
  {
   "cell_type": "code",
   "execution_count": 9,
   "id": "16d9acea",
   "metadata": {},
   "outputs": [
    {
     "name": "stdout",
     "output_type": "stream",
     "text": [
      "Chatbot: ¡Hola! Soy el asistente virtual de atención al cliente. ¿En qué puedo ayudarte hoy?\n",
      "Usuario: Hola, mi dispositivo no enciende\n",
      "Chatbot: ¡Hola! Soy el asistente virtual de atención al cliente. ¿En qué puedo ayudarte hoy?\n",
      "\n",
      "Usuario: Además, la pantalla se ve rara\n",
      "Chatbot: Optimiza el uso de apps en segundo plano. Si persiste, la batería podría necesitar reemplazo. [Asistente automático - Categoría: hardware]\n",
      "\n",
      "Usuario: ¿Dónde puedo encontrar el número de serie?\n",
      "Chatbot: El número de serie está en la parte posterior del dispositivo o en la factura de compra. [Asistente automático - Categoría: informacion]\n",
      "\n",
      "Usuario: Gracias por tu ayuda\n",
      "Chatbot: ¡Gracias por contactarnos! Si tienes más preguntas, no dudes en volver. ¡Que tengas un buen día!\n"
     ]
    }
   ],
   "source": [
    "# Simulamos una conversación\n",
    "print(\"Chatbot: ¡Hola! Soy el asistente virtual de atención al cliente. ¿En qué puedo ayudarte hoy?\")\n",
    "print(\"Usuario: Hola, mi dispositivo no enciende\")\n",
    "print(\"Chatbot:\", chatbot.responder(\"Hola, mi dispositivo no enciende\"))\n",
    "\n",
    "print(\"\\nUsuario: Además, la pantalla se ve rara\")\n",
    "print(\"Chatbot:\", chatbot.responder(\"Además, la pantalla se ve rara\"))\n",
    "\n",
    "print(\"\\nUsuario: ¿Dónde puedo encontrar el número de serie?\")\n",
    "print(\"Chatbot:\", chatbot.responder(\"¿Dónde puedo encontrar el número de serie?\"))\n",
    "\n",
    "print(\"\\nUsuario: Gracias por tu ayuda\")\n",
    "print(\"Chatbot:\", chatbot.responder(\"Gracias por tu ayuda\"))\n",
    "\n"
   ]
  },
  {
   "cell_type": "markdown",
   "id": "e8c9500a",
   "metadata": {},
   "source": [
    "\n",
    "## Paso 5: Evaluación y Mejoras\n"
   ]
  },
  {
   "cell_type": "code",
   "execution_count": 10,
   "id": "fa7439f6",
   "metadata": {},
   "outputs": [
    {
     "name": "stdout",
     "output_type": "stream",
     "text": [
      "               precision    recall  f1-score   support\n",
      "\n",
      "     contacto       1.00      1.00      1.00         1\n",
      "       cuenta       1.00      1.00      1.00         2\n",
      " devoluciones       1.00      1.00      1.00         1\n",
      "     hardware       1.00      0.91      0.95        11\n",
      "  informacion       1.00      1.00      1.00         2\n",
      "mantenimiento       0.00      0.00      0.00         0\n",
      "      pedidos       1.00      1.00      1.00         2\n",
      "    seguridad       1.00      1.00      1.00         1\n",
      "     software       1.00      1.00      1.00         4\n",
      "\n",
      "     accuracy                           0.96        24\n",
      "    macro avg       0.89      0.88      0.88        24\n",
      " weighted avg       1.00      0.96      0.98        24\n",
      "\n"
     ]
    },
    {
     "name": "stderr",
     "output_type": "stream",
     "text": [
      "c:\\Users\\marco\\Documentos\\investigacion\\linea_invest_didact_math_data\\.venv\\Lib\\site-packages\\sklearn\\metrics\\_classification.py:1565: UndefinedMetricWarning: Recall is ill-defined and being set to 0.0 in labels with no true samples. Use `zero_division` parameter to control this behavior.\n",
      "  _warn_prf(average, modifier, f\"{metric.capitalize()} is\", len(result))\n",
      "c:\\Users\\marco\\Documentos\\investigacion\\linea_invest_didact_math_data\\.venv\\Lib\\site-packages\\sklearn\\metrics\\_classification.py:1565: UndefinedMetricWarning: Recall is ill-defined and being set to 0.0 in labels with no true samples. Use `zero_division` parameter to control this behavior.\n",
      "  _warn_prf(average, modifier, f\"{metric.capitalize()} is\", len(result))\n",
      "c:\\Users\\marco\\Documentos\\investigacion\\linea_invest_didact_math_data\\.venv\\Lib\\site-packages\\sklearn\\metrics\\_classification.py:1565: UndefinedMetricWarning: Recall is ill-defined and being set to 0.0 in labels with no true samples. Use `zero_division` parameter to control this behavior.\n",
      "  _warn_prf(average, modifier, f\"{metric.capitalize()} is\", len(result))\n"
     ]
    }
   ],
   "source": [
    "from sklearn.metrics import classification_report\n",
    "\n",
    "# Evaluamos el modelo en los datos de prueba\n",
    "y_pred = model.predict(X_test)\n",
    "print(classification_report(y_test['categoria'], y_pred))\n",
    "\n",
    "# Posibles mejoras:\n",
    "# 1. Añadir más datos de entrenamiento\n",
    "# 2. Usar modelos más avanzados como BERT\n",
    "# 3. Implementar un sistema de aprendizaje continuo con feedback humano\n",
    "# 4. Añadir manejo de contexto en conversaciones largas\n",
    "# 5. Integrar con APIs de bases de conocimiento\n",
    "\n"
   ]
  },
  {
   "cell_type": "markdown",
   "id": "7c4992af",
   "metadata": {},
   "source": [
    "\n",
    "## Explicación del sistema:\n"
   ]
  },
  {
   "cell_type": "markdown",
   "id": "9764a7a5",
   "metadata": {},
   "source": [
    "\n",
    "1. **Generación de datos**: Creamos un dataset sintético con preguntas comunes y sus respuestas, organizadas por categorías.\n",
    "\n",
    "2. **Preprocesamiento**: Usamos TF-IDF para convertir las preguntas en vectores numéricos que el modelo puede entender.\n",
    "\n",
    "3. **Modelado**: Implementamos un clasificador SVM que predice la categoría de una pregunta nueva.\n",
    "\n",
    "4. **Chatbot**: La clase Chatbot maneja la interacción, con respuestas predefinidas para saludos y usando el modelo para preguntas técnicas.\n",
    "\n",
    "5. **Evaluación**: Medimos el rendimiento del modelo con métricas estándar.\n",
    "\n",
    "Este es un ejemplo básico que puedes expandir:\n",
    "- Añadiendo más datos de entrenamiento\n",
    "- Implementando modelos más avanzados (transformers, BERT)\n",
    "- Integrando con APIs de bases de conocimiento\n",
    "- Añadiendo manejo de estado para conversaciones más largas\n",
    "- Implementando aprendizaje continuo con feedback humano\n",
    "\n",
    "¿Te gustaría que profundice en alguna parte específica del sistema?"
   ]
  },
  {
   "cell_type": "markdown",
   "id": "239427f7",
   "metadata": {},
   "source": [
    "# ARTÍCULO 1. Definir el calendario académico para los diferentes programas de pregrado de los campus\n",
    "regionalizados, correspondiente al primer periodo académico del año 2025, así:\n",
    "* Oferta 28 de enero de 2025\n",
    "* Matrícula 30 de enero de 2025\n",
    "* Ajustes 03 al 10 de febrero de 2025\n",
    "* Inicio de clases 10 de febrero de 2025\n",
    "* Límite evaluación del 40% 06 de abril de 2025\n",
    "* Terminación de clases 08 de junio de 2025\n",
    "* Exámenes finales 09 al 15 de junio de 2025\n",
    "* Habilitación y validación 16 al 22 de junio de 2025\n",
    "* Terminación oficial 23 de junio de 2025"
   ]
  },
  {
   "cell_type": "code",
   "execution_count": null,
   "id": "ec048afb",
   "metadata": {},
   "outputs": [],
   "source": []
  },
  {
   "cell_type": "code",
   "execution_count": null,
   "id": "c804f8d3",
   "metadata": {},
   "outputs": [],
   "source": []
  },
  {
   "cell_type": "code",
   "execution_count": null,
   "id": "cc539357",
   "metadata": {},
   "outputs": [],
   "source": []
  },
  {
   "cell_type": "markdown",
   "id": "740f3401",
   "metadata": {
    "slideshow": {
     "slide_type": "slide"
    }
   },
   "source": [
    "# Componente de manejo de calculadora Casio asociado al objetivo de aprendizaje de esta clase  \n",
    "\n",
    "## Pasos para lograr el objetivo de aprendizaje con la experimentación en la calculadora Casio 991LA cw  "
   ]
  },
  {
   "cell_type": "markdown",
   "id": "8ba64aed",
   "metadata": {},
   "source": [
    "# Cursos que orienta el profesor Marco Julio Cañas Campillo en 2025  \n",
    "\n",
    "1. Práctica Pedagógica V para Licenciatura en Educación Infantil\n",
    "2. Fundamentos de Lógica para Licenciatura en Matemáticas \n",
    "3. Análisis Numérico para Licenciatura en Matemáticas. \n",
    "4. Cálculo Vectorial para Ingeniería Agropecuaria"
   ]
  },
  {
   "cell_type": "markdown",
   "id": "8d41fe58",
   "metadata": {
    "slideshow": {
     "slide_type": "slide"
    }
   },
   "source": [
    "# Horario de clases del profesor Marco\n",
    "\n",
    "* Lunes 8-12: Cálculo Vectorial\n",
    "* Martes 8-12 M: Fundamentos de Aritmética. \n",
    "* Miércoles 8 a 12 M: Fundamentos de la Lógica\n",
    "* Jueves 2 a 6 PM: Desarrollo del pensamiento matemático en la infancia. \n",
    "* Viernes 8 - 12 M: Desarrollo del pensamiento matemático en la infancia. \n",
    "* Sábados 8-12 Asesorías y espacio para retroalimentación y apoyo al trabajo independiente. "
   ]
  },
  {
   "cell_type": "markdown",
   "id": "ae114e14",
   "metadata": {
    "slideshow": {
     "slide_type": "slide"
    }
   },
   "source": [
    "# Horarios de monitoría y asesoría  \n",
    "\n",
    "Coordinador de los cursos de la Facultad de Educación para regiones:    \n",
    "\n",
    "Andrés Vélez: regioneducacion.fedu@udea.edu.co  \n",
    "Coordinador Regiones  \n",
    "Facultad de Educación  \n",
    "Universidad de Antioquia  "
   ]
  },
  {
   "cell_type": "markdown",
   "id": "b1db4b6c",
   "metadata": {
    "slideshow": {
     "slide_type": "slide"
    }
   },
   "source": [
    "## Monitor Manuel San Juan Serrano\n",
    "\n",
    "Contactar escribiendo al correo: manuel.serrano1@udea.edu.co"
   ]
  },
  {
   "cell_type": "markdown",
   "id": "39559692",
   "metadata": {
    "slideshow": {
     "slide_type": "slide"
    }
   },
   "source": [
    "Martes y jueves de 8 - 12  \n",
    "Miércoles 10 - 12 y de 2 a 4 PM  \n",
    "Sábado: 8 - 12"
   ]
  },
  {
   "cell_type": "markdown",
   "id": "10bce0d0",
   "metadata": {
    "slideshow": {
     "slide_type": "slide"
    }
   },
   "source": [
    "## Referentes "
   ]
  },
  {
   "cell_type": "markdown",
   "id": "1db3c468",
   "metadata": {
    "slideshow": {
     "slide_type": "slide"
    }
   },
   "source": [
    "* [Lorena Barba. Enseñanza y Aprendizaje con Jupyter](https://jupyter4edu.github.io/jupyter-edu-book/)\n",
    "\n",
    "* [Géron, A. (2017). Hands-on machine learning with scikit-learn and tensorflow: Concepts. Tools, and Techniques to build intelligent systems.](chrome-extension://efaidnbmnnnibpcajpcglclefindmkaj/http://14.139.161.31/OddSem-0822-1122/Hands-On_Machine_Learning_with_Scikit-Learn-Keras-and-TensorFlow-2nd-Edition-Aurelien-Geron.pdf)   \n",
    "\n",
    "  \n",
    "* R. Duval y Semiosis y pensamiento humano, 2.ª ed. Cali, Colombia: Programa Editorial Universidad del Valle, 2017. [En línea]. Disponible en: https://programaeditorial.univalle.edu.co/gpd-semiosis-y-pensamiento-humano-9789587655278-63324cdb0f6b3.html\n",
    "\n",
    "* [Aylwin, C. U. (2011). Lógica, conjuntos y números. Universidad de los Andes, Consejo de Publicaciones, Colección: Ciencias Básicas, Serie: Matemáticas.](chrome-extension://efaidnbmnnnibpcajpcglclefindmkaj/https://www.u-cursos.cl/ciencias/2011/1/MC110/1/material_docente/bajar?id_material=574722)\n",
    "  \n",
    "* [Chollet, F. (2021). Deep learning with Python. Simon and Schuster.](chrome-extension://efaidnbmnnnibpcajpcglclefindmkaj/https://tanthiamhuat.wordpress.com/wp-content/uploads/2018/03/deeplearningwithpython.pdf)  \n",
    "  \n",
    "* [Watson, S., Stewart, J., & Redlin, L. (2009). Precálculo. Matemáticas para el cálculo.](https://github.com/marco-canas/calculo/blob/main/referents/1_precalculo_stewart/stewart_precalculo.pdf)  \n",
    "\n",
    " \n",
    "\n",
    "\n",
    "\n",
    "\n",
    "\n",
    "\n",
    "* [Recomendación de la UNESCO sobre ciencia abierta](https://unesdoc.unesco.org/ark:/48223/pf0000379949_spa)\n",
    "\n",
    "* [chatGPT](https://openai.com/blog/chatgpt)  \n",
    "\n",
    "\n"
   ]
  },
  {
   "cell_type": "markdown",
   "id": "df925560",
   "metadata": {},
   "source": [
    "\n",
    "* [McKinney, W. (2012). Python for data analysis: Data wrangling with Pandas, NumPy, and IPython. \" O'Reilly Media, Inc.\".](https://wesmckinney.com/book/) "
   ]
  },
  {
   "cell_type": "markdown",
   "id": "8e65d6f9",
   "metadata": {},
   "source": [
    "# Como estudiante, encuentro que...   \n",
    "\n",
    "F: Mis Fortalezas son:     \n",
    "O: Mis Oportunidades son:    \n",
    "D: Mis Debilidades son:    \n",
    "A: Lo que Amenazas mi aprendizaje es:  "
   ]
  },
  {
   "cell_type": "markdown",
   "id": "6b9e56a8",
   "metadata": {
    "slideshow": {
     "slide_type": "slide"
    }
   },
   "source": [
    "### [Evaluamos al profesor Marco Cañas Aquí](https://forms.office.com/Pages/ResponsePage.aspx?id=IefhmYRxjkmK_7KtTlPBwkanXIs1i1FEujpsZgO6dXpUREJPV1kxUk1JV1ozTFJIQVNIQjY5WEY3US4u)"
   ]
  },
  {
   "cell_type": "markdown",
   "id": "10f43536",
   "metadata": {
    "slideshow": {
     "slide_type": "slide"
    }
   },
   "source": [
    "### Continue su aprendizaje en la siguiente clase a través del siguiente [vínculo]()"
   ]
  },
  {
   "cell_type": "markdown",
   "id": "53cc9115",
   "metadata": {
    "slideshow": {
     "slide_type": "slide"
    }
   },
   "source": [
    "## Agradecimientos  \n",
    "\n",
    "Doy gracias a Dios por la vida de mi Hijo Joseph Cañas Osorio y la madurez que ha alcanzado. Este hijo me enorgullece y me hace falta abrazarlo cada día. \n",
    "\n",
    "Y a mi esposa Yasmira Emperatriz Barboza Mogollón por su apoyo, orientación y acompañamiento. "
   ]
  },
  {
   "cell_type": "markdown",
   "id": "b6ba1c23",
   "metadata": {},
   "source": [
    "# Apéndice sobre calendarios y coordinaciones \n",
    "\n",
    "A continuación le envío el horario de la asignatura Cálculo Vectorial  \n",
    "\n",
    "Días:  \n",
    "Lunes - Hora: 7:00 a 12:00M  \n",
    "Fechas:  \n",
    "Febrero: 10-17-24                                          \n",
    " Marzo: 3-10-17-31                                                  \n",
    "Abril:7-21-28                                                   \n",
    "Mayo:5-12-19  \n",
    "\n",
    "Agradezco su apoyo, y si presenta alguna dificultad puede contactarme.  \n",
    "\n",
    "Cordialmente,  \n",
    "Juan Felipe Rivera Hernández  \n",
    "Contacto: 3106314300  "
   ]
  }
 ],
 "metadata": {
  "celltoolbar": "Slideshow",
  "kernelspec": {
   "display_name": ".venv",
   "language": "python",
   "name": "python3"
  },
  "language_info": {
   "codemirror_mode": {
    "name": "ipython",
    "version": 3
   },
   "file_extension": ".py",
   "mimetype": "text/x-python",
   "name": "python",
   "nbconvert_exporter": "python",
   "pygments_lexer": "ipython3",
   "version": "3.13.3"
  },
  "rise": {
   "enable_chalkboard": true,
   "theme": "sky",
   "transition": "zoom"
  }
 },
 "nbformat": 4,
 "nbformat_minor": 5
}
