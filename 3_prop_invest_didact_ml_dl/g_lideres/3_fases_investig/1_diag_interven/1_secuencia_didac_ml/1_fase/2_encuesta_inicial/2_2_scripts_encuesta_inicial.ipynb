{
 "cells": [
  {
   "cell_type": "markdown",
   "metadata": {},
   "source": [
    "# Scritps de Python para gestionar los datos de la encuesta inicial "
   ]
  },
  {
   "cell_type": "markdown",
   "metadata": {},
   "source": [
    "A continuación, te proporciono un **script de Python** que implementa la encuesta como una función de Python. "
   ]
  },
  {
   "cell_type": "markdown",
   "metadata": {},
   "source": [
    "Este script pregunta al usuario cada una de las preguntas de la encuesta, ofrece opciones de respuesta y guarda las respuestas en un archivo CSV que se actualiza cada vez que un nuevo usuario completa la encuesta.\n"
   ]
  },
  {
   "cell_type": "markdown",
   "metadata": {},
   "source": [
    "\n",
    "## **Script de Python**\n"
   ]
  },
  {
   "cell_type": "code",
   "execution_count": 2,
   "metadata": {},
   "outputs": [],
   "source": [
    "\n",
    "\n",
    "import csv\n",
    "import os\n",
    "\n",
    "def realizar_encuesta():\n",
    "    # Nombre del archivo CSV\n",
    "    archivo_csv = \"2_3_respuestas_encuesta.csv\"\n",
    "    \n",
    "    # Verificar si el archivo CSV ya existe\n",
    "    archivo_existe = os.path.isfile(archivo_csv)\n",
    "    \n",
    "    # Abrir el archivo CSV en modo append (agregar) o write (escribir) si no existe\n",
    "    with open(archivo_csv, mode='a', newline='', encoding='utf-8') as file:\n",
    "        writer = csv.writer(file)\n",
    "        \n",
    "        # Si el archivo no existe, escribir los encabezados\n",
    "        if not archivo_existe:\n",
    "            writer.writerow([\n",
    "                \"Nombre\", \"Edad\", \"Semestre\", \"Experiencia Laboral\", \"Descripción Experiencia\",\n",
    "                \"ML Familiarizado\", \"Python Familiarizado\", \"Análisis de Datos Familiarizado\", \n",
    "                \"Herramientas Visualización Familiarizado\", \"IA Familiarizado\", \n",
    "                \"Herramientas Análisis de Datos Usadas\", \"Experiencia con Python\", \n",
    "                \"Expectativas ML\", \"Áreas de Interés ML\", \"Desafíos Esperados\", \n",
    "                \"Acceso a Computadora\", \"Acceso a Internet\", \"Uso de Google Colab/Jupyter\", \n",
    "                \"Comentarios Adicionales\"\n",
    "            ])\n",
    "        \n",
    "        # Función para mostrar opciones y obtener respuestas\n",
    "        def obtener_respuesta(pregunta, opciones=None):\n",
    "            print(pregunta)\n",
    "            if opciones:\n",
    "                for i, opcion in enumerate(opciones, 1):\n",
    "                    print(f\"{i}. {opcion}\")\n",
    "                while True:\n",
    "                    try:\n",
    "                        respuesta = int(input(\"Seleccione una opción (número): \"))\n",
    "                        if 1 <= respuesta <= len(opciones):\n",
    "                            return opciones[respuesta - 1]\n",
    "                        else:\n",
    "                            print(\"Opción inválida. Intente de nuevo.\")\n",
    "                    except ValueError:\n",
    "                        print(\"Entrada inválida. Ingrese un número.\")\n",
    "            else:\n",
    "                return input(\"Respuesta: \").strip()\n",
    "        \n",
    "        # Preguntas de la encuesta\n",
    "        print(\"\\n--- Encuesta Inicial: Diagnóstico de Conocimientos en Machine Learning ---\\n\")\n",
    "        \n",
    "        # Sección 1: Información General\n",
    "        nombre = obtener_respuesta(\"1. Nombre: \")\n",
    "        edad = obtener_respuesta(\"2. Edad: \")\n",
    "        semestre = obtener_respuesta(\"3. Semestre actual en el programa de Administración de Empresas: \")\n",
    "        experiencia_laboral = obtener_respuesta(\"4. ¿Ha tenido experiencia laboral previa? (Sí/No): \", [\"Sí\", \"No\"])\n",
    "        descripcion_experiencia = \"\"\n",
    "        if experiencia_laboral == \"Sí\":\n",
    "            descripcion_experiencia = obtener_respuesta(\"   Por favor describa brevemente su experiencia: \")\n",
    "        \n",
    "        # Sección 2: Conocimientos Previos\n",
    "        print(\"\\n5. ¿Qué tan familiarizado está con los siguientes conceptos? (1: Nada, 2: Poco, 3: Algo, 4: Muy)\")\n",
    "        ml_familiarizado = obtener_respuesta(\"   - Machine Learning (ML): \", [\"Nada\", \"Poco\", \"Algo\", \"Muy\"])\n",
    "        python_familiarizado = obtener_respuesta(\"   - Python (lenguaje de programación): \", [\"Nada\", \"Poco\", \"Algo\", \"Muy\"])\n",
    "        analisis_datos_familiarizado = obtener_respuesta(\"   - Análisis de datos: \", [\"Nada\", \"Poco\", \"Algo\", \"Muy\"])\n",
    "        herramientas_visualizacion_familiarizado = obtener_respuesta(\"   - Herramientas de visualización (Power BI, Tableau): \", [\"Nada\", \"Poco\", \"Algo\", \"Muy\"])\n",
    "        ia_familiarizado = obtener_respuesta(\"   - Inteligencia Artificial (IA): \", [\"Nada\", \"Poco\", \"Algo\", \"Muy\"])\n",
    "        \n",
    "        herramientas_analisis_usadas = obtener_respuesta(\"6. ¿Ha utilizado alguna vez herramientas o software para análisis de datos? (Sí/No): \", [\"Sí\", \"No\"])\n",
    "        if herramientas_analisis_usadas == \"Sí\":\n",
    "            herramientas_analisis_usadas = obtener_respuesta(\"   Por favor mencione cuáles: \")\n",
    "        \n",
    "        experiencia_python = obtener_respuesta(\"7. ¿Ha trabajado con Python anteriormente? (Sí/No): \", [\"Sí\", \"No\"])\n",
    "        if experiencia_python == \"Sí\":\n",
    "            experiencia_python = obtener_respuesta(\"   Por favor describa su nivel de experiencia: \")\n",
    "        \n",
    "        # Sección 3: Expectativas y Necesidades\n",
    "        expectativas_ml = obtener_respuesta(\"8. ¿Qué espera aprender en este curso sobre Machine Learning? (Puede marcar más de una opción): \", [\n",
    "            \"Conceptos teóricos básicos\", \"Implementación práctica de modelos\", \n",
    "            \"Aplicaciones empresariales de ML\", \"Herramientas y software para ML\", \"Otro\"\n",
    "        ])\n",
    "        \n",
    "        areas_interes_ml = obtener_respuesta(\"9. ¿Qué áreas de Machine Learning le interesan más? (Puede marcar más de una opción): \", [\n",
    "            \"Predicción de ventas\", \"Segmentación de clientes\", \"Análisis de sentimientos en redes sociales\", \n",
    "            \"Reconocimiento de imágenes\", \"Procesamiento de lenguaje natural\", \"Otro\"\n",
    "        ])\n",
    "        \n",
    "        desafios_esperados = obtener_respuesta(\"10. ¿Qué desafíos cree que enfrentará durante el curso? (Puede marcar más de una opción): \", [\n",
    "            \"Falta de conocimientos previos\", \"Dificultad para acceder a recursos tecnológicos\", \n",
    "            \"Limitaciones de tiempo\", \"Otro\"\n",
    "        ])\n",
    "        \n",
    "        # Sección 4: Acceso a Recursos Tecnológicos\n",
    "        acceso_computadora = obtener_respuesta(\"11. ¿Tiene acceso a una computadora personal? (Sí/No): \", [\"Sí\", \"No\"])\n",
    "        acceso_internet = obtener_respuesta(\"12. ¿Tiene acceso a internet estable en su hogar? (Sí/No): \", [\"Sí\", \"No\"])\n",
    "        uso_colab_jupyter = obtener_respuesta(\"13. ¿Ha utilizado alguna vez Google Colab o Jupyter Notebook? (Sí/No): \", [\"Sí\", \"No\"])\n",
    "        \n",
    "        # Sección 5: Comentarios Adicionales\n",
    "        comentarios_adicionales = obtener_respuesta(\"14. ¿Tiene alguna expectativa o comentario adicional que desee compartir sobre el curso? \")\n",
    "        \n",
    "        # Guardar las respuestas en el archivo CSV\n",
    "        writer.writerow([\n",
    "            nombre, edad, semestre, experiencia_laboral, descripcion_experiencia,\n",
    "            ml_familiarizado, python_familiarizado, analisis_datos_familiarizado,\n",
    "            herramientas_visualizacion_familiarizado, ia_familiarizado,\n",
    "            herramientas_analisis_usadas, experiencia_python,\n",
    "            expectativas_ml, areas_interes_ml, desafios_esperados,\n",
    "            acceso_computadora, acceso_internet, uso_colab_jupyter,\n",
    "            comentarios_adicionales\n",
    "        ])\n",
    "        \n",
    "        print(\"\\n¡Gracias por completar la encuesta! Sus respuestas han sido guardadas.\\n\")\n"
   ]
  },
  {
   "cell_type": "code",
   "execution_count": 3,
   "metadata": {},
   "outputs": [
    {
     "name": "stdout",
     "output_type": "stream",
     "text": [
      "\n",
      "--- Encuesta Inicial: Diagnóstico de Conocimientos en Machine Learning ---\n",
      "\n",
      "1. Nombre: \n",
      "2. Edad: \n",
      "3. Semestre actual en el programa de Administración de Empresas: \n",
      "4. ¿Ha tenido experiencia laboral previa? (Sí/No): \n",
      "1. Sí\n",
      "2. No\n",
      "   Por favor describa brevemente su experiencia: \n",
      "\n",
      "5. ¿Qué tan familiarizado está con los siguientes conceptos? (1: Nada, 2: Poco, 3: Algo, 4: Muy)\n",
      "   - Machine Learning (ML): \n",
      "1. Nada\n",
      "2. Poco\n",
      "3. Algo\n",
      "4. Muy\n",
      "   - Python (lenguaje de programación): \n",
      "1. Nada\n",
      "2. Poco\n",
      "3. Algo\n",
      "4. Muy\n",
      "   - Análisis de datos: \n",
      "1. Nada\n",
      "2. Poco\n",
      "3. Algo\n",
      "4. Muy\n",
      "   - Herramientas de visualización (Power BI, Tableau): \n",
      "1. Nada\n",
      "2. Poco\n",
      "3. Algo\n",
      "4. Muy\n",
      "   - Inteligencia Artificial (IA): \n",
      "1. Nada\n",
      "2. Poco\n",
      "3. Algo\n",
      "4. Muy\n",
      "6. ¿Ha utilizado alguna vez herramientas o software para análisis de datos? (Sí/No): \n",
      "1. Sí\n",
      "2. No\n",
      "   Por favor mencione cuáles: \n",
      "7. ¿Ha trabajado con Python anteriormente? (Sí/No): \n",
      "1. Sí\n",
      "2. No\n",
      "   Por favor describa su nivel de experiencia: \n",
      "8. ¿Qué espera aprender en este curso sobre Machine Learning? (Puede marcar más de una opción): \n",
      "1. Conceptos teóricos básicos\n",
      "2. Implementación práctica de modelos\n",
      "3. Aplicaciones empresariales de ML\n",
      "4. Herramientas y software para ML\n",
      "5. Otro\n",
      "9. ¿Qué áreas de Machine Learning le interesan más? (Puede marcar más de una opción): \n",
      "1. Predicción de ventas\n",
      "2. Segmentación de clientes\n",
      "3. Análisis de sentimientos en redes sociales\n",
      "4. Reconocimiento de imágenes\n",
      "5. Procesamiento de lenguaje natural\n",
      "6. Otro\n",
      "10. ¿Qué desafíos cree que enfrentará durante el curso? (Puede marcar más de una opción): \n",
      "1. Falta de conocimientos previos\n",
      "2. Dificultad para acceder a recursos tecnológicos\n",
      "3. Limitaciones de tiempo\n",
      "4. Otro\n",
      "11. ¿Tiene acceso a una computadora personal? (Sí/No): \n",
      "1. Sí\n",
      "2. No\n",
      "12. ¿Tiene acceso a internet estable en su hogar? (Sí/No): \n",
      "1. Sí\n",
      "2. No\n",
      "13. ¿Ha utilizado alguna vez Google Colab o Jupyter Notebook? (Sí/No): \n",
      "1. Sí\n",
      "2. No\n",
      "14. ¿Tiene alguna expectativa o comentario adicional que desee compartir sobre el curso? \n",
      "\n",
      "¡Gracias por completar la encuesta! Sus respuestas han sido guardadas.\n",
      "\n"
     ]
    }
   ],
   "source": [
    "\n",
    "# Llamar a la función para ejecutar la encuesta\n",
    "realizar_encuesta()\n",
    "\n"
   ]
  },
  {
   "cell_type": "code",
   "execution_count": 2,
   "metadata": {},
   "outputs": [
    {
     "name": "stdout",
     "output_type": "stream",
     "text": [
      "si\n"
     ]
    }
   ],
   "source": [
    "if not None: \n",
    "    print('si')"
   ]
  },
  {
   "cell_type": "markdown",
   "metadata": {},
   "source": [
    "\n",
    "---\n",
    "\n",
    "### **Explicación del Script**:\n",
    "1. **Archivo CSV**: Las respuestas se guardan en un archivo llamado `2_3_respuestas_encuesta.csv`. Si el archivo no existe, se crea y se añaden los encabezados.\n",
    "2. **Función `obtener_respuesta`**: Simplifica la obtención de respuestas, especialmente para preguntas con opciones múltiples.\n",
    "3. **Preguntas y Respuestas**: Cada pregunta se presenta al usuario, y las respuestas se almacenan en el archivo CSV.\n",
    "4. **Actualización del CSV**: Cada vez que un usuario completa la encuesta, sus respuestas se añaden al archivo CSV.\n",
    "\n",
    "---\n",
    "\n",
    "### **Cómo Usar**:\n",
    "1. Copia el script en un archivo `.py` (por ejemplo, `encuesta_ml.py`).\n",
    "2. Ejecuta el script en un entorno Python.\n",
    "3. Cada vez que se ejecute, se preguntará al usuario las preguntas de la encuesta y se guardarán las respuestas en el archivo CSV.\n"
   ]
  },
  {
   "cell_type": "markdown",
   "metadata": {},
   "source": [
    "\n",
    "Este script es fácil de usar y se puede adaptar para incluir más preguntas o modificar las existentes según sea necesario."
   ]
  },
  {
   "cell_type": "code",
   "execution_count": 6,
   "metadata": {},
   "outputs": [
    {
     "data": {
      "text/plain": [
       "True"
      ]
     },
     "execution_count": 6,
     "metadata": {},
     "output_type": "execute_result"
    }
   ],
   "source": [
    "archivo_csv = \"2_3_respuestas_encuesta.csv\"\n",
    "os.path.isfile(archivo_csv)"
   ]
  }
 ],
 "metadata": {
  "kernelspec": {
   "display_name": ".venv",
   "language": "python",
   "name": "python3"
  },
  "language_info": {
   "codemirror_mode": {
    "name": "ipython",
    "version": 3
   },
   "file_extension": ".py",
   "mimetype": "text/x-python",
   "name": "python",
   "nbconvert_exporter": "python",
   "pygments_lexer": "ipython3",
   "version": "3.13.2"
  }
 },
 "nbformat": 4,
 "nbformat_minor": 2
}
