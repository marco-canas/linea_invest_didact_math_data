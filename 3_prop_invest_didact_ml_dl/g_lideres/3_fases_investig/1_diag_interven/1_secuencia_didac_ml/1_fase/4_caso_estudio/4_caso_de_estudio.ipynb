{
 "cells": [
  {
   "cell_type": "markdown",
   "metadata": {},
   "source": [
    "## **Diseño del Caso de Estudio: Predicción de Deserción de Clientes en una Empresa de Telecomunicaciones**\n"
   ]
  },
  {
   "cell_type": "markdown",
   "metadata": {},
   "source": [
    "\n",
    "#### **Título del Caso de Estudio**:  \n",
    "**\"Uso de Machine Learning para Reducir la Tasa de Deserción de Clientes en una Empresa de Telecomunicaciones\"**\n",
    "\n",
    "---\n"
   ]
  },
  {
   "cell_type": "markdown",
   "metadata": {},
   "source": [
    "\n",
    "#### **Objetivo del Caso de Estudio**:  \n",
    "Mostrar a los estudiantes un ejemplo real de cómo el Machine Learning (ML) puede aplicarse para resolver un problema empresarial crítico, como la predicción y prevención de la deserción de clientes (churn).\n",
    "\n",
    "---\n"
   ]
  },
  {
   "cell_type": "markdown",
   "metadata": {},
   "source": [
    "\n",
    "#### **Duración**:  \n",
    "20 minutos.\n",
    "\n",
    "---\n"
   ]
  },
  {
   "cell_type": "markdown",
   "metadata": {},
   "source": [
    "\n",
    "#### **Materiales Necesarios**:  \n",
    "- Presentación en PowerPoint o Google Slides.\n",
    "- Proyector y computador.\n",
    "- Acceso a internet para mostrar visualizaciones o datos en tiempo real (opcional).\n",
    "\n",
    "---\n"
   ]
  },
  {
   "cell_type": "markdown",
   "metadata": {},
   "source": [
    "\n",
    "#### **Estructura del Caso de Estudio**:\n",
    "\n",
    "---\n"
   ]
  },
  {
   "cell_type": "markdown",
   "metadata": {},
   "source": [
    "\n",
    "### **1. Contexto del Problema (5 minutos)**  \n",
    "- **Descripción del contexto**:  \n",
    "  - La empresa de telecomunicaciones enfrenta una alta tasa de deserción de clientes (churn), lo que afecta negativamente sus ingresos y rentabilidad.\n",
    "  - El problema: Identificar qué clientes tienen mayor probabilidad de cancelar su servicio para tomar acciones preventivas.\n",
    "- **Datos disponibles**:  \n",
    "  - Datos históricos de clientes, incluyendo:\n",
    "    - Información demográfica (edad, género, ubicación).\n",
    "    - Historial de uso del servicio (minutos de llamadas, datos consumidos, etc.).\n",
    "    - Historial de pagos (método de pago, retrasos en pagos).\n",
    "    - Interacciones con el servicio al cliente (llamadas, quejas, etc.).\n",
    "\n",
    "---\n"
   ]
  },
  {
   "cell_type": "markdown",
   "metadata": {},
   "source": [
    "\n",
    "### **2. Solución Propuesta: Aplicación de Machine Learning (5 minutos)**  \n",
    "- **Descripción de la solución**:  \n",
    "  - Uso de un modelo de Machine Learning para predecir la probabilidad de que un cliente abandone el servicio.\n",
    "  - Algoritmo utilizado: Regresión logística o Random Forest (dependiendo de la complejidad del caso).\n",
    "- **Proceso de implementación**:  \n",
    "  1. **Recopilación y preprocesamiento de datos**: Limpieza de datos, manejo de valores nulos y normalización.\n",
    "  2. **División de datos**: Conjunto de entrenamiento (80%) y conjunto de prueba (20%).\n",
    "  3. **Entrenamiento del modelo**: Uso de datos históricos para entrenar el modelo.\n",
    "  4. **Evaluación del modelo**: Métricas como precisión, recall y F1-score para medir el rendimiento.\n",
    "  5. **Implementación**: Uso del modelo para predecir la deserción en tiempo real.\n",
    "\n",
    "---\n"
   ]
  },
  {
   "cell_type": "markdown",
   "metadata": {},
   "source": [
    "\n",
    "### **3. Resultados Obtenidos (5 minutos)**  \n",
    "- **Impacto en la empresa**:  \n",
    "  - Reducción significativa de la tasa de deserción de clientes.\n",
    "  - Aumento de la retención de clientes y mejora en los ingresos.\n",
    "  - Mejora en la satisfacción del cliente al ofrecer soluciones personalizadas.\n",
    "- **Ejemplo de métricas**:  \n",
    "  - Precisión del modelo: 85%.\n",
    "  - Recall: 80%.\n",
    "  - Reducción del churn en un 15% en los primeros 6 meses.\n",
    "\n",
    "---\n"
   ]
  },
  {
   "cell_type": "markdown",
   "metadata": {},
   "source": [
    "\n",
    "### **4. Discusión y Aplicabilidad en Otros Sectores (5 minutos)**  \n",
    "- **Preguntas para la discusión**:  \n",
    "  - ¿Cómo se podría aplicar este enfoque en otras industrias, como banca, retail o salud?\n",
    "  - ¿Qué otros datos podrían ser útiles para mejorar la precisión del modelo?\n",
    "  - ¿Qué desafíos éticos o técnicos podrían surgir al implementar este tipo de soluciones?\n",
    "- **Ejemplos de aplicaciones en otros sectores**:  \n",
    "  - **Banca**: Predicción de morosidad en préstamos.\n",
    "  - **Retail**: Predicción de compras recurrentes o abandono de carritos de compra.\n",
    "  - **Salud**: Predicción de pacientes con alto riesgo de no asistir a citas médicas.\n",
    "\n",
    "---\n"
   ]
  },
  {
   "cell_type": "markdown",
   "metadata": {},
   "source": [
    "\n",
    "### **5. Cierre y Reflexión (2 minutos)**  \n",
    "- **Resumen del caso**:  \n",
    "  - Revisión de los puntos clave: problema, solución, resultados y aplicabilidad.\n",
    "- **Reflexión final**:  \n",
    "  - ¿Cómo puede el Machine Learning transformar la toma de decisiones en las empresas?\n",
    "  - ¿Qué habilidades necesitan los profesionales para implementar este tipo de soluciones?\n",
    "\n",
    "---\n",
    "\n",
    "#### **Evaluación del Caso de Estudio**:  \n",
    "- **Preguntas de comprensión**: Al final del caso, se harán 2-3 preguntas rápidas para asegurar que los estudiantes comprendieron los conceptos clave.\n",
    "  - Ejemplo: ¿Qué métricas se utilizaron para evaluar el modelo? ¿En qué otros sectores se podría aplicar este enfoque?\n",
    "- **Feedback verbal**: Se fomentará la participación activa para recoger impresiones y preguntas de los estudiantes.\n",
    "\n",
    "---\n"
   ]
  },
  {
   "cell_type": "markdown",
   "metadata": {},
   "source": [
    "\n",
    "#### **Notas Adicionales**:  \n",
    "- El caso de estudio debe ser presentado de manera clara y visual, utilizando gráficos y tablas para mostrar los datos y resultados.\n",
    "- Se recomienda incluir un ejemplo visual del modelo en acción, si es posible (por ejemplo, una demostración en Google Colab).\n",
    "- Adaptar el lenguaje y los ejemplos al nivel de conocimiento de los estudiantes, basándose en los resultados de la encuesta inicial.\n",
    "\n",
    "---\n"
   ]
  },
  {
   "cell_type": "markdown",
   "metadata": {},
   "source": [
    "\n",
    "Este diseño de caso de estudio está pensado para ser claro, práctico y enfocado en la aplicabilidad de ML en el ámbito empresarial, alineándose con los objetivos de la propuesta de investigación."
   ]
  },
  {
   "cell_type": "markdown",
   "metadata": {},
   "source": [
    "# Referentes  \n",
    "\n",
    "* [Proyecto 5: Pérdida de clientes en telco](https://www.kaggle.com/datasets/datacertlaboratoria/proyecto-5-prdida-de-clientes-en-telco)"
   ]
  },
  {
   "cell_type": "code",
   "execution_count": null,
   "metadata": {},
   "outputs": [],
   "source": []
  },
  {
   "cell_type": "code",
   "execution_count": null,
   "metadata": {},
   "outputs": [],
   "source": []
  }
 ],
 "metadata": {
  "kernelspec": {
   "display_name": ".venv",
   "language": "python",
   "name": "python3"
  },
  "language_info": {
   "codemirror_mode": {
    "name": "ipython",
    "version": 3
   },
   "file_extension": ".py",
   "mimetype": "text/x-python",
   "name": "python",
   "nbconvert_exporter": "python",
   "pygments_lexer": "ipython3",
   "version": "3.13.2"
  }
 },
 "nbformat": 4,
 "nbformat_minor": 2
}
