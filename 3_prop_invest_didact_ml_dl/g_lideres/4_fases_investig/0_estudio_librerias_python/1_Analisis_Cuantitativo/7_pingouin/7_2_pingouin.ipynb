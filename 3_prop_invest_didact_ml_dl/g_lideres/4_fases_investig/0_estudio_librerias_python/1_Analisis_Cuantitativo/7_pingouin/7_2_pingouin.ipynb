{
 "cells": [
  {
   "cell_type": "markdown",
   "metadata": {},
   "source": [
    "# Introducción breve a Pingouin  \n",
    "\n",
    "Ahora hablemos de **Pingouin**, una librería de Python para análisis estadísticos, y cómo puedes aplicarla en tu investigación educativa con el programa **G-Líderes**.\n",
    "\n",
    "---\n"
   ]
  },
  {
   "cell_type": "markdown",
   "metadata": {},
   "source": [
    "\n",
    "### ¿Qué es Pingouin?\n",
    "\n",
    "**Pingouin** es una librería de Python diseñada para realizar análisis estadísticos de manera sencilla y eficiente. Está construida sobre **Pandas**, **NumPy**, **SciPy** y **matplotlib**, y ofrece una interfaz más intuitiva y amigable para realizar pruebas estadísticas comunes, como pruebas t, ANOVA, correlaciones, regresiones, entre otras. Es especialmente útil para investigadores que no tienen un profundo conocimiento en programación pero necesitan realizar análisis robustos.\n",
    "\n",
    "Algunas características clave de Pingouin:\n",
    "- **Fácil de usar**: Sintaxis simple y clara.\n",
    "- **Amplia gama de pruebas estadísticas**: Incluye pruebas paramétricas y no paramétricas.\n",
    "- **Integración con Pandas**: Trabaja directamente con DataFrames.\n",
    "- **Visualización**: Ofrece funciones para visualizar resultados estadísticos.\n",
    "\n",
    "---\n"
   ]
  },
  {
   "cell_type": "markdown",
   "metadata": {},
   "source": [
    "\n",
    "### Aplicación de Pingouin en la investigación educativa con G-Líderes\n",
    "\n",
    "En tu investigación, estás trabajando con un diseño mixto (cuasi-experimental y cualitativo) y realizando mediciones pre y post intervención. Pingouin puede ser una herramienta poderosa para analizar los datos cuantitativos obtenidos en las pruebas pre y post, encuestas y otros instrumentos de medición. Aquí te explico cómo podrías aplicarla:\n",
    "\n",
    "---\n"
   ]
  },
  {
   "cell_type": "markdown",
   "metadata": {},
   "source": [
    "\n",
    "#### 1. **Análisis descriptivo**\n",
    "   - Pingouin permite calcular estadísticas descriptivas de manera sencilla, como medias, desviaciones estándar, intervalos de confianza, entre otros.\n"
   ]
  },
  {
   "cell_type": "markdown",
   "metadata": {},
   "source": [
    "   - **Ejemplo**: Calcular la media y desviación estándar de las calificaciones pre y post intervención.\n"
   ]
  },
  {
   "cell_type": "code",
   "execution_count": 6,
   "metadata": {},
   "outputs": [
    {
     "name": "stdout",
     "output_type": "stream",
     "text": [
      "Estadísticas pre-intervención:\n",
      "count    20.000000\n",
      "mean     71.145000\n",
      "std      12.589447\n",
      "min      45.700000\n",
      "25%      63.500000\n",
      "50%      67.400000\n",
      "75%      80.675000\n",
      "max      92.100000\n",
      "Name: calificacion_pre, dtype: float64\n",
      "\n",
      "Estadísticas post-intervención:\n",
      "count    20.000000\n",
      "mean     77.755000\n",
      "std       8.760947\n",
      "min      57.600000\n",
      "25%      72.875000\n",
      "50%      78.300000\n",
      "75%      85.600000\n",
      "max      91.900000\n",
      "Name: calificacion_post, dtype: float64\n",
      "\n",
      "Prueba t para muestras relacionadas (pre vs post):\n",
      "               T  dof alternative     p-val          CI95%   cohen-d   BF10  \\\n",
      "T-test -1.818886   19   two-sided  0.084727  [-14.22, 1.0]  0.609471  0.926   \n",
      "\n",
      "           power  \n",
      "T-test  0.734316  \n"
     ]
    }
   ],
   "source": [
    "import pandas as pd  # Importar Pandas para leer el CSV y estadísticas descriptivas\n",
    "import pingouin as pg  # Importar Pingouin para análisis estadístico avanzado\n",
    "import numpy as np  # Para generar datos ficticios\n",
    "\n",
    "# Crear datos ficticios y guardarlos en un archivo CSV\n",
    "np.random.seed(123)  # Para reproducibilidad\n",
    "data = {\n",
    "    'id': range(1, 21),  # 20 estudiantes\n",
    "    'calificacion_pre': np.random.normal(70, 10, 20).round(1),  # Media 70, desviación 10\n",
    "    'calificacion_post': np.random.normal(80, 8, 20).round(1)   # Media 80, desviación 8\n",
    "}\n",
    "\n",
    "# Convertir a DataFrame\n",
    "df = pd.DataFrame(data)\n",
    "\n",
    "# Guardar el DataFrame en un archivo CSV\n",
    "df.to_csv('datos_g_lideres.csv', index=False)\n",
    "\n",
    "# Leer el archivo CSV con Pandas\n",
    "data = pd.read_csv('datos_g_lideres.csv')\n",
    "\n",
    "# Estadísticas descriptivas usando Pandas\n",
    "desc_pre = data['calificacion_pre'].describe()\n",
    "desc_post = data['calificacion_post'].describe()\n",
    "\n",
    "print(\"Estadísticas pre-intervención:\")\n",
    "print(desc_pre)\n",
    "print(\"\\nEstadísticas post-intervención:\")\n",
    "print(desc_post)\n",
    "\n",
    "# Ejemplo de análisis avanzado con Pingouin: Prueba t para muestras relacionadas\n",
    "t_test = pg.ttest(data['calificacion_pre'], data['calificacion_post'], paired=True)\n",
    "print(\"\\nPrueba t para muestras relacionadas (pre vs post):\")\n",
    "print(t_test)"
   ]
  },
  {
   "cell_type": "markdown",
   "metadata": {},
   "source": [
    "\n",
    "---\n",
    "\n",
    "#### 2. **Pruebas t para comparar grupos**\n",
    "   - Puedes usar Pingouin para comparar las medias de las calificaciones pre y post intervención y determinar si hay diferencias estadísticamente significativas.\n",
    "   - **Ejemplo**: Prueba t de Student para muestras relacionadas (pre-post).\n"
   ]
  },
  {
   "cell_type": "markdown",
   "metadata": {},
   "source": [
    "\n",
    "   ```python\n",
    "   # Prueba t para muestras relacionadas (pre-post)\n",
    "   t_test = pg.ttest(data['calificacion_pre'], data['calificacion_post'], paired=True)\n",
    "   print(t_test)\n",
    "   ```\n",
    "\n",
    "   - Si trabajas con grupos independientes (por ejemplo, grupo control vs. grupo experimental), puedes usar una prueba t para muestras independientes:\n",
    "   ```python\n",
    "   t_test_ind = pg.ttest(data[data['grupo'] == 'control']['calificacion_post'],\n",
    "                         data[data['grupo'] == 'experimental']['calificacion_post'],\n",
    "                         paired=False)\n",
    "   print(t_test_ind)\n",
    "   ```\n"
   ]
  },
  {
   "cell_type": "markdown",
   "metadata": {},
   "source": [
    "\n",
    "---\n",
    "\n",
    "#### 3. **ANOVA para comparar múltiples grupos**\n",
    "   - Si tienes más de dos grupos (por ejemplo, diferentes cohortes de estudiantes), puedes usar ANOVA para comparar las medias.\n",
    "   - **Ejemplo**: ANOVA unidireccional para comparar calificaciones post entre diferentes cohortes.\n"
   ]
  },
  {
   "cell_type": "markdown",
   "metadata": {},
   "source": [
    "\n",
    "   ```python\n",
    "   anova = pg.anova(data=data, dv='calificacion_post', between='cohorte')\n",
    "   print(anova)\n",
    "   ```\n"
   ]
  },
  {
   "cell_type": "markdown",
   "metadata": {},
   "source": [
    "\n",
    "---\n",
    "\n",
    "#### 4. **Correlaciones**\n",
    "   - Pingouin permite calcular correlaciones entre variables, como la relación entre la satisfacción del estudiante y su rendimiento en las pruebas post.\n",
    "   - **Ejemplo**: Correlación de Pearson entre satisfacción y calificación post.\n"
   ]
  },
  {
   "cell_type": "markdown",
   "metadata": {},
   "source": [
    "\n",
    "   ```python\n",
    "   corr = pg.corr(data['satisfaccion'], data['calificacion_post'], method='pearson')\n",
    "   print(corr)\n",
    "   ```\n"
   ]
  },
  {
   "cell_type": "markdown",
   "metadata": {},
   "source": [
    "\n",
    "---\n",
    "\n",
    "#### 5. **Regresión lineal**\n",
    "   - Si deseas predecir el rendimiento post en función de variables como la calificación pre, la asistencia a talleres o la satisfacción, puedes usar regresión lineal.\n",
    "   - **Ejemplo**: Regresión lineal para predecir calificación post.\n"
   ]
  },
  {
   "cell_type": "markdown",
   "metadata": {},
   "source": [
    "\n",
    "   ```python\n",
    "   import statsmodels.formula.api as smf\n",
    "\n",
    "   # Modelo de regresión lineal\n",
    "   model = pg.linear_regression(data[['calificacion_pre', 'asistencia', 'satisfaccion']], data['calificacion_post'])\n",
    "   print(model)\n",
    "   ```\n"
   ]
  },
  {
   "cell_type": "markdown",
   "metadata": {},
   "source": [
    "\n",
    "---\n",
    "\n",
    "#### 6. **Análisis de potencia**\n",
    "   - Pingouin permite calcular la potencia estadística de tus pruebas, lo cual es útil para determinar si el tamaño de la muestra es adecuado.\n",
    "   - **Ejemplo**: Calcular la potencia de una prueba t.\n"
   ]
  },
  {
   "cell_type": "markdown",
   "metadata": {},
   "source": [
    "\n",
    "   ```python\n",
    "   power = pg.power_ttest(d=0.5, n=50, alpha=0.05)  # d es el tamaño del efecto, n es el tamaño de la muestra\n",
    "   print(power)\n",
    "   ```\n",
    "\n",
    "---\n",
    "\n",
    "#### 7. **Visualización de resultados**\n",
    "   - Pingouin se integra con **matplotlib** y **seaborn**, lo que te permite visualizar los resultados de tus análisis.\n",
    "   - **Ejemplo**: Gráfico de dispersión con línea de regresión.\n"
   ]
  },
  {
   "cell_type": "markdown",
   "metadata": {},
   "source": [
    "\n",
    "   ```python\n",
    "   import seaborn as sns\n",
    "   import matplotlib.pyplot as plt\n",
    "\n",
    "   sns.scatterplot(x='calificacion_pre', y='calificacion_post', data=data)\n",
    "   sns.regplot(x='calificacion_pre', y='calificacion_post', data=data, ci=None)\n",
    "   plt.title('Relación entre calificaciones pre y post')\n",
    "   plt.show()\n",
    "   ```\n"
   ]
  },
  {
   "cell_type": "markdown",
   "metadata": {},
   "source": [
    "\n",
    "---\n",
    "\n",
    "### Integración con el proceso de investigación de G-Líderes\n",
    "\n",
    "1. **Fase de diagnóstico**: Usa Pingouin para analizar los datos iniciales (pruebas pre) y establecer una línea base.\n",
    "2. **Fase de intervención**: Monitorea el progreso de los estudiantes y realiza análisis intermedios.\n",
    "3. **Fase de evaluación**: Compara los resultados pre y post intervención usando pruebas t, ANOVA o regresiones.\n",
    "4. **Fase de análisis**: Combina los resultados cuantitativos con los cualitativos (por ejemplo, codificación temática de los focus groups) para obtener una visión integral.\n",
    "\n",
    "---\n",
    "\n",
    "### Conclusión\n",
    "\n",
    "Pingouin es una herramienta poderosa y accesible para el análisis estadístico en tu investigación educativa con G-Líderes. Su facilidad de uso y su integración con Pandas y otras librerías de Python la hacen ideal para procesar y analizar datos cuantitativos de manera eficiente. Además, te permite enfocarte en la interpretación de resultados y la toma de decisiones basada en evidencia, lo cual es crucial para mejorar el programa y maximizar su impacto en los estudiantes. ¡Espero que esta información te sea de gran utilidad! 🚀"
   ]
  },
  {
   "cell_type": "code",
   "execution_count": null,
   "metadata": {},
   "outputs": [],
   "source": []
  }
 ],
 "metadata": {
  "kernelspec": {
   "display_name": ".venv",
   "language": "python",
   "name": "python3"
  },
  "language_info": {
   "codemirror_mode": {
    "name": "ipython",
    "version": 3
   },
   "file_extension": ".py",
   "mimetype": "text/x-python",
   "name": "python",
   "nbconvert_exporter": "python",
   "pygments_lexer": "ipython3",
   "version": "3.13.2"
  }
 },
 "nbformat": 4,
 "nbformat_minor": 2
}
