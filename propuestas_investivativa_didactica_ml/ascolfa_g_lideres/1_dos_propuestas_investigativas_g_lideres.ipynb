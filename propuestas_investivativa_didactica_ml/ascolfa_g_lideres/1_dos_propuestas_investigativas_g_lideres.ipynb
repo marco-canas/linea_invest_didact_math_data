{
 "cells": [
  {
   "cell_type": "markdown",
   "id": "dc06dec7",
   "metadata": {
    "slideshow": {
     "slide_type": "slide"
    }
   },
   "source": [
    "<table align=\"left\">\n",
    "  <td>\n",
    "    <a href=\"https://colab.research.google.com/github/ageron/handson-ml3/blob/main/tools_numpy.ipynb\" target=\"_parent\"><img src=\"https://colab.research.google.com/assets/colab-badge.svg\" alt=\"Open In Colab\"/></a>\n",
    "  </td>\n",
    "  <td>\n",
    "    <a target=\"_blank\" href=\"https://kaggle.com/kernels/welcome?src=https://github.com/ageron/handson-ml3/blob/main/tools_numpy.ipynb\"><img src=\"https://kaggle.com/static/images/open-in-kaggle.svg\" /></a>\n",
    "  </td>\n",
    "</table>"
   ]
  },
  {
   "cell_type": "markdown",
   "id": "e0c5b198",
   "metadata": {
    "slideshow": {
     "slide_type": "slide"
    }
   },
   "source": [
    "### [Video de apoyo a la lectura interactiva y experimental de este cuaderno](https://www.youtube.com/watch?v=S0bC7OY3HVQ)"
   ]
  },
  {
   "cell_type": "markdown",
   "id": "41e82203",
   "metadata": {
    "slideshow": {
     "slide_type": "slide"
    }
   },
   "source": [
    "### [Vínculo al programa del curso:  ]()\n",
    "\n"
   ]
  },
  {
   "cell_type": "markdown",
   "id": "96775931",
   "metadata": {
    "slideshow": {
     "slide_type": "slide"
    }
   },
   "source": [
    "# Dos propuestas investigativas de formación en competencias digitales para El Programa de Administración de Empresas de la Facultad de Ciencias Económicas de la Universidad de Antioquia - Campus Caucasia \n",
    "\n"
   ]
  },
  {
   "cell_type": "code",
   "execution_count": 5,
   "id": "bc0addfe",
   "metadata": {},
   "outputs": [
    {
     "data": {
      "text/plain": [
       "'C:\\\\Users\\\\marco\\\\Documentos\\\\investigacion\\\\linea_invest_pedag_didact_math_data_science\\\\propuestas_investivativa_didactica_ml\\\\Dos propuestas de Formación en Competencias Digitales.pdf'"
      ]
     },
     "execution_count": 5,
     "metadata": {},
     "output_type": "execute_result"
    }
   ],
   "source": [
    "from graphviz import Digraph\n",
    "\n",
    "# Crear un nuevo grafo dirigido\n",
    "dot = Digraph()\n",
    "\n",
    "# Nodo principal\n",
    "main_concept = 'Dos propuestas de Formación en Competencias Digitales'\n",
    "dot.node('A', main_concept, shape='box', style='filled', color='lightblue')\n",
    "\n",
    "# Primera propuesta\n",
    "proposal_1_title = \"Propuesta 1: Implementación de Aprendizaje Automático para la Optimización de Decisiones en Modelos de Negocios Digitales\"\n",
    "dot.node('B', proposal_1_title, shape='ellipse', style='filled', color='lightgreen')\n",
    "\n",
    "# Elementos de la primera propuesta\n",
    "proposal_1_elements = [\n",
    "    \"Análisis de datos masivos\",\n",
    "    \"Modelos predictivos basados en Machine Learning\",\n",
    "    \"Optimización de procesos en negocios digitales\",\n",
    "    \"Publicación de resultados en revistas académicas\"\n",
    "]\n",
    "for i, element in enumerate(proposal_1_elements, start=1):\n",
    "    dot.node(f'B{i}', element, shape='box', style='rounded,filled', color='lightyellow')\n",
    "    dot.edge('B', f'B{i}')\n",
    "\n",
    "# Segunda propuesta\n",
    "proposal_2_title = \"Propuesta 2: Competencias Digitales y Liderazgo Ético en la Gestión de Datos Sensibles\"\n",
    "dot.node('C', proposal_2_title, shape='ellipse', style='filled', color='lightpink')\n",
    "\n",
    "# Elementos de la segunda propuesta\n",
    "proposal_2_elements = [\n",
    "    \"Formación en ciberseguridad y privacidad de datos\",\n",
    "    \"Ética en la gestión de datos sensibles\",\n",
    "    \"Desarrollo de habilidades de liderazgo digital\",\n",
    "    \"Diseño de políticas para el manejo responsable de datos\"\n",
    "]\n",
    "for i, element in enumerate(proposal_2_elements, start=1):\n",
    "    dot.node(f'C{i}', element, shape='box', style='rounded,filled', color='lightgray')\n",
    "    dot.edge('C', f'C{i}')\n",
    "\n",
    "# Relacionar las propuestas con el nodo principal\n",
    "dot.edge('A', 'B')\n",
    "dot.edge('A', 'C')\n",
    "\n",
    "# Guardar el grafo como un archivo de imagen\n",
    "output_directory = 'C:/Users/marco/Documentos/investigacion/linea_invest_pedag_didact_math_data_science/propuestas_investivativa_didactica_ml'\n",
    "dot.render(filename=main_concept, format='png', cleanup=True, directory=output_directory)\n",
    "\n",
    "# Mostrar el grafo\n",
    "dot.view()\n"
   ]
  },
  {
   "cell_type": "markdown",
   "id": "239427f7",
   "metadata": {},
   "source": [
    "Estas son dos ideas de proyecto investigativo para el programa G-Líderes, alineadas con los objetivos del desarrollo de competencias digitales y tu trabajo en didáctica de la ciencia de datos con técnicas de machine learning con Python, considerando además las temáticas de la Conferencia ASCOLFA 2025:\n",
    "\n",
    "---\n"
   ]
  },
  {
   "cell_type": "markdown",
   "id": "a095c0f1",
   "metadata": {},
   "source": [
    "\n",
    "## Propuesta 1. **Implementación de Aprendizaje Automático para la Optimización de Decisiones en Modelos de Negocios Digitales**\n"
   ]
  },
  {
   "cell_type": "markdown",
   "id": "117aea4f",
   "metadata": {},
   "source": [
    "**Objetivo:** Diseñar un módulo formativo para los programas de Administración de Empresas que utilice Python y técnicas de Machine Learning para optimizar decisiones estratégicas en modelos de negocios basados en plataformas digitales. (Para los estudiantes de la propuesta extracurricular de G-Líderes)\n"
   ]
  },
  {
   "cell_type": "markdown",
   "id": "79a19862",
   "metadata": {},
   "source": [
    "\n",
    "**Justificación:**\n",
    "- Responde al eje de **Transformación Digital y Nuevas Tecnologías en la Gestión Empresarial**, particularmente en el uso de **Big Data y Analítica de Negocios** y **Nuevos Modelos de Negocios Digitales** de la Conferencia ASCOLFA 2025.\n",
    "- Fortalece las competencias digitales mediante la implementación de casos prácticos con datos simulados o reales.\n"
   ]
  },
  {
   "cell_type": "markdown",
   "id": "e9d735ae",
   "metadata": {},
   "source": [
    "\n",
    "**Propuesta Metodológica:**\n"
   ]
  },
  {
   "cell_type": "markdown",
   "id": "28b77f92",
   "metadata": {},
   "source": [
    "- Capacitar a los estudiantes en el uso de bibliotecas de Python como `pandas`, `scikit-learn` y `matplotlib` para la toma de decisiones basadas en datos.\n",
    "- Trabajar con estudios de caso que simulen escenarios empresariales digitales, como el análisis de tendencias de mercado, predicción de comportamiento de clientes y optimización de recursos.\n"
   ]
  },
  {
   "cell_type": "markdown",
   "id": "d8c3437e",
   "metadata": {},
   "source": [
    "\n",
    "**Resultados Esperados:**\n",
    "- Desarrollo de competencias para interpretar resultados de modelos de aprendizaje automático y su aplicación en decisiones estratégicas.\n",
    "- Publicación de los resultados en el repositorio GitHub de la Universidad y su divulgación a través de talleres del programa G-Líderes.\n",
    "\n",
    "---\n"
   ]
  },
  {
   "cell_type": "markdown",
   "id": "0313c0c4",
   "metadata": {},
   "source": [
    "\n",
    "## Propuesta 2. **Competencias Digitales y Liderazgo Ético en la Gestión de Datos Sensibles**\n"
   ]
  },
  {
   "cell_type": "markdown",
   "id": "d25fe704",
   "metadata": {},
   "source": [
    "**Objetivo:** Desarrollar una guía práctica para formar a los estudiantes en el manejo ético y seguro de datos sensibles, aplicando técnicas de ciberseguridad y análisis de datos con Python.\n"
   ]
  },
  {
   "cell_type": "markdown",
   "id": "f5505d84",
   "metadata": {},
   "source": [
    "\n",
    "**Justificación:**\n",
    "- Alineado con los ejes de **Ciberseguridad en la Administración** y **Liderazgo Ético y Socialmente Responsable** de la Conferencia ASCOLFA 2025.\n",
    "- Integra competencias digitales y conciencia ética, esenciales en la era de la transformación digital.\n"
   ]
  },
  {
   "cell_type": "markdown",
   "id": "078eeedc",
   "metadata": {},
   "source": [
    "\n",
    "**Propuesta Metodológica:**\n"
   ]
  },
  {
   "cell_type": "markdown",
   "id": "c2fe122d",
   "metadata": {},
   "source": [
    "- Crear actividades prácticas que incluyan:\n",
    "  - Uso de bibliotecas como `hashlib` para asegurar datos.\n",
    "  - Implementación de técnicas de encriptación y manejo responsable de bases de datos empresariales.\n",
    "- Incluir discusiones éticas basadas en dilemas relacionados con la protección de datos y privacidad en la administración.\n"
   ]
  },
  {
   "cell_type": "markdown",
   "id": "1f6bc28c",
   "metadata": {},
   "source": [
    "\n",
    "**Resultados Esperados:**\n",
    "- Generar competencias en ciberseguridad y ética digital.\n",
    "- Presentar los resultados como un modelo replicable en otras instituciones durante la Conferencia ASCOLFA 2025.\n",
    "\n",
    "---\n"
   ]
  },
  {
   "cell_type": "code",
   "execution_count": null,
   "id": "8b8ddb56",
   "metadata": {},
   "outputs": [],
   "source": []
  },
  {
   "cell_type": "markdown",
   "id": "f6057bf8",
   "metadata": {},
   "source": [
    "\n",
    "Ambos proyectos no solo refuerzan competencias digitales y de liderazgo, sino que también fomentan la aplicación práctica de técnicas avanzadas de ciencia de datos en contextos administrativos."
   ]
  },
  {
   "cell_type": "markdown",
   "id": "3bf1f5b4",
   "metadata": {},
   "source": [
    "# Ideas según el marco de transformación digital de mintic  \n",
    "\n",
    "* Uso y aprovechamiento de la infraestructura de datos públicos, con un enfoque de apertura por defecto.   \n",
    "* Promoción de tecnologías basadas en software libre o código abierto, lo anterior, sin perjuicio de la inversión en tecnologías cerradas. En todos los casos la necesidad tecnológica deberá justificarse teniendo en cuenta análisis de costo-beneficio.   \n",
    "\n",
    "¿Qué de python requieren los administradores de empesas de la Universidad de Antioquia? \n",
    "\n",
    "Construyamos una propuesta corricular de ¿Qué de python requieren los administradores de empresas de la Universidad de Antioquia?  \n",
    "\n",
    "¿Qué herramientas de TD requieren en administración de empresas?  \n",
    "\n",
    "Los modelos de negocio que son habilitados por nuevas tecnologías y procesos operacionales y que pueden robustecer y diversificar las fuentes de ingreso de la organización"
   ]
  },
  {
   "cell_type": "markdown",
   "id": "6b7cc267",
   "metadata": {},
   "source": [
    "### Diseño Curricular: **Enseñanza de Python y Ciencia de Datos para Administración de Empresas**\n",
    "\n",
    "#### **I. Justificación**\n",
    "El programa de Administración de Empresas en la Universidad de Antioquia - Campus Bajo Cauca, requiere la incorporación de competencias tecnológicas y analíticas para enfrentar los retos de un entorno empresarial cada vez más digitalizado. Este curso busca dotar a los estudiantes de habilidades en programación con Python y técnicas de ciencia de datos, permitiéndoles analizar datos empresariales y tomar decisiones basadas en evidencia.\n",
    "\n",
    "#### **II. Objetivo General**\n",
    "Desarrollar competencias en programación con Python y aplicar técnicas de ciencia de datos al análisis y resolución de problemas empresariales, fomentando el uso de herramientas tecnológicas para la toma de decisiones estratégicas.\n",
    "\n",
    "---\n",
    "\n",
    "#### **III. Objetivos Específicos**\n",
    "1. Comprender los fundamentos del lenguaje de programación Python.\n",
    "2. Aplicar técnicas de limpieza, análisis y visualización de datos en contextos empresariales.\n",
    "3. Desarrollar modelos básicos de predicción y segmentación de clientes.\n",
    "4. Usar Python para automatizar procesos empresariales.\n",
    "5. Promover el pensamiento computacional y el aprendizaje autónomo.\n",
    "\n",
    "---\n",
    "\n",
    "#### **IV. Contenidos**\n",
    "**Módulo 1: Fundamentos de Python**\n",
    "- Introducción a Python: Sintaxis, variables, tipos de datos.\n",
    "- Estructuras de control (condicionales y bucles).\n",
    "- Funciones y módulos.\n",
    "- Manejo de excepciones.\n",
    "- Introducción a Jupyter Notebooks.\n",
    "\n",
    "**Módulo 2: Manejo de Datos**\n",
    "- Librerías esenciales: `pandas`, `numpy`.\n",
    "- Importación y limpieza de datos.\n",
    "- Exploración de datos y generación de reportes.\n",
    "- Operaciones con bases de datos empresariales.\n",
    "\n",
    "**Módulo 3: Visualización de Datos**\n",
    "- Introducción a `matplotlib` y `seaborn`.\n",
    "- Creación de gráficos empresariales (barras, líneas, dispersión, etc.).\n",
    "- Dashboards interactivos con `plotly`.\n",
    "\n",
    "**Módulo 4: Análisis Estadístico y Modelos Básicos**\n",
    "- Fundamentos de estadística descriptiva e inferencial.\n",
    "- Introducción a modelos predictivos con `scikit-learn`.\n",
    "- Análisis de series de tiempo con `statsmodels`.\n",
    "- Estudio de casos: Proyecciones de ventas y segmentación de clientes.\n",
    "\n",
    "**Módulo 5: Automatización y Optimización**\n",
    "- Automatización de tareas repetitivas con Python.\n",
    "- Introducción a `openpyxl` para trabajar con Excel.\n",
    "- Casos prácticos: Optimización de inventarios y análisis financiero.\n",
    "\n",
    "**Módulo 6: Proyecto Integrador**\n",
    "- Formulación de un problema empresarial.\n",
    "- Análisis de datos y desarrollo de una solución en Python.\n",
    "- Presentación de resultados en un informe técnico y un dashboard interactivo.\n",
    "\n",
    "---\n",
    "\n",
    "#### **V. Metodología**\n",
    "El curso adoptará un enfoque pedagógico basado en el **aprendizaje invertido** (flipped classroom) y **aprendizaje basado en problemas** (ABP).  \n",
    "- **Antes de clase:** Los estudiantes revisarán contenidos teóricos en GitHub y videos en YouTube.  \n",
    "- **En clase:** Resolución de casos prácticos y desarrollo de proyectos en equipo.  \n",
    "- **Después de clase:** Evaluaciones formativas y ejercicios prácticos.  \n",
    "\n",
    "Las clases se desarrollarán en un laboratorio con acceso a Python y Jupyter Notebooks, promoviendo el trabajo colaborativo y el uso de datos reales de la región del Bajo Cauca.\n",
    "\n",
    "---\n",
    "\n",
    "#### **VI. Evaluación**\n",
    "1. **Tareas individuales:** 20% (ejercicios de programación y análisis de datos).\n",
    "2. **Proyectos grupales:** 30% (soluciones prácticas a problemas empresariales locales).\n",
    "3. **Exámenes parciales:** 30% (evaluación de competencias técnicas).\n",
    "4. **Proyecto final:** 20% (desarrollo de un modelo de ciencia de datos aplicado a un problema empresarial real).\n",
    "\n",
    "---\n",
    "\n",
    "#### **VII. Recursos**\n",
    "- **Software:** Python, Jupyter Notebooks, Visual Studio Code.\n",
    "- **Librerías:** `pandas`, `numpy`, `matplotlib`, `seaborn`, `scikit-learn`, `plotly`.\n",
    "- **Infraestructura:** Aulas con ventiladores, acceso a computadores y conexión a internet.\n",
    "- **Plataformas:** GitHub para compartir material y YouTube para los videos del curso.\n",
    "\n",
    "---\n",
    "\n",
    "#### **VIII. Impacto Esperado**\n",
    "Al finalizar el curso, los estudiantes estarán capacitados para aplicar Python y técnicas de ciencia de datos en la resolución de problemas empresariales. Este conocimiento les permitirá optimizar procesos, realizar análisis predictivos y generar valor en sus organizaciones."
   ]
  },
  {
   "cell_type": "markdown",
   "id": "10bce0d0",
   "metadata": {
    "slideshow": {
     "slide_type": "slide"
    }
   },
   "source": [
    "## Referentes "
   ]
  },
  {
   "cell_type": "markdown",
   "id": "1db3c468",
   "metadata": {
    "slideshow": {
     "slide_type": "slide"
    }
   },
   "source": [
    "* [Grajales Vanegas, L. M., Restrepo Estrada, C. E., Restrepo Ochoa, S. I., & Ruíz De Villalba, F. (2015). Matemáticas I para las ciencias económicas.](https://github.com/marco-canas/fundamentos_de_la_aritmetica/blob/main/referentes/2_grajales_logica/grajales_lina_matemticas.pdf)\n",
    "  \n",
    "* Duval, R. (2004). Semiosis y pensamiento humano: registros semióticos y aprendizajes intelectuales. Universidad del Valle.\n",
    "\n",
    "* [Aylwin, C. U. (2011). Lógica, conjuntos y números. Universidad de los Andes, Consejo de Publicaciones, Colección: Ciencias Básicas, Serie: Matemáticas.](https://github.com/marco-canas/fundamentos_logica/blob/main/referentes/2_uzcategui/uscategui.pdf)\n",
    "  \n",
    "* [Chollet, F. (2021). Deep learning with Python. Simon and Schuster.](https://github.com/marco-canas/didactica_ciencia_datos/blob/main/2_referentes/chollet/Fran%C3%A7ois%20Chollet%20-%20Deep%20Learning%20with%20Python-Manning%20(2018).pdf)  \n",
    "  \n",
    "* [Watson, S., Stewart, J., & Redlin, L. (2009). Precálculo. Matemáticas para el cálculo.](https://github.com/marco-canas/calculo/blob/main/referents/1_precalculo_stewart/stewart_precalculo.pdf)  \n",
    "\n",
    "* [Purcell, E. J., Varberg, D., & Rigdon, S. E. (2007). Cálculo diferencial e integral. Pearson Educación.](https://github.com/marco-canas/calculo/blob/main/referents/purcell/purcell_calculo.pdf)\n",
    "\n",
    "  \n",
    "\n",
    "* [stewart cálculo](https://udeaeduco-my.sharepoint.com/:b:/g/personal/marco_canas_udea_edu_co/EZgXZjAp8QxPqOAim2hs6LcBNPLGjSHf-xwYnUVYkwa04w?e=RZdTCy)  \n",
    "\n",
    "* [larson](https://udeaeduco-my.sharepoint.com/:b:/g/personal/marco_canas_udea_edu_co/ES71ChFeO9ZDhW3TwC5Ijk8BjxUK3Pdqz_fjHxTTFAfIAg?e=VDEjfu)\n",
    "\n",
    "\n",
    "\n",
    "* [Recomendación de la UNESCO sobre ciencia abierta](https://unesdoc.unesco.org/ark:/48223/pf0000379949_spa)\n",
    "\n",
    "* [chatGPT](https://openai.com/blog/chatgpt)  \n",
    "\n",
    "* [Géron, A. (2017). Hands-on machine learning with scikit-learn and tensorflow: Concepts. Tools, and Techniques to build intelligent systems.](https://github.com/marco-canas/didactica_ciencia_datos/blob/main/2_referentes/geron/Hands-On%20Machine%20Learning-3nd_Edition(2022).pdf)  \n"
   ]
  },
  {
   "cell_type": "markdown",
   "id": "df925560",
   "metadata": {},
   "source": [
    "\n",
    "* [McKinney, W. (2012). Python for data analysis: Data wrangling with Pandas, NumPy, and IPython. \" O'Reilly Media, Inc.\".](https://wesmckinney.com/book/) "
   ]
  },
  {
   "cell_type": "markdown",
   "id": "6b9e56a8",
   "metadata": {
    "slideshow": {
     "slide_type": "slide"
    }
   },
   "source": [
    "### [Evaluamos al profesor Marco Cañas Aquí](https://forms.office.com/Pages/ResponsePage.aspx?id=IefhmYRxjkmK_7KtTlPBwkanXIs1i1FEujpsZgO6dXpUREJPV1kxUk1JV1ozTFJIQVNIQjY5WEY3US4u)"
   ]
  },
  {
   "cell_type": "markdown",
   "id": "53cc9115",
   "metadata": {
    "slideshow": {
     "slide_type": "slide"
    }
   },
   "source": [
    "## Agradecimientos  \n",
    "\n",
    "Doy gracias a Dios por la vida de mi Hijo Joseph Cañas Osorio y la madurez que ha alcanzado. Este hijo me enorgullece y me hace falta abrazarlo cada día. \n",
    "\n",
    "Y a mi esposa Yasmira Emperatriz Barboza Mogollón por su apoyo, orientación y acompañamiento. "
   ]
  }
 ],
 "metadata": {
  "celltoolbar": "Slideshow",
  "kernelspec": {
   "display_name": "base",
   "language": "python",
   "name": "python3"
  },
  "language_info": {
   "codemirror_mode": {
    "name": "ipython",
    "version": 3
   },
   "file_extension": ".py",
   "mimetype": "text/x-python",
   "name": "python",
   "nbconvert_exporter": "python",
   "pygments_lexer": "ipython3",
   "version": "3.12.4"
  },
  "rise": {
   "enable_chalkboard": true,
   "theme": "sky",
   "transition": "zoom"
  }
 },
 "nbformat": 4,
 "nbformat_minor": 5
}
