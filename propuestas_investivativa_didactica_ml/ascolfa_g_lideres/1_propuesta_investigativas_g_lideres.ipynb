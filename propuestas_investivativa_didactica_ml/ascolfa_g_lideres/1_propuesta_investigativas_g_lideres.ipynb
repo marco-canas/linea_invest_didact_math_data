{
 "cells": [
  {
   "cell_type": "markdown",
   "id": "dc06dec7",
   "metadata": {
    "slideshow": {
     "slide_type": "slide"
    }
   },
   "source": [
    "<table align=\"left\">\n",
    "  <td>\n",
    "    <a href=\"https://colab.research.google.com/github/ageron/handson-ml3/blob/main/tools_numpy.ipynb\" target=\"_parent\"><img src=\"https://colab.research.google.com/assets/colab-badge.svg\" alt=\"Open In Colab\"/></a>\n",
    "  </td>\n",
    "  <td>\n",
    "    <a target=\"_blank\" href=\"https://kaggle.com/kernels/welcome?src=https://github.com/ageron/handson-ml3/blob/main/tools_numpy.ipynb\"><img src=\"https://kaggle.com/static/images/open-in-kaggle.svg\" /></a>\n",
    "  </td>\n",
    "</table>"
   ]
  },
  {
   "cell_type": "markdown",
   "id": "83bcad9a",
   "metadata": {},
   "source": [
    "# **Desarrollo de habilidades digitales en los profesionales de Administración de Empresas: Caso G-Líderes UdeA Caucasia**  \n"
   ]
  },
  {
   "cell_type": "markdown",
   "id": "45c2e399",
   "metadata": {},
   "source": [
    "\n",
    "---\n",
    "\n",
    "## **Objetivo**  \n",
    "El objetivo de esta investigación es desarrollar habilidades digitales en los profesionales de Administración de Empresas del programa G-Líderes de la Universidad de Antioquia, sede Caucasia, mediante una intervención educativa basada en estándares internacionales de competencias digitales.  \n"
   ]
  },
  {
   "cell_type": "markdown",
   "id": "ffb9940e",
   "metadata": {},
   "source": [
    "\n",
    "---\n",
    "\n",
    "## **Resumen**  \n",
    "La transformación digital (TD) ha redefinido las dinámicas empresariales y educativas a nivel global, exigiendo la adopción de tecnologías digitales para mejorar la competitividad y eficiencia organizacional. En Colombia, aunque existen avances en políticas públicas como la Estrategia de Gobierno Digital (DNP, 2023), persisten brechas en conectividad y formación de talento digital, especialmente en regiones periféricas. Este contexto demanda acciones educativas que preparen a los futuros administradores de empresas para liderar procesos de innovación tecnológica.  \n",
    "\n",
    "Los estudiantes del programa G-Líderes de la Universidad de Antioquia, sede Caucasia, enfrentan problemáticas críticas: limitado acceso a recursos tecnológicos, desconexión entre la formación académica y las demandas del sector empresarial, y falta de habilidades digitales básicas. Estas barreras afectan su empleabilidad y capacidad para responder a los desafíos de la economía digital, evidenciando la necesidad de intervenciones educativas focalizadas en competencias como análisis de datos, inteligencia artificial y gestión de herramientas digitales.  \n",
    "\n",
    "El objetivo general de esta investigación es diseñar e implementar un programa de formación en habilidades digitales para los estudiantes del programa G-Líderes, mediante talleres prácticos en Power BI, Machine Learning y Deep Learning. La propuesta busca evaluar el impacto de la intervención en el desarrollo de competencias técnicas y su aplicabilidad en contextos empresariales reales.  \n"
   ]
  },
  {
   "cell_type": "markdown",
   "id": "d2e05432",
   "metadata": {},
   "source": [
    "\n",
    "---\n",
    "\n",
    "## **Introducción**  \n",
    "El cambio tecnológico reciente ha generado transformaciones disruptivas en organizaciones y economías. Las tecnologías digitales (TDs) ofrecen soluciones innovadoras para desafíos como empleo, producción y sostenibilidad (CEPAL, 2020). La OCDE (2022) proyecta que el 70% de la población global será urbana para 2050, lo que exige políticas públicas alineadas con dimensiones como acceso, innovación y empleo (OECD, 2019).  \n",
    "\n",
    "La formación en TDs es clave para la productividad y competitividad empresarial. Sin embargo, en Colombia, persisten brechas en conectividad y adopción de inteligencia artificial comparado con la OCDE (ANDI, 2022). Esto demanda estrategias educativas que preparen profesionales para liderar la transformación digital (TD), integrando herramientas como Power BI, Machine Learning y Deep Learning.  \n"
   ]
  },
  {
   "cell_type": "markdown",
   "id": "b961d758",
   "metadata": {},
   "source": [
    "\n",
    "---\n",
    "\n",
    "## **Problemáticas de los Estudiantes**  \n",
    "Los estudiantes del programa enfrentan:  \n",
    "1. **Brecha digital**: Limitado acceso a internet y recursos tecnológicos en zonas rurales (Pérez & Ramírez, 2021).  \n",
    "2. **Falta de alfabetización digital**: Dificultad para adaptarse a herramientas tecnológicas (González & López, 2020).  \n",
    "3. **Desactualización curricular**: Contenidos insuficientes en TDs (Martínez, 2022).  \n",
    "4. **Desconexión academia-sector empresarial**: Competencias no alineadas con demandas laborales (Rodríguez et al., 2023).  \n",
    "5. **Barreras socioeconómicas**: Acceso limitado a formación complementaria (Londoño & Restrepo, 2021).  \n",
    "\n",
    "---\n"
   ]
  },
  {
   "cell_type": "markdown",
   "id": "944ff6d8",
   "metadata": {},
   "source": [
    "\n",
    "## **Marco Referencial**  \n",
    "### *Marco Conceptual*  \n",
    "**1. Transformación Digital**  \n",
    "Se refiere a un proceso de cambio fundamental, habilitado por el uso innovador de las tecnologías digitales y el apalancamiento estratégico de recursos y capacidades clave, que tiene como objetivo mejorar radicalmente una entidad y redefinir su propuesta de valor para sus partes interesadas (Gong & Ribiere, 2021).  \n",
    "\n",
    "**2. Tecnologías Digitales**  \n",
    "Herramientas y sistemas basados en la informática y las telecomunicaciones que permiten la recopilación, procesamiento, almacenamiento y transmisión de datos de manera electrónica. Estas incluyen dispositivos como computadoras, teléfonos inteligentes, software, inteligencia artificial, internet de las cosas (IoT) y tecnologías de la nube, entre otras (Schwab, 2016).  \n",
    "\n",
    "---\n"
   ]
  },
  {
   "cell_type": "markdown",
   "id": "82b99c9f",
   "metadata": {},
   "source": [
    "\n",
    "## **Marco Teórico**  \n",
    "- **Teoría del Capital Humano** (Becker, 1964; Schultz, 1961): Vincula la inversión en habilidades digitales con productividad laboral.  \n",
    "- **Teoría del Desarrollo Organizacional** (Lewin, 1947; Beckhard, 1969): Enfatiza la gestión del cambio tecnológico en organizaciones.  \n",
    "- **Teoría de la Autodeterminación** (Deci & Ryan, 1985): Analiza motivaciones intrínsecas para adoptar TDs.  \n",
    "\n",
    "La TD implica integrar tecnologías primarias (Big Data, IoT) y secundarias (IA, realidad virtual) en modelos de negocio (Bharadwaj et al., 2013; Spremic, 2017). En Colombia, el marco jurídico promueve políticas como la Estrategia de Gobierno Digital (DNP, 2023), aunque persisten desafíos en conectividad (ANDI, 2022).  \n",
    "\n",
    "---\n"
   ]
  },
  {
   "cell_type": "markdown",
   "id": "a59f5401",
   "metadata": {},
   "source": [
    "\n",
    "## **Propuesta Metodológica**  \n",
    "**Diseño**: Mixto (cuasi-experimental y cualitativo) con medición pre-post intervención.  \n",
    "**Población**: Estudiantes activos del programa G-Líderes (censal).  \n",
    "**Fases**:  \n",
    "1. **Diagnóstico**: Encuestas y pruebas prácticas.  \n",
    "2. **Intervención**: Talleres en Power BI, Python y proyectos aplicados.  \n",
    "3. **Evaluación**: Pruebas post, encuestas de satisfacción y *focus groups*.  \n",
    "4. **Análisis**:  \n",
    "   - *Cuantitativo*: Estadística descriptiva, pruebas t-student y ANOVA.  \n",
    "   - *Cualitativo*: Codificación temática con apoyo de software especializado.  \n",
    "\n",
    "---\n"
   ]
  },
  {
   "cell_type": "markdown",
   "id": "f6bfa3e1",
   "metadata": {},
   "source": [
    "\n",
    "## **Avances Preliminares**  \n",
    "- Diseño de instrumentos de medición.  \n",
    "- Alianza con expertos en análisis de datos para validación.  \n",
    "\n",
    "---\n",
    "\n",
    "## **Desafíos**  \n",
    "- Limitaciones en infraestructura tecnológica del campus.  \n",
    "- Dificultad para articular proyectos con empresas locales.  \n",
    "\n",
    "---\n",
    "\n",
    "## **Próximos Pasos**  \n",
    "- Implementación de talleres piloto.  \n",
    "- Recolección de datos pre-intervención.  \n",
    "\n",
    "---\n"
   ]
  },
  {
   "cell_type": "markdown",
   "id": "1ea48e79",
   "metadata": {},
   "source": [
    "\n",
    "## **Referencias**  \n",
    "ANDI. (2022). *La transformación digital en el sector empresarial colombiano*. Cámara Colombiana de la Industria Digital.  \n",
    "\n",
    "Becker, G. S. (1964). *Human Capital: A Theoretical and Empirical Analysis, with Special Reference to Education*. University of Chicago Press.  \n",
    "\n",
    "Bharadwaj, A., El Sawy, O., Pavlou, P., & Venkatraman, N. (2013). Digital business strategy: Toward a next generation of insights. *MIS Quarterly, 37*(2), 471-482. https://doi.org/10.25300/MISQ/2013/37.2.10  \n",
    "\n",
    "CEPAL. (2020). *La era digital y su impacto en América Latina*. Naciones Unidas.  \n",
    "\n",
    "Deci, E. L., & Ryan, R. M. (1985). *Intrinsic Motivation and Self-Determination in Human Behavior*. Springer.  \n",
    "\n",
    "DNP. (2023). *Estrategia de transformación digital en Colombia*. Departamento Nacional de Planeación.  \n",
    "\n",
    "Gong, C., & Ribiere, V. (2021). Developing a unified definition of digital transformation. *Technovation, 102*, 102217. https://doi.org/10.1016/j.technovation.2021.102217  \n",
    "\n",
    "González, M., & López, J. (2020). Brecha digital y educación superior en Colombia. *Revista de Educación y Sociedad, 15*(2), 45-67.  \n",
    "\n",
    "Lewin, K. (1947). Frontiers in group dynamics. *Human Relations, 1*(2), 143-153. https://doi.org/10.1177/001872674700100201  \n",
    "\n",
    "Londoño, C., & Restrepo, P. (2021). Desafíos socioeconómicos de los estudiantes universitarios en el acceso a la educación digital. *Universidad y Desarrollo, 20*(1), 34-52.  \n",
    "\n",
    "Martínez, R. (2022). La infraestructura tecnológica en la educación superior: Retos y perspectivas. *Tecnología y Educación, 10*(4), 67-82.  \n",
    "\n",
    "OECD. (2019). *Going Digital: Shaping Policies, Improving Lives*. OECD Publishing. https://doi.org/10.1787/9789264312012-en  \n",
    "\n",
    "Pérez, J., & Ramírez, S. (2021). Conectividad y acceso digital en zonas rurales de Colombia. *Revista de Políticas Públicas y Tecnología, 8*(1), 78-95.  \n",
    "\n",
    "Real Academia Española. (2023). *Diccionario de la lengua española* (23.ª ed.). https://dle.rae.es  \n",
    "\n",
    "Rodríguez, A., Sánchez, L., García, M., & Díaz, P. (2023). Formación digital y empleabilidad: Un estudio en educación superior. *Innovación y Desarrollo, 11*(2), 99-118.  \n",
    "\n",
    "Schultz, T. W. (1961). Investment in human capital. *The American Economic Review, 51*(1), 1-17.  \n",
    "\n",
    "Schwab, K. (2016). *The Fourth Industrial Revolution*. World Economic Forum.  \n",
    "\n",
    "Spremic, M. (2017). Governing digital technology – How mature IT governance can help in digital transformation? *International Journal of Economics and Management Systems, 2*(4), 210-225.  \n"
   ]
  }
 ],
 "metadata": {
  "celltoolbar": "Slideshow",
  "kernelspec": {
   "display_name": ".venv",
   "language": "python",
   "name": "python3"
  },
  "language_info": {
   "codemirror_mode": {
    "name": "ipython",
    "version": 3
   },
   "file_extension": ".py",
   "mimetype": "text/x-python",
   "name": "python",
   "nbconvert_exporter": "python",
   "pygments_lexer": "ipython3",
   "version": "3.13.1"
  },
  "rise": {
   "enable_chalkboard": true,
   "theme": "sky",
   "transition": "zoom"
  }
 },
 "nbformat": 4,
 "nbformat_minor": 5
}
